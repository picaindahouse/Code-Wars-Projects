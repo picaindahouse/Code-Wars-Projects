{
 "cells": [
  {
   "cell_type": "code",
   "execution_count": null,
   "metadata": {},
   "outputs": [],
   "source": [
    "def smallest(n):\n",
    "    print(n)\n",
    "    sam, tim, plim, sim = [int(x) for x in str(n)],[],[x for x in str(n)],[]\n",
    "    for i,x in enumerate(sam): \n",
    "        if sam[0] < x: \n",
    "            plim.insert(i-1, plim.pop(0))\n",
    "            print(plim)\n",
    "            sim.append([int(''.join(plim)), 0, i-1])\n",
    "            break\n",
    "    if not sim: \n",
    "        plim.insert(len(plim)-1, plim.pop(0))\n",
    "        sim.append([int(''.join(plim)), 0, len(plim)-1])\n",
    "        print(sim)\n",
    "    for y in range(len(sam)):\n",
    "        for i,x in enumerate(sam): \n",
    "            if x < sam[y] and i > y: tim.append([i,y])\n",
    "        if tim: break   \n",
    "    for i,x in tim:\n",
    "        plim = [x for x in str(n)]\n",
    "        plim.insert(x,plim.pop(i))\n",
    "        if x == 1 and plim[1] == plim[0]: x = 0\n",
    "        sim.append([int(''.join(plim)), i, x])\n",
    "    \n",
    "    return sorted(sim)[0]"
   ]
  }
 ],
 "metadata": {
  "kernelspec": {
   "display_name": "Python 3",
   "language": "python",
   "name": "python3"
  },
  "language_info": {
   "codemirror_mode": {
    "name": "ipython",
    "version": 3
   },
   "file_extension": ".py",
   "mimetype": "text/x-python",
   "name": "python",
   "nbconvert_exporter": "python",
   "pygments_lexer": "ipython3",
   "version": "3.7.3"
  }
 },
 "nbformat": 4,
 "nbformat_minor": 2
}
