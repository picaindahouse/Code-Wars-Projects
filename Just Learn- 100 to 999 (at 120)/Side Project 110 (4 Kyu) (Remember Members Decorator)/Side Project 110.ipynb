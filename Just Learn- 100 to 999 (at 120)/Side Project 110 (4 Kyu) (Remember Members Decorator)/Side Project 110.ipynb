{
 "cells": [
  {
   "cell_type": "code",
   "execution_count": 214,
   "metadata": {},
   "outputs": [],
   "source": [
    "# Learnt class inheritance, class dunder effects, decorators, *args and * kwargs\n",
    "# Esp for dunder effects- my understanding of __iter__ and __next__ reached a point where I did not need to even inherit dict\n",
    "# Solidified my understanding in dictionary"
   ]
  },
  {
   "cell_type": "code",
   "execution_count": 190,
   "metadata": {},
   "outputs": [],
   "source": [
    "class remember(dict):\n",
    "    def __init__ (self, function):\n",
    "        self.function = function\n",
    "        self.plum = {}\n",
    "    def __call__(self, *args):\n",
    "        if len(args) == 1: args = [x for x in args][0]\n",
    "        if (args) in list(self.plum.keys()): return self.plum[(args)]\n",
    "        self.plum[(args)] = self.function(*args) if type(args) != int else self.function(args)\n",
    "        super().__init__(self.plum)\n",
    "        return self.plum[(args)]\n",
    "    def __getitem__ (self, n):\n",
    "        if len(str(n)) == 1: return self.plum[n]\n",
    "        return self.plum[(n)]"
   ]
  },
  {
   "cell_type": "code",
   "execution_count": 209,
   "metadata": {},
   "outputs": [
    {
     "name": "stdout",
     "output_type": "stream",
     "text": [
      "<class '__main__.B'>\n"
     ]
    }
   ],
   "source": [
    "@remember\n",
    "class B(object):\n",
    "    def __init__(self, x=1, y=2):\n",
    "        self.x, self.y = x, y\n",
    "    def f(self):\n",
    "        return self.x, self.y"
   ]
  },
  {
   "cell_type": "code",
   "execution_count": 208,
   "metadata": {},
   "outputs": [],
   "source": [
    "class remember:\n",
    "    def __init__ (self, function):\n",
    "        self.function = function\n",
    "        self.plum = {}\n",
    "    def __call__(self, *args):\n",
    "        if len(args) == 1: args = [x for x in args][0]\n",
    "        if (args) in list(self.plum.keys()): return self.plum[(args)]\n",
    "        self.plum[(args)] = self.function(*args) if type(args) != int else self.function(args)\n",
    "        return self.plum[(args)]\n",
    "    def __getitem__ (self, n):\n",
    "        if len(str(n)) == 1: return self.plum[n]\n",
    "        return self.plum[(n)]\n",
    "    def __iter__ (self):\n",
    "        self.n = -1\n",
    "        return self \n",
    "    def __next__ (self):\n",
    "        self.n += 1\n",
    "        if self.n > len(self.plum) -1: raise StopIteration\n",
    "        return list(self.plum.keys())[self.n]"
   ]
  },
  {
   "cell_type": "code",
   "execution_count": 210,
   "metadata": {},
   "outputs": [],
   "source": [
    "a = B(())\n",
    "b = B((1,2))\n",
    "c = B(7)"
   ]
  },
  {
   "cell_type": "code",
   "execution_count": 213,
   "metadata": {},
   "outputs": [
    {
     "data": {
      "text/plain": [
       "1"
      ]
     },
     "execution_count": 213,
     "metadata": {},
     "output_type": "execute_result"
    }
   ],
   "source": [
    "a.x"
   ]
  },
  {
   "cell_type": "code",
   "execution_count": null,
   "metadata": {},
   "outputs": [],
   "source": [
    "(1,2)"
   ]
  }
 ],
 "metadata": {
  "kernelspec": {
   "display_name": "Python 3",
   "language": "python",
   "name": "python3"
  },
  "language_info": {
   "codemirror_mode": {
    "name": "ipython",
    "version": 3
   },
   "file_extension": ".py",
   "mimetype": "text/x-python",
   "name": "python",
   "nbconvert_exporter": "python",
   "pygments_lexer": "ipython3",
   "version": "3.7.3"
  }
 },
 "nbformat": 4,
 "nbformat_minor": 2
}
