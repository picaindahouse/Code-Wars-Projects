{
 "cells": [
  {
   "cell_type": "code",
   "execution_count": 442,
   "metadata": {},
   "outputs": [],
   "source": [
    "from itertools import combinations\n",
    "import math\n",
    "def area (kyu):\n",
    "    tam = []\n",
    "    for r,d in [[0,1],[1,2],[0,2]]:\n",
    "        tim = []\n",
    "        zip_object = zip(kyu[r],kyu[d])\n",
    "        [tim.append((i-x)**2) for i,x in zip_object]\n",
    "        tam.append(math.sqrt(sum(tim)))\n",
    "    p = sum(tam)/2\n",
    "    return round(math.sqrt(p * (p-tam[0]) * (p-tam[1]) * (p-tam[2])),10)\n",
    "def biggest_triang_int(points_list, sphere_center, radius):\n",
    "    #print(points_list, sphere_center, radius)\n",
    "    tim, pim = [], []\n",
    "    [tim.append(points_list[w]) if math.sqrt(sum([(y-x)**2 for i,x in enumerate(sphere_center) for r,y in enumerate(points_list[w]) if i == r]))  < radius else 1 for w in range(len(points_list))]\n",
    "    sam = [[area(x),list(x)] for x in combinations(tim,3)]\n",
    "    blum = [len(sam), max(sam)[0]]\n",
    "    blum.extend([x for i,x in sam if i == max(sam)[0]]) if len([x for i,x in sam if i == max(sam)[0]]) == 1 else blum.append(sorted([x for i,x in sam if i == max(sam)[0]]))\n",
    "    return blum"
   ]
  },
  {
   "cell_type": "code",
   "execution_count": 443,
   "metadata": {},
   "outputs": [],
   "source": [
    "points_list =[[1,2,-4],[-3, 2, 4],[7, 8, -4],\n",
    "[2, 3, 5],[-2, -1, 1],[3, 2, 6],[1, 4, 0], \n",
    "[-4, -5, -6],[4, 5, 6],[-2, -3, -5],[-1, -2, 4],\n",
    "[-3, -2, -6], [-1, -4, 0], [2, 1, -1]]\n",
    "radius = 8\n",
    "center =[0,0,0]"
   ]
  },
  {
   "cell_type": "code",
   "execution_count": 444,
   "metadata": {},
   "outputs": [
    {
     "name": "stdout",
     "output_type": "stream",
     "text": [
      "8.96 ms ± 144 µs per loop (mean ± std. dev. of 7 runs, 100 loops each)\n"
     ]
    }
   ],
   "source": [
    "%timeit biggest_triang_int(points_list, [0,0,0], radius)"
   ]
  },
  {
   "cell_type": "code",
   "execution_count": 447,
   "metadata": {},
   "outputs": [],
   "source": [
    "from itertools import combinations\n",
    "import math\n",
    "def length (co1, co2):\n",
    "    zip_object, tim = list(zip(co1,co2)), []\n",
    "    [tim.append((i-x)**2) for i,x in zip_object]\n",
    "    distance = math.sqrt(sum(tim))\n",
    "    return distance\n",
    "def area (kyu):\n",
    "    tam = []\n",
    "    for r,d in [[0,1],[1,2],[0,2]]:\n",
    "        tam.append(length(kyu[r],kyu[d]))\n",
    "    p = sum(tam)/2\n",
    "    return round(math.sqrt(p * (p-tam[0]) * (p-tam[1]) * (p-tam[2])),10)\n",
    "def biggest_triang_int(points_list, sphere_center, radius):\n",
    "    #print(points_list, sphere_center, radius)\n",
    "    tim = []\n",
    "    [tim.append(w) if length(sphere_center,w) < radius else 1 for w in points_list]\n",
    "    sam = [[area(x),list(x)] for x in combinations(tim,3)]\n",
    "    if not sam: return []\n",
    "    blum = [len(sam), max(sam)[0]]\n",
    "    hum = [x for i,x in sam if i == max(sam)[0]]\n",
    "    blum.extend(hum) if len(hum) == 1 else blum.append(sorted(hum))\n",
    "    return blum"
   ]
  },
  {
   "cell_type": "code",
   "execution_count": 448,
   "metadata": {},
   "outputs": [
    {
     "name": "stdout",
     "output_type": "stream",
     "text": [
      "6.74 ms ± 176 µs per loop (mean ± std. dev. of 7 runs, 100 loops each)\n"
     ]
    }
   ],
   "source": [
    "%timeit biggest_triang_int(points_list, [0,0,0], radius)"
   ]
  },
  {
   "cell_type": "code",
   "execution_count": 391,
   "metadata": {},
   "outputs": [
    {
     "name": "stdout",
     "output_type": "stream",
     "text": [
      "10.3 ms ± 212 µs per loop (mean ± std. dev. of 7 runs, 100 loops each)\n"
     ]
    }
   ],
   "source": [
    "%timeit biggest_triang_int(points_list, [0,0,0], radius)"
   ]
  },
  {
   "cell_type": "code",
   "execution_count": null,
   "metadata": {},
   "outputs": [],
   "source": [
    " [[[1, 2, -4], [3, 2, 6], [-1, -4, 0]],\n",
    "  [[1, 4, 0], [-1, -2, 4], [-3, -2, -6]]]]"
   ]
  },
  {
   "cell_type": "code",
   "execution_count": 364,
   "metadata": {},
   "outputs": [
    {
     "data": {
      "text/plain": [
       "27.06218532038031"
      ]
     },
     "execution_count": 364,
     "metadata": {},
     "output_type": "execute_result"
    }
   ],
   "source": [
    "area([[1, 4, 0], [-1, -2, 4], [-3, -2, -6]])"
   ]
  },
  {
   "cell_type": "code",
   "execution_count": 412,
   "metadata": {},
   "outputs": [],
   "source": [
    "def length (co1, co2):\n",
    "    zip_object, tim = list(zip(co1,co2)), []\n",
    "    [tim.append((i-x)**2) for i,x in zip_object]\n",
    "    distance = math.sqrt(sum(tim))\n",
    "    return distance"
   ]
  },
  {
   "cell_type": "code",
   "execution_count": 413,
   "metadata": {},
   "outputs": [],
   "source": [
    "def perimeter (kyu):\n",
    "    tam = []\n",
    "    for r,d in [[0,1],[1,2],[0,2]]:\n",
    "        tam.append(length(kyu[r],kyu[d]))\n",
    "    return sum(tam)    "
   ]
  },
  {
   "cell_type": "code",
   "execution_count": 414,
   "metadata": {},
   "outputs": [
    {
     "name": "stdout",
     "output_type": "stream",
     "text": [
      "19 µs ± 379 ns per loop (mean ± std. dev. of 7 runs, 100000 loops each)\n"
     ]
    }
   ],
   "source": [
    "%timeit perimeter([[1, 4, 0], [-1, -2, 4], [-3, -2, -6]])"
   ]
  },
  {
   "cell_type": "code",
   "execution_count": 416,
   "metadata": {},
   "outputs": [
    {
     "name": "stdout",
     "output_type": "stream",
     "text": [
      "19.9 µs ± 379 ns per loop (mean ± std. dev. of 7 runs, 100000 loops each)\n"
     ]
    }
   ],
   "source": [
    "%timeit area([[1, 4, 0], [-1, -2, 4], [-3, -2, -6]])"
   ]
  },
  {
   "cell_type": "code",
   "execution_count": null,
   "metadata": {},
   "outputs": [],
   "source": []
  },
  {
   "cell_type": "code",
   "execution_count": null,
   "metadata": {},
   "outputs": [],
   "source": []
  },
  {
   "cell_type": "code",
   "execution_count": null,
   "metadata": {},
   "outputs": [],
   "source": []
  },
  {
   "cell_type": "code",
   "execution_count": null,
   "metadata": {},
   "outputs": [],
   "source": []
  },
  {
   "cell_type": "code",
   "execution_count": 386,
   "metadata": {},
   "outputs": [],
   "source": [
    "def biggest_triang_int(points_list, sphere_center, radius):\n",
    "    #print(points_list, sphere_center, radius)\n",
    "    tim, pim = [], []\n",
    "    [tim.append(points_list[w]) if length(sphere_center,points_list[w]) < radius else 1 for w in range(len(points_list))]\n",
    "    sam = sorted([[area(x),list(x)] for x in combinations(tim,3)], reverse = True)\n",
    "    blum = [len(sam), max(sam)[0]]\n",
    "    blum.extend([x for i,x in sam if i == max(sam)[0]]) if len([x for i,x in sam if i == max(sam)[0]]) == 1 else blum.append(sorted([x for i,x in sam if i == max(sam)[0]]))\n",
    "    return blum"
   ]
  },
  {
   "cell_type": "code",
   "execution_count": 387,
   "metadata": {},
   "outputs": [
    {
     "data": {
      "text/plain": [
       "[165,\n",
       " 33.6452076825,\n",
       " [[[1, 2, -4], [3, 2, 6], [-1, -4, 0]],\n",
       "  [[1, 4, 0], [-1, -2, 4], [-3, -2, -6]]]]"
      ]
     },
     "execution_count": 387,
     "metadata": {},
     "output_type": "execute_result"
    }
   ],
   "source": [
    "biggest_triang_int(points_list, [0,0,0], radius)"
   ]
  },
  {
   "cell_type": "code",
   "execution_count": 378,
   "metadata": {},
   "outputs": [
    {
     "data": {
      "text/plain": [
       "[(2, 3), (2, 4), (3, 4)]"
      ]
     },
     "execution_count": 378,
     "metadata": {},
     "output_type": "execute_result"
    }
   ],
   "source": [
    "list(combinations([2,3,4],2))"
   ]
  },
  {
   "cell_type": "code",
   "execution_count": 385,
   "metadata": {},
   "outputs": [
    {
     "data": {
      "text/plain": [
       "[2, 3]"
      ]
     },
     "execution_count": 385,
     "metadata": {},
     "output_type": "execute_result"
    }
   ],
   "source": [
    "list((2,3))"
   ]
  },
  {
   "cell_type": "code",
   "execution_count": null,
   "metadata": {},
   "outputs": [],
   "source": []
  }
 ],
 "metadata": {
  "kernelspec": {
   "display_name": "Python 3",
   "language": "python",
   "name": "python3"
  },
  "language_info": {
   "codemirror_mode": {
    "name": "ipython",
    "version": 3
   },
   "file_extension": ".py",
   "mimetype": "text/x-python",
   "name": "python",
   "nbconvert_exporter": "python",
   "pygments_lexer": "ipython3",
   "version": "3.7.3"
  }
 },
 "nbformat": 4,
 "nbformat_minor": 2
}
