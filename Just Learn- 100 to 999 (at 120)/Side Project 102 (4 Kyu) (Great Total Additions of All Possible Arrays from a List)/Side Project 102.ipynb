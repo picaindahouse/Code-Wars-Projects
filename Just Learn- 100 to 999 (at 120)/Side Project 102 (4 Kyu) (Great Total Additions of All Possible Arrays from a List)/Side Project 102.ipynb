{
 "cells": [
  {
   "cell_type": "code",
   "execution_count": 1,
   "metadata": {},
   "outputs": [],
   "source": [
    "from itertools import permutations\n",
    "def gta(limit, *args): \n",
    "    tom,tim,tam = [*args],[],[]\n",
    "    kyu, n = max([len(str(x)) for x in tom]), len(tom)\n",
    "    for x in range(kyu):\n",
    "        for y in range(n):\n",
    "            try: \n",
    "                haiz = str(tom[y])[x]\n",
    "                if haiz not in tam: \n",
    "                    tam.append(haiz)\n",
    "                    tim.append(int(haiz))\n",
    "            except IndexError: pass\n",
    "    why = tim[:limit]\n",
    "    return sum([sum([sum(x) for x in permutations(why,y)]) for y in range(1, limit+1)])"
   ]
  },
  {
   "cell_type": "code",
   "execution_count": 2,
   "metadata": {},
   "outputs": [
    {
     "data": {
      "text/plain": [
       "[123, 1, 4, 6]"
      ]
     },
     "execution_count": 2,
     "metadata": {},
     "output_type": "execute_result"
    }
   ],
   "source": [
    "gta(4,123,1,4,6)"
   ]
  },
  {
   "cell_type": "code",
   "execution_count": 47,
   "metadata": {},
   "outputs": [],
   "source": [
    "for x in tom:\n",
    "    for i,y in enumerate(str(x)):\n",
    "        if y not in tam: \n",
    "            tam.append(y)\n",
    "            if len(tim) <= i:\n",
    "                tim.append([int(y)])\n",
    "            else:\n",
    "                tim[i].append(int(y))"
   ]
  },
  {
   "cell_type": "code",
   "execution_count": 46,
   "metadata": {},
   "outputs": [
    {
     "data": {
      "text/plain": [
       "[[1, 5, 6], [2, 7], [3], [4], [8], [9]]"
      ]
     },
     "execution_count": 46,
     "metadata": {},
     "output_type": "execute_result"
    }
   ],
   "source": [
    "tim"
   ]
  },
  {
   "cell_type": "code",
   "execution_count": 29,
   "metadata": {},
   "outputs": [
    {
     "data": {
      "text/plain": [
       "['1', '2', '3', '4', '8', '9', '5', '6', '7']"
      ]
     },
     "execution_count": 29,
     "metadata": {},
     "output_type": "execute_result"
    }
   ],
   "source": [
    "tam"
   ]
  },
  {
   "cell_type": "code",
   "execution_count": 103,
   "metadata": {},
   "outputs": [],
   "source": [
    "tom = [12348, 47, 3639]\n",
    "limit = 8\n",
    "tim,tam = [],[]"
   ]
  },
  {
   "cell_type": "code",
   "execution_count": 104,
   "metadata": {},
   "outputs": [],
   "source": [
    "kyu, n = max([len(str(x)) for x in tom]), len(tom)\n",
    "for x in range(kyu):\n",
    "    for y in range(n):\n",
    "        try: \n",
    "            haiz = str(tom[y])[x]\n",
    "            if haiz not in tam: \n",
    "                tam.append(haiz)\n",
    "                tim.append(int(haiz))\n",
    "        except IndexError: pass\n",
    "why = tim[:limit]"
   ]
  },
  {
   "cell_type": "code",
   "execution_count": 105,
   "metadata": {},
   "outputs": [
    {
     "data": {
      "text/plain": [
       "3836040"
      ]
     },
     "execution_count": 105,
     "metadata": {},
     "output_type": "execute_result"
    }
   ],
   "source": [
    "from itertools import permutations\n",
    "sum([sum([sum(x) for x in permutations(why,y)]) for y in range(1, limit+1)])"
   ]
  },
  {
   "cell_type": "code",
   "execution_count": 74,
   "metadata": {},
   "outputs": [
    {
     "data": {
      "text/plain": [
       "412"
      ]
     },
     "execution_count": 74,
     "metadata": {},
     "output_type": "execute_result"
    }
   ],
   "source": [
    "plum"
   ]
  },
  {
   "cell_type": "code",
   "execution_count": null,
   "metadata": {},
   "outputs": [],
   "source": []
  }
 ],
 "metadata": {
  "kernelspec": {
   "display_name": "Python 3",
   "language": "python",
   "name": "python3"
  },
  "language_info": {
   "codemirror_mode": {
    "name": "ipython",
    "version": 3
   },
   "file_extension": ".py",
   "mimetype": "text/x-python",
   "name": "python",
   "nbconvert_exporter": "python",
   "pygments_lexer": "ipython3",
   "version": "3.7.3"
  }
 },
 "nbformat": 4,
 "nbformat_minor": 2
}
