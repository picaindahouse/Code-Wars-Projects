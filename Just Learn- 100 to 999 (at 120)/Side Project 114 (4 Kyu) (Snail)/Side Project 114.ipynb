{
 "cells": [
  {
   "cell_type": "code",
   "execution_count": null,
   "metadata": {},
   "outputs": [],
   "source": [
    "def snail(array):\n",
    "    pos, tom, tim = [0,0], [len(x) for x in array], []\n",
    "    tam, up = len(tom) -1, 0\n",
    "    while len(tim) != sum(tom):\n",
    "        tim.append(array[pos[0]][pos[1]])\n",
    "        array[pos[0]][pos[1]] = '?'\n",
    "        if pos[1] == up and pos[0] != up:  \n",
    "            pos[0] -= 1\n",
    "            if array[pos[0]-1][pos[1]] == '?':\n",
    "                tam -= 1\n",
    "                up += 1\n",
    "        elif pos[1] < tom[0]-1 and array[pos[0]][pos[1]+1] != '?': pos[1] += 1\n",
    "        elif pos[0] < tam and array[pos[0]+1][pos[1]] != '?': pos[0] += 1\n",
    "        elif pos[0] == tam: pos[1] -= 1\n",
    "    return tim"
   ]
  },
  {
   "cell_type": "code",
   "execution_count": 135,
   "metadata": {},
   "outputs": [
    {
     "data": {
      "text/plain": [
       "[1, 2, 3, 6, 9, 8, 7, 4, 5]"
      ]
     },
     "execution_count": 135,
     "metadata": {},
     "output_type": "execute_result"
    }
   ],
   "source": [
    "array = [[1, 2, 3, 4, 5], [6, 7, 8, 9, 10], [11, 12, 13, 14, 15], [16, 17, 18, 19, 20], [21, 22, 23, 24, 25]]\n",
    "[1,2,3,6,9,8,7,4,5]"
   ]
  },
  {
   "cell_type": "code",
   "execution_count": 136,
   "metadata": {},
   "outputs": [
    {
     "data": {
      "text/plain": [
       "[[1, 2, 3, 4, 5],\n",
       " [6, 7, 8, 9, 10],\n",
       " [11, 12, 13, 14, 15],\n",
       " [16, 17, 18, 19, 20],\n",
       " [21, 22, 23, 24, 25]]"
      ]
     },
     "execution_count": 136,
     "metadata": {},
     "output_type": "execute_result"
    }
   ],
   "source": [
    "array"
   ]
  },
  {
   "cell_type": "code",
   "execution_count": 137,
   "metadata": {},
   "outputs": [],
   "source": [
    "pos, tom, tim = [0,0], [len(x) for x in array], []\n",
    "tam, up = len(tom) -1, 0\n",
    "while len(tim) != sum(tom):\n",
    "    tim.append(array[pos[0]][pos[1]])\n",
    "    array[pos[0]][pos[1]] = '?'\n",
    "    if pos[1] == up and pos[0] != up:  \n",
    "        pos[0] -= 1\n",
    "        if array[pos[0]-1][pos[1]] == '?':\n",
    "            tam -= 1\n",
    "            up += 1\n",
    "    elif pos[1] < tom[0]-1 and array[pos[0]][pos[1]+1] != '?': pos[1] += 1\n",
    "    elif pos[0] < tam and array[pos[0]+1][pos[1]] != '?': pos[0] += 1\n",
    "    elif pos[0] == tam: pos[1] -= 1\n",
    "        "
   ]
  },
  {
   "cell_type": "code",
   "execution_count": 138,
   "metadata": {},
   "outputs": [
    {
     "data": {
      "text/plain": [
       "[1,\n",
       " 2,\n",
       " 3,\n",
       " 4,\n",
       " 5,\n",
       " 10,\n",
       " 15,\n",
       " 20,\n",
       " 25,\n",
       " 24,\n",
       " 23,\n",
       " 22,\n",
       " 21,\n",
       " 16,\n",
       " 11,\n",
       " 6,\n",
       " 7,\n",
       " 8,\n",
       " 9,\n",
       " 14,\n",
       " 19,\n",
       " 18,\n",
       " 17,\n",
       " 12,\n",
       " 13]"
      ]
     },
     "execution_count": 138,
     "metadata": {},
     "output_type": "execute_result"
    }
   ],
   "source": [
    "tim"
   ]
  },
  {
   "cell_type": "code",
   "execution_count": 139,
   "metadata": {},
   "outputs": [
    {
     "data": {
      "text/plain": [
       "[['?', '?', '?', '?', '?'],\n",
       " ['?', '?', '?', '?', '?'],\n",
       " ['?', '?', '?', '?', '?'],\n",
       " ['?', '?', '?', '?', '?'],\n",
       " ['?', '?', '?', '?', '?']]"
      ]
     },
     "execution_count": 139,
     "metadata": {},
     "output_type": "execute_result"
    }
   ],
   "source": [
    "array"
   ]
  },
  {
   "cell_type": "code",
   "execution_count": null,
   "metadata": {},
   "outputs": [],
   "source": []
  }
 ],
 "metadata": {
  "kernelspec": {
   "display_name": "Python 3",
   "language": "python",
   "name": "python3"
  },
  "language_info": {
   "codemirror_mode": {
    "name": "ipython",
    "version": 3
   },
   "file_extension": ".py",
   "mimetype": "text/x-python",
   "name": "python",
   "nbconvert_exporter": "python",
   "pygments_lexer": "ipython3",
   "version": "3.7.3"
  }
 },
 "nbformat": 4,
 "nbformat_minor": 2
}
