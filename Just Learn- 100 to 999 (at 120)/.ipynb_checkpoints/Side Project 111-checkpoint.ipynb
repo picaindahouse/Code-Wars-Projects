{
 "cells": [
  {
   "cell_type": "code",
   "execution_count": null,
   "metadata": {},
   "outputs": [],
   "source": [
    "# Time to start making the code in place- step by step, slowly/slowly"
   ]
  },
  {
   "cell_type": "code",
   "execution_count": 67,
   "metadata": {},
   "outputs": [],
   "source": [
    "def rpg(field,actions):\n",
    "    Health, Atk, Def, Bag, tom, coin, Map, enemy, demon, level, evil, Demon = 3,1,1,[], '><^v', 0, [[d for d in e] for e in field], [1,2], [10,3], 0, [], 'hey'\n",
    "    \n",
    "    for i,x in enumerate(field):\n",
    "        for r,y in enumerate(x):\n",
    "            if y in tom: pos, main = [i,r], y\n",
    "            elif y in 'E': evil.append([i,r])\n",
    "            elif y in 'D': Demon = [i,r]\n",
    "    \n",
    "    for z in actions:\n",
    "        movement = {'>': [pos[0],pos[1] + 1], '<': [pos[0],pos[1] - 1], '^': [pos[0] - 1,pos[1]], 'v': [pos[0] + 1,pos[1]] }\n",
    "        \n",
    "        if z == 'F':\n",
    "            Map[pos[0]][pos[1]] = ' '\n",
    "            pos = movement[main]\n",
    "            if pos[0] < 0  or pos[0] > len(Map) - 1 or pos[1] < 0 or pos[1] > len(Map[0]) - 1: return None\n",
    "            elif Map[pos[0]][pos[1]] in '#M-|ED': return None\n",
    "            elif Map[pos[0]][pos[1]] in 'CKH': \n",
    "                Bag.append(Map[pos[0]][pos[1]])\n",
    "                Bag.sort()\n",
    "            elif Map[pos[0]][pos[1]] == 'S': Def += 1\n",
    "            elif Map[pos[0]][pos[1]] == 'X': Atk += 1\n",
    "            Map[pos[0]][pos[1]] = main\n",
    "        \n",
    "        elif z in tom: main, Map[pos[0]][pos[1]] = z, z\n",
    "            \n",
    "        elif z in 'KCH':\n",
    "            future = movement[main]\n",
    "            if z not in Bag: return None\n",
    "            if z == 'H' and Health < 3: Health = 3\n",
    "            elif z == 'K' and Map[future[0]][future[1]] in '-|': Map[future[0]][future[1]] = ' '\n",
    "            elif z == 'C' and Map[future[0]][future[1]] == 'M':\n",
    "                coin += 1\n",
    "                if coin == 3: \n",
    "                    Map[future[0]][future[1]] = ' '\n",
    "                    coin = 0\n",
    "            else: return None\n",
    "            Bag.remove(z)\n",
    "        \n",
    "        else:\n",
    "            future = movement[main]\n",
    "            if Map[future[0]][future[1]] not in 'ED': return None\n",
    "            elif Map[future[0]][future[1]] == 'E': \n",
    "                Map[future[0]][future[1]] = ' '\n",
    "                evil.remove(future)\n",
    "                level += 1\n",
    "                if level % 3 == 0: Atk += 1\n",
    "            else:\n",
    "                demon[0] = demon[0] - Atk\n",
    "                if demon[0] <=0 : Map[future[0]][future[1]], demon = ' ', [0,0]\n",
    "                                                \n",
    "        scan = [movement['>'],movement['<'],movement['^'],movement['v']]\n",
    "        for h in scan:\n",
    "            if h in evil: Health = Health - max(0, enemy[1] - Def)\n",
    "            elif h == Demon: Health = Health - max(0, demon[1] - Def)\n",
    "            if Health <= 0: return None\n",
    "            \n",
    "    return (Map, Health, Atk, Def, Bag)"
   ]
  },
  {
   "cell_type": "code",
   "execution_count": 56,
   "metadata": {},
   "outputs": [],
   "source": [
    "m = [\n",
    "            'SX#  EDE ',\n",
    "            '  # EEEEE',\n",
    "            '#-#     X',\n",
    "            '         ',\n",
    "            '^       K',\n",
    "        ]\n"
   ]
  },
  {
   "cell_type": "code",
   "execution_count": 68,
   "metadata": {},
   "outputs": [
    {
     "data": {
      "text/plain": [
       "[['S', 'X', '#', ' ', ' ', 'E', 'D', 'E', ' '],\n",
       " [' ', ' ', '#', ' ', 'E', 'E', 'E', 'E', 'E'],\n",
       " ['#', '-', '#', ' ', ' ', ' ', ' ', ' ', 'X'],\n",
       " [' ', ' ', ' ', ' ', ' ', ' ', ' ', ' ', ' '],\n",
       " ['^', ' ', ' ', ' ', ' ', ' ', ' ', ' ', 'K']]"
      ]
     },
     "execution_count": 68,
     "metadata": {},
     "output_type": "execute_result"
    }
   ],
   "source": [
    "Map = [[d for d in e] for e in m]\n",
    "Map"
   ]
  },
  {
   "cell_type": "code",
   "execution_count": null,
   "metadata": {},
   "outputs": [],
   "source": []
  },
  {
   "cell_type": "code",
   "execution_count": 69,
   "metadata": {},
   "outputs": [],
   "source": [
    "tom = '><^v'"
   ]
  },
  {
   "cell_type": "code",
   "execution_count": 75,
   "metadata": {},
   "outputs": [],
   "source": [
    "evil = []\n",
    "for i,x in enumerate(Map):\n",
    "    for r,y in enumerate(x):\n",
    "        if y in tom: \n",
    "            pos = [i,r]\n",
    "        elif y in 'ED':\n",
    "            evil.append([i,r])"
   ]
  },
  {
   "cell_type": "code",
   "execution_count": 76,
   "metadata": {},
   "outputs": [
    {
     "data": {
      "text/plain": [
       "[[0, 5], [0, 6], [0, 7], [1, 4], [1, 5], [1, 6], [1, 7], [1, 8]]"
      ]
     },
     "execution_count": 76,
     "metadata": {},
     "output_type": "execute_result"
    }
   ],
   "source": [
    "evil"
   ]
  },
  {
   "cell_type": "code",
   "execution_count": 51,
   "metadata": {},
   "outputs": [
    {
     "data": {
      "text/plain": [
       "'^'"
      ]
     },
     "execution_count": 51,
     "metadata": {},
     "output_type": "execute_result"
    }
   ],
   "source": [
    "main"
   ]
  },
  {
   "cell_type": "code",
   "execution_count": 37,
   "metadata": {},
   "outputs": [],
   "source": [
    "movement = {'>': pos[1] + 1, '<': pos[1] - 1, '^': pos[0] - 1, 'v': pos[0] + 1 }"
   ]
  },
  {
   "cell_type": "code",
   "execution_count": 48,
   "metadata": {},
   "outputs": [],
   "source": [
    "if m[pos[0]][pos[1]] in '><': pos[1] = movement[m[pos[0]][pos[1]]] \n",
    "else: pos[0] = movement[m[pos[0]][pos[1]]] "
   ]
  },
  {
   "cell_type": "code",
   "execution_count": 49,
   "metadata": {},
   "outputs": [
    {
     "data": {
      "text/plain": [
       "[3, 0]"
      ]
     },
     "execution_count": 49,
     "metadata": {},
     "output_type": "execute_result"
    }
   ],
   "source": [
    "pos"
   ]
  },
  {
   "cell_type": "code",
   "execution_count": 66,
   "metadata": {},
   "outputs": [
    {
     "data": {
      "text/plain": [
       "' '"
      ]
     },
     "execution_count": 66,
     "metadata": {},
     "output_type": "execute_result"
    }
   ],
   "source": [
    "Map[pos[0]][pos[1]] "
   ]
  },
  {
   "cell_type": "code",
   "execution_count": 77,
   "metadata": {},
   "outputs": [],
   "source": [
    "sim =[1,2,1]"
   ]
  },
  {
   "cell_type": "code",
   "execution_count": 78,
   "metadata": {},
   "outputs": [],
   "source": [
    "sim.remove(1)"
   ]
  },
  {
   "cell_type": "code",
   "execution_count": 79,
   "metadata": {},
   "outputs": [
    {
     "data": {
      "text/plain": [
       "[2, 1]"
      ]
     },
     "execution_count": 79,
     "metadata": {},
     "output_type": "execute_result"
    }
   ],
   "source": [
    "sim"
   ]
  },
  {
   "cell_type": "code",
   "execution_count": null,
   "metadata": {},
   "outputs": [],
   "source": []
  }
 ],
 "metadata": {
  "kernelspec": {
   "display_name": "Python 3",
   "language": "python",
   "name": "python3"
  },
  "language_info": {
   "codemirror_mode": {
    "name": "ipython",
    "version": 3
   },
   "file_extension": ".py",
   "mimetype": "text/x-python",
   "name": "python",
   "nbconvert_exporter": "python",
   "pygments_lexer": "ipython3",
   "version": "3.7.3"
  }
 },
 "nbformat": 4,
 "nbformat_minor": 2
}
