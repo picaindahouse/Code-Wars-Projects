{
 "cells": [
  {
   "cell_type": "code",
   "execution_count": null,
   "metadata": {},
   "outputs": [],
   "source": [
    "def nQueen(n):\n",
    "    if n == 1: return [0]\n",
    "    tom = [['' for y in range(n)] for x in range(n)]\n",
    "    pos = [0,0]\n",
    "    test = 0\n",
    "    retest = 0\n",
    "    smith = []\n",
    "    while test != 1:\n",
    "        if pos[1] == len(tom): return []\n",
    "        surfer = [[y if i != pos[0] and r != pos[1] and i - pos[0] != r - pos[1] and i - pos[0] != pos[1] - r else 'Q' if i == pos[0] and r == pos[1] else 4 for r,y in enumerate(x)] for i,x in enumerate(tom)]\n",
    "        nex = [pos[0] + 1, pos[1]]\n",
    "        memory = [surfer]\n",
    "        while retest != 1:\n",
    "            if nex[0] == len(tom): \n",
    "                test = 1\n",
    "                break\n",
    "            while surfer[nex[0]][nex[1]] == 4: \n",
    "                if nex[1] < len(tom) - 1: nex[1] += 1\n",
    "                else: \n",
    "                    nex[0] -= 1\n",
    "                    nex[1] = surfer[nex[0]].index('Q') + 1\n",
    "                    if nex[1] == len(tom) and nex[0] != 0: \n",
    "                        nex[0] -= 1\n",
    "                        nex[1] = surfer[nex[0]].index('Q') + 1\n",
    "                    if nex[0] == 0:\n",
    "                        retest = 1\n",
    "                        pos = nex\n",
    "                    else: \n",
    "                        memory = memory[:-1]\n",
    "                        surfer = memory[-1]\n",
    "                    break\n",
    "            else: \n",
    "                surfer = [[y if i != nex[0] and r != nex[1] and i - nex[0] != r - nex[1] and i - nex[0] != nex[1] - r else 'Q' if i == nex[0] and r == nex[1] else 4 for r,y in enumerate(x)] for i,x in enumerate(surfer)]\n",
    "                memory.append(surfer)\n",
    "                nex[0] += 1\n",
    "                nex[1] = 0\n",
    "        retest = 0\n",
    "    \n",
    "            \n",
    "    return [[i for i,f in enumerate(d) if f =='Q'][0] for d in surfer]"
   ]
  },
  {
   "cell_type": "code",
   "execution_count": null,
   "metadata": {},
   "outputs": [],
   "source": [
    "n = 2\n",
    "tom = [['' for y in range(n)] for x in range(n)]"
   ]
  },
  {
   "cell_type": "code",
   "execution_count": null,
   "metadata": {},
   "outputs": [],
   "source": [
    "tom"
   ]
  },
  {
   "cell_type": "code",
   "execution_count": null,
   "metadata": {},
   "outputs": [],
   "source": [
    "def check (a,b,tom):\n",
    "    if a[0] == b[0] or a[1] == b[1] or a[1] - b[1] == a[0] - b[0] or a[1] - b[1] == b[0] - a[0]: return False\n",
    "    else: return True"
   ]
  },
  {
   "cell_type": "code",
   "execution_count": null,
   "metadata": {},
   "outputs": [],
   "source": [
    "check([1,0],[0,1],tom)"
   ]
  },
  {
   "cell_type": "code",
   "execution_count": null,
   "metadata": {},
   "outputs": [],
   "source": [
    "pos = [0,0]\n",
    "test = 0\n",
    "retest = 0\n",
    "smith = []\n",
    "while test != 1:\n",
    "    if pos[1] == len(tom): test,retest =1,1\n",
    "    surfer = [[y if i != pos[0] and r != pos[1] and i - pos[0] != r - pos[1] and i - pos[0] != pos[1] - r else 'Q' if i == pos[0] and r == pos[1] else 4 for r,y in enumerate(x)] for i,x in enumerate(tom)]\n",
    "    nex = [pos[0] + 1, pos[1]]\n",
    "    memory = [surfer]\n",
    "    while retest != 1:\n",
    "        print(surfer)\n",
    "        if nex[0] == len(tom): \n",
    "            test = 1\n",
    "            break\n",
    "        if surfer[nex[0]][nex[1]] == 4: \n",
    "            if nex[1] < len(tom) - 1: nex[1] += 1\n",
    "            else: \n",
    "                nex[0] -= 1\n",
    "                nex[1] = surfer[nex[0]].index('Q') + 1\n",
    "                if nex[1] == len(tom) and nex[0] != 0: \n",
    "                    nex[0] -= 1\n",
    "                    nex[1] = surfer[nex[0]].index('Q') + 1\n",
    "                if nex[0] == 0:\n",
    "                    retest = 1\n",
    "                    pos = nex\n",
    "                else: \n",
    "                    memory = memory[:-1]\n",
    "                    surfer = memory[-1]\n",
    "        else: \n",
    "            surfer = [[y if i != nex[0] and r != nex[1] and i - nex[0] != r - nex[1] and i - nex[0] != nex[1] - r else 'Q' if i == nex[0] and r == nex[1] else 4 for r,y in enumerate(x)] for i,x in enumerate(surfer)]\n",
    "            memory.append(surfer)\n",
    "            nex[0] += 1\n",
    "            nex[1] = 0\n",
    "    retest = 0\n",
    "[[i for i,f in enumerate(d) if f =='Q'][0] for d in surfer]"
   ]
  },
  {
   "cell_type": "code",
   "execution_count": null,
   "metadata": {},
   "outputs": [],
   "source": [
    "surfer"
   ]
  },
  {
   "cell_type": "code",
   "execution_count": null,
   "metadata": {},
   "outputs": [],
   "source": [
    "memory"
   ]
  },
  {
   "cell_type": "code",
   "execution_count": null,
   "metadata": {},
   "outputs": [],
   "source": [
    "from itertools import permutations"
   ]
  },
  {
   "cell_type": "code",
   "execution_count": null,
   "metadata": {},
   "outputs": [],
   "source": [
    "list(permutations(range(3),3))"
   ]
  },
  {
   "cell_type": "code",
   "execution_count": null,
   "metadata": {},
   "outputs": [],
   "source": [
    "from math import factorial"
   ]
  },
  {
   "cell_type": "code",
   "execution_count": null,
   "metadata": {},
   "outputs": [],
   "source": [
    "factorial(2)"
   ]
  },
  {
   "cell_type": "code",
   "execution_count": null,
   "metadata": {},
   "outputs": [],
   "source": [
    "factorial(30)"
   ]
  },
  {
   "cell_type": "code",
   "execution_count": null,
   "metadata": {},
   "outputs": [],
   "source": [
    "cool = list(range(5))"
   ]
  },
  {
   "cell_type": "code",
   "execution_count": null,
   "metadata": {},
   "outputs": [],
   "source": [
    "nQueen(12)"
   ]
  },
  {
   "cell_type": "code",
   "execution_count": null,
   "metadata": {},
   "outputs": [],
   "source": [
    "n= 11\n",
    "cool, plum = list(range(n)), []\n",
    "tom = False\n",
    "t,z = 0,0\n",
    "while tom != True:\n",
    "    plum = [1,3,5,7,9]\n",
    "    while len(plum) != len(cool):\n",
    "        sam = [y for y in cool if y not in plum and y > plum[-1] + 1 or y not in plum and y < plum[-1] - 1]\n",
    "        if not sam: break\n",
    "        if plum[-2] + 1 in sam: plum.append(plum[-2]+1)\n",
    "        else: plum.append(random.choice(sam))  \n",
    "    if len(plum) == len(cool): tom = check(plum)\n",
    "    z+=1\n",
    "    if z == 10:\n",
    "        t+=1\n",
    "        z = 0\n",
    "plum"
   ]
  },
  {
   "cell_type": "code",
   "execution_count": null,
   "metadata": {},
   "outputs": [],
   "source": [
    "def check (q):\n",
    "    for i,x in enumerate(q):\n",
    "        for r,y in [z for z in enumerate(q) if z!= (i,x)]:\n",
    "            if r - i == y - x or r - i == x - y: return False\n",
    "    return True"
   ]
  },
  {
   "cell_type": "code",
   "execution_count": null,
   "metadata": {},
   "outputs": [],
   "source": [
    "[check(x) for x in plum]"
   ]
  },
  {
   "cell_type": "code",
   "execution_count": null,
   "metadata": {},
   "outputs": [],
   "source": [
    "import random"
   ]
  },
  {
   "cell_type": "code",
   "execution_count": null,
   "metadata": {},
   "outputs": [],
   "source": [
    "random.choice(cool)"
   ]
  },
  {
   "cell_type": "code",
   "execution_count": null,
   "metadata": {},
   "outputs": [],
   "source": [
    "check([1, 3, 6, 2, 7, 5, 0, 4])"
   ]
  },
  {
   "cell_type": "code",
   "execution_count": null,
   "metadata": {},
   "outputs": [],
   "source": [
    "'T00000'\n",
    "'00T000'\n",
    "'0000T0'\n",
    "'0T0000'\n",
    "'000T00'\n",
    "'00000T'"
   ]
  },
  {
   "cell_type": "code",
   "execution_count": null,
   "metadata": {},
   "outputs": [],
   "source": [
    "list(range(0,5//2*2+1,2))"
   ]
  },
  {
   "cell_type": "code",
   "execution_count": null,
   "metadata": {},
   "outputs": [],
   "source": [
    "8//2*2"
   ]
  },
  {
   "cell_type": "code",
   "execution_count": null,
   "metadata": {},
   "outputs": [],
   "source": []
  }
 ],
 "metadata": {
  "kernelspec": {
   "display_name": "Python 3",
   "language": "python",
   "name": "python3"
  },
  "language_info": {
   "codemirror_mode": {
    "name": "ipython",
    "version": 3
   },
   "file_extension": ".py",
   "mimetype": "text/x-python",
   "name": "python",
   "nbconvert_exporter": "python",
   "pygments_lexer": "ipython3",
   "version": "3.7.3"
  }
 },
 "nbformat": 4,
 "nbformat_minor": 2
}
