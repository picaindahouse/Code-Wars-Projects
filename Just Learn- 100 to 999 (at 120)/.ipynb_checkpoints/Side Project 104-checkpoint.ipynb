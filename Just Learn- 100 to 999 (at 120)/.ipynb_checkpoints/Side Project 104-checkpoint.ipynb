{
 "cells": [
  {
   "cell_type": "code",
   "execution_count": 8,
   "metadata": {},
   "outputs": [],
   "source": [
    "import random\n",
    "class Machine:\n",
    "    def __init__(self):\n",
    "        self.n, self.boo, self.act = [], [], ACTIONS\n",
    "    def command(self, cmd, num):\n",
    "        haiz, self.cmd, self.num = 0, cmd, num\n",
    "        if self.cmd in [i for i,x in self.n]: return [self.act[h](self.num) for w,h in self.n if w == self.cmd][0]\n",
    "        while haiz == 0:\n",
    "            self.action = random.choice([0,1,2,3,4])\n",
    "            if [self.cmd,self.action] in self.boo: pass\n",
    "            else: haiz = 1\n",
    "        return self.act[self.action](self.num)\n",
    "    def response(self,res):\n",
    "        if res == True:\n",
    "            if self.cmd in [i for i,x in self.n]: pass\n",
    "            else: self.n.append([self.cmd,self.action])\n",
    "        else:\n",
    "            if [self.cmd,self.action] in self.n: \n",
    "                print([self.cmd,self.action])\n",
    "                self.n.remove([self.cmd,self.action])\n",
    "                self.boo.append([self.cmd,self.action])\n",
    "            else: self.boo.append([self.cmd,self.action])"
   ]
  },
  {
   "cell_type": "code",
   "execution_count": null,
   "metadata": {},
   "outputs": [],
   "source": [
    "_actions =  [lambda x:x+1, lambda x:0, lambda x: x/2, lambda x: x*100, lambda x: x%2]"
   ]
  },
  {
   "cell_type": "code",
   "execution_count": null,
   "metadata": {},
   "outputs": [],
   "source": [
    "import random\n",
    "class Machine:\n",
    "    def __init__(self):\n",
    "        self.m = []\n",
    "        self.t = 0\n",
    "    def command(self, cmd, num):\n",
    "        self.cmd, self.num, self.action = cmd, num, random.choice(_actions)\n",
    "        if self.cmd in [i for i,x in self.m]: return [x(num) for i,x in self.m if i == self.cmd][0]\n",
    "        return self.action(self.num)\n",
    "    def response(self,res):\n",
    "        if res == True:\n",
    "            self.t += 1\n",
    "            if self.t > 3: \n",
    "                if self.cmd in [i for i,x in self.m]: pass\n",
    "                else: self.m.append([self.cmd, self.action])\n",
    "            else: self.n.append([self.cmd, self.action])\n",
    "        else: self.t, self.n = 0, []"
   ]
  },
  {
   "cell_type": "code",
   "execution_count": null,
   "metadata": {},
   "outputs": [],
   "source": [
    "import random\n",
    "machine = Machine()\n",
    "random.seed()\n",
    "for i in range(0,20):\n",
    "    r = machine.command(0,random.randint(0,100))\n",
    "    machine.response(r==0)"
   ]
  },
  {
   "cell_type": "code",
   "execution_count": null,
   "metadata": {},
   "outputs": [],
   "source": [
    "import random"
   ]
  },
  {
   "cell_type": "code",
   "execution_count": null,
   "metadata": {},
   "outputs": [],
   "source": [
    "def tom (b):\n",
    "    return b"
   ]
  },
  {
   "cell_type": "code",
   "execution_count": null,
   "metadata": {},
   "outputs": [],
   "source": [
    "tom(0==0)"
   ]
  },
  {
   "cell_type": "code",
   "execution_count": null,
   "metadata": {},
   "outputs": [],
   "source": [
    "machine.command(0,random.randint(0,100))"
   ]
  },
  {
   "cell_type": "code",
   "execution_count": null,
   "metadata": {},
   "outputs": [],
   "source": [
    "import random\n",
    "class Machine:\n",
    "    def __init__(self):\n",
    "        self.n, self.m, self.t = [], [], 0\n",
    "    def command(self, cmd, num):\n",
    "        print(cmd,num)\n",
    "        self.cmd, self.num, self.action = cmd, num, random.choice([0,1,2,3,4])\n",
    "        if self.t > 10: return [_actions[x](num) for i,x in self.n if i == self.cmd][0]\n",
    "        return _actions[self.action](self.num)\n",
    "    def response(self,res):\n",
    "        self.t += 1\n",
    "        if self.t <= 10:\n",
    "            if res == True:\n",
    "                self.m.append([self.cmd, self.action])\n",
    "                for i,x in self.m:\n",
    "                    tom, pls, self.n = [y for r,y in self.m if r == 0], [], []\n",
    "                    for z in tom:\n",
    "                        if not pls: pls = z\n",
    "                        elif tom.count(z) > tom.count(pls): pls = z\n",
    "                    self.n.append([i,pls])\n",
    "            else: pass\n",
    "        else: pass"
   ]
  },
  {
   "cell_type": "code",
   "execution_count": null,
   "metadata": {},
   "outputs": [],
   "source": []
  },
  {
   "cell_type": "code",
   "execution_count": null,
   "metadata": {},
   "outputs": [],
   "source": [
    "tom = ACTIONS"
   ]
  },
  {
   "cell_type": "code",
   "execution_count": null,
   "metadata": {},
   "outputs": [],
   "source": [
    "tom()"
   ]
  },
  {
   "cell_type": "code",
   "execution_count": null,
   "metadata": {},
   "outputs": [],
   "source": [
    "self.n = []\n",
    "self.m = [[0, 1], [0, 1], [0, 4], [0, 2], [0, 4], [0, 1]]\n",
    "for i,x in self.m:\n",
    "    if i not in [r for r,y in self.m]:\n",
    "        tom, pls = [y for r,y in self.m if r == 0], []\n",
    "        for z in tom:\n",
    "            if not pls: pls = z\n",
    "            elif tom.count(z) > tom.count(pls): pls = z\n",
    "        self.n.append([i,pls])\n"
   ]
  },
  {
   "cell_type": "code",
   "execution_count": null,
   "metadata": {},
   "outputs": [],
   "source": [
    "[y for r,y in [[0, 1], [0, 1], [0, 4], [0, 2], [0, 4], [0, 1]] if r == 0]"
   ]
  },
  {
   "cell_type": "code",
   "execution_count": null,
   "metadata": {},
   "outputs": [],
   "source": [
    "cool = [[0, 1], [0, 1], [0, 4], [0, 2], [0, 4], [0, 1]]"
   ]
  },
  {
   "cell_type": "code",
   "execution_count": null,
   "metadata": {},
   "outputs": [],
   "source": [
    "tom, pls = [y for r,y in cool if r == 0], []\n",
    "for z in tom:\n",
    "    if not pls: pls = z\n",
    "    elif tom.count(z) > tom.count(pls): pls = z"
   ]
  },
  {
   "cell_type": "code",
   "execution_count": null,
   "metadata": {},
   "outputs": [],
   "source": [
    "pls"
   ]
  },
  {
   "cell_type": "code",
   "execution_count": null,
   "metadata": {},
   "outputs": [],
   "source": []
  },
  {
   "cell_type": "code",
   "execution_count": null,
   "metadata": {},
   "outputs": [],
   "source": []
  },
  {
   "cell_type": "code",
   "execution_count": null,
   "metadata": {},
   "outputs": [],
   "source": []
  },
  {
   "cell_type": "code",
   "execution_count": null,
   "metadata": {},
   "outputs": [],
   "source": []
  },
  {
   "cell_type": "code",
   "execution_count": null,
   "metadata": {},
   "outputs": [],
   "source": []
  },
  {
   "cell_type": "code",
   "execution_count": null,
   "metadata": {},
   "outputs": [],
   "source": []
  },
  {
   "cell_type": "code",
   "execution_count": null,
   "metadata": {},
   "outputs": [],
   "source": []
  },
  {
   "cell_type": "code",
   "execution_count": null,
   "metadata": {},
   "outputs": [],
   "source": []
  },
  {
   "cell_type": "code",
   "execution_count": null,
   "metadata": {},
   "outputs": [],
   "source": []
  },
  {
   "cell_type": "code",
   "execution_count": null,
   "metadata": {},
   "outputs": [],
   "source": []
  },
  {
   "cell_type": "code",
   "execution_count": null,
   "metadata": {},
   "outputs": [],
   "source": []
  },
  {
   "cell_type": "code",
   "execution_count": 3,
   "metadata": {},
   "outputs": [],
   "source": [
    "ACTIONS =  [lambda x:x+1, lambda x:0, lambda x: x/2, lambda x: x*100, lambda x: x%2]"
   ]
  },
  {
   "cell_type": "code",
   "execution_count": 13,
   "metadata": {},
   "outputs": [
    {
     "name": "stdout",
     "output_type": "stream",
     "text": [
      "[]\n",
      "[[1, 1]]\n",
      "[[1, 1]]\n",
      "[[1, 1]]\n",
      "[[1, 1]]\n",
      "[[1, 1]]\n",
      "[[1, 1]]\n",
      "[[1, 1], [2, 2]]\n",
      "[[1, 1], [2, 2]]\n",
      "[[1, 1], [2, 2]]\n",
      "[[1, 1], [2, 2], [0, 0]]\n",
      "[[1, 1], [2, 2], [0, 0]]\n",
      "[[1, 1], [2, 2], [0, 0]]\n",
      "[[1, 1], [2, 2], [0, 0], [3, 3]]\n",
      "[[1, 1], [2, 2], [0, 0], [3, 3]]\n",
      "[[1, 1], [2, 2], [0, 0], [3, 3]]\n",
      "[[1, 1], [2, 2], [0, 0], [3, 3]]\n",
      "[[1, 1], [2, 2], [0, 0], [3, 3]]\n",
      "[[1, 1], [2, 2], [0, 0], [3, 3]]\n",
      "[[1, 1], [2, 2], [0, 0], [3, 3]]\n",
      "[[1, 1], [2, 2], [0, 0], [3, 3]]\n",
      "[[1, 1], [2, 2], [0, 0], [3, 3]]\n",
      "[[1, 1], [2, 2], [0, 0], [3, 3]]\n",
      "[[1, 1], [2, 2], [0, 0], [3, 3]]\n",
      "[[1, 1], [2, 2], [0, 0], [3, 3], [4, 4]]\n",
      "[[1, 1], [2, 2], [0, 0], [3, 3], [4, 4]]\n",
      "[[1, 1], [2, 2], [0, 0], [3, 3], [4, 4]]\n",
      "[[1, 1], [2, 2], [0, 0], [3, 3], [4, 4]]\n",
      "[[1, 1], [2, 2], [0, 0], [3, 3], [4, 4]]\n",
      "[[1, 1], [2, 2], [0, 0], [3, 3], [4, 4]]\n",
      "[[1, 1], [2, 2], [0, 0], [3, 3], [4, 4]]\n",
      "[[1, 1], [2, 2], [0, 0], [3, 3], [4, 4]]\n",
      "[[1, 1], [2, 2], [0, 0], [3, 3], [4, 4]]\n",
      "[[1, 1], [2, 2], [0, 0], [3, 3], [4, 4]]\n",
      "[[1, 1], [2, 2], [0, 0], [3, 3], [4, 4]]\n",
      "[[1, 1], [2, 2], [0, 0], [3, 3], [4, 4]]\n",
      "[[1, 1], [2, 2], [0, 0], [3, 3], [4, 4]]\n",
      "[[1, 1], [2, 2], [0, 0], [3, 3], [4, 4]]\n",
      "[[1, 1], [2, 2], [0, 0], [3, 3], [4, 4]]\n",
      "[[1, 1], [2, 2], [0, 0], [3, 3], [4, 4]]\n",
      "[[1, 1], [2, 2], [0, 0], [3, 3], [4, 4]]\n",
      "[[1, 1], [2, 2], [0, 0], [3, 3], [4, 4]]\n",
      "[[1, 1], [2, 2], [0, 0], [3, 3], [4, 4]]\n",
      "[[1, 1], [2, 2], [0, 0], [3, 3], [4, 4]]\n",
      "[[1, 1], [2, 2], [0, 0], [3, 3], [4, 4]]\n",
      "[[1, 1], [2, 2], [0, 0], [3, 3], [4, 4]]\n",
      "[[1, 1], [2, 2], [0, 0], [3, 3], [4, 4]]\n",
      "[[1, 1], [2, 2], [0, 0], [3, 3], [4, 4]]\n",
      "[[1, 1], [2, 2], [0, 0], [3, 3], [4, 4]]\n",
      "[[1, 1], [2, 2], [0, 0], [3, 3], [4, 4]]\n",
      "[[1, 1], [2, 2], [0, 0], [3, 3], [4, 4]]\n",
      "[[1, 1], [2, 2], [0, 0], [3, 3], [4, 4]]\n",
      "[[1, 1], [2, 2], [0, 0], [3, 3], [4, 4]]\n",
      "[[1, 1], [2, 2], [0, 0], [3, 3], [4, 4]]\n",
      "[[1, 1], [2, 2], [0, 0], [3, 3], [4, 4]]\n",
      "[[1, 1], [2, 2], [0, 0], [3, 3], [4, 4]]\n",
      "[[1, 1], [2, 2], [0, 0], [3, 3], [4, 4]]\n",
      "[[1, 1], [2, 2], [0, 0], [3, 3], [4, 4]]\n",
      "[[1, 1], [2, 2], [0, 0], [3, 3], [4, 4]]\n",
      "[[1, 1], [2, 2], [0, 0], [3, 3], [4, 4]]\n",
      "[[1, 1], [2, 2], [0, 0], [3, 3], [4, 4]]\n",
      "[[1, 1], [2, 2], [0, 0], [3, 3], [4, 4]]\n",
      "[[1, 1], [2, 2], [0, 0], [3, 3], [4, 4]]\n",
      "[[1, 1], [2, 2], [0, 0], [3, 3], [4, 4]]\n",
      "[[1, 1], [2, 2], [0, 0], [3, 3], [4, 4]]\n",
      "[[1, 1], [2, 2], [0, 0], [3, 3], [4, 4]]\n",
      "[[1, 1], [2, 2], [0, 0], [3, 3], [4, 4]]\n",
      "[[1, 1], [2, 2], [0, 0], [3, 3], [4, 4]]\n",
      "[[1, 1], [2, 2], [0, 0], [3, 3], [4, 4]]\n",
      "[[1, 1], [2, 2], [0, 0], [3, 3], [4, 4]]\n",
      "[[1, 1], [2, 2], [0, 0], [3, 3], [4, 4]]\n",
      "[[1, 1], [2, 2], [0, 0], [3, 3], [4, 4]]\n",
      "[[1, 1], [2, 2], [0, 0], [3, 3], [4, 4]]\n",
      "[[1, 1], [2, 2], [0, 0], [3, 3], [4, 4]]\n",
      "[[1, 1], [2, 2], [0, 0], [3, 3], [4, 4]]\n",
      "[[1, 1], [2, 2], [0, 0], [3, 3], [4, 4]]\n",
      "[[1, 1], [2, 2], [0, 0], [3, 3], [4, 4]]\n",
      "[[1, 1], [2, 2], [0, 0], [3, 3], [4, 4]]\n",
      "[[1, 1], [2, 2], [0, 0], [3, 3], [4, 4]]\n",
      "[[1, 1], [2, 2], [0, 0], [3, 3], [4, 4]]\n",
      "[[1, 1], [2, 2], [0, 0], [3, 3], [4, 4]]\n",
      "[[1, 1], [2, 2], [0, 0], [3, 3], [4, 4]]\n",
      "[[1, 1], [2, 2], [0, 0], [3, 3], [4, 4]]\n",
      "[[1, 1], [2, 2], [0, 0], [3, 3], [4, 4]]\n",
      "[[1, 1], [2, 2], [0, 0], [3, 3], [4, 4]]\n",
      "[[1, 1], [2, 2], [0, 0], [3, 3], [4, 4]]\n",
      "[[1, 1], [2, 2], [0, 0], [3, 3], [4, 4]]\n",
      "[[1, 1], [2, 2], [0, 0], [3, 3], [4, 4]]\n",
      "[[1, 1], [2, 2], [0, 0], [3, 3], [4, 4]]\n",
      "[[1, 1], [2, 2], [0, 0], [3, 3], [4, 4]]\n",
      "[[1, 1], [2, 2], [0, 0], [3, 3], [4, 4]]\n",
      "[[1, 1], [2, 2], [0, 0], [3, 3], [4, 4]]\n",
      "[[1, 1], [2, 2], [0, 0], [3, 3], [4, 4]]\n",
      "[[1, 1], [2, 2], [0, 0], [3, 3], [4, 4]]\n",
      "[[1, 1], [2, 2], [0, 0], [3, 3], [4, 4]]\n",
      "[[1, 1], [2, 2], [0, 0], [3, 3], [4, 4]]\n",
      "[[1, 1], [2, 2], [0, 0], [3, 3], [4, 4]]\n",
      "[[1, 1], [2, 2], [0, 0], [3, 3], [4, 4]]\n",
      "[[1, 1], [2, 2], [0, 0], [3, 3], [4, 4]]\n",
      "[[1, 1], [2, 2], [0, 0], [3, 3], [4, 4]]\n",
      "[[1, 1], [2, 2], [0, 0], [3, 3], [4, 4]]\n",
      "[[1, 1], [2, 2], [0, 0], [3, 3], [4, 4]]\n",
      "[[1, 1], [2, 2], [0, 0], [3, 3], [4, 4]]\n",
      "[[1, 1], [2, 2], [0, 0], [3, 3], [4, 4]]\n",
      "[[1, 1], [2, 2], [0, 0], [3, 3], [4, 4]]\n",
      "[[1, 1], [2, 2], [0, 0], [3, 3], [4, 4]]\n",
      "[[1, 1], [2, 2], [0, 0], [3, 3], [4, 4]]\n",
      "[[1, 1], [2, 2], [0, 0], [3, 3], [4, 4]]\n",
      "[[1, 1], [2, 2], [0, 0], [3, 3], [4, 4]]\n",
      "[[1, 1], [2, 2], [0, 0], [3, 3], [4, 4]]\n",
      "[[1, 1], [2, 2], [0, 0], [3, 3], [4, 4]]\n",
      "[[1, 1], [2, 2], [0, 0], [3, 3], [4, 4]]\n",
      "[[1, 1], [2, 2], [0, 0], [3, 3], [4, 4]]\n",
      "[[1, 1], [2, 2], [0, 0], [3, 3], [4, 4]]\n",
      "[[1, 1], [2, 2], [0, 0], [3, 3], [4, 4]]\n",
      "[[1, 1], [2, 2], [0, 0], [3, 3], [4, 4]]\n",
      "[[1, 1], [2, 2], [0, 0], [3, 3], [4, 4]]\n",
      "[[1, 1], [2, 2], [0, 0], [3, 3], [4, 4]]\n",
      "[[1, 1], [2, 2], [0, 0], [3, 3], [4, 4]]\n",
      "[[1, 1], [2, 2], [0, 0], [3, 3], [4, 4]]\n",
      "[[1, 1], [2, 2], [0, 0], [3, 3], [4, 4]]\n",
      "[[1, 1], [2, 2], [0, 0], [3, 3], [4, 4]]\n",
      "[[1, 1], [2, 2], [0, 0], [3, 3], [4, 4]]\n",
      "[[1, 1], [2, 2], [0, 0], [3, 3], [4, 4]]\n",
      "[[1, 1], [2, 2], [0, 0], [3, 3], [4, 4]]\n",
      "[[1, 1], [2, 2], [0, 0], [3, 3], [4, 4]]\n",
      "[[1, 1], [2, 2], [0, 0], [3, 3], [4, 4]]\n",
      "[[1, 1], [2, 2], [0, 0], [3, 3], [4, 4]]\n",
      "[[1, 1], [2, 2], [0, 0], [3, 3], [4, 4]]\n",
      "[[1, 1], [2, 2], [0, 0], [3, 3], [4, 4]]\n",
      "[[1, 1], [2, 2], [0, 0], [3, 3], [4, 4]]\n",
      "[[1, 1], [2, 2], [0, 0], [3, 3], [4, 4]]\n",
      "[[1, 1], [2, 2], [0, 0], [3, 3], [4, 4]]\n",
      "[[1, 1], [2, 2], [0, 0], [3, 3], [4, 4]]\n",
      "[[1, 1], [2, 2], [0, 0], [3, 3], [4, 4]]\n",
      "[[1, 1], [2, 2], [0, 0], [3, 3], [4, 4]]\n",
      "[[1, 1], [2, 2], [0, 0], [3, 3], [4, 4]]\n",
      "[[1, 1], [2, 2], [0, 0], [3, 3], [4, 4]]\n",
      "[[1, 1], [2, 2], [0, 0], [3, 3], [4, 4]]\n",
      "[[1, 1], [2, 2], [0, 0], [3, 3], [4, 4]]\n",
      "[[1, 1], [2, 2], [0, 0], [3, 3], [4, 4]]\n",
      "[[1, 1], [2, 2], [0, 0], [3, 3], [4, 4]]\n",
      "[[1, 1], [2, 2], [0, 0], [3, 3], [4, 4]]\n",
      "[[1, 1], [2, 2], [0, 0], [3, 3], [4, 4]]\n",
      "[[1, 1], [2, 2], [0, 0], [3, 3], [4, 4]]\n",
      "[[1, 1], [2, 2], [0, 0], [3, 3], [4, 4]]\n",
      "[[1, 1], [2, 2], [0, 0], [3, 3], [4, 4]]\n",
      "[[1, 1], [2, 2], [0, 0], [3, 3], [4, 4]]\n",
      "[[1, 1], [2, 2], [0, 0], [3, 3], [4, 4]]\n",
      "[[1, 1], [2, 2], [0, 0], [3, 3], [4, 4]]\n",
      "[[1, 1], [2, 2], [0, 0], [3, 3], [4, 4]]\n",
      "[[1, 1], [2, 2], [0, 0], [3, 3], [4, 4]]\n",
      "[[1, 1], [2, 2], [0, 0], [3, 3], [4, 4]]\n",
      "[[1, 1], [2, 2], [0, 0], [3, 3], [4, 4]]\n",
      "[[1, 1], [2, 2], [0, 0], [3, 3], [4, 4]]\n",
      "[[1, 1], [2, 2], [0, 0], [3, 3], [4, 4]]\n",
      "[[1, 1], [2, 2], [0, 0], [3, 3], [4, 4]]\n",
      "[[1, 1], [2, 2], [0, 0], [3, 3], [4, 4]]\n",
      "[[1, 1], [2, 2], [0, 0], [3, 3], [4, 4]]\n",
      "[[1, 1], [2, 2], [0, 0], [3, 3], [4, 4]]\n",
      "[[1, 1], [2, 2], [0, 0], [3, 3], [4, 4]]\n",
      "[[1, 1], [2, 2], [0, 0], [3, 3], [4, 4]]\n",
      "[[1, 1], [2, 2], [0, 0], [3, 3], [4, 4]]\n",
      "[[1, 1], [2, 2], [0, 0], [3, 3], [4, 4]]\n",
      "[[1, 1], [2, 2], [0, 0], [3, 3], [4, 4]]\n",
      "[[1, 1], [2, 2], [0, 0], [3, 3], [4, 4]]\n",
      "[[1, 1], [2, 2], [0, 0], [3, 3], [4, 4]]\n",
      "[[1, 1], [2, 2], [0, 0], [3, 3], [4, 4]]\n",
      "[[1, 1], [2, 2], [0, 0], [3, 3], [4, 4]]\n",
      "[[1, 1], [2, 2], [0, 0], [3, 3], [4, 4]]\n",
      "[[1, 1], [2, 2], [0, 0], [3, 3], [4, 4]]\n",
      "[[1, 1], [2, 2], [0, 0], [3, 3], [4, 4]]\n",
      "[[1, 1], [2, 2], [0, 0], [3, 3], [4, 4]]\n",
      "[[1, 1], [2, 2], [0, 0], [3, 3], [4, 4]]\n",
      "[[1, 1], [2, 2], [0, 0], [3, 3], [4, 4]]\n",
      "[[1, 1], [2, 2], [0, 0], [3, 3], [4, 4]]\n",
      "[[1, 1], [2, 2], [0, 0], [3, 3], [4, 4]]\n",
      "[[1, 1], [2, 2], [0, 0], [3, 3], [4, 4]]\n",
      "[[1, 1], [2, 2], [0, 0], [3, 3], [4, 4]]\n",
      "[[1, 1], [2, 2], [0, 0], [3, 3], [4, 4]]\n",
      "[[1, 1], [2, 2], [0, 0], [3, 3], [4, 4]]\n",
      "[[1, 1], [2, 2], [0, 0], [3, 3], [4, 4]]\n",
      "[[1, 1], [2, 2], [0, 0], [3, 3], [4, 4]]\n",
      "[[1, 1], [2, 2], [0, 0], [3, 3], [4, 4]]\n",
      "[[1, 1], [2, 2], [0, 0], [3, 3], [4, 4]]\n",
      "[[1, 1], [2, 2], [0, 0], [3, 3], [4, 4]]\n",
      "[[1, 1], [2, 2], [0, 0], [3, 3], [4, 4]]\n",
      "[[1, 1], [2, 2], [0, 0], [3, 3], [4, 4]]\n",
      "[[1, 1], [2, 2], [0, 0], [3, 3], [4, 4]]\n",
      "[[1, 1], [2, 2], [0, 0], [3, 3], [4, 4]]\n",
      "[[1, 1], [2, 2], [0, 0], [3, 3], [4, 4]]\n",
      "[[1, 1], [2, 2], [0, 0], [3, 3], [4, 4]]\n",
      "[[1, 1], [2, 2], [0, 0], [3, 3], [4, 4]]\n",
      "[[1, 1], [2, 2], [0, 0], [3, 3], [4, 4]]\n",
      "[[1, 1], [2, 2], [0, 0], [3, 3], [4, 4]]\n",
      "[[1, 1], [2, 2], [0, 0], [3, 3], [4, 4]]\n",
      "[[1, 1], [2, 2], [0, 0], [3, 3], [4, 4]]\n",
      "[[1, 1], [2, 2], [0, 0], [3, 3], [4, 4]]\n",
      "[[1, 1], [2, 2], [0, 0], [3, 3], [4, 4]]\n",
      "[[1, 1], [2, 2], [0, 0], [3, 3], [4, 4]]\n"
     ]
    }
   ],
   "source": [
    "machine = Machine()\n",
    "for i in range(0,200):\n",
    "    number = random.randint(0,100)\n",
    "    num = machine.command(i%5, number)\n",
    "    machine.response(ACTIONS[i%5](number) == num)"
   ]
  },
  {
   "cell_type": "code",
   "execution_count": null,
   "metadata": {},
   "outputs": [],
   "source": []
  }
 ],
 "metadata": {
  "kernelspec": {
   "display_name": "Python 3",
   "language": "python",
   "name": "python3"
  },
  "language_info": {
   "codemirror_mode": {
    "name": "ipython",
    "version": 3
   },
   "file_extension": ".py",
   "mimetype": "text/x-python",
   "name": "python",
   "nbconvert_exporter": "python",
   "pygments_lexer": "ipython3",
   "version": "3.7.3"
  }
 },
 "nbformat": 4,
 "nbformat_minor": 2
}
