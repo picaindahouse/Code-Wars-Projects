{
 "cells": [
  {
   "cell_type": "code",
   "execution_count": 2,
   "metadata": {},
   "outputs": [],
   "source": [
    "from itertools import combinations\n",
    "import math\n",
    "def length (co1, co2):\n",
    "    zip_object, tim = list(zip(co1,co2)), []\n",
    "    [tim.append((i-x)**2) for i,x in zip_object]\n",
    "    distance = math.sqrt(sum(tim))\n",
    "    return distance\n",
    "def area (kyu):\n",
    "    tam = []\n",
    "    for r,d in [[0,1],[1,2],[0,2]]: tam.append(length(kyu[r],kyu[d]))\n",
    "    p = sum(tam)/2\n",
    "    return round(math.sqrt(p * (p-tam[0]) * (p-tam[1]) * (p-tam[2])),10)"
   ]
  },
  {
   "cell_type": "code",
   "execution_count": 54,
   "metadata": {},
   "outputs": [],
   "source": [
    "def biggest_triang_int(points_list, sphere_center, radius):\n",
    "    tim, pim = [], []\n",
    "    for w in points_list:\n",
    "        l = length(sphere_center,w)\n",
    "        if l < radius: tim.append([w,l])\n",
    "    return tim\n",
    "    sam = [[area(x),list(x)] for x in combinations(tim,3)]\n",
    "    if not sam: return []\n",
    "    blum = [len(sam), max(sam)[0]]\n",
    "    hum = [x for i,x in sam if i == max(sam)[0]]\n",
    "    blum.extend(hum) if len(hum) == 1 else blum.append(sorted(hum))\n",
    "    return blum"
   ]
  },
  {
   "cell_type": "code",
   "execution_count": 55,
   "metadata": {},
   "outputs": [],
   "source": [
    "points_list1 = [[31, -19, 32], [8, 29, 10], [-30, -34, 26], [4, 13, -16], [21, -7, -30], [33, -33, -13], [-3, 24, -31], [-11, -36, -33], [9, 22, 23], [2, -31, 5], [8, 8, -23], [-19, 0, 33], [19, 8, 30], [-14, -27, -1], [6, -22, -21], [-12, 21, -25], [-23, -26, -2], [5, 7, 0], [21, -20, 23], [-25, -22, -17], [32, 29, -8], [30, -16, 13], [7, 19, 23], [-8, 32, 0], [27, 7, 32], [-18, -10, -9], [-23, 27, 14], [-26, 33, -33], [-25, -32, -17], [-4, -8, -4], [9, 4, 2], [-31, -3, 1], [18, -8, -36], [-2, -6, 32], [24, -11, 23], [-34, -3, 24]]\n",
    "sphere_center1 = [30, 67, 63] \n",
    "radius1 = 252"
   ]
  },
  {
   "cell_type": "code",
   "execution_count": 56,
   "metadata": {},
   "outputs": [
    {
     "data": {
      "text/plain": [
       "[[[31, -19, 32], 91.42209798511517],\n",
       " [[8, 29, 10], 68.82586723027906],\n",
       " [[-30, -34, 26], 123.1665539016173],\n",
       " [[4, 13, -16], 99.16148445843275],\n",
       " [[21, -7, -30], 119.18892566006289],\n",
       " [[33, -33, -13], 125.6383699353028],\n",
       " [[-3, 24, -31], 108.5080642164443],\n",
       " [[-11, -36, -33], 146.64924138910504],\n",
       " [[9, 22, 23], 63.76519426771944],\n",
       " [[2, -31, 5], 117.26892171415238],\n",
       " [[8, 8, -23], 106.58799181896617],\n",
       " [[-19, 0, 33], 88.26097665446491],\n",
       " [[19, 8, 30], 68.49087530467106],\n",
       " [[-14, -27, -1], 121.93440859740946],\n",
       " [[6, -22, -21], 124.71166745737946],\n",
       " [[-12, 21, -25], 107.81465577554843],\n",
       " [[-23, -26, -2], 125.23178510266473],\n",
       " [[5, 7, 0], 90.52071586106685],\n",
       " [[21, -20, 23], 96.17692030835673],\n",
       " [[-25, -22, -17], 131.70421405558744],\n",
       " [[32, 29, -8], 80.55432949258531],\n",
       " [[30, -16, 13], 96.89685237405806],\n",
       " [[7, 19, 23], 66.58077800686922],\n",
       " [[-8, 32, 0], 81.47392220827471],\n",
       " [[27, 7, 32], 67.60177512462228],\n",
       " [[-18, -10, -9], 115.83177456984762],\n",
       " [[-23, 27, 14], 82.52272414311103],\n",
       " [[-26, 33, -33], 116.22392180614109],\n",
       " [[-25, -32, -17], 138.6578522839583],\n",
       " [[-4, -8, -4], 106.1602562167217],\n",
       " [[9, 4, 2], 90.17205775626948],\n",
       " [[-31, -3, 1], 111.64676439557037],\n",
       " [[18, -8, -36], 124.77980605851253],\n",
       " [[-2, -6, 32], 85.5219270129012],\n",
       " [[24, -11, 23], 87.86353054595519],\n",
       " [[-34, -3, 24], 102.55242561733974]]"
      ]
     },
     "execution_count": 56,
     "metadata": {},
     "output_type": "execute_result"
    }
   ],
   "source": [
    "biggest_triang_int(points_list1,sphere_center1,radius1)"
   ]
  },
  {
   "cell_type": "code",
   "execution_count": 15,
   "metadata": {},
   "outputs": [
    {
     "data": {
      "text/plain": [
       "23.25085791185009"
      ]
     },
     "execution_count": 15,
     "metadata": {},
     "output_type": "execute_result"
    }
   ],
   "source": [
    "perimeter([[1, 2, -4], [-3, 2, 4], [2, 3, 5]])"
   ]
  },
  {
   "cell_type": "code",
   "execution_count": 11,
   "metadata": {},
   "outputs": [
    {
     "data": {
      "text/plain": [
       "8.94427190999916"
      ]
     },
     "execution_count": 11,
     "metadata": {},
     "output_type": "execute_result"
    }
   ],
   "source": [
    "length([1, 2, -4], [-3, 2, 4])"
   ]
  },
  {
   "cell_type": "code",
   "execution_count": 14,
   "metadata": {},
   "outputs": [],
   "source": [
    "def perimeter(kyu):\n",
    "    return length(kyu[0],kyu[1]) + length(kyu[1],kyu[2]) + length(kyu[0],kyu[2])"
   ]
  },
  {
   "cell_type": "code",
   "execution_count": 16,
   "metadata": {},
   "outputs": [
    {
     "name": "stdout",
     "output_type": "stream",
     "text": [
      "17.5 µs ± 354 ns per loop (mean ± std. dev. of 7 runs, 100000 loops each)\n"
     ]
    }
   ],
   "source": [
    "%timeit perimeter([[1, 2, -4], [-3, 2, 4], [2, 3, 5]])"
   ]
  },
  {
   "cell_type": "code",
   "execution_count": 27,
   "metadata": {},
   "outputs": [],
   "source": [
    "def biggest_triang_int(points_list, sphere_center, radius):\n",
    "    tim, pim = [], []\n",
    "    [tim.append(points_list[w]) if length(sphere_center,points_list[w]) < radius else 1 for w in range(len(points_list))]\n",
    "    sam = [[area(x),list(x)] for x in combinations(tim,3)]\n",
    "    print(sam)\n",
    "    if not sam: return []\n",
    "    blum = [len(sam), max(sam)[0]]\n",
    "    hum = [x for i,x in sam if i == max(sam)[0]]\n",
    "    blum.extend(hum) if len(hum) == 1 else blum.append(sorted(hum))\n",
    "    return blum"
   ]
  },
  {
   "cell_type": "code",
   "execution_count": 17,
   "metadata": {},
   "outputs": [
    {
     "name": "stdout",
     "output_type": "stream",
     "text": [
      "22.4 µs ± 202 ns per loop (mean ± std. dev. of 7 runs, 100000 loops each)\n"
     ]
    }
   ],
   "source": [
    "%timeit area([[1, 2, -4], [-3, 2, 4], [2, 3, 5]])"
   ]
  },
  {
   "cell_type": "code",
   "execution_count": 28,
   "metadata": {},
   "outputs": [
    {
     "name": "stdout",
     "output_type": "stream",
     "text": [
      "[[22.4499443206, [[1, 2, -4], [-3, 2, 4], [2, 3, 5]]], [13.5646599663, [[1, 2, -4], [-3, 2, 4], [-2, -1, 1]]], [22.627416998, [[1, 2, -4], [2, 3, 5], [-2, -1, 1]]], [11.313708499, [[-3, 2, 4], [2, 3, 5], [-2, -1, 1]]]]\n"
     ]
    },
    {
     "data": {
      "text/plain": [
       "[4, 22.627416998, [[1, 2, -4], [2, 3, 5], [-2, -1, 1]]]"
      ]
     },
     "execution_count": 28,
     "metadata": {},
     "output_type": "execute_result"
    }
   ],
   "source": [
    "biggest_triang_int(points_list1,sphere_center1,radius1)"
   ]
  },
  {
   "cell_type": "code",
   "execution_count": null,
   "metadata": {},
   "outputs": [],
   "source": []
  }
 ],
 "metadata": {
  "kernelspec": {
   "display_name": "Python 3",
   "language": "python",
   "name": "python3"
  },
  "language_info": {
   "codemirror_mode": {
    "name": "ipython",
    "version": 3
   },
   "file_extension": ".py",
   "mimetype": "text/x-python",
   "name": "python",
   "nbconvert_exporter": "python",
   "pygments_lexer": "ipython3",
   "version": "3.7.3"
  }
 },
 "nbformat": 4,
 "nbformat_minor": 2
}
