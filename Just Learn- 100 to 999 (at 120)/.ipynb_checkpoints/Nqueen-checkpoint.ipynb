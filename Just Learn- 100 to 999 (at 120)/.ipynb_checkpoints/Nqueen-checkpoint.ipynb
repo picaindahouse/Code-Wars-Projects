{
 "cells": [
  {
   "cell_type": "code",
   "execution_count": null,
   "metadata": {},
   "outputs": [],
   "source": [
    "# Works for most- except for 13/14/.../50\n",
    "def nQueen (n):\n",
    "    tim,s,r = [],0,0\n",
    "    for x in range(n):\n",
    "        if x % 2 == 0: \n",
    "            tim.append(n//2+s)\n",
    "            s+=1\n",
    "        else:\n",
    "            tim.append(r)\n",
    "            r+=1\n",
    "    if check(tim) == False:\n",
    "        print(tim)\n",
    "        tim,s,r = [],0,0\n",
    "        h= list(range(n))\n",
    "        for x in h:\n",
    "            if x%2 == 0:\n",
    "                if len(tim) == n-2 or len(tim) == n-3: tim.append(n//2)\n",
    "                else:\n",
    "                    s+=1\n",
    "                    tim.append(n//2+s)\n",
    "\n",
    "            else:\n",
    "                if len(tim) == 1: tim.append(n//2-1)\n",
    "                else:\n",
    "                    tim.append(r)\n",
    "                    r+=1\n",
    "    return tim"
   ]
  },
  {
   "cell_type": "code",
   "execution_count": null,
   "metadata": {},
   "outputs": [],
   "source": [
    "n = 20"
   ]
  },
  {
   "cell_type": "code",
   "execution_count": null,
   "metadata": {},
   "outputs": [],
   "source": [
    "s = list(range(1,n+1))\n",
    "s"
   ]
  },
  {
   "cell_type": "code",
   "execution_count": null,
   "metadata": {},
   "outputs": [],
   "source": [
    "import random"
   ]
  },
  {
   "cell_type": "code",
   "execution_count": null,
   "metadata": {},
   "outputs": [],
   "source": [
    "s,tim = list(range(1,n+1)),[]"
   ]
  },
  {
   "cell_type": "code",
   "execution_count": null,
   "metadata": {},
   "outputs": [],
   "source": [
    "while len(tim) != n:\n",
    "    h = random.choice(s)\n",
    "    s.remove(h)\n",
    "    tim.append(h)"
   ]
  },
  {
   "cell_type": "code",
   "execution_count": null,
   "metadata": {},
   "outputs": [],
   "source": [
    "s"
   ]
  },
  {
   "cell_type": "code",
   "execution_count": null,
   "metadata": {},
   "outputs": [],
   "source": [
    "q=tim"
   ]
  },
  {
   "cell_type": "code",
   "execution_count": null,
   "metadata": {},
   "outputs": [],
   "source": [
    "check(tim)"
   ]
  },
  {
   "cell_type": "code",
   "execution_count": null,
   "metadata": {},
   "outputs": [],
   "source": [
    "import random\n",
    "def nQueen(n):\n",
    "    while n != 0:\n",
    "        q = []\n",
    "        yo = ['a']\n",
    "        while len(q) != n:\n",
    "            r = random.choice(range(n))\n",
    "            if r not in q: q.append(r)\n",
    "\n",
    "        zim = [[x,0] for x in q]\n",
    "        for i,x in enumerate(q):\n",
    "            for r,y in [z for z in enumerate(q) if z!= (i,x)]:\n",
    "                if r - i == y - x or r - i == x - y or x == y: \n",
    "                    zim[i][1] += 1\n",
    "        if not [y for x,y in zim if y!=0]: return q\n",
    "        pls = max(zim,key = lambda x: x[1])\n",
    "        tim = [[x,0] for x in range(len(q))]\n",
    "        tom = [i for i,x in zim if x == pls[1]][0]\n",
    "        pos = [i for i,x in enumerate(q) if x == tom and i != yo[-1]][0]\n",
    "        yo.append(pos)\n",
    "        for i,x in [(pos,p) for p,t in tim]:\n",
    "            for r,y in [z for z in enumerate(q) if z[0] != q.index(tom)]:\n",
    "                if r - i == y - x or r - i == x - y or  x == y: \n",
    "                    tim[x][1] += 1\n",
    "        hls = min(tim,key = lambda x: x[1])\n",
    "        q[pos] = [x[0] for x in tim if x[1] == hls[1] and x[0] != tom][0]\n"
   ]
  },
  {
   "cell_type": "code",
   "execution_count": null,
   "metadata": {},
   "outputs": [],
   "source": [
    "nQueen(15)"
   ]
  },
  {
   "cell_type": "code",
   "execution_count": null,
   "metadata": {},
   "outputs": [],
   "source": [
    "n = 50\n",
    "cool, plum = list(range(n)), []\n",
    "plum = [1,3]\n",
    "while len(plum) != len(cool):\n",
    "    sam = [y for y in cool if y not in plum and y > plum[-1] + 1 or y not in plum and y < plum[-1] - 1]\n",
    "    if not sam: break\n",
    "    else: plum.append(sam[-1])  "
   ]
  },
  {
   "cell_type": "code",
   "execution_count": null,
   "metadata": {},
   "outputs": [],
   "source": [
    "q = plum"
   ]
  },
  {
   "cell_type": "code",
   "execution_count": null,
   "metadata": {},
   "outputs": [],
   "source": [
    "q = [8,6,9,0,10,1,11,2,12,3,13,4,7,5]\n",
    "zim = [[x,0] for x in q]\n",
    "for i,x in enumerate(q):\n",
    "    for r,y in [z for z in enumerate(q) if z!= (i,x)]:\n",
    "        if r - i == y - x or r - i == x - y: \n",
    "            zim[i][1] += 1\n",
    "zim"
   ]
  },
  {
   "cell_type": "code",
   "execution_count": null,
   "metadata": {},
   "outputs": [],
   "source": [
    "q[q.index(25)],q[q.index(3)] = q[q.index(3)],q[q.index(25)]"
   ]
  },
  {
   "cell_type": "code",
   "execution_count": null,
   "metadata": {},
   "outputs": [],
   "source": [
    "nQueen(48)"
   ]
  },
  {
   "cell_type": "code",
   "execution_count": null,
   "metadata": {},
   "outputs": [],
   "source": [
    "[x for x in range(4,51) if check(nQueen(x)) == False]"
   ]
  },
  {
   "cell_type": "code",
   "execution_count": null,
   "metadata": {},
   "outputs": [],
   "source": [
    "check([8,6,9,0,10,1,11,2,12,3,13,4,7,5])"
   ]
  },
  {
   "cell_type": "code",
   "execution_count": null,
   "metadata": {},
   "outputs": [],
   "source": [
    "       pls = max(zim,key = lambda x: x[1])\n",
    "        tim = [[x,0] for x in range(len(q))]\n",
    "        tom = [i for i,x in zim if x == pls[1]][0]\n",
    "        pos = [i for i,x in enumerate(q) if x == tom and i != yo[-1]][0]\n",
    "        yo.append(pos)\n",
    "        for i,x in [(pos,p) for p,t in tim]:\n",
    "            for r,y in [z for z in enumerate(q) if z[0] != q.index(tom)]:\n",
    "                if r - i == y - x or r - i == x - y or  x == y: \n",
    "                    tim[x][1] += 1\n",
    "        hls = min(tim,key = lambda x: x[1])\n",
    "        q[pos] = [x[0] for x in tim if x[1] == hls[1] and x[0] != tom][0]"
   ]
  },
  {
   "cell_type": "code",
   "execution_count": null,
   "metadata": {},
   "outputs": [],
   "source": [
    "def check (q):\n",
    "    for i,x in enumerate(q):\n",
    "        for r,y in [z for z in enumerate(q) if z!= (i,x)]:\n",
    "            if r - i == y - x or r - i == x - y or x == y: return False\n",
    "    return True"
   ]
  },
  {
   "cell_type": "code",
   "execution_count": null,
   "metadata": {},
   "outputs": [],
   "source": [
    "import random\n",
    "n = 14\n",
    "tim = [1,2]\n",
    "yo = []\n",
    "w = 1\n",
    "while check(tim)!= True or len(tim) != n:\n",
    "    tim = nQueen(8)\n",
    "    count = 0\n",
    "    while len(tim) != n and count != 500:\n",
    "        count += 1\n",
    "        z = random.choice(range(n))\n",
    "        if len(tim) > 2: \n",
    "            if tim[-2] + 1 not in tim and tim[-2] + 1 < n: tim.append(tim[-2]+1)\n",
    "            else: \n",
    "                if z not in tim and z not in [tim[-1] + 1, tim[-1]-1]: tim.append(z)\n",
    "        elif z not in tim and z not in [tim[-1] + 1, tim[-1]-1] : tim.append(z)\n",
    "    print(tim)\n",
    "        \n",
    "    \n",
    "    \n",
    "tim,check(tim)"
   ]
  },
  {
   "cell_type": "code",
   "execution_count": null,
   "metadata": {},
   "outputs": [],
   "source": [
    "len([9, 1, 8, 2, 12, 3, 13, 4, 10, 5, 11, 6, 0, 7])"
   ]
  },
  {
   "cell_type": "code",
   "execution_count": null,
   "metadata": {},
   "outputs": [],
   "source": [
    "[8, 6, 12, 7, 13, 1, 5, 2, 11, 3, 10, 4, 9, 0]"
   ]
  },
  {
   "cell_type": "code",
   "execution_count": null,
   "metadata": {},
   "outputs": [],
   "source": [
    "import random\n",
    "n = 20\n",
    "tim = []\n",
    "tam = [1,2]\n",
    "p = int(n/2)\n",
    "if n%2 != 0: n-=1\n",
    "for x in range(p):\n",
    "    tim.append(99)\n",
    "    tim.append(x)\n",
    "while check(tam)!= True or 99 in tam:\n",
    "    tam = tim.copy()\n",
    "    count = 0\n",
    "    while count != 500:\n",
    "        count += 1\n",
    "        i = random.choice(range(p,n))\n",
    "        if i not in tam:\n",
    "            for w in range(len(tam)):\n",
    "                if tam[w] == 99 and tam[w+1] not in [i+1,i-1] and tam[w-1] not in [i+1,i-1]:\n",
    "                    tam[w] = i\n",
    "                    break   "
   ]
  },
  {
   "cell_type": "code",
   "execution_count": null,
   "metadata": {},
   "outputs": [],
   "source": [
    "tam"
   ]
  },
  {
   "cell_type": "code",
   "execution_count": null,
   "metadata": {},
   "outputs": [],
   "source": [
    "check([11, 0, 12, 1, 8, 2, 9, 3, 13, 4, 10, 5, 7, 6])"
   ]
  },
  {
   "cell_type": "code",
   "execution_count": null,
   "metadata": {},
   "outputs": [],
   "source": []
  }
 ],
 "metadata": {
  "kernelspec": {
   "display_name": "Python 3",
   "language": "python",
   "name": "python3"
  },
  "language_info": {
   "codemirror_mode": {
    "name": "ipython",
    "version": 3
   },
   "file_extension": ".py",
   "mimetype": "text/x-python",
   "name": "python",
   "nbconvert_exporter": "python",
   "pygments_lexer": "ipython3",
   "version": "3.7.3"
  }
 },
 "nbformat": 4,
 "nbformat_minor": 2
}
