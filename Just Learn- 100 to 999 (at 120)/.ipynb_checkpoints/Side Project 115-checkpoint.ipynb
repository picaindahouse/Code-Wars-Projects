{
 "cells": [
  {
   "cell_type": "code",
   "execution_count": 70,
   "metadata": {},
   "outputs": [],
   "source": [
    "# Basically creates a list for each letter\n",
    "# Where every list contains all the words that come after the letter the list belongs to"
   ]
  },
  {
   "cell_type": "code",
   "execution_count": null,
   "metadata": {},
   "outputs": [],
   "source": [
    "def recoverSecret(triplets):\n",
    "    zim = []\n",
    "    [[zim.append(y) for y in x if y not in zim]for x in triplets]\n",
    "    cool = dict(zip(zim,[[] for h in range(len(zim))]))\n",
    "    [[[cool[e].append(w) for w in r[r.index(e)+1:] if w not in cool[e]] for e in r]for r in triplets]\n",
    "    [[[cool[d].append(q) for q in cool[i] if q not in cool[d]] for i in cool[d]] for d in cool]\n",
    "    return ''.join(sorted(cool, key= lambda x: len(cool[x]), reverse=True))"
   ]
  },
  {
   "cell_type": "code",
   "execution_count": null,
   "metadata": {},
   "outputs": [],
   "source": [
    "# The above is the same as below:"
   ]
  },
  {
   "cell_type": "code",
   "execution_count": 60,
   "metadata": {},
   "outputs": [
    {
     "data": {
      "text/plain": [
       "'whatisup'"
      ]
     },
     "execution_count": 60,
     "metadata": {},
     "output_type": "execute_result"
    }
   ],
   "source": [
    "zim = []\n",
    "[[zim.append(y) for y in x if y not in zim]for x in triplets]\n",
    "cool = dict(zip(zim,[[] for h in range(len(zim))]))\n",
    "\n",
    "for r in triplets:\n",
    "    for e in r:\n",
    "        for w in r[r.index(e)+1:]:\n",
    "            if w not in cool[e]:\n",
    "                cool[e].append(w)\n",
    "\n",
    "for d in cool:\n",
    "    for i in cool[d]:\n",
    "        for q in cool[i]:\n",
    "            if q not in cool[d]:\n",
    "                cool[d].append(q)\n",
    "                \n",
    "''.join(sorted(cool, key= lambda x: len(cool[x]), reverse=True))"
   ]
  },
  {
   "cell_type": "code",
   "execution_count": 5,
   "metadata": {},
   "outputs": [],
   "source": [
    "secret = \"whatisup\"\n",
    "triplets = [\n",
    "  ['t','u','p'],\n",
    "  ['w','h','i'],\n",
    "  ['t','s','u'],\n",
    "  ['a','t','s'],\n",
    "  ['h','a','p'],\n",
    "  ['t','i','s'],\n",
    "  ['w','h','s']\n",
    "]"
   ]
  },
  {
   "cell_type": "code",
   "execution_count": 50,
   "metadata": {},
   "outputs": [
    {
     "data": {
      "text/plain": [
       "{'t': [], 'u': [], 'p': [], 'w': [], 'h': [], 'i': [], 's': [], 'a': []}"
      ]
     },
     "execution_count": 50,
     "metadata": {},
     "output_type": "execute_result"
    }
   ],
   "source": [
    "zim = []\n",
    "[[zim.append(y) for y in x if y not in zim]for x in triplets]\n",
    "cool = dict(zip(zim,[[] for h in range(len(zim))]))\n",
    "cool"
   ]
  },
  {
   "cell_type": "code",
   "execution_count": 56,
   "metadata": {},
   "outputs": [
    {
     "data": {
      "text/plain": [
       "{'t': ['u', 'p', 's', 'i'],\n",
       " 'u': ['p'],\n",
       " 'p': [],\n",
       " 'w': ['h', 'i', 's', 'a', 'p', 'u', 't'],\n",
       " 'h': ['i', 'a', 'p', 's', 't', 'u'],\n",
       " 'i': ['s', 'u', 'p'],\n",
       " 's': ['u', 'p'],\n",
       " 'a': ['t', 's', 'p', 'u', 'i']}"
      ]
     },
     "execution_count": 56,
     "metadata": {},
     "output_type": "execute_result"
    }
   ],
   "source": [
    "cool"
   ]
  },
  {
   "cell_type": "code",
   "execution_count": 27,
   "metadata": {},
   "outputs": [
    {
     "data": {
      "text/plain": [
       "0"
      ]
     },
     "execution_count": 27,
     "metadata": {},
     "output_type": "execute_result"
    }
   ],
   "source": [
    "zim.index(['t', 0, []])"
   ]
  },
  {
   "cell_type": "code",
   "execution_count": 26,
   "metadata": {},
   "outputs": [
    {
     "data": {
      "text/plain": [
       "[['t', 0, []],\n",
       " ['u', 0, []],\n",
       " ['p', 0, []],\n",
       " ['w', 0, []],\n",
       " ['h', 0, []],\n",
       " ['i', 0, []],\n",
       " ['s', 0, []],\n",
       " ['a', 0, []]]"
      ]
     },
     "execution_count": 26,
     "metadata": {},
     "output_type": "execute_result"
    }
   ],
   "source": [
    "zim"
   ]
  },
  {
   "cell_type": "code",
   "execution_count": null,
   "metadata": {},
   "outputs": [],
   "source": [
    "    for r in triplets:\n",
    "        for e in r:\n",
    "            for w in r[r.index(e)+1:]:\n",
    "                if w not in cool[e]:\n",
    "                    cool[e].append(w)\n",
    "[[[cool[e].append(w) for w in r[r.index(e)+1:] if w not in cool[e]] for e in r]for r in triplets]"
   ]
  },
  {
   "cell_type": "code",
   "execution_count": null,
   "metadata": {},
   "outputs": [],
   "source": []
  }
 ],
 "metadata": {
  "kernelspec": {
   "display_name": "Python 3",
   "language": "python",
   "name": "python3"
  },
  "language_info": {
   "codemirror_mode": {
    "name": "ipython",
    "version": 3
   },
   "file_extension": ".py",
   "mimetype": "text/x-python",
   "name": "python",
   "nbconvert_exporter": "python",
   "pygments_lexer": "ipython3",
   "version": "3.7.3"
  }
 },
 "nbformat": 4,
 "nbformat_minor": 2
}
