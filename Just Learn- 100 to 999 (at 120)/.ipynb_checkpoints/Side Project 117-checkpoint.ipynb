{
 "cells": [
  {
   "cell_type": "code",
   "execution_count": 59,
   "metadata": {},
   "outputs": [],
   "source": [
    "# This is a rather simple question if we do not have to worry about efficiency"
   ]
  },
  {
   "cell_type": "code",
   "execution_count": null,
   "metadata": {},
   "outputs": [],
   "source": [
    "# Basically- we are creating a list, where the index is the number\n",
    "# And the value at the index is the number of times the number is repeated\n",
    "# Thus we then skip numbes that are repeated more than once"
   ]
  },
  {
   "cell_type": "code",
   "execution_count": 56,
   "metadata": {},
   "outputs": [],
   "source": [
    "def ulam_sequence(u0, u1, n):\n",
    "    # Boom is the main list\n",
    "    # Tom will be the list where we store all the values that are part of ulam\n",
    "    boom, tom, t = [0] * max(u0,u1,n) * 2, [], 0 \n",
    "    # Since we know that u0 and u1 repeat only once- we let them = 1\n",
    "    boom[u0], boom[u1] = 1, 1\n",
    "    \n",
    "    for x in range(n): # repeat n times\n",
    "        \n",
    "        while boom[t] != 1: t += 1 # basically find the next value that repeats only once\n",
    "            \n",
    "        # If the list is too small- make it bigger\n",
    "        if tom and t + tom[-1] >= len(boom): boom.extend([0] * (t+tom[-1]+1 - len(boom)))\n",
    "            \n",
    "        # Add the new value with all other values in tom \n",
    "        # The values that we get from the additions will see their values in the list increase by 1\n",
    "        for w in tom: boom[t + w] += 1\n",
    "            \n",
    "        # Add the new value to tom\n",
    "        tom.append(t)\n",
    "        # and then we start finding the next value by moving to the next value in boom\n",
    "        t += 1\n",
    "        \n",
    "    return tom"
   ]
  },
  {
   "cell_type": "code",
   "execution_count": 101,
   "metadata": {},
   "outputs": [
    {
     "data": {
      "text/plain": [
       "[1, 2, 3, 4, 6, 8, 11, 13, 16, 18, 26, 28, 36, 38, 47, 48, 53, 57, 62, 69]"
      ]
     },
     "execution_count": 101,
     "metadata": {},
     "output_type": "execute_result"
    }
   ],
   "source": [
    "ulam_sequence(1,2,20)"
   ]
  },
  {
   "cell_type": "code",
   "execution_count": 102,
   "metadata": {},
   "outputs": [],
   "source": [
    "# A dictionary way to do the exact same thing as above but makes slightly more sense\n",
    "# However- this method is still slow, so use it as a way to understand what is going on above\n",
    "def ulam_sequence(u0, u1, n):\n",
    "    boom, tom, t = dict(zip(range(max(u0,u1,n) * 2),[0]*(max(u0,u1,n) * 2))), [], 0 \n",
    "    boom[u0], boom[u1] = 1, 1\n",
    "    for x in range(n):\n",
    "        while boom[t] != 1: t += 1\n",
    "        if tom and t + tom[-1] >= len(boom): \n",
    "            for d in range(len(boom),t+tom[-1]+1): boom[d] = 0\n",
    "        for w in tom: boom[t + w] += 1\n",
    "        tom.append(t)\n",
    "        t += 1\n",
    "    return tom"
   ]
  },
  {
   "cell_type": "code",
   "execution_count": 67,
   "metadata": {},
   "outputs": [],
   "source": [
    "u0,u1,n = 1,2,5\n",
    "b = max(u0,u1,n) * 2\n",
    "boom = dict(zip(range(b),[0]*b))"
   ]
  },
  {
   "cell_type": "code",
   "execution_count": 80,
   "metadata": {},
   "outputs": [],
   "source": [
    "for x in range(11,30):\n",
    "    boom[x] = 2"
   ]
  },
  {
   "cell_type": "code",
   "execution_count": 92,
   "metadata": {},
   "outputs": [
    {
     "ename": "KeyError",
     "evalue": "-1",
     "output_type": "error",
     "traceback": [
      "\u001b[1;31m---------------------------------------------------------------------------\u001b[0m",
      "\u001b[1;31mKeyError\u001b[0m                                  Traceback (most recent call last)",
      "\u001b[1;32m<ipython-input-92-86a2b147b4e2>\u001b[0m in \u001b[0;36m<module>\u001b[1;34m\u001b[0m\n\u001b[1;32m----> 1\u001b[1;33m \u001b[0mboom\u001b[0m\u001b[1;33m[\u001b[0m\u001b[1;33m-\u001b[0m\u001b[1;36m1\u001b[0m\u001b[1;33m]\u001b[0m\u001b[1;33m\u001b[0m\u001b[1;33m\u001b[0m\u001b[0m\n\u001b[0m",
      "\u001b[1;31mKeyError\u001b[0m: -1"
     ]
    }
   ],
   "source": []
  },
  {
   "cell_type": "code",
   "execution_count": null,
   "metadata": {},
   "outputs": [],
   "source": []
  }
 ],
 "metadata": {
  "kernelspec": {
   "display_name": "Python 3",
   "language": "python",
   "name": "python3"
  },
  "language_info": {
   "codemirror_mode": {
    "name": "ipython",
    "version": 3
   },
   "file_extension": ".py",
   "mimetype": "text/x-python",
   "name": "python",
   "nbconvert_exporter": "python",
   "pygments_lexer": "ipython3",
   "version": "3.7.3"
  }
 },
 "nbformat": 4,
 "nbformat_minor": 2
}
