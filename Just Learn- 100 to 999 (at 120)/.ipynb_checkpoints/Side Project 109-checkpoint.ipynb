{
 "cells": [
  {
   "cell_type": "code",
   "execution_count": 255,
   "metadata": {},
   "outputs": [],
   "source": [
    "def make_triangle(m,n):\n",
    "    sim = 0\n",
    "    for x in range(1,1000):\n",
    "        sim += x\n",
    "        if (n-m+1) == sim: break\n",
    "        elif (n-m+1) < sim: return ''\n",
    "    Max, pos, simp, z = 2 * x - 1, [0,x-1], 0, [x][0] \n",
    "    tom = [[str(' ') for z in range((Max - (x - (y + 1))))] for y in range(x)]\n",
    "    tom[pos[0]][pos[1]] = str(m)[-1]\n",
    "    while m < n:\n",
    "        if pos[1] == 0 + (x-(pos[0]+1)) + simp and pos[0] != 2* (z-x) :\n",
    "            pos[0] -= 1\n",
    "            pos[1] += 1\n",
    "            \n",
    "        elif pos[0] < x-1: \n",
    "            pos[0] += 1\n",
    "            pos[1] += 1\n",
    "            \n",
    "        elif pos[0] == x-1 and pos[1] != 0 + (x-(pos[0]+1)): pos[1] -= 2\n",
    "            \n",
    "        m += 1\n",
    "        if tom[pos[0]][pos[1]] == ' ':  tom[pos[0]][pos[1]] = str(m)[-1]\n",
    "        else:           \n",
    "            simp, x, pos[0] = simp + 3, x - 1, pos[0] + 2\n",
    "            tom[pos[0]][pos[1]] = str(m)[-1]\n",
    "    [z.insert(0,'\\n') for z in tom if z != tom[0]]\n",
    "    return ''.join([''.join(z) for z in tom])"
   ]
  },
  {
   "cell_type": "code",
   "execution_count": null,
   "metadata": {},
   "outputs": [],
   "source": [
    "tom"
   ]
  },
  {
   "cell_type": "code",
   "execution_count": null,
   "metadata": {},
   "outputs": [],
   "source": [
    "tom = '''\n",
    "---1\n",
    "  9 2\n",
    " 8 0 3\n",
    "7 6 5 4'''"
   ]
  },
  {
   "cell_type": "code",
   "execution_count": 256,
   "metadata": {},
   "outputs": [
    {
     "data": {
      "text/plain": [
       "'        1\\n       4 2\\n      3 5 3\\n     2 9 6 4\\n    1 8 0 7 5\\n   0 7 5 1 8 6\\n  9 6 4 3 2 9 7\\n 8 5 4 3 2 1 0 8\\n7 6 5 4 3 2 1 0 9'"
      ]
     },
     "execution_count": 256,
     "metadata": {},
     "output_type": "execute_result"
    }
   ],
   "source": [
    "make_triangle(1,45)"
   ]
  },
  {
   "cell_type": "code",
   "execution_count": null,
   "metadata": {},
   "outputs": [],
   "source": [
    "20 - 6"
   ]
  },
  {
   "cell_type": "code",
   "execution_count": null,
   "metadata": {},
   "outputs": [],
   "source": [
    "y = 1\n",
    "Max = 7\n",
    "x = 4\n",
    "2 * (y+1) - 1 + (Max - (2 * (y+1) - 1))//2"
   ]
  },
  {
   "cell_type": "code",
   "execution_count": null,
   "metadata": {},
   "outputs": [],
   "source": [
    "Max - (x - (y + 1))"
   ]
  },
  {
   "cell_type": "code",
   "execution_count": null,
   "metadata": {},
   "outputs": [],
   "source": [
    "x"
   ]
  },
  {
   "cell_type": "code",
   "execution_count": null,
   "metadata": {},
   "outputs": [],
   "source": [
    "y"
   ]
  },
  {
   "cell_type": "code",
   "execution_count": 189,
   "metadata": {},
   "outputs": [
    {
     "data": {
      "text/plain": [
       "45"
      ]
     },
     "execution_count": 189,
     "metadata": {},
     "output_type": "execute_result"
    }
   ],
   "source": [
    "130-86+1"
   ]
  },
  {
   "cell_type": "code",
   "execution_count": null,
   "metadata": {},
   "outputs": [],
   "source": []
  }
 ],
 "metadata": {
  "kernelspec": {
   "display_name": "Python 3",
   "language": "python",
   "name": "python3"
  },
  "language_info": {
   "codemirror_mode": {
    "name": "ipython",
    "version": 3
   },
   "file_extension": ".py",
   "mimetype": "text/x-python",
   "name": "python",
   "nbconvert_exporter": "python",
   "pygments_lexer": "ipython3",
   "version": "3.7.3"
  }
 },
 "nbformat": 4,
 "nbformat_minor": 2
}
