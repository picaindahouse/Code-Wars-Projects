{
 "cells": [
  {
   "cell_type": "code",
   "execution_count": null,
   "metadata": {},
   "outputs": [],
   "source": [
    "# There will be a coefficient near each x, unless the coefficient equals 1 or -1.\n",
    "# There will be an exponent near each x, unless the exponent equals 0 or 1.\n",
    "# All exponents will be greater or equal to zero"
   ]
  },
  {
   "cell_type": "code",
   "execution_count": 182,
   "metadata": {},
   "outputs": [],
   "source": [
    "def differentiate(tom, point):\n",
    "    tam, tim = [x.split('-') for x in tom.split('+')], []\n",
    "    for x in tam:\n",
    "        for i,y in enumerate(x):\n",
    "            if 'x' not in y: tim.append(0)\n",
    "            else: \n",
    "                if '^' not in y: \n",
    "                    if i == 0: tim.append(int(y.replace('x',''))) if len(y) > 1 else tim.append(int(y.replace('x','1')))\n",
    "                    else: tim.append(-int(y.replace('x',''))) if len(y) > 1 else tim.append(-int(y.replace('x','1')))\n",
    "                else:\n",
    "                    yo = y.find('^')\n",
    "                    pls, sim = y[0:yo + 1] + str(int(y[yo + 1:]) -1), int(y[yo + 1:])\n",
    "                    if i == 0: tim.append(sim * eval(pls.replace('^','**').replace('x','*'+str(point)))) if y.find('x') != 0 else tim.append(sim * eval(pls.replace('^','**').replace('x',str(point)))) \n",
    "                    else: tim.append(sim * -eval(pls.replace('^','**').replace('x','*('+str(point)+')'))) if y.find('x') != 0 else tim.append(sim * -eval(pls.replace('^','**').replace('x','('+str(point)+')')))\n",
    "    return sum(tim)"
   ]
  },
  {
   "cell_type": "code",
   "execution_count": 183,
   "metadata": {},
   "outputs": [
    {
     "data": {
      "text/plain": [
       "-6045"
      ]
     },
     "execution_count": 183,
     "metadata": {},
     "output_type": "execute_result"
    }
   ],
   "source": [
    "differentiate(\"-7x^5+22x^4-55x^3-94x^2+87x-56\", -3)"
   ]
  },
  {
   "cell_type": "code",
   "execution_count": 176,
   "metadata": {},
   "outputs": [],
   "source": [
    "tom = \"-7x^5+22x^4-55x^3-94x^2+87x-56\"\n",
    "tim = []"
   ]
  },
  {
   "cell_type": "code",
   "execution_count": 177,
   "metadata": {},
   "outputs": [
    {
     "data": {
      "text/plain": [
       "[['', '7x^5'], ['22x^4', '55x^3', '94x^2'], ['87x', '56']]"
      ]
     },
     "execution_count": 177,
     "metadata": {},
     "output_type": "execute_result"
    }
   ],
   "source": [
    "tam = [x.split('-') for x in tom.split('+')]\n",
    "tam"
   ]
  },
  {
   "cell_type": "code",
   "execution_count": 178,
   "metadata": {},
   "outputs": [
    {
     "name": "stdout",
     "output_type": "stream",
     "text": [
      "7*-3**4\n",
      "55*-3**2\n",
      "94*-3**1\n"
     ]
    }
   ],
   "source": [
    "point = -3\n",
    "for x in tam:\n",
    "    for i,y in enumerate(x):\n",
    "        if 'x' not in y: tim.append(0)\n",
    "        else: \n",
    "            if '^' not in y: \n",
    "                if i == 0: tim.append(int(y.replace('x',''))) if len(y) > 1 else tim.append(int(y.replace('x','1')))\n",
    "                else: \n",
    "                    print(y)\n",
    "                    tim.append(-int(y.replace('x',''))) if len(y) > 1 else tim.append(-int(y.replace('x','1')))\n",
    "            else:\n",
    "                yo = y.find('^')\n",
    "                pls, sim = y[0:yo + 1] + str(int(y[yo + 1:]) -1), int(y[yo + 1:])\n",
    "                if i == 0: tim.append(sim * eval(pls.replace('^','**').replace('x','*('+str(point)+')'))) if y.find('x') != 0 else tim.append(sim * eval(pls.replace('^','**').replace('x','*('+str(point)+')'))) \n",
    "                else: \n",
    "                    print(pls.replace('^','**').replace('x','*'+str(point)))\n",
    "                    tim.append(sim * -eval(pls.replace('^','**').replace('x','*('+str(point)+')'))) if y.find('x') != 0 else tim.append(sim * -eval(pls.replace('^','**').replace('x','*('+str(point)+')')))"
   ]
  },
  {
   "cell_type": "code",
   "execution_count": 179,
   "metadata": {},
   "outputs": [
    {
     "data": {
      "text/plain": [
       "[0, -2835, -2376, -1485, 564, 87, 0]"
      ]
     },
     "execution_count": 179,
     "metadata": {},
     "output_type": "execute_result"
    }
   ],
   "source": [
    "tim"
   ]
  },
  {
   "cell_type": "code",
   "execution_count": 180,
   "metadata": {},
   "outputs": [
    {
     "data": {
      "text/plain": [
       "-6045"
      ]
     },
     "execution_count": 180,
     "metadata": {},
     "output_type": "execute_result"
    }
   ],
   "source": [
    "sum(tim)"
   ]
  },
  {
   "cell_type": "code",
   "execution_count": 143,
   "metadata": {},
   "outputs": [
    {
     "data": {
      "text/plain": [
       "81"
      ]
     },
     "execution_count": 143,
     "metadata": {},
     "output_type": "execute_result"
    }
   ],
   "source": [
    "(-3) ** 4"
   ]
  },
  {
   "cell_type": "code",
   "execution_count": 172,
   "metadata": {},
   "outputs": [
    {
     "ename": "SyntaxError",
     "evalue": "can't assign to literal (<ipython-input-172-5ef834cffd3b>, line 2)",
     "output_type": "error",
     "traceback": [
      "\u001b[1;36m  File \u001b[1;32m\"<ipython-input-172-5ef834cffd3b>\"\u001b[1;36m, line \u001b[1;32m2\u001b[0m\n\u001b[1;33m    '5*-7x^4' = (-40 * (-3)**4)\u001b[0m\n\u001b[1;37m                               ^\u001b[0m\n\u001b[1;31mSyntaxError\u001b[0m\u001b[1;31m:\u001b[0m can't assign to literal\n"
     ]
    }
   ],
   "source": [
    "tom = \"-7x^5+22x^4-55x^3-94x^2+87x-56\"\n",
    "'5*-7x^4' = (-40 * (-3)**4)"
   ]
  },
  {
   "cell_type": "code",
   "execution_count": 175,
   "metadata": {},
   "outputs": [
    {
     "data": {
      "text/plain": [
       "-3240"
      ]
     },
     "execution_count": 175,
     "metadata": {},
     "output_type": "execute_result"
    }
   ],
   "source": [
    "(-3)**4*-40"
   ]
  },
  {
   "cell_type": "code",
   "execution_count": null,
   "metadata": {},
   "outputs": [],
   "source": []
  }
 ],
 "metadata": {
  "kernelspec": {
   "display_name": "Python 3",
   "language": "python",
   "name": "python3"
  },
  "language_info": {
   "codemirror_mode": {
    "name": "ipython",
    "version": 3
   },
   "file_extension": ".py",
   "mimetype": "text/x-python",
   "name": "python",
   "nbconvert_exporter": "python",
   "pygments_lexer": "ipython3",
   "version": "3.7.3"
  }
 },
 "nbformat": 4,
 "nbformat_minor": 2
}
