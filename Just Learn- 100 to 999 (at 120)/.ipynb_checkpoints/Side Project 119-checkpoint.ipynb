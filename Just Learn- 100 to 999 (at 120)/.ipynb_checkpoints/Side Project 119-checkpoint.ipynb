{
 "cells": [
  {
   "cell_type": "code",
   "execution_count": null,
   "metadata": {},
   "outputs": [],
   "source": [
    "# A pretty Great Kyu\n",
    "# Learnt quite alot\n",
    "# The following link is the basis for everything: \n",
    "# https://medium.com/@aiswaryamathur/find-the-n-th-permutation-of-an-ordered-string-using-factorial-number-system-9c81e34ab0c8"
   ]
  },
  {
   "cell_type": "code",
   "execution_count": 37,
   "metadata": {},
   "outputs": [],
   "source": [
    "from math import factorial\n",
    "stack = [\n",
    "    \"AC\", \"2C\", \"3C\", \"4C\", \"5C\", \"6C\", \"7C\", \"8C\", \"9C\", \"TC\", \"JC\", \"QC\", \"KC\",\n",
    "    \"AD\", \"2D\", \"3D\", \"4D\", \"5D\", \"6D\", \"7D\", \"8D\", \"9D\", \"TD\", \"JD\", \"QD\", \"KD\",\n",
    "    \"AH\", \"2H\", \"3H\", \"4H\", \"5H\", \"6H\", \"7H\", \"8H\", \"9H\", \"TH\", \"JH\", \"QH\", \"KH\",\n",
    "    \"AS\", \"2S\", \"3S\", \"4S\", \"5S\", \"6S\", \"7S\", \"8S\", \"9S\", \"TS\", \"JS\", \"QS\", \"KS\"\n",
    "]\n",
    "numeral = ' ABCDEFGHIJKLMNOPQRSTUVWXYZ'\n",
    "\n",
    "class PlayingCards:\n",
    "    \n",
    "    def encode(self, message):\n",
    "        tom,tim,s,deck,new = [],1,0, stack.copy(),[]\n",
    "        \n",
    "        try: \n",
    "            # Turns the message into numbers with base 27:\n",
    "            for i,x in enumerate(message): s += numeral.index(x) * len(numeral) ** (len(message)-i-1)\n",
    "        except ValueError: return None\n",
    "        # Turning the number into factoral numeral base:\n",
    "        while s>=1:\n",
    "            tom.insert(0,s%tim)\n",
    "            s = s//tim\n",
    "            tim += 1\n",
    "        \n",
    "        if len(tom) >52: return None\n",
    "        \n",
    "        # Add in all the numbers that do not change in position:\n",
    "        while len(tom)!= 52:tom.insert(0,0)\n",
    "            \n",
    "        # Create a new deck based on the positioning in tom\n",
    "        for x in tom:\n",
    "            new.append(deck[x])\n",
    "            deck.remove(deck[x])\n",
    "            \n",
    "        # Nice\n",
    "        return new\n",
    "\n",
    "    def decode(self, new):\n",
    "        yo,haha,plus,deck = [],0,[],stack.copy()\n",
    "        if len(new) != 52: return None\n",
    "        \n",
    "        try:\n",
    "            # Figure out what the factorial numeral base:\n",
    "            while new:\n",
    "                if yo or deck.index(new[0]) != 0: yo.append(deck.index(new[0]))\n",
    "                deck.remove(new[0])\n",
    "                new.remove(new[0])\n",
    "        except ValueError: return None\n",
    "        \n",
    "        # Find the number with 27 base:\n",
    "        for i,x in enumerate(yo): haha += x * factorial(len(yo) - i - 1)\n",
    "        for x in range(100000000):\n",
    "            if (27**x) > haha: break  \n",
    "                \n",
    "        # Convert the number into the message     \n",
    "        for e in reversed(range(x)):\n",
    "            for b in range(27):\n",
    "                if (b + 1) * (27**e) > haha:\n",
    "                    haha -= b*(27**e)\n",
    "                    plus.append(b)\n",
    "                    break\n",
    "                    \n",
    "        # Combine the message:\n",
    "        return ''.join([numeral[x] for x in plus])"
   ]
  },
  {
   "cell_type": "code",
   "execution_count": 38,
   "metadata": {},
   "outputs": [],
   "source": [
    "t = PlayingCards()"
   ]
  },
  {
   "cell_type": "code",
   "execution_count": 43,
   "metadata": {},
   "outputs": [
    {
     "data": {
      "text/plain": [
       "'I WANT TO GO HOME'"
      ]
     },
     "execution_count": 43,
     "metadata": {},
     "output_type": "execute_result"
    }
   ],
   "source": [
    "t.decode(t.encode('I WANT TO GO HOME'))"
   ]
  },
  {
   "cell_type": "code",
   "execution_count": null,
   "metadata": {},
   "outputs": [],
   "source": []
  }
 ],
 "metadata": {
  "kernelspec": {
   "display_name": "Python 3",
   "language": "python",
   "name": "python3"
  },
  "language_info": {
   "codemirror_mode": {
    "name": "ipython",
    "version": 3
   },
   "file_extension": ".py",
   "mimetype": "text/x-python",
   "name": "python",
   "nbconvert_exporter": "python",
   "pygments_lexer": "ipython3",
   "version": "3.7.3"
  }
 },
 "nbformat": 4,
 "nbformat_minor": 2
}
