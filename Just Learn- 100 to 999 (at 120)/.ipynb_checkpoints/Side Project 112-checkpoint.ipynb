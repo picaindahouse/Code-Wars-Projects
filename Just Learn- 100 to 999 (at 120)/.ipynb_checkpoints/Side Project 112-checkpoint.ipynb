{
 "cells": [
  {
   "cell_type": "code",
   "execution_count": null,
   "metadata": {},
   "outputs": [],
   "source": [
    "CHARS=\"0123456789ABCDEFGHIJKLMNOPQRSTUVWXYZabcdefghijklmnopqrstuvwxyz\"\n",
    "\n",
    "def convert_10 (number, base):\n",
    "    sam,tim = [x for x in number],0\n",
    "    for i,x in enumerate(reversed(sam)): tim += CHARS.index(x)* (base**i)\n",
    "    return tim\n",
    "\n",
    "def is_polydivisible(n, b):\n",
    "    tom = []\n",
    "    for i,x in enumerate(n,1):\n",
    "        tom.append(x)\n",
    "        tim = ''.join(tom)\n",
    "        if convert_10(tim,b) % i == 0: pass\n",
    "        else: return False\n",
    "    return True\n",
    "\n",
    "def get_polydivisible(n, b):\n",
    "    yo, cool, tom = ['0'], 0, [0]\n",
    "    while len(yo) < n:\n",
    "        cool += 1\n",
    "        tom[0] = cool\n",
    "        if cool > b-1:\n",
    "            cool = 0\n",
    "            for y in range(len(tom)):\n",
    "                if tom[y] > b-1:\n",
    "                    tom[y] = 0\n",
    "                    if len(tom) == y + 1:  tom.append(1)\n",
    "                    else: tom[y + 1] = tom[y+1]+1\n",
    "        z = ''.join([CHARS[e] for e in reversed(tom)])\n",
    "        if is_polydivisible(z, b):  yo.append(z)\n",
    "    return yo[-1]"
   ]
  },
  {
   "cell_type": "code",
   "execution_count": 74,
   "metadata": {},
   "outputs": [],
   "source": [
    "# Extra\n",
    "def is_it_ever (n):\n",
    "    simple = []\n",
    "    for x in range(1,62): \n",
    "        if is_polydivisible(str(n),x): simple.append(x)\n",
    "    return simple"
   ]
  },
  {
   "cell_type": "code",
   "execution_count": null,
   "metadata": {},
   "outputs": [],
   "source": [
    "123220//6 *10"
   ]
  },
  {
   "cell_type": "code",
   "execution_count": null,
   "metadata": {},
   "outputs": [],
   "source": [
    "sim = 123220"
   ]
  },
  {
   "cell_type": "code",
   "execution_count": null,
   "metadata": {},
   "outputs": [],
   "source": [
    "sam = [int(x) for x in str(sim)]\n",
    "sam"
   ]
  },
  {
   "cell_type": "code",
   "execution_count": null,
   "metadata": {},
   "outputs": [],
   "source": [
    "tim = 0\n",
    "for i,x in enumerate(reversed(sam)):\n",
    "    tim += x * (6**i)\n",
    "tim"
   ]
  },
  {
   "cell_type": "code",
   "execution_count": null,
   "metadata": {},
   "outputs": [],
   "source": [
    "convert_10(123,6)"
   ]
  },
  {
   "cell_type": "code",
   "execution_count": null,
   "metadata": {},
   "outputs": [],
   "source": [
    "def is_polydivisible(n, b):\n",
    "    tom = []\n",
    "    for i,x in enumerate(str(n),1):\n",
    "        tom.append(x)\n",
    "        tim = int(''.join(tom))\n",
    "        if convert_10(int(tim),b) % i == 0: pass\n",
    "        else: return False\n",
    "    return True"
   ]
  },
  {
   "cell_type": "code",
   "execution_count": null,
   "metadata": {},
   "outputs": [],
   "source": [
    "is_polydivisible(sim,6)"
   ]
  },
  {
   "cell_type": "code",
   "execution_count": null,
   "metadata": {},
   "outputs": [],
   "source": [
    "def get_polydivisible(n, b):\n",
    "    yo = [0]\n",
    "    for z in range(1,1000000):\n",
    "        if is_polydivisible(z, b): \n",
    "            yo.append(z)\n",
    "            if len(yo) == n: return yo[-1]\n",
    "        "
   ]
  },
  {
   "cell_type": "code",
   "execution_count": 3,
   "metadata": {},
   "outputs": [
    {
     "data": {
      "text/plain": [
       "'A'"
      ]
     },
     "execution_count": 3,
     "metadata": {},
     "output_type": "execute_result"
    }
   ],
   "source": [
    "CHARS=\"0123456789ABCDEFGHIJKLMNOPQRSTUVWXYZabcdefghijklmnopqrstuvwxyz\"\n",
    "CHARS[10]"
   ]
  },
  {
   "cell_type": "code",
   "execution_count": null,
   "metadata": {},
   "outputs": [],
   "source": [
    "get_polydivisible(42,16)"
   ]
  },
  {
   "cell_type": "code",
   "execution_count": null,
   "metadata": {},
   "outputs": [],
   "source": [
    "convert_10(11,16)"
   ]
  },
  {
   "cell_type": "code",
   "execution_count": null,
   "metadata": {},
   "outputs": [],
   "source": [
    "'5A' - 16 * 5"
   ]
  },
  {
   "cell_type": "code",
   "execution_count": null,
   "metadata": {},
   "outputs": [],
   "source": [
    "16 * 5 + 10"
   ]
  },
  {
   "cell_type": "code",
   "execution_count": 4,
   "metadata": {},
   "outputs": [],
   "source": [
    "def convert_10 (number, base):\n",
    "    sam,tim = [x for x in number],0\n",
    "    for i,x in enumerate(reversed(sam)): tim += CHARS.index(x)* (base**i)\n",
    "    return tim"
   ]
  },
  {
   "cell_type": "code",
   "execution_count": 5,
   "metadata": {},
   "outputs": [
    {
     "data": {
      "text/plain": [
       "10"
      ]
     },
     "execution_count": 5,
     "metadata": {},
     "output_type": "execute_result"
    }
   ],
   "source": [
    "CHARS.index('A')"
   ]
  },
  {
   "cell_type": "code",
   "execution_count": 6,
   "metadata": {},
   "outputs": [
    {
     "data": {
      "text/plain": [
       "90"
      ]
     },
     "execution_count": 6,
     "metadata": {},
     "output_type": "execute_result"
    }
   ],
   "source": [
    "convert_10('5A',16)"
   ]
  },
  {
   "cell_type": "code",
   "execution_count": 7,
   "metadata": {},
   "outputs": [],
   "source": [
    "def is_polydivisible(n, b):\n",
    "    tom = []\n",
    "    for i,x in enumerate(n,1):\n",
    "        tom.append(x)\n",
    "        tim = ''.join(tom)\n",
    "        if convert_10(tim,b) % i == 0: pass\n",
    "        else: return False\n",
    "    return True"
   ]
  },
  {
   "cell_type": "code",
   "execution_count": 8,
   "metadata": {},
   "outputs": [
    {
     "data": {
      "text/plain": [
       "True"
      ]
     },
     "execution_count": 8,
     "metadata": {},
     "output_type": "execute_result"
    }
   ],
   "source": [
    "is_polydivisible('42',16)"
   ]
  },
  {
   "cell_type": "code",
   "execution_count": 61,
   "metadata": {},
   "outputs": [],
   "source": [
    "def get_polydivisible(n, b):\n",
    "    yo, cool, tom = ['0'], 0, [0]\n",
    "    while len(yo) < n:\n",
    "        cool += 1\n",
    "        tom[0] = cool\n",
    "        if cool > b-1:\n",
    "            cool = 0\n",
    "            for y in range(len(tom)):\n",
    "                if tom[y] > b-1:\n",
    "                    tom[y] = 0\n",
    "                    if len(tom) == y + 1:  tom.append(1)\n",
    "                    else: tom[y + 1] = tom[y+1]+1\n",
    "        z = ''.join([CHARS[e] for e in reversed(tom)])\n",
    "        if is_polydivisible(z, b): \n",
    "            yo.append(z)\n",
    "    return yo[-1]"
   ]
  },
  {
   "cell_type": "code",
   "execution_count": 62,
   "metadata": {},
   "outputs": [
    {
     "data": {
      "text/plain": [
       "'42'"
      ]
     },
     "execution_count": 62,
     "metadata": {},
     "output_type": "execute_result"
    }
   ],
   "source": [
    "get_polydivisible(42, 16)"
   ]
  },
  {
   "cell_type": "code",
   "execution_count": 27,
   "metadata": {},
   "outputs": [
    {
     "data": {
      "text/plain": [
       "[15, 5]"
      ]
     },
     "execution_count": 27,
     "metadata": {},
     "output_type": "execute_result"
    }
   ],
   "source": [
    "cool,tom = 0,[0]\n",
    "for z in range(100):\n",
    "    cool += 1\n",
    "    tom[0] = cool\n",
    "    if cool > 16:\n",
    "        cool = 0\n",
    "        for y in range(len(tom)):\n",
    "            if tom[y] > 16:\n",
    "                tom[y] = 0\n",
    "                if len(tom) == y + 1:  tom.append(1)\n",
    "                else: tom[y + 1] = tom[y+1]+1\n",
    "tom"
   ]
  },
  {
   "cell_type": "code",
   "execution_count": 31,
   "metadata": {},
   "outputs": [
    {
     "data": {
      "text/plain": [
       "57"
      ]
     },
     "execution_count": 31,
     "metadata": {},
     "output_type": "execute_result"
    }
   ],
   "source": [
    "convert_10('3C',15)"
   ]
  },
  {
   "cell_type": "code",
   "execution_count": null,
   "metadata": {},
   "outputs": [],
   "source": [
    "''.join([CHARS[e] for e in reversed(tom)])"
   ]
  },
  {
   "cell_type": "code",
   "execution_count": 17,
   "metadata": {},
   "outputs": [
    {
     "data": {
      "text/plain": [
       "'G'"
      ]
     },
     "execution_count": 17,
     "metadata": {},
     "output_type": "execute_result"
    }
   ],
   "source": [
    "CHARS[16]"
   ]
  },
  {
   "cell_type": "code",
   "execution_count": 35,
   "metadata": {},
   "outputs": [],
   "source": [
    "zim = ['0', '1', '2', '3', '4', '5', '6', '7', '8', '9', 'A', 'B', 'C', 'D', 'E', 'F', 'G', '10', '12', '14', '16', '18', '1A', '1C', '1E', '1G', '20', '22', '24', '26', '28', '2A', '2C', '2E', '2G', '30', '32', '34', '36', '38', '3A', '3C']"
   ]
  },
  {
   "cell_type": "code",
   "execution_count": 36,
   "metadata": {},
   "outputs": [
    {
     "data": {
      "text/plain": [
       "[True,\n",
       " True,\n",
       " True,\n",
       " True,\n",
       " True,\n",
       " True,\n",
       " True,\n",
       " True,\n",
       " True,\n",
       " True,\n",
       " True,\n",
       " True,\n",
       " True,\n",
       " True,\n",
       " True,\n",
       " True,\n",
       " True,\n",
       " True,\n",
       " True,\n",
       " True,\n",
       " True,\n",
       " True,\n",
       " True,\n",
       " True,\n",
       " True,\n",
       " True,\n",
       " True,\n",
       " True,\n",
       " True,\n",
       " True,\n",
       " True,\n",
       " True,\n",
       " True,\n",
       " True,\n",
       " True,\n",
       " True,\n",
       " True,\n",
       " True,\n",
       " True,\n",
       " True,\n",
       " True,\n",
       " True]"
      ]
     },
     "execution_count": 36,
     "metadata": {},
     "output_type": "execute_result"
    }
   ],
   "source": [
    "[is_polydivisible(q,16) for q in zim]"
   ]
  },
  {
   "cell_type": "code",
   "execution_count": 54,
   "metadata": {},
   "outputs": [
    {
     "data": {
      "text/plain": [
       "'9'"
      ]
     },
     "execution_count": 54,
     "metadata": {},
     "output_type": "execute_result"
    }
   ],
   "source": [
    "CHARS[9]"
   ]
  },
  {
   "cell_type": "code",
   "execution_count": 75,
   "metadata": {},
   "outputs": [
    {
     "data": {
      "text/plain": [
       "[4, 10, 16, 22, 28, 34, 40, 46, 52, 58]"
      ]
     },
     "execution_count": 75,
     "metadata": {},
     "output_type": "execute_result"
    }
   ],
   "source": [
    "is_it_ever(942)"
   ]
  },
  {
   "cell_type": "code",
   "execution_count": 67,
   "metadata": {},
   "outputs": [
    {
     "data": {
      "text/plain": [
       "62"
      ]
     },
     "execution_count": 67,
     "metadata": {},
     "output_type": "execute_result"
    }
   ],
   "source": [
    "len(CHARS)"
   ]
  },
  {
   "cell_type": "code",
   "execution_count": null,
   "metadata": {},
   "outputs": [],
   "source": []
  }
 ],
 "metadata": {
  "kernelspec": {
   "display_name": "Python 3",
   "language": "python",
   "name": "python3"
  },
  "language_info": {
   "codemirror_mode": {
    "name": "ipython",
    "version": 3
   },
   "file_extension": ".py",
   "mimetype": "text/x-python",
   "name": "python",
   "nbconvert_exporter": "python",
   "pygments_lexer": "ipython3",
   "version": "3.7.3"
  }
 },
 "nbformat": 4,
 "nbformat_minor": 2
}
