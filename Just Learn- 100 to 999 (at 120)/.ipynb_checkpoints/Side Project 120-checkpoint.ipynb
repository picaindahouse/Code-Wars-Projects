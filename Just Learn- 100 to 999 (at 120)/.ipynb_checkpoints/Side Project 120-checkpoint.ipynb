{
 "cells": [
  {
   "cell_type": "code",
   "execution_count": null,
   "metadata": {},
   "outputs": [],
   "source": [
    "# Figure out why the top one works and the bottom one does not!!!"
   ]
  },
  {
   "cell_type": "code",
   "execution_count": null,
   "metadata": {},
   "outputs": [],
   "source": [
    "from itertools import count\n",
    "from math import floor\n",
    "from decimal import Decimal \n",
    "\n",
    "#for finding sum upto nth element of arithmetic prograssion starting with a with different d\n",
    "def find_sum(a, d, n):     \n",
    "    return int(Decimal(n / 2) * Decimal((2 * a) + ((n - 1) * d)))\n",
    "\n",
    "#for finding nth term of arithmetic prograssion \n",
    "def term(a, d, n):\n",
    "    return a + (d * (n - 1))\n",
    "\n",
    "#for solvinng quadratic equation\n",
    "def solve_quadratic(a, b, c):\n",
    "    return floor((-b + ((b ** 2) - (4 * a * c)) ** .5) / (2 * a))\n",
    "\n",
    "#for finding nth value of seq 123456789101112.....\n",
    "def extract(n):\n",
    "    passed = 0\n",
    "    for i in count(1):\n",
    "        k = 9 * (10 ** (i - 1)) * i\n",
    "        if passed + k >= n:\n",
    "            return str(int(10 ** (i - 1) + (n - passed) // i))[int(n - passed) % i]\n",
    "        passed += k       \n",
    "\n",
    "def solve(n):     \n",
    "    n, start, passed = n-1, 1, 0\n",
    "    for i in count(1):\n",
    "        k = 9 * 10 ** (i - 1)\n",
    "        sum_ = find_sum(start, i, k)\n",
    "    \n",
    "        if passed + sum_ >= n:\n",
    "            p = solve_quadratic(i, 2 * start - i, -((n - passed) * 2)) #a, b, c of quad eq\n",
    "            q = passed + find_sum(start, i, p) \n",
    "            return int(extract(n - q))\n",
    "\n",
    "        start = term(start, i, k) + (i + 1)\n",
    "        passed += sum_\n",
    "\n",
    "\n",
    "solve(int(1e100))"
   ]
  },
  {
   "cell_type": "code",
   "execution_count": 673,
   "metadata": {},
   "outputs": [],
   "source": [
    "from math import sqrt\n",
    "def solve (n):\n",
    "    for x in range(1,1000000000000):\n",
    "        base = 1 if x == 1 else top + x\n",
    "        top = 9 if x == 1 else x * (int(x * '9') - int('1' + ('0' * (x-1)))) + 1 + top + x -1\n",
    "        \n",
    "        tim = int((((top - base)/x + 1) * (top + base))/2)\n",
    "        if n-tim == 0: return 9\n",
    "        elif n - tim < 0: break\n",
    "        n -= tim\n",
    "        \n",
    "    print(n,base,x)\n",
    "    #################################################################################################\n",
    "    yo = x * base - base ** 2 - 2 * x * n\n",
    "    a,b,c = 1,x,yo\n",
    "    u = int((-b + sqrt(b**2 - 4*a*c))//(2*a))\n",
    "    print(u)\n",
    "    while (u-base)%x != 0: u-=1\n",
    "    print(u)\n",
    "    z = n - int((((((u - base )/x)+1) * (u+base))/2))\n",
    "    #################################################################################################\n",
    "    if z == 0: z = u\n",
    "    \n",
    "    h = 1\n",
    "    while h!=0:\n",
    "        b,t = int('1' + '0' * (h-1)), int('9' * h)\n",
    "        if z - h*(t-b+1) >0: z -= h*(t-b+1)\n",
    "        else: break\n",
    "        h += 1\n",
    "   \n",
    "    e = -1\n",
    "    while z%h != 0:\n",
    "        z += 1\n",
    "        e -= 1\n",
    "    z = z/h - 1 + int('1'+ '0' * (h-1))\n",
    "    print(z)\n",
    "    return (int(str(int(z))[e]))"
   ]
  },
  {
   "cell_type": "code",
   "execution_count": 675,
   "metadata": {
    "scrolled": false
   },
   "outputs": [
    {
     "name": "stdout",
     "output_type": "stream",
     "text": [
      "961060605655050498 788888898 9\n",
      "4233371770\n",
      "4233371769\n",
      "856223744\n",
      "107481650.0\n"
     ]
    },
    {
     "data": {
      "text/plain": [
       "8"
      ]
     },
     "execution_count": 675,
     "metadata": {},
     "output_type": "execute_result"
    }
   ],
   "source": [
    "solve(999999999999999993)"
   ]
  },
  {
   "cell_type": "code",
   "execution_count": 666,
   "metadata": {},
   "outputs": [
    {
     "data": {
      "text/plain": [
       "17299090886378880960"
      ]
     },
     "execution_count": 666,
     "metadata": {},
     "output_type": "execute_result"
    }
   ],
   "source": [
    "(4233371769 - 788888898 + 9 ) * (4233371769 + 788888898)"
   ]
  },
  {
   "cell_type": "code",
   "execution_count": 681,
   "metadata": {},
   "outputs": [
    {
     "data": {
      "text/plain": [
       "True"
      ]
     },
     "execution_count": 681,
     "metadata": {},
     "output_type": "execute_result"
    }
   ],
   "source": [
    "17299090886378880960/18 == int(9.610606047988268e+17)"
   ]
  },
  {
   "cell_type": "code",
   "execution_count": 680,
   "metadata": {},
   "outputs": [
    {
     "data": {
      "text/plain": [
       "856223746"
      ]
     },
     "execution_count": 680,
     "metadata": {},
     "output_type": "execute_result"
    }
   ],
   "source": [
    "961060605655050498 - int(9.610606047988268e+17)"
   ]
  },
  {
   "cell_type": "code",
   "execution_count": 547,
   "metadata": {},
   "outputs": [],
   "source": [
    "u,base,x = 4233371769, 788888898, 9"
   ]
  },
  {
   "cell_type": "code",
   "execution_count": 548,
   "metadata": {},
   "outputs": [
    {
     "data": {
      "text/plain": [
       "961060604798826752"
      ]
     },
     "execution_count": 548,
     "metadata": {},
     "output_type": "execute_result"
    }
   ],
   "source": [
    "int((((((u - base )/x)+1) * (u+base)/2)))"
   ]
  },
  {
   "cell_type": "code",
   "execution_count": 549,
   "metadata": {},
   "outputs": [
    {
     "data": {
      "text/plain": [
       "999999999999999993"
      ]
     },
     "execution_count": 549,
     "metadata": {},
     "output_type": "execute_result"
    }
   ],
   "source": [
    "961060604798826752+38939394344949495+856223746"
   ]
  },
  {
   "cell_type": "code",
   "execution_count": 551,
   "metadata": {},
   "outputs": [],
   "source": [
    "yo = x * base - base ** 2 - 2 * x * n\n",
    "a,b,c = 1,x,yo\n",
    "u = int((-b + sqrt(b**2 - 4*a*c))//(2*a))\n",
    "while (u-base)%x != 0: u-=1\n",
    "z = n - int((((((u - base )/x)+1) * (u+base)/2)))"
   ]
  },
  {
   "cell_type": "code",
   "execution_count": 552,
   "metadata": {},
   "outputs": [
    {
     "data": {
      "text/plain": [
       "856223746"
      ]
     },
     "execution_count": 552,
     "metadata": {},
     "output_type": "execute_result"
    }
   ],
   "source": [
    "z"
   ]
  },
  {
   "cell_type": "code",
   "execution_count": 553,
   "metadata": {},
   "outputs": [
    {
     "data": {
      "text/plain": [
       "788888898"
      ]
     },
     "execution_count": 553,
     "metadata": {},
     "output_type": "execute_result"
    }
   ],
   "source": [
    "base"
   ]
  },
  {
   "cell_type": "code",
   "execution_count": 554,
   "metadata": {},
   "outputs": [
    {
     "data": {
      "text/plain": [
       "7100000082"
      ]
     },
     "execution_count": 554,
     "metadata": {},
     "output_type": "execute_result"
    }
   ],
   "source": [
    "9*base"
   ]
  },
  {
   "cell_type": "code",
   "execution_count": 555,
   "metadata": {},
   "outputs": [
    {
     "data": {
      "text/plain": [
       "622345693387654404"
      ]
     },
     "execution_count": 555,
     "metadata": {},
     "output_type": "execute_result"
    }
   ],
   "source": [
    "base**2"
   ]
  },
  {
   "cell_type": "code",
   "execution_count": 560,
   "metadata": {},
   "outputs": [
    {
     "data": {
      "text/plain": [
       "17299090901790908964"
      ]
     },
     "execution_count": 560,
     "metadata": {},
     "output_type": "execute_result"
    }
   ],
   "source": [
    "2*9*n"
   ]
  },
  {
   "cell_type": "code",
   "execution_count": 561,
   "metadata": {},
   "outputs": [
    {
     "data": {
      "text/plain": [
       "17921436595178563368"
      ]
     },
     "execution_count": 561,
     "metadata": {},
     "output_type": "execute_result"
    }
   ],
   "source": [
    "622345693387654404+17299090901790908964"
   ]
  },
  {
   "cell_type": "code",
   "execution_count": 562,
   "metadata": {},
   "outputs": [
    {
     "data": {
      "text/plain": [
       "-17921436588078563286"
      ]
     },
     "execution_count": 562,
     "metadata": {},
     "output_type": "execute_result"
    }
   ],
   "source": [
    "7100000082-17921436595178563368"
   ]
  },
  {
   "cell_type": "code",
   "execution_count": 559,
   "metadata": {},
   "outputs": [
    {
     "data": {
      "text/plain": [
       "-17921436588078563286"
      ]
     },
     "execution_count": 559,
     "metadata": {},
     "output_type": "execute_result"
    }
   ],
   "source": [
    "yo"
   ]
  },
  {
   "cell_type": "code",
   "execution_count": 563,
   "metadata": {},
   "outputs": [
    {
     "data": {
      "text/plain": [
       "8466743550.640603"
      ]
     },
     "execution_count": 563,
     "metadata": {},
     "output_type": "execute_result"
    }
   ],
   "source": [
    "sqrt(b**2 - 4*a*c)"
   ]
  },
  {
   "cell_type": "code",
   "execution_count": 570,
   "metadata": {},
   "outputs": [
    {
     "data": {
      "text/plain": [
       "71685746352314245120"
      ]
     },
     "execution_count": 570,
     "metadata": {},
     "output_type": "execute_result"
    }
   ],
   "source": [
    "int(8466743550.640603*8466743550.640603)"
   ]
  },
  {
   "cell_type": "code",
   "execution_count": 565,
   "metadata": {},
   "outputs": [
    {
     "data": {
      "text/plain": [
       "71685746352314253225"
      ]
     },
     "execution_count": 565,
     "metadata": {},
     "output_type": "execute_result"
    }
   ],
   "source": [
    "b**2 - 4*a*c"
   ]
  },
  {
   "cell_type": "code",
   "execution_count": 571,
   "metadata": {},
   "outputs": [
    {
     "data": {
      "text/plain": [
       "8466743550.640603"
      ]
     },
     "execution_count": 571,
     "metadata": {},
     "output_type": "execute_result"
    }
   ],
   "source": [
    "sqrt(71685746352314253225)"
   ]
  },
  {
   "cell_type": "code",
   "execution_count": 572,
   "metadata": {},
   "outputs": [
    {
     "data": {
      "text/plain": [
       "8466743550.640603"
      ]
     },
     "execution_count": 572,
     "metadata": {},
     "output_type": "execute_result"
    }
   ],
   "source": [
    "sqrt(71685746352314245120)"
   ]
  },
  {
   "cell_type": "code",
   "execution_count": null,
   "metadata": {},
   "outputs": [],
   "source": []
  }
 ],
 "metadata": {
  "kernelspec": {
   "display_name": "Python 3",
   "language": "python",
   "name": "python3"
  },
  "language_info": {
   "codemirror_mode": {
    "name": "ipython",
    "version": 3
   },
   "file_extension": ".py",
   "mimetype": "text/x-python",
   "name": "python",
   "nbconvert_exporter": "python",
   "pygments_lexer": "ipython3",
   "version": "3.7.3"
  }
 },
 "nbformat": 4,
 "nbformat_minor": 2
}
