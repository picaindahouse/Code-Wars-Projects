{
 "cells": [
  {
   "cell_type": "code",
   "execution_count": 75,
   "metadata": {},
   "outputs": [],
   "source": [
    "# Given a sentence encrypt it by replacing the first letter of each word with its ASCII number and switching the 2nd and last letters"
   ]
  },
  {
   "cell_type": "code",
   "execution_count": 77,
   "metadata": {},
   "outputs": [],
   "source": [
    "# Look below for a cleaner code"
   ]
  },
  {
   "cell_type": "code",
   "execution_count": 18,
   "metadata": {},
   "outputs": [],
   "source": [
    "tim = 'grateful'"
   ]
  },
  {
   "cell_type": "code",
   "execution_count": 19,
   "metadata": {},
   "outputs": [
    {
     "data": {
      "text/plain": [
       "'g'"
      ]
     },
     "execution_count": 19,
     "metadata": {},
     "output_type": "execute_result"
    }
   ],
   "source": [
    "tim[0]"
   ]
  },
  {
   "cell_type": "code",
   "execution_count": 21,
   "metadata": {},
   "outputs": [
    {
     "data": {
      "text/plain": [
       "'atefu'"
      ]
     },
     "execution_count": 21,
     "metadata": {},
     "output_type": "execute_result"
    }
   ],
   "source": [
    "tim[2:7]"
   ]
  },
  {
   "cell_type": "code",
   "execution_count": 23,
   "metadata": {},
   "outputs": [
    {
     "data": {
      "text/plain": [
       "'l'"
      ]
     },
     "execution_count": 23,
     "metadata": {},
     "output_type": "execute_result"
    }
   ],
   "source": [
    "tim[7]"
   ]
  },
  {
   "cell_type": "code",
   "execution_count": 45,
   "metadata": {},
   "outputs": [],
   "source": [
    "tam = 'I'\n",
    "tum = 'in'"
   ]
  },
  {
   "cell_type": "code",
   "execution_count": 48,
   "metadata": {},
   "outputs": [
    {
     "data": {
      "text/plain": [
       "'n'"
      ]
     },
     "execution_count": 48,
     "metadata": {},
     "output_type": "execute_result"
    }
   ],
   "source": [
    "tum[1:]"
   ]
  },
  {
   "cell_type": "code",
   "execution_count": 79,
   "metadata": {},
   "outputs": [
    {
     "data": {
      "text/plain": [
       "'<built-in function ord>'"
      ]
     },
     "execution_count": 79,
     "metadata": {},
     "output_type": "execute_result"
    }
   ],
   "source": [
    "str(ord) # Gives you ascii number- str(ord('letter')) = number & str(chr(number)) = 'letter'"
   ]
  },
  {
   "cell_type": "code",
   "execution_count": 80,
   "metadata": {},
   "outputs": [
    {
     "data": {
      "text/plain": [
       "'97'"
      ]
     },
     "execution_count": 80,
     "metadata": {},
     "output_type": "execute_result"
    }
   ],
   "source": [
    "str(ord('a'))"
   ]
  },
  {
   "cell_type": "code",
   "execution_count": 63,
   "metadata": {},
   "outputs": [],
   "source": [
    "def wordify (word):\n",
    "    x = len(word)\n",
    "    if x == 0:\n",
    "        return word\n",
    "    elif x == 1 or x == 2:\n",
    "        return str(ord(word[0])) + word[1:]            \n",
    "    return str(ord(word[0])) + word[x-1]+ word[2:(x-1)] + word[1]"
   ]
  },
  {
   "cell_type": "code",
   "execution_count": 64,
   "metadata": {},
   "outputs": [
    {
     "data": {
      "text/plain": [
       "'116mi'"
      ]
     },
     "execution_count": 64,
     "metadata": {},
     "output_type": "execute_result"
    }
   ],
   "source": [
    "wordify('tim')"
   ]
  },
  {
   "cell_type": "code",
   "execution_count": 57,
   "metadata": {},
   "outputs": [],
   "source": [
    "def encrypt_this (word):\n",
    "    return ' '.join(wordify(x) for x in timothy.split())"
   ]
  },
  {
   "cell_type": "code",
   "execution_count": null,
   "metadata": {},
   "outputs": [],
   "source": [
    "def wordify (word):\n",
    "    x = len(word)\n",
    "    if x == 0:\n",
    "        return word\n",
    "    elif x == 1 or x == 2:\n",
    "        return str(ord(word[0])) + word[1:]\n",
    "    return str(ord(word[0])) + word[x-1]+ word[2:(x-1)] + word[1]\n",
    "def encrypt_this (word):\n",
    "    return ' '.join(wordify(x) for x in timothy.split())"
   ]
  },
  {
   "cell_type": "code",
   "execution_count": 53,
   "metadata": {},
   "outputs": [],
   "source": [
    "timothy = 'i Hate this'"
   ]
  },
  {
   "cell_type": "code",
   "execution_count": 58,
   "metadata": {},
   "outputs": [
    {
     "data": {
      "text/plain": [
       "'105 72eta 116sih'"
      ]
     },
     "execution_count": 58,
     "metadata": {},
     "output_type": "execute_result"
    }
   ],
   "source": [
    "encrypt_this(timothy)"
   ]
  },
  {
   "cell_type": "code",
   "execution_count": 81,
   "metadata": {},
   "outputs": [],
   "source": [
    "# The above code works- but the wordify code can be a lot cleaner!!!\n",
    "# Below- wordify & process_word do the exact same thing"
   ]
  },
  {
   "cell_type": "code",
   "execution_count": null,
   "metadata": {},
   "outputs": [],
   "source": [
    "def wordify (word):\n",
    "    x = len(word)\n",
    "    if x == 0:\n",
    "        return word\n",
    "    elif x == 1 or x == 2:\n",
    "        return str(ord(word[0])) + word[1:]\n",
    "    return str(ord(word[0])) + word[x-1]+ word[2:(x-1)] + word[1]"
   ]
  },
  {
   "cell_type": "code",
   "execution_count": 71,
   "metadata": {},
   "outputs": [],
   "source": [
    "def process_word(word):\n",
    "    return str(ord(word[0])) if len(word) > 0 else '' + ((word[-1] + word[2:-1] + word[1]) if len(word) > 2 else word[1:])"
   ]
  },
  {
   "cell_type": "code",
   "execution_count": null,
   "metadata": {},
   "outputs": [],
   "source": [
    "# First- when trying to get the last word use -1 and not the x- method i used above:\n",
    "def wordify (word):\n",
    "    if len(word) == 0:\n",
    "        return word\n",
    "    elif x == 1 or x == 2:\n",
    "        return str(ord(word[0])) + word[1:]\n",
    "    return str(ord(word[0])) + word[-1]+ word[2:-1] + word[1]"
   ]
  },
  {
   "cell_type": "code",
   "execution_count": 82,
   "metadata": {},
   "outputs": [],
   "source": [
    "# Next Combine the if statements for x==1 or x==2 with the main code:\n",
    "def wordify (word):\n",
    "    if len(word) == 0:\n",
    "        return word\n",
    "    return str(ord(word[0])) + ((word[-1]+ word[2:-1] + word[1]) if len(word) > 2 else word[1:])\n",
    "#Note for this to work it is important to bracket up the whole thing- so that the if statement only applies to everything \n",
    "# after the first letter"
   ]
  },
  {
   "cell_type": "code",
   "execution_count": 85,
   "metadata": {},
   "outputs": [],
   "source": [
    "# Finally combine the len(word) == 0 with the first part of the code:\n",
    "def wordify (word):\n",
    "    return (str(ord(word[0])) if len(word) > 0 else word) + ((word[-1]+ word[2:-1] + word[1]) if len(word) > 2 else word[1:])\n",
    "# Note when working with multiple sections with different if and else statements- best to use brackets\n",
    "# Should only have one return in a line"
   ]
  },
  {
   "cell_type": "code",
   "execution_count": 86,
   "metadata": {},
   "outputs": [
    {
     "data": {
      "text/plain": [
       "'116ymothi'"
      ]
     },
     "execution_count": 86,
     "metadata": {},
     "output_type": "execute_result"
    }
   ],
   "source": [
    "wordify('timothy')"
   ]
  },
  {
   "cell_type": "code",
   "execution_count": 87,
   "metadata": {},
   "outputs": [],
   "source": [
    "# Thus full new code:\n",
    "def wordify (word):\n",
    "    return (str(ord(word[0])) if len(word) > 0 else word) + ((word[-1]+ word[2:-1] + word[1]) if len(word) > 2 else word[1:])\n",
    "def encrypt_this (word):\n",
    "    return ' '.join(wordify(x) for x in word.split())"
   ]
  },
  {
   "cell_type": "code",
   "execution_count": null,
   "metadata": {},
   "outputs": [],
   "source": []
  }
 ],
 "metadata": {
  "kernelspec": {
   "display_name": "Python 3",
   "language": "python",
   "name": "python3"
  },
  "language_info": {
   "codemirror_mode": {
    "name": "ipython",
    "version": 3
   },
   "file_extension": ".py",
   "mimetype": "text/x-python",
   "name": "python",
   "nbconvert_exporter": "python",
   "pygments_lexer": "ipython3",
   "version": "3.7.3"
  }
 },
 "nbformat": 4,
 "nbformat_minor": 2
}
