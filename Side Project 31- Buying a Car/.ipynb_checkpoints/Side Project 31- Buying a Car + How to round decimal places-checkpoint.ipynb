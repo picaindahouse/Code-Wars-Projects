{
 "cells": [
  {
   "cell_type": "code",
   "execution_count": 34,
   "metadata": {},
   "outputs": [],
   "source": [
    "# Given the price of an old car, new car, how much one is going to save per month and the devaluation of a car monthly\n",
    "# Return [months take to buy new car, leftover]\n",
    "# Also every two months the percent increases by 0.5%"
   ]
  },
  {
   "cell_type": "code",
   "execution_count": null,
   "metadata": {},
   "outputs": [],
   "source": [
    "# Ik just before I said 5 steps only- but this kind of codes obv are going to be quite big"
   ]
  },
  {
   "cell_type": "code",
   "execution_count": 17,
   "metadata": {},
   "outputs": [
    {
     "data": {
      "text/plain": [
       "True"
      ]
     },
     "execution_count": 17,
     "metadata": {},
     "output_type": "execute_result"
    }
   ],
   "source": [
    "0%2 == 0"
   ]
  },
  {
   "cell_type": "code",
   "execution_count": 19,
   "metadata": {},
   "outputs": [
    {
     "name": "stdout",
     "output_type": "stream",
     "text": [
      "boom\n"
     ]
    }
   ],
   "source": [
    "tom = 7\n",
    "if tom%7 == 0 and tom != 7:\n",
    "    print ('cool')\n",
    "else:\n",
    "    print ('boom')"
   ]
  },
  {
   "cell_type": "code",
   "execution_count": 22,
   "metadata": {},
   "outputs": [
    {
     "name": "stdout",
     "output_type": "stream",
     "text": [
      "6\n",
      "766.1581208250009\n"
     ]
    }
   ],
   "source": [
    "oldcar = 2000\n",
    "newcar = 8000\n",
    "save= 0\n",
    "percent = 1.5\n",
    "money = save + oldcar\n",
    "time = 0\n",
    "while money < newcar:\n",
    "    time = time + 1\n",
    "    if time%2 == 0 and time!=0:\n",
    "        percent = percent + 0.5\n",
    "    oldcar = (oldcar/100) * (100-percent)\n",
    "    newcar = (newcar/100) * (100-percent)\n",
    "    save = save + 1000\n",
    "    money = save + oldcar\n",
    "print(time)\n",
    "print(money-newcar)"
   ]
  },
  {
   "cell_type": "code",
   "execution_count": 27,
   "metadata": {},
   "outputs": [
    {
     "data": {
      "text/plain": [
       "766"
      ]
     },
     "execution_count": 27,
     "metadata": {},
     "output_type": "execute_result"
    }
   ],
   "source": [
    "int(766.1)  # Int rounds down always"
   ]
  },
  {
   "cell_type": "code",
   "execution_count": 31,
   "metadata": {},
   "outputs": [
    {
     "data": {
      "text/plain": [
       "766"
      ]
     },
     "execution_count": 31,
     "metadata": {},
     "output_type": "execute_result"
    }
   ],
   "source": [
    "round(766.5) # Round rounds up and down as we are taught in maths"
   ]
  },
  {
   "cell_type": "code",
   "execution_count": 32,
   "metadata": {},
   "outputs": [],
   "source": [
    "def nbMonths (oldcar, newcar, save, percent):\n",
    "    saved= 0\n",
    "    money = saved + oldcar\n",
    "    time = 0\n",
    "    while money < newcar:\n",
    "        time = time + 1\n",
    "        if time%2 == 0 and time!=0:\n",
    "            percent = percent + 0.5\n",
    "        oldcar = (oldcar/100) * (100-percent)\n",
    "        newcar = (newcar/100) * (100-percent)\n",
    "        saved = saved + save\n",
    "        money = saved + oldcar\n",
    "    return [time, round(money-newcar)]"
   ]
  },
  {
   "cell_type": "code",
   "execution_count": 33,
   "metadata": {},
   "outputs": [
    {
     "data": {
      "text/plain": [
       "[6, 766]"
      ]
     },
     "execution_count": 33,
     "metadata": {},
     "output_type": "execute_result"
    }
   ],
   "source": [
    "nbMonths(2000,8000,1000,1.5)"
   ]
  },
  {
   "cell_type": "code",
   "execution_count": null,
   "metadata": {},
   "outputs": [],
   "source": []
  }
 ],
 "metadata": {
  "kernelspec": {
   "display_name": "Python 3",
   "language": "python",
   "name": "python3"
  },
  "language_info": {
   "codemirror_mode": {
    "name": "ipython",
    "version": 3
   },
   "file_extension": ".py",
   "mimetype": "text/x-python",
   "name": "python",
   "nbconvert_exporter": "python",
   "pygments_lexer": "ipython3",
   "version": "3.7.3"
  }
 },
 "nbformat": 4,
 "nbformat_minor": 2
}
