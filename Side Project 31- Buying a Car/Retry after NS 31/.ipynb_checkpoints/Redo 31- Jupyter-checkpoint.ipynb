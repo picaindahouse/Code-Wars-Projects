{
 "cells": [
  {
   "cell_type": "code",
   "execution_count": 297,
   "metadata": {},
   "outputs": [],
   "source": [
    "def nbMonths(startPriceOld, startPriceNew, savingperMonth, percentLossByMonth):\n",
    "    money = startPriceOld\n",
    "    time = 0 \n",
    "    while money < startPriceNew:\n",
    "        time = time + 1\n",
    "        saved = savingperMonth * time\n",
    "        percentLossByMonth = (percentLossByMonth + 0.5) if time%2 == 0 else percentLossByMonth\n",
    "        startPriceNew = startPriceNew/100 * (100 - percentLossByMonth)\n",
    "        startPriceOld = startPriceOld/100 * (100 - percentLossByMonth)\n",
    "        money = startPriceOld + saved\n",
    "    return [time, round(money - startPriceNew)]"
   ]
  },
  {
   "cell_type": "code",
   "execution_count": 296,
   "metadata": {},
   "outputs": [
    {
     "data": {
      "text/plain": [
       "[6, 766]"
      ]
     },
     "execution_count": 296,
     "metadata": {},
     "output_type": "execute_result"
    }
   ],
   "source": [
    "nbMonths(2000, 8000, 1000, 1.5) "
   ]
  },
  {
   "cell_type": "code",
   "execution_count": 291,
   "metadata": {},
   "outputs": [],
   "source": [
    "startPriceOld, startPriceNew, savingperMonth, percentLossByMonth = 2000, 8000, 1000, 1.5"
   ]
  },
  {
   "cell_type": "code",
   "execution_count": 292,
   "metadata": {},
   "outputs": [
    {
     "data": {
      "text/plain": [
       "[6, 766]"
      ]
     },
     "execution_count": 292,
     "metadata": {},
     "output_type": "execute_result"
    }
   ],
   "source": [
    "money = 0\n",
    "time = 0 \n",
    "while money < startPriceNew:\n",
    "    time = time + 1\n",
    "    saved = 1000 * time\n",
    "    percentLossByMonth = (percentLossByMonth + 0.5) if time%2 == 0 else percentLossByMonth\n",
    "    startPriceNew = startPriceNew/100 * (100 - percentLossByMonth)\n",
    "    startPriceOld = startPriceOld/100 * (100 - percentLossByMonth)\n",
    "    money = startPriceOld + saved\n",
    "    diff = money - startPriceNew\n",
    "[time, round(diff)]"
   ]
  },
  {
   "cell_type": "code",
   "execution_count": 289,
   "metadata": {},
   "outputs": [
    {
     "data": {
      "text/plain": [
       "7"
      ]
     },
     "execution_count": 289,
     "metadata": {},
     "output_type": "execute_result"
    }
   ],
   "source": [
    "round(7.4)"
   ]
  },
  {
   "cell_type": "code",
   "execution_count": null,
   "metadata": {},
   "outputs": [],
   "source": []
  }
 ],
 "metadata": {
  "kernelspec": {
   "display_name": "Python 3",
   "language": "python",
   "name": "python3"
  },
  "language_info": {
   "codemirror_mode": {
    "name": "ipython",
    "version": 3
   },
   "file_extension": ".py",
   "mimetype": "text/x-python",
   "name": "python",
   "nbconvert_exporter": "python",
   "pygments_lexer": "ipython3",
   "version": "3.7.3"
  }
 },
 "nbformat": 4,
 "nbformat_minor": 2
}
