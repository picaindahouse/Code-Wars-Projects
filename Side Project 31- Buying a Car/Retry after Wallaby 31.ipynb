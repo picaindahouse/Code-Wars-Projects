{
 "cells": [
  {
   "cell_type": "code",
   "execution_count": 1,
   "metadata": {},
   "outputs": [],
   "source": [
    "# Given the price of an old car, new car, how much one is going to save per month and the devaluation of a car monthly\n",
    "# Return [months take to buy new car, leftover]\n",
    "# Also every two months the percent increases by 0.5%"
   ]
  },
  {
   "cell_type": "code",
   "execution_count": 11,
   "metadata": {},
   "outputs": [],
   "source": [
    "def buycar (oldcar, newcar, save, percent):\n",
    "    time = 0\n",
    "    total = oldcar  \n",
    "    while total < newcar:\n",
    "        time = time + 1\n",
    "        if time%2 == 0 and time != 0:\n",
    "            percent = percent + 0.5\n",
    "        oldcar = (oldcar/100) * (100-percent)\n",
    "        newcar = (newcar/100) * (100-percent)\n",
    "        total = oldcar + save*time\n",
    "    return [time, round(total-newcar)]"
   ]
  },
  {
   "cell_type": "code",
   "execution_count": 12,
   "metadata": {},
   "outputs": [
    {
     "data": {
      "text/plain": [
       "[6, 766]"
      ]
     },
     "execution_count": 12,
     "metadata": {},
     "output_type": "execute_result"
    }
   ],
   "source": [
    "buycar(2000,8000,1000,1.5)"
   ]
  },
  {
   "cell_type": "code",
   "execution_count": null,
   "metadata": {},
   "outputs": [],
   "source": []
  }
 ],
 "metadata": {
  "kernelspec": {
   "display_name": "Python 3",
   "language": "python",
   "name": "python3"
  },
  "language_info": {
   "codemirror_mode": {
    "name": "ipython",
    "version": 3
   },
   "file_extension": ".py",
   "mimetype": "text/x-python",
   "name": "python",
   "nbconvert_exporter": "python",
   "pygments_lexer": "ipython3",
   "version": "3.7.3"
  }
 },
 "nbformat": 4,
 "nbformat_minor": 2
}
