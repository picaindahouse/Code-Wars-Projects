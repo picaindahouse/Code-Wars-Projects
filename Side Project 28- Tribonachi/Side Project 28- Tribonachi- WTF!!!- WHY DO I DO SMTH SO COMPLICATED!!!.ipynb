{
 "cells": [
  {
   "cell_type": "code",
   "execution_count": null,
   "metadata": {},
   "outputs": [],
   "source": [
    "# Given a list of three numbers add the numbers and append the sum and the append the sum of the next three numbers\n",
    "# This means given ([1,1,1],5) = [1,1,1,3,5]"
   ]
  },
  {
   "cell_type": "code",
   "execution_count": null,
   "metadata": {},
   "outputs": [],
   "source": [
    "tom = [1,1,1]"
   ]
  },
  {
   "cell_type": "code",
   "execution_count": null,
   "metadata": {},
   "outputs": [],
   "source": [
    "[x for i,x in enumerate(tom) if i in [5-1,5-2,5-3]]"
   ]
  },
  {
   "cell_type": "code",
   "execution_count": null,
   "metadata": {},
   "outputs": [],
   "source": [
    "def add_last_3 (List):\n",
    "    n = len(List)\n",
    "    return sum([x for i,x in enumerate(List) if i in [n-1,n-2,n-3]])"
   ]
  },
  {
   "cell_type": "code",
   "execution_count": null,
   "metadata": {},
   "outputs": [],
   "source": [
    "add_last_3([1,1,1,2])"
   ]
  },
  {
   "cell_type": "code",
   "execution_count": null,
   "metadata": {},
   "outputs": [],
   "source": [
    "def add_last_3 (List):\n",
    "    n = len(List)\n",
    "    return sum([x for i,x in enumerate(List) if i in [n-1,n-2,n-3]])\n",
    "\n",
    "def tribonacci (List, n):\n",
    "    if n == 0:\n",
    "        return []\n",
    "    elif n in [1,2]:\n",
    "        if n == 1:\n",
    "            del List [1:3]\n",
    "            return List\n",
    "        else:\n",
    "            del List [2:3]\n",
    "            return List\n",
    "    else: \n",
    "        while len(List)!= n:\n",
    "            List.append(add_last_3(List))\n",
    "        return List"
   ]
  },
  {
   "cell_type": "code",
   "execution_count": null,
   "metadata": {},
   "outputs": [],
   "source": [
    "tribonacci([1,2,3],2)"
   ]
  },
  {
   "cell_type": "code",
   "execution_count": 1,
   "metadata": {},
   "outputs": [],
   "source": [
    "# Above was my method- IDK WHY!!!\n",
    "# Use List[ : ] more often!!!\n",
    "# Below is the simpler method"
   ]
  },
  {
   "cell_type": "code",
   "execution_count": 2,
   "metadata": {},
   "outputs": [
    {
     "data": {
      "text/plain": [
       "[3, 4, 5]"
      ]
     },
     "execution_count": 2,
     "metadata": {},
     "output_type": "execute_result"
    }
   ],
   "source": [
    "# First of all:\n",
    "[1,2,3,4,5][-3:]"
   ]
  },
  {
   "cell_type": "code",
   "execution_count": 3,
   "metadata": {},
   "outputs": [
    {
     "data": {
      "text/plain": [
       "12"
      ]
     },
     "execution_count": 3,
     "metadata": {},
     "output_type": "execute_result"
    }
   ],
   "source": [
    "sum([1,2,3,4,5][-3:])   # 3+4+5 = 12"
   ]
  },
  {
   "cell_type": "code",
   "execution_count": 4,
   "metadata": {},
   "outputs": [],
   "source": [
    "def tom (List,n):\n",
    "    while len(List) < n:          # You use < instead of != so that when n = 0,1,2 they just skip the while!!!\n",
    "        List.append(sum(List[-3:]))\n",
    "    return List"
   ]
  },
  {
   "cell_type": "code",
   "execution_count": 7,
   "metadata": {},
   "outputs": [
    {
     "data": {
      "text/plain": [
       "[1, 1, 1, 3, 5]"
      ]
     },
     "execution_count": 7,
     "metadata": {},
     "output_type": "execute_result"
    }
   ],
   "source": [
    "tom([1,1,1],5)"
   ]
  },
  {
   "cell_type": "code",
   "execution_count": 10,
   "metadata": {},
   "outputs": [
    {
     "data": {
      "text/plain": [
       "[1, 1, 1]"
      ]
     },
     "execution_count": 10,
     "metadata": {},
     "output_type": "execute_result"
    }
   ],
   "source": [
    "# However this still does not help with this:\n",
    "tom([1,1,1],1) # should get [1]"
   ]
  },
  {
   "cell_type": "code",
   "execution_count": 11,
   "metadata": {},
   "outputs": [],
   "source": [
    "# Thus: return List[:n]\n",
    "def tom (List,n):\n",
    "    while len(List) < n:\n",
    "        List.append(sum(List[-3:]))\n",
    "    return List[:n]"
   ]
  },
  {
   "cell_type": "code",
   "execution_count": 12,
   "metadata": {},
   "outputs": [
    {
     "data": {
      "text/plain": [
       "[1]"
      ]
     },
     "execution_count": 12,
     "metadata": {},
     "output_type": "execute_result"
    }
   ],
   "source": [
    "tom([1,1,1],1)"
   ]
  },
  {
   "cell_type": "code",
   "execution_count": null,
   "metadata": {},
   "outputs": [],
   "source": [
    "# FUCK- MY METHODS ARE ALWAYS TOO LONG WINDED!!!"
   ]
  }
 ],
 "metadata": {
  "kernelspec": {
   "display_name": "Python 3",
   "language": "python",
   "name": "python3"
  },
  "language_info": {
   "codemirror_mode": {
    "name": "ipython",
    "version": 3
   },
   "file_extension": ".py",
   "mimetype": "text/x-python",
   "name": "python",
   "nbconvert_exporter": "python",
   "pygments_lexer": "ipython3",
   "version": "3.7.3"
  }
 },
 "nbformat": 4,
 "nbformat_minor": 2
}
