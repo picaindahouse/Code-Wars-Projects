{
 "cells": [
  {
   "cell_type": "code",
   "execution_count": null,
   "metadata": {},
   "outputs": [],
   "source": [
    "# Given a string containing a fraction eg: '42/9' return a mixed fraction in the form: '4 2/3'\n",
    "# -ve signs all to return as '-a b/c'"
   ]
  },
  {
   "cell_type": "code",
   "execution_count": 4,
   "metadata": {},
   "outputs": [
    {
     "data": {
      "text/plain": [
       "Fraction(14, 3)"
      ]
     },
     "execution_count": 4,
     "metadata": {},
     "output_type": "execute_result"
    }
   ],
   "source": [
    "# let's say we get '42/9'\n",
    "import fractions                        # Can import fractions\n",
    "tom = fractions.Fraction('42/9')        \n",
    "tom"
   ]
  },
  {
   "cell_type": "code",
   "execution_count": null,
   "metadata": {},
   "outputs": [],
   "source": [
    "# Fraction(14,3) - means 14/3"
   ]
  },
  {
   "cell_type": "code",
   "execution_count": 6,
   "metadata": {},
   "outputs": [
    {
     "data": {
      "text/plain": [
       "4"
      ]
     },
     "execution_count": 6,
     "metadata": {},
     "output_type": "execute_result"
    }
   ],
   "source": [
    "main = int(tom.numerator/tom.denominator)\n",
    "main"
   ]
  },
  {
   "cell_type": "code",
   "execution_count": 8,
   "metadata": {},
   "outputs": [
    {
     "data": {
      "text/plain": [
       "2"
      ]
     },
     "execution_count": 8,
     "metadata": {},
     "output_type": "execute_result"
    }
   ],
   "source": [
    "top = tom.numerator - main*tom.denominator\n",
    "top"
   ]
  },
  {
   "cell_type": "code",
   "execution_count": 15,
   "metadata": {},
   "outputs": [],
   "source": [
    "# Using the format I learnt in side project 15- lesgo\n",
    "def convert (frac):\n",
    "    import fractions\n",
    "    tom = fractions.Fraction(frac)\n",
    "    main = int(tom.numerator/tom.denominator)\n",
    "    top = tom.numerator - main*tom.denominator\n",
    "    return '{} {}/{}'.format(main,top,tom.denominator)    "
   ]
  },
  {
   "cell_type": "code",
   "execution_count": 16,
   "metadata": {},
   "outputs": [
    {
     "data": {
      "text/plain": [
       "'4 2/3'"
      ]
     },
     "execution_count": 16,
     "metadata": {},
     "output_type": "execute_result"
    }
   ],
   "source": [
    "convert('42/9')"
   ]
  },
  {
   "cell_type": "code",
   "execution_count": 17,
   "metadata": {},
   "outputs": [],
   "source": [
    "# Three things to take care of though:\n",
    "# 1) If there is -ve sign on top and bottom like this: '-42/-9'\n",
    "# 2) If there is -ve sign only at the bottom: '42/-9'\n",
    "# 3) If you get smth like '2/8' = '1/4' which means no {} before the fraction\n",
    "# 4) If the fraction gives you a proper number eg: '9/3' = 3"
   ]
  },
  {
   "cell_type": "code",
   "execution_count": 20,
   "metadata": {},
   "outputs": [],
   "source": [
    "# 1) Let's just replace the -ve signs with nth:\n",
    "def convert1(frac):\n",
    "    import fractions\n",
    "    if frac.count('-')%2==0:\n",
    "        frac = frac.replace('-','')        \n",
    "    tom = fractions.Fraction(frac)\n",
    "    main = int(tom.numerator/tom.denominator)\n",
    "    top = tom.numerator - main*tom.denominator\n",
    "    return '{} {}/{}'.format(main,top,tom.denominator)  "
   ]
  },
  {
   "cell_type": "code",
   "execution_count": 22,
   "metadata": {},
   "outputs": [
    {
     "data": {
      "text/plain": [
       "'1 4/9'"
      ]
     },
     "execution_count": 22,
     "metadata": {},
     "output_type": "execute_result"
    }
   ],
   "source": [
    "convert1('-13/-9')"
   ]
  },
  {
   "cell_type": "code",
   "execution_count": 43,
   "metadata": {},
   "outputs": [],
   "source": [
    "# 2) First identify which fractions have a -ve sign in the demoninator using frac.find('-')>0\n",
    "# Then use formating to add -ve to the top and remove it from the bottom using replace\n",
    "# Have to put abs on top since the top was coming as -ve\n",
    "def convert2(frac):\n",
    "    import fractions\n",
    "    if frac.count('-')%2==0:\n",
    "        frac = frac.replace('-','') \n",
    "    if frac.find('-') > 0:\n",
    "        frac = '{}{}'.format('-',frac.replace('-',''))\n",
    "    tom = fractions.Fraction(frac)\n",
    "    main = int(tom.numerator/tom.denominator)\n",
    "    top = tom.numerator - main*tom.denominator\n",
    "    return '{} {}/{}'.format(main,abs(top),tom.denominator)  "
   ]
  },
  {
   "cell_type": "code",
   "execution_count": 44,
   "metadata": {},
   "outputs": [
    {
     "data": {
      "text/plain": [
       "'-4 2/3'"
      ]
     },
     "execution_count": 44,
     "metadata": {},
     "output_type": "execute_result"
    }
   ],
   "source": [
    "convert2('42/-9')"
   ]
  },
  {
   "cell_type": "code",
   "execution_count": 51,
   "metadata": {},
   "outputs": [],
   "source": [
    "# 3) What if the main = 0: under return using else- put another format as seen below \n",
    "def convert3(frac):\n",
    "    import fractions\n",
    "    if frac.count('-')%2==0:\n",
    "        frac = frac.replace('-','') \n",
    "    if frac.find('-') > 0:\n",
    "        frac = '{}{}'.format('-',frac.replace('-',''))\n",
    "    tom = fractions.Fraction(frac)\n",
    "    main = int(tom.numerator/tom.denominator)\n",
    "    top = tom.numerator - main*tom.denominator\n",
    "    return '{} {}/{}'.format(main,abs(top),tom.denominator) if abs(main) > 0 else '{}/{}'.format(top,tom.denominator) "
   ]
  },
  {
   "cell_type": "code",
   "execution_count": 52,
   "metadata": {},
   "outputs": [
    {
     "data": {
      "text/plain": [
       "'1/3'"
      ]
     },
     "execution_count": 52,
     "metadata": {},
     "output_type": "execute_result"
    }
   ],
   "source": [
    "convert3('3/9')"
   ]
  },
  {
   "cell_type": "code",
   "execution_count": 53,
   "metadata": {},
   "outputs": [],
   "source": [
    "# 4) Use top == 0: return str(main) \n",
    "def convert4(frac):\n",
    "    import fractions\n",
    "    if frac.count('-')%2==0:\n",
    "        frac = frac.replace('-','') \n",
    "    if frac.find('-') > 0:\n",
    "        frac = '{}{}'.format('-',frac.replace('-',''))\n",
    "    tom = fractions.Fraction(frac)\n",
    "    main = int(tom.numerator/tom.denominator)\n",
    "    top = tom.numerator - main*tom.denominator\n",
    "    if top == 0:\n",
    "        return str(main)\n",
    "    return '{} {}/{}'.format(main,abs(top),tom.denominator) if abs(main) > 0 else '{}/{}'.format(top,tom.denominator) "
   ]
  },
  {
   "cell_type": "code",
   "execution_count": 55,
   "metadata": {},
   "outputs": [
    {
     "data": {
      "text/plain": [
       "'3'"
      ]
     },
     "execution_count": 55,
     "metadata": {},
     "output_type": "execute_result"
    }
   ],
   "source": [
    "convert4('9/3')"
   ]
  },
  {
   "cell_type": "code",
   "execution_count": 57,
   "metadata": {},
   "outputs": [],
   "source": [
    "import fractions                # NICELY DONE\n",
    "def mixed_fraction(frac):\n",
    "    import fractions\n",
    "    if frac.count('-')%2==0:\n",
    "        frac = frac.replace('-','') \n",
    "    if frac.find('-') > 0:\n",
    "        frac = '{}{}'.format('-',frac.replace('-',''))\n",
    "    tom = fractions.Fraction(frac)\n",
    "    main = int(tom.numerator/tom.denominator)\n",
    "    top = tom.numerator - main*tom.denominator\n",
    "    if top == 0:\n",
    "        return str(main)\n",
    "    return '{} {}/{}'.format(main,abs(top),tom.denominator) if abs(main) > 0 else '{}/{}'.format(top,tom.denominator) "
   ]
  },
  {
   "cell_type": "code",
   "execution_count": 58,
   "metadata": {},
   "outputs": [
    {
     "data": {
      "text/plain": [
       "'4 2/3'"
      ]
     },
     "execution_count": 58,
     "metadata": {},
     "output_type": "execute_result"
    }
   ],
   "source": [
    "mixed_fraction('42/9')"
   ]
  },
  {
   "cell_type": "code",
   "execution_count": null,
   "metadata": {},
   "outputs": [],
   "source": []
  }
 ],
 "metadata": {
  "kernelspec": {
   "display_name": "Python 3",
   "language": "python",
   "name": "python3"
  },
  "language_info": {
   "codemirror_mode": {
    "name": "ipython",
    "version": 3
   },
   "file_extension": ".py",
   "mimetype": "text/x-python",
   "name": "python",
   "nbconvert_exporter": "python",
   "pygments_lexer": "ipython3",
   "version": "3.7.3"
  }
 },
 "nbformat": 4,
 "nbformat_minor": 2
}
