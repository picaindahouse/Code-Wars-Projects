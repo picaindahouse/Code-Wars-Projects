{
 "cells": [
  {
   "cell_type": "code",
   "execution_count": null,
   "metadata": {},
   "outputs": [],
   "source": [
    "# Given a string return a dict with lower letters and the number of times they appear"
   ]
  },
  {
   "cell_type": "code",
   "execution_count": null,
   "metadata": {},
   "outputs": [],
   "source": [
    "def counter (tom):"
   ]
  },
  {
   "cell_type": "code",
   "execution_count": 1,
   "metadata": {},
   "outputs": [],
   "source": [
    "tim = 'HjhfadkjghioaeruwhgojnsdvvcjrhogjhjBfjeb'"
   ]
  },
  {
   "cell_type": "code",
   "execution_count": 2,
   "metadata": {},
   "outputs": [
    {
     "data": {
      "text/plain": [
       "{'H': 1,\n",
       " 'j': 7,\n",
       " 'h': 5,\n",
       " 'f': 2,\n",
       " 'a': 2,\n",
       " 'd': 2,\n",
       " 'k': 1,\n",
       " 'g': 3,\n",
       " 'i': 1,\n",
       " 'o': 3,\n",
       " 'e': 2,\n",
       " 'r': 2,\n",
       " 'u': 1,\n",
       " 'w': 1,\n",
       " 'n': 1,\n",
       " 's': 1,\n",
       " 'v': 2,\n",
       " 'c': 1,\n",
       " 'B': 1,\n",
       " 'b': 1}"
      ]
     },
     "execution_count": 2,
     "metadata": {},
     "output_type": "execute_result"
    }
   ],
   "source": [
    "{x: tim.count(x) for x in tim}"
   ]
  },
  {
   "cell_type": "code",
   "execution_count": 3,
   "metadata": {},
   "outputs": [],
   "source": [
    "def counter (tom):\n",
    "    return {x: tom.count(x) for x in tom}"
   ]
  },
  {
   "cell_type": "code",
   "execution_count": 4,
   "metadata": {},
   "outputs": [
    {
     "data": {
      "text/plain": [
       "{'d': 2, 'u': 1, 'e': 1}"
      ]
     },
     "execution_count": 4,
     "metadata": {},
     "output_type": "execute_result"
    }
   ],
   "source": [
    "counter ('dude')"
   ]
  },
  {
   "cell_type": "code",
   "execution_count": 5,
   "metadata": {},
   "outputs": [],
   "source": [
    "# If you want it in alphabetical order:\n",
    "def counter (tom):\n",
    "    return {x: tom.count(x) for x in sorted(tom)}"
   ]
  },
  {
   "cell_type": "code",
   "execution_count": null,
   "metadata": {},
   "outputs": [],
   "source": []
  }
 ],
 "metadata": {
  "kernelspec": {
   "display_name": "Python 3",
   "language": "python",
   "name": "python3"
  },
  "language_info": {
   "codemirror_mode": {
    "name": "ipython",
    "version": 3
   },
   "file_extension": ".py",
   "mimetype": "text/x-python",
   "name": "python",
   "nbconvert_exporter": "python",
   "pygments_lexer": "ipython3",
   "version": "3.7.3"
  }
 },
 "nbformat": 4,
 "nbformat_minor": 2
}
