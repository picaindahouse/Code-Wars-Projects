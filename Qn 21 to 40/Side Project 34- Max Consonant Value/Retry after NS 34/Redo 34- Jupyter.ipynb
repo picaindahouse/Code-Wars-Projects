{
 "cells": [
  {
   "cell_type": "code",
   "execution_count": null,
   "metadata": {},
   "outputs": [],
   "source": [
    "def indi (t):\n",
    "    alphabet = 'abcdefghijklmnopqrstuvwxyz'\n",
    "    return [i for i,x in enumerate(alphabet,1) if x in t][0]\n",
    "def points (w):\n",
    "    return sum([indi(y) for y in w])    \n",
    "def solve(s):\n",
    "    tom = (''.join([' ' if x in 'aeiou' else x for x in s])).split()\n",
    "    return max([points(x) for x in tom])"
   ]
  },
  {
   "cell_type": "code",
   "execution_count": 1,
   "metadata": {},
   "outputs": [],
   "source": [
    "# Took this long method because I was unable to do a double loop:"
   ]
  },
  {
   "cell_type": "code",
   "execution_count": 3,
   "metadata": {},
   "outputs": [],
   "source": [
    "def new_points (h):\n",
    "    alphabet = 'abcdefghijklmnopqrstuvwxyz'\n",
    "    return sum([i for i,x in enumerate(alphabet,1) for y in h if y == x])"
   ]
  },
  {
   "cell_type": "code",
   "execution_count": 4,
   "metadata": {},
   "outputs": [
    {
     "data": {
      "text/plain": [
       "80"
      ]
     },
     "execution_count": 4,
     "metadata": {},
     "output_type": "execute_result"
    }
   ],
   "source": [
    "new_points('schtsch')"
   ]
  },
  {
   "cell_type": "code",
   "execution_count": null,
   "metadata": {},
   "outputs": [],
   "source": []
  }
 ],
 "metadata": {
  "kernelspec": {
   "display_name": "Python 3",
   "language": "python",
   "name": "python3"
  },
  "language_info": {
   "codemirror_mode": {
    "name": "ipython",
    "version": 3
   },
   "file_extension": ".py",
   "mimetype": "text/x-python",
   "name": "python",
   "nbconvert_exporter": "python",
   "pygments_lexer": "ipython3",
   "version": "3.7.3"
  }
 },
 "nbformat": 4,
 "nbformat_minor": 2
}
