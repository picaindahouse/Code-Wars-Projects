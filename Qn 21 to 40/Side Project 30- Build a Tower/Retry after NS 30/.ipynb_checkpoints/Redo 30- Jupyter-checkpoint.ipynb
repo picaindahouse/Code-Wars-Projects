{
 "cells": [
  {
   "cell_type": "code",
   "execution_count": 31,
   "metadata": {},
   "outputs": [],
   "source": [
    "def floor (floor_number, n_floors):\n",
    "    return ' ' * (n_floors - floor_number) + '*' * (floor_number * 2 - 1)  + ' ' * (n_floors - floor_number)\n",
    "def tower_builder(n_floors):\n",
    "    return [floor(x, n_floors) for x in range(1,n_floors + 1)]"
   ]
  },
  {
   "cell_type": "code",
   "execution_count": 2,
   "metadata": {},
   "outputs": [],
   "source": [
    "n_floors = 3"
   ]
  },
  {
   "cell_type": "code",
   "execution_count": 4,
   "metadata": {},
   "outputs": [
    {
     "data": {
      "text/plain": [
       "5"
      ]
     },
     "execution_count": 4,
     "metadata": {},
     "output_type": "execute_result"
    }
   ],
   "source": [
    "3*2 - 1"
   ]
  },
  {
   "cell_type": "code",
   "execution_count": 5,
   "metadata": {},
   "outputs": [
    {
     "data": {
      "text/plain": [
       "3"
      ]
     },
     "execution_count": 5,
     "metadata": {},
     "output_type": "execute_result"
    }
   ],
   "source": [
    "2 * 2 - 1"
   ]
  },
  {
   "cell_type": "code",
   "execution_count": 13,
   "metadata": {},
   "outputs": [],
   "source": [
    "def floor (floor_number, n_floors):\n",
    "    return ' ' * (n_floors - floor_number) + '*' * (floor_number * 2 - 1)  + ' ' * (n_floors - floor_number)"
   ]
  },
  {
   "cell_type": "code",
   "execution_count": 16,
   "metadata": {},
   "outputs": [
    {
     "data": {
      "text/plain": [
       "'  *  '"
      ]
     },
     "execution_count": 16,
     "metadata": {},
     "output_type": "execute_result"
    }
   ],
   "source": [
    "floor(1, 3) # Wtf haha"
   ]
  },
  {
   "cell_type": "code",
   "execution_count": 19,
   "metadata": {},
   "outputs": [
    {
     "data": {
      "text/plain": [
       "[1, 2]"
      ]
     },
     "execution_count": 19,
     "metadata": {},
     "output_type": "execute_result"
    }
   ],
   "source": [
    "list(range(1,3))"
   ]
  },
  {
   "cell_type": "code",
   "execution_count": 20,
   "metadata": {},
   "outputs": [
    {
     "data": {
      "text/plain": [
       "[1, 2, 3]"
      ]
     },
     "execution_count": 20,
     "metadata": {},
     "output_type": "execute_result"
    }
   ],
   "source": [
    "n_floors = 3\n",
    "list(range(1,n_floors + 1))"
   ]
  },
  {
   "cell_type": "code",
   "execution_count": 23,
   "metadata": {},
   "outputs": [
    {
     "data": {
      "text/plain": [
       "['  *  ', ' *** ', '*****']"
      ]
     },
     "execution_count": 23,
     "metadata": {},
     "output_type": "execute_result"
    }
   ],
   "source": [
    "[floor(x, n_floors) for x in range(1,n_floors + 1)]"
   ]
  },
  {
   "cell_type": "code",
   "execution_count": 26,
   "metadata": {},
   "outputs": [],
   "source": [
    "def tower_builder(n_floors):\n",
    "    return [floor(x, n_floors) for x in range(1,n_floors + 1)]"
   ]
  },
  {
   "cell_type": "code",
   "execution_count": 29,
   "metadata": {},
   "outputs": [
    {
     "data": {
      "text/plain": [
       "['         *         ',\n",
       " '        ***        ',\n",
       " '       *****       ',\n",
       " '      *******      ',\n",
       " '     *********     ',\n",
       " '    ***********    ',\n",
       " '   *************   ',\n",
       " '  ***************  ',\n",
       " ' ***************** ',\n",
       " '*******************']"
      ]
     },
     "execution_count": 29,
     "metadata": {},
     "output_type": "execute_result"
    }
   ],
   "source": [
    "tower_builder(10)"
   ]
  },
  {
   "cell_type": "code",
   "execution_count": 30,
   "metadata": {},
   "outputs": [
    {
     "data": {
      "text/plain": [
       "['                        *                        ',\n",
       " '                       ***                       ',\n",
       " '                      *****                      ',\n",
       " '                     *******                     ',\n",
       " '                    *********                    ',\n",
       " '                   ***********                   ',\n",
       " '                  *************                  ',\n",
       " '                 ***************                 ',\n",
       " '                *****************                ',\n",
       " '               *******************               ',\n",
       " '              *********************              ',\n",
       " '             ***********************             ',\n",
       " '            *************************            ',\n",
       " '           ***************************           ',\n",
       " '          *****************************          ',\n",
       " '         *******************************         ',\n",
       " '        *********************************        ',\n",
       " '       ***********************************       ',\n",
       " '      *************************************      ',\n",
       " '     ***************************************     ',\n",
       " '    *****************************************    ',\n",
       " '   *******************************************   ',\n",
       " '  *********************************************  ',\n",
       " ' *********************************************** ',\n",
       " '*************************************************']"
      ]
     },
     "execution_count": 30,
     "metadata": {},
     "output_type": "execute_result"
    }
   ],
   "source": [
    "tower_builder(25)"
   ]
  },
  {
   "cell_type": "code",
   "execution_count": null,
   "metadata": {},
   "outputs": [],
   "source": []
  }
 ],
 "metadata": {
  "kernelspec": {
   "display_name": "Python 3",
   "language": "python",
   "name": "python3"
  },
  "language_info": {
   "codemirror_mode": {
    "name": "ipython",
    "version": 3
   },
   "file_extension": ".py",
   "mimetype": "text/x-python",
   "name": "python",
   "nbconvert_exporter": "python",
   "pygments_lexer": "ipython3",
   "version": "3.7.3"
  }
 },
 "nbformat": 4,
 "nbformat_minor": 2
}
