{
 "cells": [
  {
   "cell_type": "code",
   "execution_count": 11,
   "metadata": {},
   "outputs": [],
   "source": [
    "# Given a string- find out if the string is an isogram\n",
    "# An isogram is a word or sentence where no letters are repeated\n",
    "# Caps lock does not matter- o & O will be counted as repetition of a letter and thus not an isogram"
   ]
  },
  {
   "cell_type": "code",
   "execution_count": 6,
   "metadata": {},
   "outputs": [],
   "source": [
    "blast='i hate you'"
   ]
  },
  {
   "cell_type": "code",
   "execution_count": 13,
   "metadata": {},
   "outputs": [],
   "source": [
    "Tom = 'I CofjasojOjdinjON'"
   ]
  },
  {
   "cell_type": "code",
   "execution_count": 14,
   "metadata": {},
   "outputs": [],
   "source": [
    "tom  = Tom.lower() # Make all the letters lower caps so as to clear the caps issue"
   ]
  },
  {
   "cell_type": "code",
   "execution_count": null,
   "metadata": {},
   "outputs": [],
   "source": [
    "'iiii'"
   ]
  },
  {
   "cell_type": "code",
   "execution_count": 16,
   "metadata": {},
   "outputs": [
    {
     "name": "stdout",
     "output_type": "stream",
     "text": [
      "false\n"
     ]
    }
   ],
   "source": [
    "for x in tom:\n",
    "    if tom.count(x) >1:\n",
    "        isogram = 1 \n",
    "if (isogram == 1) >= 1:\n",
    "    print ('false')\n",
    "else:\n",
    "    print ('true')\n",
    "    \n",
    "    "
   ]
  },
  {
   "cell_type": "code",
   "execution_count": 8,
   "metadata": {},
   "outputs": [],
   "source": [
    "def is_isogram (string):\n",
    "    caps = string.lower()\n",
    "    space = caps.replace(' ','')       # Remove the spaces to ensure that repeated space are not counted as false isogram\n",
    "    isogram = 0\n",
    "    for x in space:\n",
    "        if space.count(x) > 1:\n",
    "            isogram = isogram + 1      # What this does is that it adds 1 to isogram, everytime there is a repeated letter\n",
    "    \n",
    "    if isogram >= 1:                   # Therefore, when if there is even 1 repeated letter isogram >= 1\n",
    "            return False\n",
    "    if isogram == 0: \n",
    "            return True"
   ]
  },
  {
   "cell_type": "code",
   "execution_count": 17,
   "metadata": {},
   "outputs": [
    {
     "data": {
      "text/plain": [
       "True"
      ]
     },
     "execution_count": 17,
     "metadata": {},
     "output_type": "execute_result"
    }
   ],
   "source": [
    "is_isogram ('I ate bowl')"
   ]
  },
  {
   "cell_type": "code",
   "execution_count": 18,
   "metadata": {},
   "outputs": [
    {
     "data": {
      "text/plain": [
       "False"
      ]
     },
     "execution_count": 18,
     "metadata": {},
     "output_type": "execute_result"
    }
   ],
   "source": [
    "is_isogram ('I ate a bowl of soup')"
   ]
  },
  {
   "cell_type": "code",
   "execution_count": null,
   "metadata": {},
   "outputs": [],
   "source": []
  }
 ],
 "metadata": {
  "kernelspec": {
   "display_name": "Python 3",
   "language": "python",
   "name": "python3"
  },
  "language_info": {
   "codemirror_mode": {
    "name": "ipython",
    "version": 3
   },
   "file_extension": ".py",
   "mimetype": "text/x-python",
   "name": "python",
   "nbconvert_exporter": "python",
   "pygments_lexer": "ipython3",
   "version": "3.7.3"
  }
 },
 "nbformat": 4,
 "nbformat_minor": 2
}
