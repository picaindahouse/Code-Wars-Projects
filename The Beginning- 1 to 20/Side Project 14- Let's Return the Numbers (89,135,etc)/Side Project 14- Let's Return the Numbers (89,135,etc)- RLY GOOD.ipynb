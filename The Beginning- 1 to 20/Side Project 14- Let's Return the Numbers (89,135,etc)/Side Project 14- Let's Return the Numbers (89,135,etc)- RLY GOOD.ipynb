{
 "cells": [
  {
   "cell_type": "code",
   "execution_count": 1,
   "metadata": {},
   "outputs": [],
   "source": [
    "# Given a number, eg: 89- if 8 ** 1 + 9 ** 2 = 8 + 81 = 89, then return the number\n",
    "# This works with - 135: 1 ** 1 + 3 ** 2 + 5 ** 3 = 1 + 9 + 125 = 135\n",
    "# Thus given a range of numbers return the numbers like 89 & 135"
   ]
  },
  {
   "cell_type": "code",
   "execution_count": 18,
   "metadata": {},
   "outputs": [],
   "source": [
    "# Go to the end to learn the faster methods!!!"
   ]
  },
  {
   "cell_type": "code",
   "execution_count": 2,
   "metadata": {},
   "outputs": [],
   "source": [
    "tom = 89"
   ]
  },
  {
   "cell_type": "code",
   "execution_count": 3,
   "metadata": {},
   "outputs": [
    {
     "name": "stdout",
     "output_type": "stream",
     "text": [
      "['8', '9']\n"
     ]
    }
   ],
   "source": [
    "tam = list(str(tom))\n",
    "print(tam)"
   ]
  },
  {
   "cell_type": "code",
   "execution_count": 4,
   "metadata": {},
   "outputs": [
    {
     "data": {
      "text/plain": [
       "9"
      ]
     },
     "execution_count": 4,
     "metadata": {},
     "output_type": "execute_result"
    }
   ],
   "source": [
    "int(tam[1])"
   ]
  },
  {
   "cell_type": "code",
   "execution_count": 5,
   "metadata": {},
   "outputs": [],
   "source": [
    "def power (List):\n",
    "    power_1 = int(List[0]) ** 1\n",
    "    power_2 = int(List[1]) ** 2\n",
    "    Sum = power_1 + power_2\n",
    "    return Sum"
   ]
  },
  {
   "cell_type": "code",
   "execution_count": 6,
   "metadata": {},
   "outputs": [
    {
     "data": {
      "text/plain": [
       "89"
      ]
     },
     "execution_count": 6,
     "metadata": {},
     "output_type": "execute_result"
    }
   ],
   "source": [
    "power (['8','9'])"
   ]
  },
  {
   "cell_type": "code",
   "execution_count": 7,
   "metadata": {},
   "outputs": [],
   "source": [
    "def listify (number):\n",
    "    List = list(str(number))\n",
    "    power_1 = int(List[0]) ** 1         # Remember we have 0 indexing\n",
    "    power_2 = int(List[1]) ** 2         # If cannot find any other way then just do this to the power of 5\n",
    "    Sum = power_1 + power_2\n",
    "    return Sum"
   ]
  },
  {
   "cell_type": "code",
   "execution_count": 8,
   "metadata": {},
   "outputs": [
    {
     "data": {
      "text/plain": [
       "89"
      ]
     },
     "execution_count": 8,
     "metadata": {},
     "output_type": "execute_result"
    }
   ],
   "source": [
    "listify (89)"
   ]
  },
  {
   "cell_type": "code",
   "execution_count": 9,
   "metadata": {},
   "outputs": [],
   "source": [
    "def test(number) :\n",
    "    Tom = len(str(number)) \n",
    "    Index = 0\n",
    "    Sum = 0\n",
    "    List = list(str(number)) \n",
    "    while Index!= Tom:\n",
    "        power = int(List[Index]) ** (Index+1) \n",
    "        Sum = Sum + power\n",
    "        Index = Index + 1\n",
    "    return Sum"
   ]
  },
  {
   "cell_type": "code",
   "execution_count": 11,
   "metadata": {},
   "outputs": [
    {
     "data": {
      "text/plain": [
       "89"
      ]
     },
     "execution_count": 11,
     "metadata": {},
     "output_type": "execute_result"
    }
   ],
   "source": [
    "test(89)"
   ]
  },
  {
   "cell_type": "code",
   "execution_count": 21,
   "metadata": {},
   "outputs": [
    {
     "data": {
      "text/plain": [
       "135"
      ]
     },
     "execution_count": 21,
     "metadata": {},
     "output_type": "execute_result"
    }
   ],
   "source": [
    "test(135)"
   ]
  },
  {
   "cell_type": "code",
   "execution_count": 12,
   "metadata": {},
   "outputs": [],
   "source": [
    "def test2(number) :\n",
    "    Tom = len(str(number)) \n",
    "    Index = 0\n",
    "    Sum = 0\n",
    "    List = list(str(number)) \n",
    "    while Index!= Tom:\n",
    "        power = int(List[Index]) ** (Index+1) \n",
    "        Sum = Sum + power\n",
    "        Index = Index + 1\n",
    "    if Sum == number:\n",
    "        return Sum\n",
    "    else:\n",
    "        return 'Fuck off' "
   ]
  },
  {
   "cell_type": "code",
   "execution_count": 13,
   "metadata": {},
   "outputs": [
    {
     "data": {
      "text/plain": [
       "89"
      ]
     },
     "execution_count": 13,
     "metadata": {},
     "output_type": "execute_result"
    }
   ],
   "source": [
    "test2(89)"
   ]
  },
  {
   "cell_type": "code",
   "execution_count": 14,
   "metadata": {},
   "outputs": [
    {
     "data": {
      "text/plain": [
       "'Fuck off'"
      ]
     },
     "execution_count": 14,
     "metadata": {},
     "output_type": "execute_result"
    }
   ],
   "source": [
    "test2(90)"
   ]
  },
  {
   "cell_type": "code",
   "execution_count": 15,
   "metadata": {},
   "outputs": [],
   "source": [
    "def test3(List) :\n",
    "    ans = [] \n",
    "    for number in List:\n",
    "        Tom = len(str(number)) \n",
    "        Index = 0\n",
    "        Sum = 0\n",
    "        List = list(str(number)) \n",
    "        while Tom!= Index:\n",
    "            power = int(List[Index]) ** (Index+1)\n",
    "            Sum = Sum + power\n",
    "            Index = Index + 1\n",
    "        if Sum == number:\n",
    "            ans.append(number)\n",
    "    return ans"
   ]
  },
  {
   "cell_type": "code",
   "execution_count": 16,
   "metadata": {},
   "outputs": [
    {
     "data": {
      "text/plain": [
       "[1, 2, 3, 4, 5, 89, 135]"
      ]
     },
     "execution_count": 16,
     "metadata": {},
     "output_type": "execute_result"
    }
   ],
   "source": [
    "test3([1,2,3,4,5,89,90,91,111,123,125,135])"
   ]
  },
  {
   "cell_type": "code",
   "execution_count": 17,
   "metadata": {},
   "outputs": [],
   "source": [
    "def Final (a,b):\n",
    "    List = list(range(a,b+1))\n",
    "    ans = [] \n",
    "    for number in List:\n",
    "        Tom = len(str(number)) \n",
    "        Index = 0\n",
    "        Sum = 0\n",
    "        List = list(str(number)) \n",
    "        while Tom!= Index:\n",
    "            power = int(List[Index]) ** (Index+1)\n",
    "            Sum = Sum + power\n",
    "            Index = Index + 1\n",
    "        if Sum == number:\n",
    "            ans.append(number)\n",
    "    return ans   "
   ]
  },
  {
   "cell_type": "code",
   "execution_count": 19,
   "metadata": {},
   "outputs": [],
   "source": [
    "# My method, above, however is far too long winded"
   ]
  },
  {
   "cell_type": "code",
   "execution_count": 22,
   "metadata": {},
   "outputs": [],
   "source": [
    "# First to get the sum of the digits squared(or whatever):\n",
    "# Instead of,\n",
    "def long_winded (number):\n",
    "    List = list(str(number))\n",
    "    Tom = len(str(number)) \n",
    "    Index = 0\n",
    "    Sum = 0\n",
    "    List = list(str(number)) \n",
    "    while Index!= Tom:\n",
    "        power = int(List[Index]) ** (Index+1) \n",
    "        Sum = Sum + power\n",
    "        Index = Index + 1\n",
    "    return Sum"
   ]
  },
  {
   "cell_type": "code",
   "execution_count": 23,
   "metadata": {},
   "outputs": [
    {
     "data": {
      "text/plain": [
       "135"
      ]
     },
     "execution_count": 23,
     "metadata": {},
     "output_type": "execute_result"
    }
   ],
   "source": [
    "long_winded(135)"
   ]
  },
  {
   "cell_type": "code",
   "execution_count": 41,
   "metadata": {},
   "outputs": [],
   "source": [
    "# You can simply,\n",
    "def easy (a):\n",
    "    return sum(int(x) ** (i + 1) for i,x in enumerate(str(a)))"
   ]
  },
  {
   "cell_type": "code",
   "execution_count": 43,
   "metadata": {},
   "outputs": [
    {
     "data": {
      "text/plain": [
       "135"
      ]
     },
     "execution_count": 43,
     "metadata": {},
     "output_type": "execute_result"
    }
   ],
   "source": [
    "easy(135)"
   ]
  },
  {
   "cell_type": "code",
   "execution_count": 47,
   "metadata": {},
   "outputs": [],
   "source": [
    "# Then just:\n",
    "def FINAL (a, b):\n",
    "    return [x for x in (list(range(a, b+1))) if easy(x) == x]"
   ]
  },
  {
   "cell_type": "code",
   "execution_count": 49,
   "metadata": {},
   "outputs": [
    {
     "data": {
      "text/plain": [
       "[1, 2, 3, 4, 5, 6, 7, 8, 9, 89, 135]"
      ]
     },
     "execution_count": 49,
     "metadata": {},
     "output_type": "execute_result"
    }
   ],
   "source": [
    "FINAL (1,135)"
   ]
  },
  {
   "cell_type": "code",
   "execution_count": 50,
   "metadata": {},
   "outputs": [],
   "source": [
    "# Thus simply:\n",
    "def easy (a): \n",
    "    return sum(int(x) ** (i + 1) for i,x in enumerate(str(a)))\n",
    "def FINAL (a, b):\n",
    "    return [x for x in (list(range(a, b+1))) if easy(x) == x]"
   ]
  },
  {
   "cell_type": "code",
   "execution_count": 51,
   "metadata": {},
   "outputs": [],
   "source": [
    "# If I can't understand how I got to this point:"
   ]
  },
  {
   "cell_type": "code",
   "execution_count": 54,
   "metadata": {},
   "outputs": [
    {
     "data": {
      "text/plain": [
       "[(0, '8'), (1, '9')]"
      ]
     },
     "execution_count": 54,
     "metadata": {},
     "output_type": "execute_result"
    }
   ],
   "source": [
    "# For easy:\n",
    "# First get enumerate so that I can just use the index to help me with the powers instead of the while function\n",
    "Tom = list(enumerate(str(89)))\n",
    "Tom"
   ]
  },
  {
   "cell_type": "code",
   "execution_count": 67,
   "metadata": {},
   "outputs": [
    {
     "data": {
      "text/plain": [
       "[8, 81]"
      ]
     },
     "execution_count": 67,
     "metadata": {},
     "output_type": "execute_result"
    }
   ],
   "source": [
    "# (int(x) **  (i + 1))- because index starts from zero but you need them to start from 1,\n",
    "Thus = [int(x) ** (i + 1)for i,x in enumerate (str(89))]       # You use i,x for enumerates\n",
    "Thus"
   ]
  },
  {
   "cell_type": "code",
   "execution_count": 70,
   "metadata": {},
   "outputs": [
    {
     "data": {
      "text/plain": [
       "89"
      ]
     },
     "execution_count": 70,
     "metadata": {},
     "output_type": "execute_result"
    }
   ],
   "source": [
    "# All that is left than is to add everything up\n",
    "Sum = sum(Thus)\n",
    "Sum"
   ]
  },
  {
   "cell_type": "code",
   "execution_count": 71,
   "metadata": {},
   "outputs": [],
   "source": [
    "# For Final:\n",
    "# Basically create a list using range and the numbers given (don't forget to add 1)\n",
    "# Then add the condition that you require: easy(x) == x"
   ]
  },
  {
   "cell_type": "code",
   "execution_count": 72,
   "metadata": {},
   "outputs": [],
   "source": [
    "# From now on try to use list comprehensions & enumerates more often"
   ]
  },
  {
   "cell_type": "code",
   "execution_count": null,
   "metadata": {},
   "outputs": [],
   "source": []
  }
 ],
 "metadata": {
  "kernelspec": {
   "display_name": "Python 3",
   "language": "python",
   "name": "python3"
  },
  "language_info": {
   "codemirror_mode": {
    "name": "ipython",
    "version": 3
   },
   "file_extension": ".py",
   "mimetype": "text/x-python",
   "name": "python",
   "nbconvert_exporter": "python",
   "pygments_lexer": "ipython3",
   "version": "3.7.3"
  }
 },
 "nbformat": 4,
 "nbformat_minor": 2
}
