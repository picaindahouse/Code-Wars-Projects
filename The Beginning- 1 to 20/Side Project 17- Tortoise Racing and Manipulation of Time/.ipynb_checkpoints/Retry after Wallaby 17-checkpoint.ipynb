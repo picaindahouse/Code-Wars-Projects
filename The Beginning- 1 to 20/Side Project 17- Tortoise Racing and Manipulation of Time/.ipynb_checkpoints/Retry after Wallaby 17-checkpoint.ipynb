{
 "cells": [
  {
   "cell_type": "code",
   "execution_count": 2,
   "metadata": {},
   "outputs": [],
   "source": [
    "# In this retry I will use the datetime method I have just learnt\n",
    "# However, Dividing by 3600 & 60 are decent methods as well\n",
    "# But have to learn as it is hard to use these methods when wanting to convert seconds into years & months"
   ]
  },
  {
   "cell_type": "code",
   "execution_count": null,
   "metadata": {},
   "outputs": [],
   "source": [
    "# There are two tortoises:\n",
    "# Tortoise a- x m/h \n",
    "# Tortoise b- y m/h\n",
    "# Tortoise a movmoveses of first and by the time b moves off there is z meters between them\n",
    "# How long will it take for b to catch up to a, if a moves faster than b return None\n",
    "# The ans should be in [hours, minutes, seconds] "
   ]
  },
  {
   "cell_type": "code",
   "execution_count": 7,
   "metadata": {},
   "outputs": [],
   "source": [
    "import datetime"
   ]
  },
  {
   "cell_type": "code",
   "execution_count": 30,
   "metadata": {},
   "outputs": [],
   "source": [
    "def race (x,y,z):\n",
    "    if x>y:\n",
    "        return None \n",
    "    else:\n",
    "        diff = (z/(y-x)) * 3600\n",
    "        D = datetime.datetime(1,1,1) + datetime.timedelta(seconds=diff)\n",
    "        return  [D.hour, D.minute, D.second] "
   ]
  },
  {
   "cell_type": "code",
   "execution_count": 31,
   "metadata": {},
   "outputs": [
    {
     "data": {
      "text/plain": [
       "[0, 43, 31]"
      ]
     },
     "execution_count": 31,
     "metadata": {},
     "output_type": "execute_result"
    }
   ],
   "source": [
    "race(50,101,37)"
   ]
  },
  {
   "cell_type": "code",
   "execution_count": 32,
   "metadata": {},
   "outputs": [],
   "source": [
    "race(70,50,20)"
   ]
  },
  {
   "cell_type": "code",
   "execution_count": 19,
   "metadata": {},
   "outputs": [],
   "source": [
    "# Read the Manipulation of time to learn how this works\n",
    "# Read the original Side Project 17 to learn the other method"
   ]
  }
 ],
 "metadata": {
  "kernelspec": {
   "display_name": "Python 3",
   "language": "python",
   "name": "python3"
  },
  "language_info": {
   "codemirror_mode": {
    "name": "ipython",
    "version": 3
   },
   "file_extension": ".py",
   "mimetype": "text/x-python",
   "name": "python",
   "nbconvert_exporter": "python",
   "pygments_lexer": "ipython3",
   "version": "3.7.3"
  }
 },
 "nbformat": 4,
 "nbformat_minor": 2
}
