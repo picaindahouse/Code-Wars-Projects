{
 "cells": [
  {
   "cell_type": "code",
   "execution_count": null,
   "metadata": {},
   "outputs": [],
   "source": [
    "# There are two tortoises:\n",
    "# Tortoise a- x m/h \n",
    "# Tortoise b- y m/h\n",
    "# Tortoise a movmoveses of first and by the time b moves off there is z meters between them\n",
    "# How long will it take for b to catch up to a, if a moves faster than b return None\n",
    "# The ans should be in [hours, minutes, seconds] "
   ]
  },
  {
   "cell_type": "code",
   "execution_count": 24,
   "metadata": {},
   "outputs": [],
   "source": [
    "def race (v1, v2, lead):\n",
    "    diff_s = (v2 - v1)/ (60**2)\n",
    "    timetakenS = lead / diff_s\n",
    "    return [int(timetakenS/3600) , int((timetakenS/60)% 60) , int(timetakenS%60)] \n",
    "        \n",
    "        "
   ]
  },
  {
   "cell_type": "code",
   "execution_count": 25,
   "metadata": {},
   "outputs": [
    {
     "data": {
      "text/plain": [
       "[0, 43, 31]"
      ]
     },
     "execution_count": 25,
     "metadata": {},
     "output_type": "execute_result"
    }
   ],
   "source": [
    "race (50, 101, 37)"
   ]
  },
  {
   "cell_type": "code",
   "execution_count": 27,
   "metadata": {},
   "outputs": [],
   "source": [
    "# By taking the seconds then dividing by 3600 to get hours and dividing by 60 to get minutes and using int() to remove decimals\n",
    "# You can get the ans w/o having to import anything, unlike the below method- which I should still learn for when days & months are involved "
   ]
  },
  {
   "cell_type": "code",
   "execution_count": 18,
   "metadata": {},
   "outputs": [],
   "source": [
    "from datetime import datetime, timedelta\n",
    "def race1(v1, v2, g):\n",
    "    if v1 >= v2:\n",
    "        return None\n",
    "    else:\n",
    "        sec = timedelta(seconds=int((g*3600/(v2-v1))))\n",
    "        d = datetime(1,1, 1) + sec\n",
    "        \n",
    "        return [d.hour, d.minute, d.second]"
   ]
  },
  {
   "cell_type": "code",
   "execution_count": 20,
   "metadata": {},
   "outputs": [
    {
     "data": {
      "text/plain": [
       "[0, 43, 31]"
      ]
     },
     "execution_count": 20,
     "metadata": {},
     "output_type": "execute_result"
    }
   ],
   "source": [
    "race1(50,101,37)"
   ]
  },
  {
   "cell_type": "code",
   "execution_count": 28,
   "metadata": {},
   "outputs": [],
   "source": [
    "# Read the special notes to understand why and how this works"
   ]
  }
 ],
 "metadata": {
  "kernelspec": {
   "display_name": "Python 3",
   "language": "python",
   "name": "python3"
  },
  "language_info": {
   "codemirror_mode": {
    "name": "ipython",
    "version": 3
   },
   "file_extension": ".py",
   "mimetype": "text/x-python",
   "name": "python",
   "nbconvert_exporter": "python",
   "pygments_lexer": "ipython3",
   "version": "3.7.3"
  }
 },
 "nbformat": 4,
 "nbformat_minor": 2
}
