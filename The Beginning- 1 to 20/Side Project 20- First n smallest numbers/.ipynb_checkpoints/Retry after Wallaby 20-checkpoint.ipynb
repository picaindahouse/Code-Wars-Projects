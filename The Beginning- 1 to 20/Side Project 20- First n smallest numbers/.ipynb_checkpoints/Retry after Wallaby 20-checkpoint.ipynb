{
 "cells": [
  {
   "cell_type": "code",
   "execution_count": null,
   "metadata": {},
   "outputs": [],
   "source": [
    "# Given a list of numbers- return the smallest n numbers in the list in the same order\n",
    "# So- [2,4,5,3,2,4], 4- [2,4,3,2]"
   ]
  },
  {
   "cell_type": "code",
   "execution_count": null,
   "metadata": {},
   "outputs": [],
   "source": [
    "# The Pop method (with help from solutions) "
   ]
  },
  {
   "cell_type": "code",
   "execution_count": 18,
   "metadata": {},
   "outputs": [
    {
     "data": {
      "text/plain": [
       "[2, 3]"
      ]
     },
     "execution_count": 18,
     "metadata": {},
     "output_type": "execute_result"
    }
   ],
   "source": [
    "sorted([4,3,2,5])[:2]\n",
    "# Impt to rmb that for [:x] the range taken is till the index position x - 1"
   ]
  },
  {
   "cell_type": "code",
   "execution_count": 16,
   "metadata": {},
   "outputs": [],
   "source": [
    "def smallest (arr, n) :\n",
    "    X = (sorted(arr))[:n]\n",
    "    return [X.pop(X.index(x)) for x in arr if x in X] "
   ]
  },
  {
   "cell_type": "code",
   "execution_count": 17,
   "metadata": {},
   "outputs": [
    {
     "data": {
      "text/plain": [
       "[2, 3, 2, 1]"
      ]
     },
     "execution_count": 17,
     "metadata": {},
     "output_type": "execute_result"
    }
   ],
   "source": [
    "smallest([7,2,3,4,2,3,1],4) "
   ]
  },
  {
   "cell_type": "code",
   "execution_count": 19,
   "metadata": {},
   "outputs": [],
   "source": [
    "# A few things to unpack here: \n",
    "# (1) This code shows the importance of not doing in-place coding\n",
    "# (2) Shows how to use pop\n",
    "# (3) Why use pop on the sorted list and not the original? "
   ]
  },
  {
   "cell_type": "code",
   "execution_count": null,
   "metadata": {},
   "outputs": [],
   "source": [
    "# (1) In the original version I used in-place coding to get the answers, what this means is that the original code is destroyed\n",
    "# In this version not destroying the original helped me as I was able to compare which numbers were in both lists\n",
    "# Thus instead of using remove/ reverse--try finding other methods to solve the problem first"
   ]
  },
  {
   "cell_type": "code",
   "execution_count": null,
   "metadata": {},
   "outputs": [],
   "source": [
    "# (2)\n",
    "# What I did here was to create a new list which only had the numbers I needed but not in the right order\n",
    "# Then to get the numbers in the right order I used pop to remove the codes that are in the original list (to get the right order) "
   ]
  },
  {
   "cell_type": "code",
   "execution_count": 20,
   "metadata": {},
   "outputs": [],
   "source": [
    "# (3)\n",
    "# Use pop on the new list so that if there are two of the same numbers but only one can get in - both will get in if u use the original list"
   ]
  }
 ],
 "metadata": {
  "kernelspec": {
   "display_name": "Python 3",
   "language": "python",
   "name": "python3"
  },
  "language_info": {
   "codemirror_mode": {
    "name": "ipython",
    "version": 3
   },
   "file_extension": ".py",
   "mimetype": "text/x-python",
   "name": "python",
   "nbconvert_exporter": "python",
   "pygments_lexer": "ipython3",
   "version": "3.7.3"
  }
 },
 "nbformat": 4,
 "nbformat_minor": 2
}
