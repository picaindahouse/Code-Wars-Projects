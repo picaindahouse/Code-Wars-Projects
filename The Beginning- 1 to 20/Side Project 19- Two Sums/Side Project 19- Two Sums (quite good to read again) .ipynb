{
 "cells": [
  {
   "cell_type": "code",
   "execution_count": 39,
   "metadata": {},
   "outputs": [],
   "source": [
    "# Given a list of numbers, eg: [1,2,3], & a target, eg: 4- find the two numbers which when added together in the list give you the target number\n",
    "# Give the index numbers of the two numbers in a tuple: (a,b)"
   ]
  },
  {
   "cell_type": "code",
   "execution_count": 42,
   "metadata": {},
   "outputs": [],
   "source": [
    "def two_sum (List, a): \n",
    "    Hope = 0\n",
    "    import random\n",
    "    while Hope != a:\n",
    "        sim = random.choice(List)\n",
    "        sam = a - sim\n",
    "        if sam in List:\n",
    "            if sam > sim:\n",
    "                Hope = a\n",
    "                return (List.index(sim), List.index(sam))\n",
    "            else:\n",
    "                hope = 0\n",
    "        else:\n",
    "            Hope = 0"
   ]
  },
  {
   "cell_type": "code",
   "execution_count": 44,
   "metadata": {},
   "outputs": [
    {
     "data": {
      "text/plain": [
       "(0, 2)"
      ]
     },
     "execution_count": 44,
     "metadata": {},
     "output_type": "execute_result"
    }
   ],
   "source": [
    "two_sum([1,2,3],4)"
   ]
  },
  {
   "cell_type": "code",
   "execution_count": 43,
   "metadata": {},
   "outputs": [
    {
     "data": {
      "text/plain": [
       "(1, 2)"
      ]
     },
     "execution_count": 43,
     "metadata": {},
     "output_type": "execute_result"
    }
   ],
   "source": [
    "two_sum([1234,5678,9012],14690)"
   ]
  },
  {
   "cell_type": "code",
   "execution_count": 69,
   "metadata": {},
   "outputs": [],
   "source": [
    "# Below is the much more simplified version from code wars\n",
    "# Learn to great things - ENUMERATES & how to use for on two different functions\n",
    "# Slight explns below but if you still don't get it- look at python note 20"
   ]
  },
  {
   "cell_type": "code",
   "execution_count": 37,
   "metadata": {},
   "outputs": [],
   "source": [
    "def two_sum(nums, t):\n",
    "    for i, x in enumerate(nums):          \n",
    "        for j, y in enumerate(nums):\n",
    "            if i != j and x + y == t:       # Can use the 'and' function like this\n",
    "                return [i, j]"
   ]
  },
  {
   "cell_type": "code",
   "execution_count": 38,
   "metadata": {},
   "outputs": [
    {
     "data": {
      "text/plain": [
       "[1, 2]"
      ]
     },
     "execution_count": 38,
     "metadata": {},
     "output_type": "execute_result"
    }
   ],
   "source": [
    "two_sum([1234,5678,9012],14690)"
   ]
  },
  {
   "cell_type": "code",
   "execution_count": 46,
   "metadata": {},
   "outputs": [],
   "source": [
    "tom = [1,2,3,4,5]"
   ]
  },
  {
   "cell_type": "code",
   "execution_count": 70,
   "metadata": {},
   "outputs": [
    {
     "data": {
      "text/plain": [
       "[(0, 1), (1, 2), (2, 3), (3, 4), (4, 5)]"
      ]
     },
     "execution_count": 70,
     "metadata": {},
     "output_type": "execute_result"
    }
   ],
   "source": [
    "tim = list(enumerate(tom))    # Enumerates are lists with tuples inside them where the first number is a counter\n",
    "tim                           # Since they start counting from 0- can use them in stuff where you need the index"
   ]
  },
  {
   "cell_type": "code",
   "execution_count": 71,
   "metadata": {},
   "outputs": [],
   "source": [
    "def test(tom):                     # A really cool technique to get to use more than one item from a list using for\n",
    "    for x in tom:\n",
    "        for y in tom:\n",
    "            if x + y == 3 and x != y:\n",
    "                return [x,y]"
   ]
  },
  {
   "cell_type": "code",
   "execution_count": 68,
   "metadata": {},
   "outputs": [
    {
     "data": {
      "text/plain": [
       "[1, 2]"
      ]
     },
     "execution_count": 68,
     "metadata": {},
     "output_type": "execute_result"
    }
   ],
   "source": [
    "test([1,2,3])"
   ]
  },
  {
   "cell_type": "code",
   "execution_count": 73,
   "metadata": {},
   "outputs": [
    {
     "name": "stdout",
     "output_type": "stream",
     "text": [
      "2\n"
     ]
    }
   ],
   "source": [
    "for x in [1,2,3]:\n",
    "    for y in [1,2,3]:\n",
    "        if y > x and x != 1:\n",
    "            print(x)"
   ]
  },
  {
   "cell_type": "code",
   "execution_count": 74,
   "metadata": {},
   "outputs": [],
   "source": [
    "# Let's try using 'and' in my version:"
   ]
  },
  {
   "cell_type": "code",
   "execution_count": 75,
   "metadata": {},
   "outputs": [],
   "source": [
    "def two_sum2 (List, a): \n",
    "    Hope = 0\n",
    "    import random\n",
    "    while Hope != a:\n",
    "        sim = random.choice(List)\n",
    "        sam = a - sim\n",
    "        if sam in List and sam > sim:\n",
    "            Hope = a\n",
    "            return (List.index(sim), List.index(sam))\n",
    "            \n",
    "        else:\n",
    "            Hope = 0"
   ]
  },
  {
   "cell_type": "code",
   "execution_count": 77,
   "metadata": {},
   "outputs": [
    {
     "data": {
      "text/plain": [
       "(0, 2)"
      ]
     },
     "execution_count": 77,
     "metadata": {},
     "output_type": "execute_result"
    }
   ],
   "source": [
    "two_sum2([1,2,3],4)"
   ]
  },
  {
   "cell_type": "code",
   "execution_count": 78,
   "metadata": {},
   "outputs": [],
   "source": [
    "# Now let us try using the double for method instead of the random method: "
   ]
  },
  {
   "cell_type": "code",
   "execution_count": 85,
   "metadata": {},
   "outputs": [],
   "source": [
    "def two_sum3 (List, a): \n",
    "    Hope = 0\n",
    "    for x in List:\n",
    "        for y in List:\n",
    "            if x < y and x + y == a:\n",
    "                return (List.index(x), List.index(y))\n",
    "   "
   ]
  },
  {
   "cell_type": "code",
   "execution_count": 86,
   "metadata": {},
   "outputs": [
    {
     "data": {
      "text/plain": [
       "(0, 2)"
      ]
     },
     "execution_count": 86,
     "metadata": {},
     "output_type": "execute_result"
    }
   ],
   "source": [
    "two_sum3([1,2,3],4)"
   ]
  },
  {
   "cell_type": "code",
   "execution_count": null,
   "metadata": {},
   "outputs": [],
   "source": []
  }
 ],
 "metadata": {
  "kernelspec": {
   "display_name": "Python 3",
   "language": "python",
   "name": "python3"
  },
  "language_info": {
   "codemirror_mode": {
    "name": "ipython",
    "version": 3
   },
   "file_extension": ".py",
   "mimetype": "text/x-python",
   "name": "python",
   "nbconvert_exporter": "python",
   "pygments_lexer": "ipython3",
   "version": "3.7.3"
  }
 },
 "nbformat": 4,
 "nbformat_minor": 2
}
