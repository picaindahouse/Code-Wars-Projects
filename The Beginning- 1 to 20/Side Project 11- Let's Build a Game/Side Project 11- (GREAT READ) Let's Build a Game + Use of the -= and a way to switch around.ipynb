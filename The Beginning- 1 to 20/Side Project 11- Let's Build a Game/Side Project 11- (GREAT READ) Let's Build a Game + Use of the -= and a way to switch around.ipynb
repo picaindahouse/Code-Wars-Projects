{
 "cells": [
  {
   "cell_type": "code",
   "execution_count": 30,
   "metadata": {},
   "outputs": [],
   "source": [
    "# Given two fighters of different stats and the order they go in- return the winner of the fight\n",
    "# Use the class given below to aid you:"
   ]
  },
  {
   "cell_type": "code",
   "execution_count": 12,
   "metadata": {},
   "outputs": [],
   "source": [
    "class Fighter(object):\n",
    "    def __init__(self, name, health, damage_per_attack):\n",
    "        self.name = name\n",
    "        self.health = health\n",
    "        self.damage_per_attack = damage_per_attack\n",
    "\n",
    "    def __str__(self): \n",
    "        return \"Fighter({}, {}, {})\".format(self.name, self.health, self.damage_per_attack)\n",
    "    __repr__=__str__"
   ]
  },
  {
   "cell_type": "code",
   "execution_count": 10,
   "metadata": {},
   "outputs": [
    {
     "data": {
      "text/plain": [
       "Fighter(Fighter1, 10, 15)"
      ]
     },
     "execution_count": 10,
     "metadata": {},
     "output_type": "execute_result"
    }
   ],
   "source": [
    "Fighter ('Fighter1', 10, 15)"
   ]
  },
  {
   "cell_type": "code",
   "execution_count": 37,
   "metadata": {},
   "outputs": [],
   "source": [
    "def declare_winner (fighter1,fighter2,firstattacker):\n",
    "    if firstattacker == fighter1.name:\n",
    "        tom = fighter1                 # Use this to ensure that tom always goes first\n",
    "        jerry = fighter2\n",
    "    else:\n",
    "        tom = fighter2\n",
    "        jerry = fighter1\n",
    "    while int(tom.health) > 0 and int(jerry.health) > 0:   # Use end here\n",
    "        jerry.health = int(jerry.health) - int(tom.damage_per_attack)\n",
    "        if int(fighter2.health) > 0:\n",
    "            tom.health = int(tom.health) - int(jerry.damage_per_attack)\n",
    "    return tom.name if int(tom.health) > 0 else jerry.name"
   ]
  },
  {
   "cell_type": "code",
   "execution_count": 38,
   "metadata": {},
   "outputs": [
    {
     "data": {
      "text/plain": [
       "'Lew'"
      ]
     },
     "execution_count": 38,
     "metadata": {},
     "output_type": "execute_result"
    }
   ],
   "source": [
    "declare_winner(Fighter(\"Lew\", 10, 2),Fighter(\"Harry\", 5, 4), \"Lew\")"
   ]
  },
  {
   "cell_type": "code",
   "execution_count": 41,
   "metadata": {},
   "outputs": [
    {
     "data": {
      "text/plain": [
       "'Lew'"
      ]
     },
     "execution_count": 41,
     "metadata": {},
     "output_type": "execute_result"
    }
   ],
   "source": [
    "declare_winner(Fighter(\"Lew\", 10, 2),Fighter(\"Harry\", 5, 4), \"Harry\") # Should give 'Harry'"
   ]
  },
  {
   "cell_type": "code",
   "execution_count": 44,
   "metadata": {},
   "outputs": [],
   "source": [
    "def declare_winner (fighter1,fighter2,firstattacker):\n",
    "    if firstattacker == fighter1.name:\n",
    "        tom = fighter1\n",
    "        jerry = fighter2\n",
    "    else:\n",
    "        tom = fighter2\n",
    "        jerry = fighter1\n",
    "    while int(tom.health) > 0 and int(jerry.health) > 0:\n",
    "        jerry.health = int(jerry.health) - int(tom.damage_per_attack)\n",
    "        if int(jerry.health) > 0:    # Had forgotten to change here\n",
    "            tom.health = int(tom.health) - int(jerry.damage_per_attack)\n",
    "    return tom.name if int(tom.health) > 0 else jerry.name"
   ]
  },
  {
   "cell_type": "code",
   "execution_count": 45,
   "metadata": {},
   "outputs": [
    {
     "data": {
      "text/plain": [
       "'Harry'"
      ]
     },
     "execution_count": 45,
     "metadata": {},
     "output_type": "execute_result"
    }
   ],
   "source": [
    "declare_winner(Fighter(\"Lew\", 10, 2),Fighter(\"Harry\", 5, 4), \"Harry\")   # Nice"
   ]
  },
  {
   "cell_type": "code",
   "execution_count": 46,
   "metadata": {},
   "outputs": [],
   "source": [
    "# Below is another method- they used a similar method to deepCount so learn together I guess\n",
    "# Everything discussed below is taught in Extra- How to make multi variables, switch around and add using +="
   ]
  },
  {
   "cell_type": "code",
   "execution_count": 47,
   "metadata": {},
   "outputs": [],
   "source": [
    "def declare_winner(fighter1, fighter2, first_attacker):\n",
    "    cur, opp = (fighter1, fighter2) if first_attacker == fighter1.name else (fighter2, fighter1)\n",
    "    while cur.health > 0:        \n",
    "        opp.health -= cur.damage_per_attack\n",
    "        cur, opp = opp, cur\n",
    "    return opp.name"
   ]
  },
  {
   "cell_type": "code",
   "execution_count": 1,
   "metadata": {},
   "outputs": [],
   "source": [
    "# So the code might look quite different- but they are actually the same!!!\n",
    "# Lets's look at how this is line by line"
   ]
  },
  {
   "cell_type": "code",
   "execution_count": null,
   "metadata": {},
   "outputs": [],
   "source": [
    "# In my code- I ensure that the tom is always the first one to go like this:\n",
    "if firstattacker == fighter1.name:\n",
    "    tom = fighter1\n",
    "    jerry = fighter2\n",
    "else:\n",
    "    tom = fighter2\n",
    "    jerry = fighter1\n",
    "# However, could have just done this:\n",
    "tom, jerry = (fighter1 , fighter2) if fighter1 == firstattacker else (fighter2, fighter1)\n",
    "\n",
    "# Just learnt that when x,y = 1,2 - x = 1, y = 2\n",
    "# Best to bracket as there is alot of code for python to have to try to differentiate"
   ]
  },
  {
   "cell_type": "code",
   "execution_count": null,
   "metadata": {},
   "outputs": [],
   "source": [
    "# Thus the code becomes:\n",
    "def declare_winner (fighter1,fighter2,firstattacker):\n",
    "    tom, jerry = (fighter1 , fighter2) if fighter1 == firstattacker else (fighter2, fighter1)\n",
    "    while int(tom.health) > 0 and int(jerry.health) > 0:\n",
    "        jerry.health = int(jerry.health) - int(tom.damage_per_attack)\n",
    "        if int(jerry.health) > 0:\n",
    "            tom.health = int(tom.health) - int(jerry.damage_per_attack)\n",
    "    return tom.name if int(tom.health) > 0 else jerry.name"
   ]
  },
  {
   "cell_type": "code",
   "execution_count": 3,
   "metadata": {},
   "outputs": [
    {
     "data": {
      "text/plain": [
       "6"
      ]
     },
     "execution_count": 3,
     "metadata": {},
     "output_type": "execute_result"
    }
   ],
   "source": [
    "# An easier way to add and subtract\n",
    "tim = 5\n",
    "tim = tim+1\n",
    "tim"
   ]
  },
  {
   "cell_type": "code",
   "execution_count": 5,
   "metadata": {},
   "outputs": [
    {
     "data": {
      "text/plain": [
       "6"
      ]
     },
     "execution_count": 5,
     "metadata": {},
     "output_type": "execute_result"
    }
   ],
   "source": [
    "tim = 5\n",
    "tim += 1\n",
    "tim"
   ]
  },
  {
   "cell_type": "code",
   "execution_count": 7,
   "metadata": {},
   "outputs": [],
   "source": [
    "# Thus we can use this to make writing long codes easier:\n",
    "def declare_winner (fighter1,fighter2,firstattacker):\n",
    "    tom, jerry = (fighter1 , fighter2) if fighter1 == firstattacker else (fighter2, fighter1)\n",
    "    while int(tom.health) > 0 and int(jerry.health) > 0:\n",
    "        jerry.health -= int(tom.damage_per_attack)\n",
    "        if int(jerry.health) > 0:\n",
    "            tom.health -= int(jerry.damage_per_attack)\n",
    "    return tom.name if int(tom.health) > 0 else jerry.name"
   ]
  },
  {
   "cell_type": "code",
   "execution_count": null,
   "metadata": {},
   "outputs": [],
   "source": [
    "# Finally- prob the best part: the SWITCH:\n",
    "# To ensure that the fight keeps on switching in a turn based fashion:\n",
    "# Instead of:\n",
    "    while int(tom.health) > 0 and int(jerry.health) > 0:\n",
    "        jerry.health -= int(tom.damage_per_attack)\n",
    "        if int(jerry.health) > 0:\n",
    "            tom.health -= int(jerry.damage_per_attack)\n",
    "# Do this:\n",
    "    while tom.health > 0:        \n",
    "        jerry.health -= tom.damage_per_attack\n",
    "        tom, jerry = jerry, tom\n",
    "# Amazing- what this does is this:\n",
    "# At first:\n",
    "tom = fighter1\n",
    "jerry = fighter2\n",
    "tom attack jerry\n",
    "then switch:\n",
    "    tom = fighter2\n",
    "    jerry = fighter1\n",
    "# Now the while restarts:\n",
    "# Thus fighter2 now attacks fighter1\n",
    "# Continue switching until one dies"
   ]
  },
  {
   "cell_type": "code",
   "execution_count": 14,
   "metadata": {},
   "outputs": [],
   "source": [
    "# Thus final code:\n",
    "def declare_winner (fighter1,fighter2,firstattacker):\n",
    "    tom, jerry = (fighter1 , fighter2) if fighter1 == firstattacker else (fighter2, fighter1)\n",
    "    while int(tom.health) > 0:\n",
    "        jerry.health -= tom.damage_per_attack\n",
    "        tom, jerry = jerry, tom\n",
    "    return tom.name if int(tom.health) > 0 else jerry.name"
   ]
  },
  {
   "cell_type": "code",
   "execution_count": 15,
   "metadata": {},
   "outputs": [
    {
     "data": {
      "text/plain": [
       "'Harry'"
      ]
     },
     "execution_count": 15,
     "metadata": {},
     "output_type": "execute_result"
    }
   ],
   "source": [
    "declare_winner(Fighter(\"Lew\", 10, 2),Fighter(\"Harry\", 5, 4), \"Harry\") "
   ]
  },
  {
   "cell_type": "code",
   "execution_count": 16,
   "metadata": {},
   "outputs": [],
   "source": [
    "# Amazing I know- integrate this skills into my coding"
   ]
  },
  {
   "cell_type": "code",
   "execution_count": null,
   "metadata": {},
   "outputs": [],
   "source": []
  }
 ],
 "metadata": {
  "kernelspec": {
   "display_name": "Python 3",
   "language": "python",
   "name": "python3"
  },
  "language_info": {
   "codemirror_mode": {
    "name": "ipython",
    "version": 3
   },
   "file_extension": ".py",
   "mimetype": "text/x-python",
   "name": "python",
   "nbconvert_exporter": "python",
   "pygments_lexer": "ipython3",
   "version": "3.7.3"
  }
 },
 "nbformat": 4,
 "nbformat_minor": 2
}
