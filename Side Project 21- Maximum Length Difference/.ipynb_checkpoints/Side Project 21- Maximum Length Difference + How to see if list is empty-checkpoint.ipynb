{
 "cells": [
  {
   "cell_type": "code",
   "execution_count": 87,
   "metadata": {},
   "outputs": [],
   "source": [
    "# Given two lists return the maximum difference in length"
   ]
  },
  {
   "cell_type": "code",
   "execution_count": 88,
   "metadata": {},
   "outputs": [],
   "source": [
    "# Ans down below"
   ]
  },
  {
   "cell_type": "code",
   "execution_count": 3,
   "metadata": {},
   "outputs": [],
   "source": [
    "def Max (List):\n",
    "    return [len(x) for x in List]"
   ]
  },
  {
   "cell_type": "code",
   "execution_count": 4,
   "metadata": {},
   "outputs": [
    {
     "data": {
      "text/plain": [
       "[4, 6, 3, 7, 6, 10, 8, 11, 8, 6]"
      ]
     },
     "execution_count": 4,
     "metadata": {},
     "output_type": "execute_result"
    }
   ],
   "source": [
    "Max([\"hoqq\", \"bbllkw\", \"oox\", \"ejjuyyy\", \"plmiis\", \"xxxzgpsssa\", \"xxwwkktt\", \"znnnnfqknaz\", \"qqquuhii\", \"dvvvwz\"])"
   ]
  },
  {
   "cell_type": "code",
   "execution_count": 10,
   "metadata": {},
   "outputs": [
    {
     "data": {
      "text/plain": [
       "[16, 10, 12]"
      ]
     },
     "execution_count": 10,
     "metadata": {},
     "output_type": "execute_result"
    }
   ],
   "source": [
    "Tom = Max([\"cccooommaaqqoxii\", \"gggqaffhhh\", \"tttoowwwmmww\"])\n",
    "Tom"
   ]
  },
  {
   "cell_type": "code",
   "execution_count": 11,
   "metadata": {},
   "outputs": [
    {
     "data": {
      "text/plain": [
       "16"
      ]
     },
     "execution_count": 11,
     "metadata": {},
     "output_type": "execute_result"
    }
   ],
   "source": [
    "max(Tom)"
   ]
  },
  {
   "cell_type": "code",
   "execution_count": 35,
   "metadata": {},
   "outputs": [],
   "source": [
    "def diff(a,b):\n",
    "    tom = []\n",
    "    if a == [] :\n",
    "        return str(-1)\n",
    "    if b == []: \n",
    "        return str(-1)\n",
    "    elif (max(Max(a)) - min(Max(b))) > (max(Max(b)) - min(Max(a))):\n",
    "        return (max(Max(a)) - min(Max(b)))\n",
    "    else:\n",
    "        return (max(Max(b)) - min(Max(a)))"
   ]
  },
  {
   "cell_type": "code",
   "execution_count": 37,
   "metadata": {},
   "outputs": [],
   "source": [
    "def Max (List):\n",
    "    return [len(x) for x in List]\n",
    "def diff(a,b):\n",
    "    tom = []\n",
    "    if a == [] :\n",
    "        return str(-1)\n",
    "    if b == []: \n",
    "        return str(-1)\n",
    "    elif (max(Max(a)) - min(Max(b))) > (max(Max(b)) - min(Max(a))):\n",
    "        return (max(Max(a)) - min(Max(b)))\n",
    "    else:\n",
    "        return (max(Max(b)) - min(Max(a)))"
   ]
  },
  {
   "cell_type": "code",
   "execution_count": 38,
   "metadata": {},
   "outputs": [],
   "source": [
    "# After looking at answers:\n",
    "# IMPORTANT- HOW TO SEE IF A LIST IS EMPTY:"
   ]
  },
  {
   "cell_type": "code",
   "execution_count": 43,
   "metadata": {},
   "outputs": [],
   "source": [
    "def List_Empty (List):\n",
    "    if not List: \n",
    "        return 'List is Empty'\n",
    "    else:\n",
    "        return 'Fuck off'"
   ]
  },
  {
   "cell_type": "code",
   "execution_count": 44,
   "metadata": {},
   "outputs": [
    {
     "data": {
      "text/plain": [
       "'List is Empty'"
      ]
     },
     "execution_count": 44,
     "metadata": {},
     "output_type": "execute_result"
    }
   ],
   "source": [
    "List_Empty([])"
   ]
  },
  {
   "cell_type": "code",
   "execution_count": 45,
   "metadata": {},
   "outputs": [
    {
     "data": {
      "text/plain": [
       "'Fuck off'"
      ]
     },
     "execution_count": 45,
     "metadata": {},
     "output_type": "execute_result"
    }
   ],
   "source": [
    "List_Empty([1,2,3])"
   ]
  },
  {
   "cell_type": "code",
   "execution_count": 46,
   "metadata": {},
   "outputs": [],
   "source": [
    "# Thus when a question asks you to return somthing if list is empty, 2 ways to do this:"
   ]
  },
  {
   "cell_type": "code",
   "execution_count": 48,
   "metadata": {},
   "outputs": [],
   "source": [
    "def diff(a,b):\n",
    "    if a and b:              # This means if a and b ARE NOT EMPTY\n",
    "        if (max(Max(a)) - min(Max(b))) > (max(Max(b)) - min(Max(a))):\n",
    "            return (max(Max(a)) - min(Max(b)))\n",
    "        else:\n",
    "            return (max(Max(b)) - min(Max(a)))\n",
    "    return -1                # Therefore return -1 if empty"
   ]
  },
  {
   "cell_type": "code",
   "execution_count": 50,
   "metadata": {},
   "outputs": [],
   "source": [
    "# OR you do this:\n",
    "def diff (a,b):              \n",
    "    if not a or not b:       # This is saying if a is empty or if b is empty\n",
    "        return -1\n",
    "    else: \n",
    "        if (max(Max(a)) - min(Max(b))) > (max(Max(b)) - min(Max(a))):\n",
    "            return (max(Max(a)) - min(Max(b)))\n",
    "        else:\n",
    "            return (max(Max(b)) - min(Max(a)))"
   ]
  },
  {
   "cell_type": "code",
   "execution_count": null,
   "metadata": {},
   "outputs": [],
   "source": [
    "# I like the first method so let us use that before carrying on:\n",
    "def diff(a,b):\n",
    "    if a and b:             \n",
    "        if (max(Max(a)) - min(Max(b))) > (max(Max(b)) - min(Max(a))):\n",
    "            return (max(Max(a)) - min(Max(b)))\n",
    "        else:\n",
    "            return (max(Max(b)) - min(Max(a)))\n",
    "    return -1             "
   ]
  },
  {
   "cell_type": "code",
   "execution_count": 96,
   "metadata": {},
   "outputs": [],
   "source": [
    "tom = [\"hoqq\", \"bbllkw\", \"oox\", \"ejjuyyy\", \"plmiis\", \"xxxzgpsssa\", \"xxwwkktt\", \"znnnnfqknaz\", \"qqquuhii\", \"dvvvwz\"]\n",
    "tim = [\"cccooommaaqqoxii\", \"gggqaffhhh\", \"tttoowwwmmww\"]"
   ]
  },
  {
   "cell_type": "code",
   "execution_count": 97,
   "metadata": {
    "scrolled": true
   },
   "outputs": [
    {
     "data": {
      "text/plain": [
       "[-12,\n",
       " -6,\n",
       " -8,\n",
       " -10,\n",
       " -4,\n",
       " -6,\n",
       " -13,\n",
       " -7,\n",
       " -9,\n",
       " -9,\n",
       " -3,\n",
       " -5,\n",
       " -10,\n",
       " -4,\n",
       " -6,\n",
       " -6,\n",
       " 0,\n",
       " -2,\n",
       " -8,\n",
       " -2,\n",
       " -4,\n",
       " -5,\n",
       " 1,\n",
       " -1,\n",
       " -8,\n",
       " -2,\n",
       " -4,\n",
       " -10,\n",
       " -4,\n",
       " -6]"
      ]
     },
     "execution_count": 97,
     "metadata": {},
     "output_type": "execute_result"
    }
   ],
   "source": [
    "[len(x)-len(y) for x in tom for y in tim] # You can get all the possible diff. like this"
   ]
  },
  {
   "cell_type": "code",
   "execution_count": 100,
   "metadata": {
    "scrolled": true
   },
   "outputs": [
    {
     "data": {
      "text/plain": [
       "[12,\n",
       " 6,\n",
       " 8,\n",
       " 10,\n",
       " 4,\n",
       " 6,\n",
       " 13,\n",
       " 7,\n",
       " 9,\n",
       " 9,\n",
       " 3,\n",
       " 5,\n",
       " 10,\n",
       " 4,\n",
       " 6,\n",
       " 6,\n",
       " 0,\n",
       " 2,\n",
       " 8,\n",
       " 2,\n",
       " 4,\n",
       " 5,\n",
       " 1,\n",
       " 1,\n",
       " 8,\n",
       " 2,\n",
       " 4,\n",
       " 10,\n",
       " 4,\n",
       " 6]"
      ]
     },
     "execution_count": 100,
     "metadata": {},
     "output_type": "execute_result"
    }
   ],
   "source": [
    "[abs(len(x) - len(y)) for x in tom for y in tim] # By using abs you turn all the negative numbers positve and then just have to find the biggest value"
   ]
  },
  {
   "cell_type": "code",
   "execution_count": 101,
   "metadata": {},
   "outputs": [],
   "source": [
    "def diff (a,b):\n",
    "    if a and b:\n",
    "        return max(abs(len(x) - len(y)) for x in a for y in b)\n",
    "    else:\n",
    "        return -1"
   ]
  },
  {
   "cell_type": "code",
   "execution_count": 102,
   "metadata": {},
   "outputs": [
    {
     "data": {
      "text/plain": [
       "13"
      ]
     },
     "execution_count": 102,
     "metadata": {},
     "output_type": "execute_result"
    }
   ],
   "source": [
    "diff(tom,tim)"
   ]
  },
  {
   "cell_type": "code",
   "execution_count": null,
   "metadata": {},
   "outputs": [],
   "source": []
  }
 ],
 "metadata": {
  "kernelspec": {
   "display_name": "Python 3",
   "language": "python",
   "name": "python3"
  },
  "language_info": {
   "codemirror_mode": {
    "name": "ipython",
    "version": 3
   },
   "file_extension": ".py",
   "mimetype": "text/x-python",
   "name": "python",
   "nbconvert_exporter": "python",
   "pygments_lexer": "ipython3",
   "version": "3.7.3"
  }
 },
 "nbformat": 4,
 "nbformat_minor": 2
}
