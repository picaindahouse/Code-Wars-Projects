{
 "cells": [
  {
   "cell_type": "code",
   "execution_count": null,
   "metadata": {},
   "outputs": [],
   "source": [
    "# BUT- JUST USE SORT\n",
    "def find_uniq(arr):   \n",
    "    tom = sorted(arr)\n",
    "    if tom[0] != tom[1]:\n",
    "        if tom[0] != tom[-1]:\n",
    "            return tom[0]\n",
    "    else:\n",
    "        return tom[-1]"
   ]
  },
  {
   "cell_type": "code",
   "execution_count": 35,
   "metadata": {},
   "outputs": [],
   "source": [
    "# FASTEST OF THEM ALL\n",
    "def find_uniq(arr):   \n",
    "    x = 0\n",
    "    y = 0\n",
    "    while y < 1:\n",
    "        if arr[x] != arr[x-1]:\n",
    "            if x == 0:\n",
    "                if arr[0] != arr[1]:\n",
    "                    return arr[x]\n",
    "            else:\n",
    "                return arr[x]\n",
    "        x += 1"
   ]
  },
  {
   "cell_type": "code",
   "execution_count": 9,
   "metadata": {},
   "outputs": [],
   "source": [
    "def find_uniq(arr):\n",
    "    return [x for x in arr if arr.count(x) == 1][0]"
   ]
  },
  {
   "cell_type": "code",
   "execution_count": 7,
   "metadata": {},
   "outputs": [],
   "source": [
    "def find_uniq(arr):\n",
    "    for x in arr:\n",
    "        if arr.count(x) == 1:\n",
    "            return x"
   ]
  },
  {
   "cell_type": "code",
   "execution_count": 10,
   "metadata": {},
   "outputs": [],
   "source": [
    "def find_uniq(arr):   \n",
    "    x = 0\n",
    "    y = 0\n",
    "    while y < 1:\n",
    "        if arr.count(arr[x]) == 1:\n",
    "            return arr[x]\n",
    "        x += 1"
   ]
  }
 ],
 "metadata": {
  "kernelspec": {
   "display_name": "Python 3",
   "language": "python",
   "name": "python3"
  },
  "language_info": {
   "codemirror_mode": {
    "name": "ipython",
    "version": 3
   },
   "file_extension": ".py",
   "mimetype": "text/x-python",
   "name": "python",
   "nbconvert_exporter": "python",
   "pygments_lexer": "ipython3",
   "version": "3.7.3"
  }
 },
 "nbformat": 4,
 "nbformat_minor": 2
}
