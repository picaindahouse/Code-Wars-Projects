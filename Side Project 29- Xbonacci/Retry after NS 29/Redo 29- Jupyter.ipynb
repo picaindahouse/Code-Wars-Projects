{
 "cells": [
  {
   "cell_type": "code",
   "execution_count": 3,
   "metadata": {},
   "outputs": [],
   "source": [
    "def Xbonacci(signature, n):\n",
    "    og = len(signature)\n",
    "    if og > n:\n",
    "        return signature[:n]\n",
    "    while len(signature) != n:\n",
    "        signature.append(sum(signature[:-(og + 1):-1]))\n",
    "    return signature"
   ]
  },
  {
   "cell_type": "code",
   "execution_count": 5,
   "metadata": {},
   "outputs": [],
   "source": [
    "# The reason signature[:n] did not work was i used len(signature) != n instead of <\n",
    "def Xbonacci(signature, n):\n",
    "    og = len(signature)\n",
    "    while len(signature) < n:\n",
    "        signature.append(sum(signature[:-(og + 1):-1]))\n",
    "    return signature[:n]"
   ]
  },
  {
   "cell_type": "code",
   "execution_count": null,
   "metadata": {},
   "outputs": [],
   "source": [
    "def tribonacci(signature, n):\n",
    "    while len(signature) < n:\n",
    "        signature.append(sum(signature[:-4:-1]))\n",
    "    return signature[:n]"
   ]
  },
  {
   "cell_type": "code",
   "execution_count": null,
   "metadata": {},
   "outputs": [],
   "source": [
    "signature = [0,1]\n",
    "n = 1"
   ]
  },
  {
   "cell_type": "code",
   "execution_count": null,
   "metadata": {},
   "outputs": [],
   "source": [
    "signature[:-(len(signature) + 1):-1]"
   ]
  },
  {
   "cell_type": "code",
   "execution_count": null,
   "metadata": {},
   "outputs": [],
   "source": [
    "og = len(signature)\n",
    "while len(signature) != n:\n",
    "    signature.append(sum(signature[:-(og + 1):-1]))\n",
    "signature"
   ]
  },
  {
   "cell_type": "code",
   "execution_count": 7,
   "metadata": {},
   "outputs": [
    {
     "data": {
      "text/plain": [
       "[0, 3, 4, 7, 14, 25, 46, 85, 156, 287]"
      ]
     },
     "execution_count": 7,
     "metadata": {},
     "output_type": "execute_result"
    }
   ],
   "source": [
    "Xbonacci([0,3,4],10)"
   ]
  },
  {
   "cell_type": "code",
   "execution_count": null,
   "metadata": {},
   "outputs": [],
   "source": []
  }
 ],
 "metadata": {
  "kernelspec": {
   "display_name": "Python 3",
   "language": "python",
   "name": "python3"
  },
  "language_info": {
   "codemirror_mode": {
    "name": "ipython",
    "version": 3
   },
   "file_extension": ".py",
   "mimetype": "text/x-python",
   "name": "python",
   "nbconvert_exporter": "python",
   "pygments_lexer": "ipython3",
   "version": "3.7.3"
  }
 },
 "nbformat": 4,
 "nbformat_minor": 2
}
