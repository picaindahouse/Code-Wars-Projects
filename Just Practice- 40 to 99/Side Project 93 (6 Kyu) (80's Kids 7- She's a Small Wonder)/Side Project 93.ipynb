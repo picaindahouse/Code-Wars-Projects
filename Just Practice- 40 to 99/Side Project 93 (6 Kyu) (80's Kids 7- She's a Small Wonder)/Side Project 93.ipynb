{
 "cells": [
  {
   "cell_type": "code",
   "execution_count": 8,
   "metadata": {},
   "outputs": [],
   "source": [
    "class Robot:\n",
    "    def __init__(self):\n",
    "        tom = []\n",
    "        [tom.append(x)  for x in 'Thank you for teaching me I already know the word i do not understand the input'.lower().split()]\n",
    "        self.tom = tom\n",
    "        pass\n",
    "    def learn_word(self, word):\n",
    "        if not word or len([x for x in word if x.lower() in 'abcdefghijklmnopqrstuvwxyz']) < len(word):  return 'I do not understand the input'\n",
    "        elif word.lower() not in self.tom: \n",
    "            self.tom.append(word.lower())\n",
    "            return 'Thank you for teaching me {}'.format(word)\n",
    "        else: return 'I already know the word {}'.format(word)"
   ]
  },
  {
   "cell_type": "code",
   "execution_count": 1,
   "metadata": {},
   "outputs": [],
   "source": [
    "class Robot:\n",
    "    def __init__(self):\n",
    "        tom = []\n",
    "        pass\n",
    "    def learn_word(self, word):\n",
    "        if word not in tom: \n",
    "            tom.append(word)\n",
    "            return 'Thank you for teaching me {}'.format(word)\n",
    "        else: 'I already know the word {}'.format(word)"
   ]
  },
  {
   "cell_type": "code",
   "execution_count": 9,
   "metadata": {},
   "outputs": [
    {
     "name": "stdout",
     "output_type": "stream",
     "text": [
      "['thank', 'you', 'for', 'teaching', 'me', 'i', 'already', 'know', 'the', 'word']\n"
     ]
    }
   ],
   "source": [
    "kyu = Robot()"
   ]
  },
  {
   "cell_type": "code",
   "execution_count": 11,
   "metadata": {},
   "outputs": [
    {
     "data": {
      "text/plain": [
       "True"
      ]
     },
     "execution_count": 11,
     "metadata": {},
     "output_type": "execute_result"
    }
   ],
   "source": [
    "'3'.isdigit()"
   ]
  },
  {
   "cell_type": "code",
   "execution_count": 14,
   "metadata": {},
   "outputs": [
    {
     "data": {
      "text/plain": [
       "False"
      ]
     },
     "execution_count": 14,
     "metadata": {},
     "output_type": "execute_result"
    }
   ],
   "source": [
    "len([x for x in 'help' if x in 'abcdefghijklmnopqrstuvwxyz']) < len('help')"
   ]
  },
  {
   "cell_type": "code",
   "execution_count": null,
   "metadata": {},
   "outputs": [],
   "source": []
  }
 ],
 "metadata": {
  "kernelspec": {
   "display_name": "Python 3",
   "language": "python",
   "name": "python3"
  },
  "language_info": {
   "codemirror_mode": {
    "name": "ipython",
    "version": 3
   },
   "file_extension": ".py",
   "mimetype": "text/x-python",
   "name": "python",
   "nbconvert_exporter": "python",
   "pygments_lexer": "ipython3",
   "version": "3.7.3"
  }
 },
 "nbformat": 4,
 "nbformat_minor": 2
}
