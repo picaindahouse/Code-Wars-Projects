{
 "cells": [
  {
   "cell_type": "code",
   "execution_count": null,
   "metadata": {},
   "outputs": [],
   "source": [
    "# A new arrow to my bow- the position technique learnt in the carpark question!"
   ]
  },
  {
   "cell_type": "code",
   "execution_count": 245,
   "metadata": {},
   "outputs": [],
   "source": [
    "def create_spiral(n):\n",
    "    if type(n) != int or n < 1:\n",
    "        return []\n",
    "    swirl,position = [[int(y) for y in str(0)*n] for x in range(n)], [0,0]\n",
    "    tom = 1\n",
    "    for x in range(1,n**2 + 1):\n",
    "        if swirl[position[0]][position[1]] == 0:\n",
    "            swirl[position[0]][position[1]] = x\n",
    "        if position[0] > 0 and swirl[position[0] - 1][position[1]] == 0 and tom == 1:\n",
    "            position[0] -= 1\n",
    "        elif position[1] < n-1 and swirl[position[0]][position[1] + 1] == 0 and tom == 1:\n",
    "            position[1] += 1\n",
    "        elif position[0] < n-1 and swirl[position[0] + 1][position[1]] == 0 and tom == 1:\n",
    "            position[0] += 1\n",
    "        elif position[1] > 0:\n",
    "            position[1] -= 1\n",
    "            tom += 1\n",
    "            if swirl[position[0]].count(0) == 1:\n",
    "                tom = 1    \n",
    "    return swirl"
   ]
  },
  {
   "cell_type": "code",
   "execution_count": null,
   "metadata": {},
   "outputs": [],
   "source": [
    "[[1,2,3,4,5],[16,17,18,19,6],[15,24,25,20,7],[14,23,22,21,8],[13,12,11,10,9]]"
   ]
  },
  {
   "cell_type": "code",
   "execution_count": 59,
   "metadata": {},
   "outputs": [],
   "source": [
    "n = 5"
   ]
  },
  {
   "cell_type": "code",
   "execution_count": 60,
   "metadata": {},
   "outputs": [
    {
     "data": {
      "text/plain": [
       "range(1, 10)"
      ]
     },
     "execution_count": 60,
     "metadata": {},
     "output_type": "execute_result"
    }
   ],
   "source": [
    "range(1,3**2+1)"
   ]
  },
  {
   "cell_type": "code",
   "execution_count": 67,
   "metadata": {},
   "outputs": [
    {
     "data": {
      "text/plain": [
       "[[1, 2, 3, 4, 5],\n",
       " [16, 17, 18, 19, 6],\n",
       " [15, 20, 21, 22, 23, 24, 25, 7],\n",
       " [14, 8],\n",
       " [13, 12, 11, 10, 9]]"
      ]
     },
     "execution_count": 67,
     "metadata": {},
     "output_type": "execute_result"
    }
   ],
   "source": [
    "tom"
   ]
  },
  {
   "cell_type": "code",
   "execution_count": 32,
   "metadata": {},
   "outputs": [
    {
     "data": {
      "text/plain": [
       "2"
      ]
     },
     "execution_count": 32,
     "metadata": {},
     "output_type": "execute_result"
    }
   ],
   "source": [
    "count"
   ]
  },
  {
   "cell_type": "code",
   "execution_count": 235,
   "metadata": {},
   "outputs": [
    {
     "data": {
      "text/plain": [
       "[[0, 0, 0, 0, 0],\n",
       " [0, 0, 0, 0, 0],\n",
       " [0, 0, 0, 0, 0],\n",
       " [0, 0, 0, 0, 0],\n",
       " [0, 0, 0, 0, 0]]"
      ]
     },
     "execution_count": 235,
     "metadata": {},
     "output_type": "execute_result"
    }
   ],
   "source": [
    "swirl = [[int(y) for y in str(0)*n] for x in range(n)]\n",
    "swirl"
   ]
  },
  {
   "cell_type": "code",
   "execution_count": 236,
   "metadata": {},
   "outputs": [],
   "source": [
    "position = [0,0]"
   ]
  },
  {
   "cell_type": "code",
   "execution_count": 237,
   "metadata": {},
   "outputs": [],
   "source": [
    "tom = 1\n",
    "for x in range(1,n**2 + 1):\n",
    "    if swirl[position[0]][position[1]] == 0:\n",
    "        swirl[position[0]][position[1]] = x\n",
    "    if position[0] > 0 and swirl[position[0] - 1][position[1]] == 0 and tom == 1:\n",
    "        position[0] -= 1\n",
    "    elif position[1] < n-1 and swirl[position[0]][position[1] + 1] == 0 and tom == 1:\n",
    "        position[1] += 1\n",
    "    elif position[0] < n-1 and swirl[position[0] + 1][position[1]] == 0 and tom == 1:\n",
    "        position[0] += 1\n",
    "    elif position[1] > 0:\n",
    "        position[1] -= 1\n",
    "        tom += 1\n",
    "        if swirl[position[0]].count(0) == 1:\n",
    "            tom = 1"
   ]
  },
  {
   "cell_type": "code",
   "execution_count": 209,
   "metadata": {},
   "outputs": [
    {
     "data": {
      "text/plain": [
       "[4, 0]"
      ]
     },
     "execution_count": 209,
     "metadata": {},
     "output_type": "execute_result"
    }
   ],
   "source": [
    "position"
   ]
  },
  {
   "cell_type": "code",
   "execution_count": 211,
   "metadata": {},
   "outputs": [
    {
     "data": {
      "text/plain": [
       "0"
      ]
     },
     "execution_count": 211,
     "metadata": {},
     "output_type": "execute_result"
    }
   ],
   "source": [
    "swirl[position[0]].count(0)"
   ]
  },
  {
   "cell_type": "code",
   "execution_count": 247,
   "metadata": {},
   "outputs": [
    {
     "data": {
      "text/plain": [
       "[[1, 2, 3, 4, 5, 6],\n",
       " [20, 21, 22, 23, 24, 7],\n",
       " [19, 32, 33, 34, 25, 8],\n",
       " [18, 31, 36, 35, 26, 9],\n",
       " [17, 30, 29, 28, 27, 10],\n",
       " [16, 15, 14, 13, 12, 11]]"
      ]
     },
     "execution_count": 247,
     "metadata": {},
     "output_type": "execute_result"
    }
   ],
   "source": [
    "create_spiral(6)"
   ]
  },
  {
   "cell_type": "code",
   "execution_count": null,
   "metadata": {},
   "outputs": [],
   "source": []
  }
 ],
 "metadata": {
  "kernelspec": {
   "display_name": "Python 3",
   "language": "python",
   "name": "python3"
  },
  "language_info": {
   "codemirror_mode": {
    "name": "ipython",
    "version": 3
   },
   "file_extension": ".py",
   "mimetype": "text/x-python",
   "name": "python",
   "nbconvert_exporter": "python",
   "pygments_lexer": "ipython3",
   "version": "3.7.3"
  }
 },
 "nbformat": 4,
 "nbformat_minor": 2
}
