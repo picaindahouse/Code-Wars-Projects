{
 "cells": [
  {
   "cell_type": "code",
   "execution_count": null,
   "metadata": {},
   "outputs": [],
   "source": [
    "def split (tom):\n",
    "    if len(tom)%2 == 0:\n",
    "        return [x + y for i,x in enumerate(tom[0:int(len(tom)/2)]) for r,y in enumerate(tom[int(len(tom)/2):]) if i == r]\n",
    "    else:\n",
    "        tim = list(enumerate(tom[0:int(len(tom)/2)]))\n",
    "        tim.insert(0,(-1,0))\n",
    "        return[x + y for i,x in tim for r,y in enumerate(tom[int(len(tom)/2):]) if r == i + 1]"
   ]
  },
  {
   "cell_type": "code",
   "execution_count": 5,
   "metadata": {},
   "outputs": [],
   "source": [
    "def split_and_add(numbers, n):\n",
    "    tries = 0\n",
    "    while tries != n and len(numbers) != 1:\n",
    "        tries += 1\n",
    "        numbers = split(numbers)\n",
    "    return numbers"
   ]
  },
  {
   "cell_type": "code",
   "execution_count": null,
   "metadata": {},
   "outputs": [],
   "source": [
    "tom = [1,2,3,4,5,6,7]"
   ]
  },
  {
   "cell_type": "code",
   "execution_count": null,
   "metadata": {},
   "outputs": [],
   "source": [
    "tim = (tom[0:int(len(tom)/2)]).insert(0,(-1,0))\n",
    "tim"
   ]
  },
  {
   "cell_type": "code",
   "execution_count": null,
   "metadata": {},
   "outputs": [],
   "source": [
    "tim = list()\n",
    "tim"
   ]
  },
  {
   "cell_type": "code",
   "execution_count": null,
   "metadata": {},
   "outputs": [],
   "source": [
    "tam = tom[int(len(tom)/2):]\n",
    "list(enumerate(tam))"
   ]
  },
  {
   "cell_type": "code",
   "execution_count": null,
   "metadata": {},
   "outputs": [],
   "source": [
    "if len(tom)%2 == 0:\n",
    "    print([x + y for i,x in tim for r,y in enumerate(tam) if i == r])\n",
    "else:\n",
    "    tim.insert(0,(-1,0))\n",
    "    print([x + y for i,x in tim for r,y in enumerate(tam) if r == i + 1])"
   ]
  },
  {
   "cell_type": "code",
   "execution_count": null,
   "metadata": {},
   "outputs": [],
   "source": [
    "split(tom)"
   ]
  },
  {
   "cell_type": "code",
   "execution_count": 8,
   "metadata": {},
   "outputs": [
    {
     "data": {
      "text/plain": [
       "[28]"
      ]
     },
     "execution_count": 8,
     "metadata": {},
     "output_type": "execute_result"
    }
   ],
   "source": [
    "split_and_add(tom, 5)"
   ]
  },
  {
   "cell_type": "code",
   "execution_count": null,
   "metadata": {},
   "outputs": [],
   "source": []
  }
 ],
 "metadata": {
  "kernelspec": {
   "display_name": "Python 3",
   "language": "python",
   "name": "python3"
  },
  "language_info": {
   "codemirror_mode": {
    "name": "ipython",
    "version": 3
   },
   "file_extension": ".py",
   "mimetype": "text/x-python",
   "name": "python",
   "nbconvert_exporter": "python",
   "pygments_lexer": "ipython3",
   "version": "3.7.3"
  }
 },
 "nbformat": 4,
 "nbformat_minor": 2
}
