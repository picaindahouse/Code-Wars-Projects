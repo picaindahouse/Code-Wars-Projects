{
 "cells": [
  {
   "cell_type": "code",
   "execution_count": 187,
   "metadata": {},
   "outputs": [],
   "source": [
    "import datetime\n",
    "def subs_offset_apply(string, offset):\n",
    "    if offset <0:\n",
    "        if int(abs(offset)/1000/60/60) > int(string[0:2]) or int(abs(offset)/1000/60/60) == int(string[0:2]) and int(abs(offset)/1000/60%60) > int(string[3:5]) or int(abs(offset)/1000/60/60) == int(string[0:2]) and int(abs(offset)/1000/60%60) == int(string[3:5]) and int(abs(offset)/1000%60) > int(string[6:8]):\n",
    "            return \"Invalid offset\"\n",
    "    haiz = datetime.datetime(1,1,1 if int(string[0:2]) < 24 else 1 + int(int(string[0:2])/ 24),int(string[0:2]) if int(string[0:2]) <24 else int(string[0:2])% 24,int(string[3:5]),int(string[6:8])) + datetime.timedelta(seconds = (int(string[9:13]) + offset)/1000)\n",
    "    crime = datetime.datetime(1,1,1 if int(string[17:19]) < 24 else 1 + int(int(string[17:19])/ 24),int(string[17:19]) if int(string[17:19]) <24 else int(string[17:19])% 24,int(string[20:22]),int(string[23:25])) + datetime.timedelta(seconds = (int(string[26:29]) + offset)/1000)\n",
    "    return '{}:{}:{},{} --> {}:{}:{},{}{}'.format((haiz.day - 1) * 24 + haiz.hour if haiz.day > 1 else haiz.hour if haiz.hour>9 else '0'+str(haiz.hour),haiz.minute if haiz.minute>9 else '0'+str(haiz.minute),haiz.second if haiz.second>9 else '0'+str(haiz.second),(int(string[9:13]) + offset)%1000 if (int(string[9:13]) + offset)%1000 > 99 else '0' + str((int(string[9:13]) + offset)%1000) if (int(string[9:13]) + offset)%1000 > 9 else '00' + str((int(string[9:13]) + offset)%1000),(crime.day - 1) * 24 + crime.hour if crime.day > 1 else crime.hour if crime.hour>9 else '0'+str(crime.hour),crime.minute if crime.minute>9 else '0'+str(crime.minute) ,crime.second if crime.second>9 else '0'+str(crime.second) ,(int(string[26:29]) + offset)%1000 if (int(string[26:29]) + offset)%1000 > 99 else '0' + str((int(string[26:29]) + offset)%1000) if (int(string[26:29]) + offset)%1000 > 9 else '00' + str((int(string[26:29]) + offset)%1000),string[29:])"
   ]
  },
  {
   "cell_type": "code",
   "execution_count": 188,
   "metadata": {},
   "outputs": [
    {
     "data": {
      "text/plain": [
       "(4, 2)"
      ]
     },
     "execution_count": 188,
     "metadata": {},
     "output_type": "execute_result"
    }
   ],
   "source": [
    "1 if int(string[17:19]) < 24 else int(int(string[17:19])/ 24),int(string[17:19]) if int(string[17:19]) <24 else int(string[17:19])% 24"
   ]
  },
  {
   "cell_type": "code",
   "execution_count": 199,
   "metadata": {},
   "outputs": [],
   "source": [
    "string, offset = '99:59:28,957 --> 99:59:31,957 Thank you.' ,1929036"
   ]
  },
  {
   "cell_type": "code",
   "execution_count": 200,
   "metadata": {},
   "outputs": [
    {
     "data": {
      "text/plain": [
       "'100:31:37,993 --> 100:31:40,993 Thank you.'"
      ]
     },
     "execution_count": 200,
     "metadata": {},
     "output_type": "execute_result"
    }
   ],
   "source": [
    "subs_offset_apply(string,offset)"
   ]
  },
  {
   "cell_type": "code",
   "execution_count": 201,
   "metadata": {},
   "outputs": [
    {
     "data": {
      "text/plain": [
       "0.5358433333333334"
      ]
     },
     "execution_count": 201,
     "metadata": {},
     "output_type": "execute_result"
    }
   ],
   "source": [
    "offset/1000/60/60  "
   ]
  },
  {
   "cell_type": "code",
   "execution_count": 208,
   "metadata": {},
   "outputs": [
    {
     "data": {
      "text/plain": [
       "5"
      ]
     },
     "execution_count": 208,
     "metadata": {},
     "output_type": "execute_result"
    }
   ],
   "source": [
    "haiz = datetime.datetime(1,1,1 if int(string[0:2]) < 24 else 1 + int(int(string[0:2])/ 24),int(string[0:2]) if int(string[0:2]) <24 else int(string[0:2])% 24,int(string[3:5]),int(string[6:8])) + datetime.timedelta(seconds = (int(string[9:13]) + offset)/1000)\n",
    "haiz.day"
   ]
  },
  {
   "cell_type": "code",
   "execution_count": 209,
   "metadata": {},
   "outputs": [
    {
     "data": {
      "text/plain": [
       "100"
      ]
     },
     "execution_count": 209,
     "metadata": {},
     "output_type": "execute_result"
    }
   ],
   "source": [
    "(haiz.day - 1) * 24 + haiz.hour "
   ]
  },
  {
   "cell_type": "code",
   "execution_count": 147,
   "metadata": {},
   "outputs": [
    {
     "data": {
      "text/plain": [
       "2"
      ]
     },
     "execution_count": 147,
     "metadata": {},
     "output_type": "execute_result"
    }
   ],
   "source": [
    "int(string[23:25])"
   ]
  },
  {
   "cell_type": "code",
   "execution_count": 148,
   "metadata": {},
   "outputs": [],
   "source": [
    "import datetime"
   ]
  },
  {
   "cell_type": "code",
   "execution_count": 159,
   "metadata": {},
   "outputs": [
    {
     "data": {
      "text/plain": [
       "99"
      ]
     },
     "execution_count": 159,
     "metadata": {},
     "output_type": "execute_result"
    }
   ],
   "source": [
    "haiz = datetime.datetime(1,1,1,int(string[0:2]),int(string[3:5]),int(string[6:8])) + datetime.timedelta(seconds = (int(string[9:13]) + offset)/1000)\n",
    "(haiz.day - 1) * 24 + haiz.hour"
   ]
  },
  {
   "cell_type": "code",
   "execution_count": 86,
   "metadata": {},
   "outputs": [
    {
     "data": {
      "text/plain": [
       "datetime.datetime(1, 1, 1, 2, 10, 7, 256000)"
      ]
     },
     "execution_count": 86,
     "metadata": {},
     "output_type": "execute_result"
    }
   ],
   "source": [
    "crime = datetime.datetime(1,1,1,int(string[17:19]),int(string[20:22]),int(string[23:25])) + datetime.timedelta(seconds = (int(string[26:29]) + offset)/1000)\n",
    "crime"
   ]
  },
  {
   "cell_type": "code",
   "execution_count": 69,
   "metadata": {},
   "outputs": [
    {
     "data": {
      "text/plain": [
       "339"
      ]
     },
     "execution_count": 69,
     "metadata": {},
     "output_type": "execute_result"
    }
   ],
   "source": [
    "(int(string[9:13]) + offset)%1000"
   ]
  },
  {
   "cell_type": "code",
   "execution_count": 32,
   "metadata": {},
   "outputs": [
    {
     "data": {
      "text/plain": [
       "256"
      ]
     },
     "execution_count": 32,
     "metadata": {},
     "output_type": "execute_result"
    }
   ],
   "source": [
    "(int(string[26:29]) + offset)%1000"
   ]
  },
  {
   "cell_type": "code",
   "execution_count": 92,
   "metadata": {},
   "outputs": [
    {
     "data": {
      "text/plain": [
       "'02:10:06,339 --> 02:10:07,256 Run Forrest, run!'"
      ]
     },
     "execution_count": 92,
     "metadata": {},
     "output_type": "execute_result"
    }
   ],
   "source": [
    "'{}:{}:{},{} --> {}:{}:{},{}{}'.format(haiz.hour if haiz.hour>9 else '0'+str(haiz.hour),haiz.minute if haiz.minute>9 else '0'+str(haiz.minute),haiz.second if haiz.second>9 else '0'+str(haiz.second),(int(string[9:13]) + offset)%1000,crime.hour if crime.hour>9 else '0'+str(crime.hour) ,crime.minute if crime.minute>9 else '0'+str(crime.minute) ,crime.second if crime.second>9 else '0'+str(crime.second) ,(int(string[26:29]) + offset)%1000,string[29:])"
   ]
  },
  {
   "cell_type": "code",
   "execution_count": 91,
   "metadata": {},
   "outputs": [
    {
     "data": {
      "text/plain": [
       "'02'"
      ]
     },
     "execution_count": 91,
     "metadata": {},
     "output_type": "execute_result"
    }
   ],
   "source": [
    "crime.hour if crime.hour>9 else '0'+str(crime.hour) "
   ]
  },
  {
   "cell_type": "code",
   "execution_count": 103,
   "metadata": {},
   "outputs": [
    {
     "data": {
      "text/plain": [
       "15.0"
      ]
     },
     "execution_count": 103,
     "metadata": {},
     "output_type": "execute_result"
    }
   ],
   "source": [
    "195000/1000%60"
   ]
  },
  {
   "cell_type": "code",
   "execution_count": 136,
   "metadata": {},
   "outputs": [
    {
     "data": {
      "text/plain": [
       "452"
      ]
     },
     "execution_count": 136,
     "metadata": {},
     "output_type": "execute_result"
    }
   ],
   "source": [
    "(int(string[9:13]) + offset)%1000 if (int(string[9:13]) + offset)%1000 > 99 else '0' + str((int(string[9:13]) + offset)%1000) if (int(string[9:13]) + offset)%1000 > 9 else '00' + str((int(string[9:13]) + offset)%1000)"
   ]
  },
  {
   "cell_type": "code",
   "execution_count": null,
   "metadata": {},
   "outputs": [],
   "source": [
    "(crime.day - 1) * 24 + crime.hour if crime.day > 1 else crime.hour if crime.hour>9 else '0'+str(crime.hour)"
   ]
  }
 ],
 "metadata": {
  "kernelspec": {
   "display_name": "Python 3",
   "language": "python",
   "name": "python3"
  },
  "language_info": {
   "codemirror_mode": {
    "name": "ipython",
    "version": 3
   },
   "file_extension": ".py",
   "mimetype": "text/x-python",
   "name": "python",
   "nbconvert_exporter": "python",
   "pygments_lexer": "ipython3",
   "version": "3.7.3"
  }
 },
 "nbformat": 4,
 "nbformat_minor": 2
}
