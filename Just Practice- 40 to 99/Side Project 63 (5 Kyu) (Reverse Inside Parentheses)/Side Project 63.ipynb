{
 "cells": [
  {
   "cell_type": "code",
   "execution_count": 22,
   "metadata": {},
   "outputs": [],
   "source": [
    "def smth (tom):\n",
    "    tum , tim , count = [],[],0\n",
    "    for x in tom:\n",
    "        if x == '(':\n",
    "            count += 1\n",
    "        elif x == ')':\n",
    "            count -= 1\n",
    "            if count == 0:\n",
    "                if tim.count('(') >0:\n",
    "                    tim = smth(tim)\n",
    "                    tim.reverse()\n",
    "                    tim = ['(' if x == ')'else ')' if x == '(' else x for x in tim]\n",
    "                else:\n",
    "                    tim.reverse()\n",
    "                tum.append('(')\n",
    "                [tum.append(y) for y in tim]\n",
    "                tum.append(')')\n",
    "                tim = []\n",
    "        if count > 0:\n",
    "            if count == 1:\n",
    "                if x not in '(':\n",
    "                    tim.append(x)\n",
    "            else:\n",
    "                tim.append(x)\n",
    "        else:\n",
    "            if x not in ')':\n",
    "                tum.append(x)\n",
    "    return tum\n",
    "def reverse_in_parentheses(string):\n",
    "    tom = smth(string)\n",
    "    return ''.join(tom)"
   ]
  },
  {
   "cell_type": "code",
   "execution_count": null,
   "metadata": {},
   "outputs": [],
   "source": [
    "tum = []\n",
    "for x in tom:\n",
    "    if type(x) == list:\n",
    "        for y in x:\n",
    "            if type(y) == list:\n",
    "                x = unbracket(x)\n",
    "                print(x)\n",
    "        tum.append('(')\n",
    "        tum.append(''.join(x))\n",
    "        tum.append(')')\n",
    "        print(tum)\n",
    "    else:\n",
    "        tum.append(x)\n",
    "        print(tum)\n",
    "print(''.join(tum))"
   ]
  },
  {
   "cell_type": "code",
   "execution_count": null,
   "metadata": {},
   "outputs": [],
   "source": [
    "unbracket(tom)"
   ]
  },
  {
   "cell_type": "code",
   "execution_count": null,
   "metadata": {},
   "outputs": [],
   "source": [
    "tom"
   ]
  },
  {
   "cell_type": "code",
   "execution_count": null,
   "metadata": {},
   "outputs": [],
   "source": [
    "''.join(['1','3'])"
   ]
  },
  {
   "cell_type": "code",
   "execution_count": 1,
   "metadata": {},
   "outputs": [],
   "source": [
    "tom = \"a ((d e) c b)\""
   ]
  },
  {
   "cell_type": "code",
   "execution_count": null,
   "metadata": {},
   "outputs": [],
   "source": [
    "tom = '(d e) c b'"
   ]
  },
  {
   "cell_type": "code",
   "execution_count": 23,
   "metadata": {},
   "outputs": [
    {
     "name": "stdout",
     "output_type": "stream",
     "text": [
      "['(']\n",
      "['(', 'd']\n",
      "['(', 'd', ' ']\n",
      "['(', 'd', ' ', 'e']\n",
      "['(', 'd', ' ', 'e', ')']\n",
      "['(', 'd', ' ', 'e', ')', ' ']\n",
      "['(', 'd', ' ', 'e', ')', ' ', 'c']\n",
      "['(', 'd', ' ', 'e', ')', ' ', 'c', ' ']\n",
      "['(', 'd', ' ', 'e', ')', ' ', 'c', ' ', 'b']\n",
      "1\n",
      "['d']\n",
      "['d', ' ']\n",
      "['d', ' ', 'e']\n",
      "b c (d e)\n"
     ]
    },
    {
     "data": {
      "text/plain": [
       "'a (b c (d e))'"
      ]
     },
     "execution_count": 23,
     "metadata": {},
     "output_type": "execute_result"
    }
   ],
   "source": [
    "reverse_in_parentheses(tom)"
   ]
  },
  {
   "cell_type": "code",
   "execution_count": null,
   "metadata": {},
   "outputs": [],
   "source": [
    "tom"
   ]
  },
  {
   "cell_type": "code",
   "execution_count": 5,
   "metadata": {},
   "outputs": [],
   "source": [
    "tim = [')', 'd', ' ', 'e', '(']"
   ]
  },
  {
   "cell_type": "code",
   "execution_count": 10,
   "metadata": {},
   "outputs": [
    {
     "data": {
      "text/plain": [
       "['(', 'd', ' ', 'e', ')']"
      ]
     },
     "execution_count": 10,
     "metadata": {},
     "output_type": "execute_result"
    }
   ],
   "source": [
    "['(' if x == ')'else ')' if x == '(' else x for x in tim]"
   ]
  },
  {
   "cell_type": "code",
   "execution_count": null,
   "metadata": {},
   "outputs": [],
   "source": []
  }
 ],
 "metadata": {
  "kernelspec": {
   "display_name": "Python 3",
   "language": "python",
   "name": "python3"
  },
  "language_info": {
   "codemirror_mode": {
    "name": "ipython",
    "version": 3
   },
   "file_extension": ".py",
   "mimetype": "text/x-python",
   "name": "python",
   "nbconvert_exporter": "python",
   "pygments_lexer": "ipython3",
   "version": "3.7.3"
  }
 },
 "nbformat": 4,
 "nbformat_minor": 2
}
