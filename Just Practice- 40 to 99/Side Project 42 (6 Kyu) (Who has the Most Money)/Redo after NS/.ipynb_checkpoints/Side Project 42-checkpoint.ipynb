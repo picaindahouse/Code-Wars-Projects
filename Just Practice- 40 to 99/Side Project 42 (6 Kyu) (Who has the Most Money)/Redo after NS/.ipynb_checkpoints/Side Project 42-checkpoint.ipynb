{
 "cells": [
  {
   "cell_type": "code",
   "execution_count": 1,
   "metadata": {},
   "outputs": [],
   "source": [
    "class Student:\n",
    "    def __init__(self, name, fives, tens, twenties):\n",
    "        self.name = name\n",
    "        self.fives = fives\n",
    "        self.tens = tens\n",
    "        self.twenties = twenties"
   ]
  },
  {
   "cell_type": "code",
   "execution_count": 9,
   "metadata": {},
   "outputs": [],
   "source": [
    "def money(student):\n",
    "     return (5 * student.fives + 10 * student.tens + 20 * student.twenties, student.name)"
   ]
  },
  {
   "cell_type": "code",
   "execution_count": 63,
   "metadata": {},
   "outputs": [],
   "source": [
    "def most_money(students):\n",
    "    return [x for i,x in [money(x) for x in students] if i == max([money(x) for x in students])[0]][0] if len([x for i,x in [money(x) for x in students] if i == max([money(x) for x in students])[0]]) == 1 else 'all'"
   ]
  },
  {
   "cell_type": "code",
   "execution_count": 2,
   "metadata": {},
   "outputs": [],
   "source": [
    "phil = Student(\"Phil\", 2, 2, 1)\n",
    "cam = Student(\"Cameron\", 2, 2, 0)\n",
    "geoff = Student(\"Geoff\", 0, 3, 0)"
   ]
  },
  {
   "cell_type": "code",
   "execution_count": 64,
   "metadata": {},
   "outputs": [
    {
     "data": {
      "text/plain": [
       "'Geoff'"
      ]
     },
     "execution_count": 64,
     "metadata": {},
     "output_type": "execute_result"
    }
   ],
   "source": [
    "most_money([geoff])"
   ]
  },
  {
   "cell_type": "code",
   "execution_count": 59,
   "metadata": {},
   "outputs": [],
   "source": [
    "students = [cam,geoff]"
   ]
  },
  {
   "cell_type": "code",
   "execution_count": 60,
   "metadata": {},
   "outputs": [
    {
     "data": {
      "text/plain": [
       "['Cameron', 'Geoff']"
      ]
     },
     "execution_count": 60,
     "metadata": {},
     "output_type": "execute_result"
    }
   ],
   "source": [
    "[x for i,x in [money(x) for x in students] if i == max([money(x) for x in students])[0]]"
   ]
  },
  {
   "cell_type": "code",
   "execution_count": null,
   "metadata": {},
   "outputs": [],
   "source": []
  }
 ],
 "metadata": {
  "kernelspec": {
   "display_name": "Python 3",
   "language": "python",
   "name": "python3"
  },
  "language_info": {
   "codemirror_mode": {
    "name": "ipython",
    "version": 3
   },
   "file_extension": ".py",
   "mimetype": "text/x-python",
   "name": "python",
   "nbconvert_exporter": "python",
   "pygments_lexer": "ipython3",
   "version": "3.7.3"
  }
 },
 "nbformat": 4,
 "nbformat_minor": 2
}
