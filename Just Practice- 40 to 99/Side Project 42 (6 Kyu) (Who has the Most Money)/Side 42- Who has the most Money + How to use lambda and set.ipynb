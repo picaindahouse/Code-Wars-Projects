{
 "cells": [
  {
   "cell_type": "code",
   "execution_count": 3,
   "metadata": {},
   "outputs": [],
   "source": [
    "# Given a group of students- find who is carrying the most money\n",
    "# Each student owns a certain quantity of fives, tens & twenties\n",
    "# A class has been set up for students as can be seen below\n",
    "# Return the student with the most money"
   ]
  },
  {
   "cell_type": "code",
   "execution_count": 4,
   "metadata": {},
   "outputs": [],
   "source": [
    "class Student:\n",
    "    def __init__(self, name, fives, tens, twenties):\n",
    "        self.name = name\n",
    "        self.fives = fives\n",
    "        self.tens = tens\n",
    "        self.twenties = twenties"
   ]
  },
  {
   "cell_type": "code",
   "execution_count": 7,
   "metadata": {},
   "outputs": [],
   "source": [
    "# A simple code that tells you how much money each student has\n",
    "def Total(student):\n",
    "    total = int(student.fives) * 5 + int(student.tens) * 10 + int(student.twenties) * 20\n",
    "    return (total, student.name)"
   ]
  },
  {
   "cell_type": "code",
   "execution_count": 8,
   "metadata": {},
   "outputs": [
    {
     "data": {
      "text/plain": [
       "(155, 'Tom')"
      ]
     },
     "execution_count": 8,
     "metadata": {},
     "output_type": "execute_result"
    }
   ],
   "source": [
    "Total(Student('Tom',3,4,5))"
   ]
  },
  {
   "cell_type": "code",
   "execution_count": 10,
   "metadata": {},
   "outputs": [],
   "source": [
    "students = [Student('Tam',2,2,0),Student('Tim',0,3,0),Student('Tom',2,2,1)]"
   ]
  },
  {
   "cell_type": "code",
   "execution_count": 11,
   "metadata": {},
   "outputs": [
    {
     "data": {
      "text/plain": [
       "[(30, 'Tam'), (30, 'Tim'), (50, 'Tom')]"
      ]
     },
     "execution_count": 11,
     "metadata": {},
     "output_type": "execute_result"
    }
   ],
   "source": [
    "[Total(x) for x in students]      # A simple line to find out how much money each student has"
   ]
  },
  {
   "cell_type": "code",
   "execution_count": 25,
   "metadata": {},
   "outputs": [
    {
     "data": {
      "text/plain": [
       "[30, 30, 50]"
      ]
     },
     "execution_count": 25,
     "metadata": {},
     "output_type": "execute_result"
    }
   ],
   "source": [
    "tom = [Total(x)[0] for x in students]  # Use this to apply the if condition as can be seen in the code later\n",
    "tom"
   ]
  },
  {
   "cell_type": "code",
   "execution_count": 26,
   "metadata": {},
   "outputs": [
    {
     "data": {
      "text/plain": [
       "'Tom'"
      ]
     },
     "execution_count": 26,
     "metadata": {},
     "output_type": "execute_result"
    }
   ],
   "source": [
    "max([Total(x) for x in students])[1]   # What you want"
   ]
  },
  {
   "cell_type": "code",
   "execution_count": 27,
   "metadata": {},
   "outputs": [],
   "source": [
    "def Max (students):\n",
    "    if len(students) == 1:\n",
    "        return (students[0]).name\n",
    "    tom = [Total(x)[0] for x in students]\n",
    "    return max([Total(x) for x in students])[1] if tom.count(tom[0]) != len(tom) else 'all' "
   ]
  },
  {
   "cell_type": "code",
   "execution_count": 28,
   "metadata": {},
   "outputs": [
    {
     "data": {
      "text/plain": [
       "'Tom'"
      ]
     },
     "execution_count": 28,
     "metadata": {},
     "output_type": "execute_result"
    }
   ],
   "source": [
    "Max ([Student('Tam',2,2,0),Student('Tim',0,3,0),Student('Tom',2,2,1)])"
   ]
  },
  {
   "cell_type": "code",
   "execution_count": 29,
   "metadata": {},
   "outputs": [
    {
     "data": {
      "text/plain": [
       "'all'"
      ]
     },
     "execution_count": 29,
     "metadata": {},
     "output_type": "execute_result"
    }
   ],
   "source": [
    "Max ([Student('Tam',2,2,0),Student('Tim',2,2,0),Student('Tom',2,2,0)])"
   ]
  },
  {
   "cell_type": "code",
   "execution_count": 30,
   "metadata": {},
   "outputs": [],
   "source": [
    "# Thus we get:\n",
    "def Total(student):\n",
    "    total = int(student.fives) * 5 + int(student.tens) * 10 + int(student.twenties) * 20\n",
    "    return (total, student.name)\n",
    "def Max (students):\n",
    "    if len(students) == 1:\n",
    "        return (students[0]).name\n",
    "    tom = [Total(x)[0] for x in students]\n",
    "    return max([Total(x) for x in students])[1] if tom.count(tom[0]) != len(tom) else 'all' "
   ]
  },
  {
   "cell_type": "code",
   "execution_count": 31,
   "metadata": {},
   "outputs": [],
   "source": [
    "# Pretty well done if I say so myself\n",
    "# But look at a far more clean piece below"
   ]
  },
  {
   "cell_type": "code",
   "execution_count": 66,
   "metadata": {},
   "outputs": [],
   "source": [
    "def most_money(s):\n",
    "    d = {i.name:i.fives*5+i.tens*10+i.twenties*20 for i in s}\n",
    "    return max(d,key=lambda x:d[x]) if len(set(d.values()))!=1 or len(d)==1 else 'all'"
   ]
  },
  {
   "cell_type": "code",
   "execution_count": 33,
   "metadata": {},
   "outputs": [
    {
     "data": {
      "text/plain": [
       "{'Tam': 30, 'Tim': 30, 'Tom': 50}"
      ]
     },
     "execution_count": 33,
     "metadata": {},
     "output_type": "execute_result"
    }
   ],
   "source": [
    "s = [Student('Tam',2,2,0),Student('Tim',0,3,0),Student('Tom',2,2,1)]\n",
    "{i.name: i.fives*5 + i.tens*10 + i.twenties*20 for i in s}"
   ]
  },
  {
   "cell_type": "code",
   "execution_count": 37,
   "metadata": {},
   "outputs": [],
   "source": [
    "d = [(i.name, (i.fives*5 + i.tens*10 + i.twenties*20)) for i in s]"
   ]
  },
  {
   "cell_type": "code",
   "execution_count": 40,
   "metadata": {},
   "outputs": [
    {
     "ename": "SyntaxError",
     "evalue": "invalid syntax (<ipython-input-40-15d66c6078a3>, line 1)",
     "output_type": "error",
     "traceback": [
      "\u001b[1;36m  File \u001b[1;32m\"<ipython-input-40-15d66c6078a3>\"\u001b[1;36m, line \u001b[1;32m1\u001b[0m\n\u001b[1;33m    (d, key = lambda x:d[x])\u001b[0m\n\u001b[1;37m            ^\u001b[0m\n\u001b[1;31mSyntaxError\u001b[0m\u001b[1;31m:\u001b[0m invalid syntax\n"
     ]
    }
   ],
   "source": [
    "(d, key = lambda x:d[x])"
   ]
  },
  {
   "cell_type": "code",
   "execution_count": null,
   "metadata": {},
   "outputs": [],
   "source": []
  }
 ],
 "metadata": {
  "kernelspec": {
   "display_name": "Python 3",
   "language": "python",
   "name": "python3"
  },
  "language_info": {
   "codemirror_mode": {
    "name": "ipython",
    "version": 3
   },
   "file_extension": ".py",
   "mimetype": "text/x-python",
   "name": "python",
   "nbconvert_exporter": "python",
   "pygments_lexer": "ipython3",
   "version": "3.7.3"
  }
 },
 "nbformat": 4,
 "nbformat_minor": 2
}
