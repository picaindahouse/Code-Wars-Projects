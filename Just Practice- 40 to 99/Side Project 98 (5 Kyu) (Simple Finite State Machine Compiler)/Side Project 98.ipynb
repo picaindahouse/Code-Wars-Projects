{
 "cells": [
  {
   "cell_type": "code",
   "execution_count": 171,
   "metadata": {},
   "outputs": [],
   "source": [
    "class FSM(object):\n",
    "    def __init__(self, instructions):\n",
    "        self.instruct = instructions.split('\\n')\n",
    "    def run_fsm(self, start, sequence):\n",
    "        state = [i for i,x in enumerate(self.instruct) if start == x.split(';')[0]][0]\n",
    "        tom = [self.instruct[state].split(';')[0]]\n",
    "        while len(tom) != len(sequence) + 1:\n",
    "            if sequence[len(tom) - 1] == 0: \n",
    "                tom.append(self.instruct[state].split(';')[1].split(',')[0].strip())\n",
    "                state = [i for i,x in enumerate(self.instruct) if x.split(';')[0] == self.instruct[state].split(';')[1].split(',')[0].strip()][0]\n",
    "            else: \n",
    "                tom.append(self.instruct[state].split(';')[1].split(',')[1].strip())\n",
    "                state = [i for i,x in enumerate(self.instruct) if x.split(';')[0] == self.instruct[state].split(';')[1].split(',')[1].strip()][0]  \n",
    "        return(tom[-1],int(self.instruct[state].split(';')[-1]),tom)"
   ]
  },
  {
   "cell_type": "code",
   "execution_count": 183,
   "metadata": {},
   "outputs": [],
   "source": [
    "instructions = '''S1; S1, S2; 9\n",
    "S2; S1, S3; 10\n",
    "S3; S4, S3; 8\n",
    "S4; S4, S1; 0'''"
   ]
  },
  {
   "cell_type": "code",
   "execution_count": 185,
   "metadata": {},
   "outputs": [
    {
     "data": {
      "text/plain": [
       "' 9'"
      ]
     },
     "execution_count": 185,
     "metadata": {},
     "output_type": "execute_result"
    }
   ],
   "source": [
    "instructions.split('\\n')[0].split(';')[-1]"
   ]
  },
  {
   "cell_type": "code",
   "execution_count": 174,
   "metadata": {},
   "outputs": [
    {
     "data": {
      "text/plain": [
       "'S1'"
      ]
     },
     "execution_count": 174,
     "metadata": {},
     "output_type": "execute_result"
    }
   ],
   "source": [
    "instructions.split('\\n')[0].split(';')[1].split(',')[0].strip()"
   ]
  },
  {
   "cell_type": "code",
   "execution_count": 175,
   "metadata": {},
   "outputs": [],
   "source": [
    "cyu = FSM(instructions)"
   ]
  },
  {
   "cell_type": "code",
   "execution_count": 176,
   "metadata": {},
   "outputs": [
    {
     "name": "stdout",
     "output_type": "stream",
     "text": [
      "['S1']\n",
      "1\n",
      "['S1', 'S1']\n",
      "['S1', 'S1', 'S2']\n",
      "['S1', 'S1', 'S2', 'S3']\n",
      "['S1', 'S1', 'S2', 'S3', 'S4']\n",
      "['S1', 'S1', 'S2', 'S3', 'S4', 'S1']\n"
     ]
    },
    {
     "data": {
      "text/plain": [
       "('S1', 9, ['S1', 'S1', 'S2', 'S3', 'S4', 'S1'])"
      ]
     },
     "execution_count": 176,
     "metadata": {},
     "output_type": "execute_result"
    }
   ],
   "source": [
    "cyu.run_fsm('S1', [0, 1, 1, 0, 1])"
   ]
  },
  {
   "cell_type": "code",
   "execution_count": 59,
   "metadata": {},
   "outputs": [
    {
     "data": {
      "text/plain": [
       "'9'"
      ]
     },
     "execution_count": 59,
     "metadata": {},
     "output_type": "execute_result"
    }
   ],
   "source": [
    "state = 1\n",
    "instructions.split('\\n')[state-1][-1]"
   ]
  },
  {
   "cell_type": "code",
   "execution_count": 113,
   "metadata": {},
   "outputs": [
    {
     "data": {
      "text/plain": [
       "'3'"
      ]
     },
     "execution_count": 113,
     "metadata": {},
     "output_type": "execute_result"
    }
   ],
   "source": [
    "' 3'.strip()"
   ]
  },
  {
   "cell_type": "code",
   "execution_count": 181,
   "metadata": {},
   "outputs": [
    {
     "ename": "SyntaxError",
     "evalue": "(unicode error) 'unicodeescape' codec can't decode bytes in position 119-120: truncated \\xXX escape (<ipython-input-181-743317f67ec4>, line 1)",
     "output_type": "error",
     "traceback": [
      "\u001b[1;36m  File \u001b[1;32m\"<ipython-input-181-743317f67ec4>\"\u001b[1;36m, line \u001b[1;32m1\u001b[0m\n\u001b[1;33m    instructions= 'cs; xPGTqLI, rbaUq; 91\\ aiF; rbaUq, oonM; 87\\ oonM; pNEqtE, rbaUq; 61 \\rbaUq; pNEqtE, aiF; 17\\pNEqtE; VTxAfSGD, cs; 10 \\xPGTqLI; xPGTqLI, cs; 59\\VTxAfSGD; pNEqtE, VTxAfSGD; 94\\cs; xPGTqLI, rbaUq; 91\\aiF; rbaUq, oonM; 87\\oonM; pNEqtE, rbaUq; 61 \\ rbaUq; pNEqtE , aiF; 17\\pNEqtE; VTxAfSGD, cs; 10\\xPGTqLI; xPGTqLI, cs; 59\\VTxAfSGD; pNEqtE, VTxAfSGD; 94'\u001b[0m\n\u001b[1;37m                 ^\u001b[0m\n\u001b[1;31mSyntaxError\u001b[0m\u001b[1;31m:\u001b[0m (unicode error) 'unicodeescape' codec can't decode bytes in position 119-120: truncated \\xXX escape\n"
     ]
    }
   ],
   "source": [
    "instructions= 'cs; xPGTqLI, rbaUq; 91\\ aiF; rbaUq, oonM; 87\\ oonM; pNEqtE, rbaUq; 61 \\rbaUq; pNEqtE, aiF; 17\\pNEqtE; VTxAfSGD, cs; 10 \\xPGTqLI; xPGTqLI, cs; 59\\VTxAfSGD; pNEqtE, VTxAfSGD; 94\\cs; xPGTqLI, rbaUq; 91\\aiF; rbaUq, oonM; 87\\oonM; pNEqtE, rbaUq; 61 \\ rbaUq; pNEqtE , aiF; 17\\pNEqtE; VTxAfSGD, cs; 10\\xPGTqLI; xPGTqLI, cs; 59\\VTxAfSGD; pNEqtE, VTxAfSGD; 94'\n",
    "start = 'cs' \n",
    "sequence = [1, 1, 1, 1, 1, 1, 1, 1, 0, 1, 0]"
   ]
  },
  {
   "cell_type": "code",
   "execution_count": null,
   "metadata": {},
   "outputs": [],
   "source": [
    " for x in instructions"
   ]
  }
 ],
 "metadata": {
  "kernelspec": {
   "display_name": "Python 3",
   "language": "python",
   "name": "python3"
  },
  "language_info": {
   "codemirror_mode": {
    "name": "ipython",
    "version": 3
   },
   "file_extension": ".py",
   "mimetype": "text/x-python",
   "name": "python",
   "nbconvert_exporter": "python",
   "pygments_lexer": "ipython3",
   "version": "3.7.3"
  }
 },
 "nbformat": 4,
 "nbformat_minor": 2
}
