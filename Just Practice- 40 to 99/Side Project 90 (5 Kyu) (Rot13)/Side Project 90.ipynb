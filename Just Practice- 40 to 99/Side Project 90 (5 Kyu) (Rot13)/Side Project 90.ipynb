{
 "cells": [
  {
   "cell_type": "code",
   "execution_count": 12,
   "metadata": {},
   "outputs": [],
   "source": [
    "def rot13(message):\n",
    "    alphabet = 'abcdefghijklmnopqrstuvwxyz' * 2\n",
    "    return ''.join([x for x in [alphabet[alphabet.index(x) + 13] if x in alphabet else alphabet[alphabet.index(x.lower()) + 13].upper() if x.lower() in alphabet else x if x.lower() not in alphabet else None for x in message] if x != None])"
   ]
  },
  {
   "cell_type": "code",
   "execution_count": null,
   "metadata": {},
   "outputs": [],
   "source": [
    "alphabet = 'abcdefghijklmnopqsrtuvwxyz'\n",
    "alphabet = alphabet * 2"
   ]
  },
  {
   "cell_type": "code",
   "execution_count": null,
   "metadata": {},
   "outputs": [],
   "source": [
    "for x in 'e':\n",
    "    pos = alphabet.index(x) + 13\n",
    "    #else:pos = alphabet.index(x) + 14\n",
    "    print(alphabet[pos])"
   ]
  },
  {
   "cell_type": "code",
   "execution_count": null,
   "metadata": {},
   "outputs": [],
   "source": [
    "rot13('test')"
   ]
  },
  {
   "cell_type": "code",
   "execution_count": null,
   "metadata": {},
   "outputs": [],
   "source": [
    "alphabet, yo, upz  = 'abcdefghijklmnopqrstuvwxyz', alphabet * 2, alphabet.upper()"
   ]
  },
  {
   "cell_type": "code",
   "execution_count": null,
   "metadata": {},
   "outputs": [],
   "source": [
    "[x for x in [z if x == y and i + 13 == r else z.upper() if x.lower() == y and i + 13 == r else x if x.lower() not in alphabet else None for x in 'Test' for i,y in enumerate(alphabet) for r,z in enumerate(yo)] if x != None]"
   ]
  },
  {
   "cell_type": "code",
   "execution_count": 8,
   "metadata": {},
   "outputs": [
    {
     "data": {
      "text/plain": [
       "['G', 'r', 'f', 'g']"
      ]
     },
     "execution_count": 8,
     "metadata": {},
     "output_type": "execute_result"
    }
   ],
   "source": [
    "tom, alphabet = [], 'abcdefghijklmnopqrstuvwxyz' * 2\n",
    "for x in 'Test':\n",
    "    if x in alphabet:\n",
    "        tom.append(alphabet[alphabet.index(x) + 13])\n",
    "    elif x.lower() in alphabet:\n",
    "        tom.append(alphabet[alphabet.index(x.lower()) + 13].upper())\n",
    "    elif x not in alphabet:\n",
    "        tom.append(x)\n",
    "tom"
   ]
  },
  {
   "cell_type": "code",
   "execution_count": 11,
   "metadata": {},
   "outputs": [
    {
     "data": {
      "text/plain": [
       "['G', 'r', 'f', 'g']"
      ]
     },
     "execution_count": 11,
     "metadata": {},
     "output_type": "execute_result"
    }
   ],
   "source": [
    "[x for x in [alphabet[alphabet.index(x) + 13] if x in alphabet else alphabet[alphabet.index(x.lower()) + 13].upper() if x.lower() in alphabet else x if x.lower() not in alphabet else None for x in 'Test'] if x != None]"
   ]
  },
  {
   "cell_type": "code",
   "execution_count": 5,
   "metadata": {},
   "outputs": [
    {
     "data": {
      "text/plain": [
       "'abcdefghijklmnopqrstuvwxyzabcdefghijklmnopqrstuvwxyz'"
      ]
     },
     "execution_count": 5,
     "metadata": {},
     "output_type": "execute_result"
    }
   ],
   "source": [
    "alphabet"
   ]
  },
  {
   "cell_type": "code",
   "execution_count": null,
   "metadata": {},
   "outputs": [],
   "source": []
  }
 ],
 "metadata": {
  "kernelspec": {
   "display_name": "Python 3",
   "language": "python",
   "name": "python3"
  },
  "language_info": {
   "codemirror_mode": {
    "name": "ipython",
    "version": 3
   },
   "file_extension": ".py",
   "mimetype": "text/x-python",
   "name": "python",
   "nbconvert_exporter": "python",
   "pygments_lexer": "ipython3",
   "version": "3.7.3"
  }
 },
 "nbformat": 4,
 "nbformat_minor": 2
}
