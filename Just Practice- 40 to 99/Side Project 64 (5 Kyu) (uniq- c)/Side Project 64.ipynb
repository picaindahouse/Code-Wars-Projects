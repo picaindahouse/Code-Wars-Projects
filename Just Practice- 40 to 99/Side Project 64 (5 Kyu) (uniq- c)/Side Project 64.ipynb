{
 "cells": [
  {
   "cell_type": "code",
   "execution_count": 13,
   "metadata": {},
   "outputs": [],
   "source": [
    "def uniq_c(seq): \n",
    "    tum, count = [], 1\n",
    "    for x in seq:\n",
    "        if not tum or x != tum[-1][0]:\n",
    "            count = 1\n",
    "            tum.append([x,count])\n",
    "        else:\n",
    "            count += 1\n",
    "            tum[-1] = [x, count]\n",
    "    return [(i,x) for i,x in tum]"
   ]
  },
  {
   "cell_type": "code",
   "execution_count": 2,
   "metadata": {},
   "outputs": [],
   "source": [
    "seq = ['a','a','b','b','c','a','b','c']"
   ]
  },
  {
   "cell_type": "code",
   "execution_count": 11,
   "metadata": {},
   "outputs": [],
   "source": [
    "    tum, count = [], 1\n",
    "    for x in seq:\n",
    "        if not tum or x != tum[-1][0]:\n",
    "            count = 1\n",
    "            tum.append([x,count])\n",
    "        else:\n",
    "            count += 1\n",
    "            tum[-1] = [x, count]"
   ]
  },
  {
   "cell_type": "code",
   "execution_count": 12,
   "metadata": {},
   "outputs": [
    {
     "data": {
      "text/plain": [
       "[['a', 2], ['b', 2], ['c', 1], ['a', 1], ['b', 1], ['c', 1]]"
      ]
     },
     "execution_count": 12,
     "metadata": {},
     "output_type": "execute_result"
    }
   ],
   "source": [
    "tum"
   ]
  },
  {
   "cell_type": "code",
   "execution_count": null,
   "metadata": {},
   "outputs": [],
   "source": []
  }
 ],
 "metadata": {
  "kernelspec": {
   "display_name": "Python 3",
   "language": "python",
   "name": "python3"
  },
  "language_info": {
   "codemirror_mode": {
    "name": "ipython",
    "version": 3
   },
   "file_extension": ".py",
   "mimetype": "text/x-python",
   "name": "python",
   "nbconvert_exporter": "python",
   "pygments_lexer": "ipython3",
   "version": "3.7.3"
  }
 },
 "nbformat": 4,
 "nbformat_minor": 2
}
