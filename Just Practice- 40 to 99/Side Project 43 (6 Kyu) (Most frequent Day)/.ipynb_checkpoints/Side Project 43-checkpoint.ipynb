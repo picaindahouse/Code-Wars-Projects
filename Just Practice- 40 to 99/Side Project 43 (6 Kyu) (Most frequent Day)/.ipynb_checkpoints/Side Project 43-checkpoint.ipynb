{
 "cells": [
  {
   "cell_type": "code",
   "execution_count": 220,
   "metadata": {},
   "outputs": [],
   "source": [
    "week = ['Monday', 'Tuesday','Wednesday','Thursday','Friday','Saturday','Sunday']\n",
    "import calendar\n",
    "def last (year):\n",
    "    tom = calendar.monthrange(year,12)\n",
    "    tim = (tom[0] + (tom[1]-1 % 7)) % 7\n",
    "    return week[tim]"
   ]
  },
  {
   "cell_type": "code",
   "execution_count": 227,
   "metadata": {},
   "outputs": [],
   "source": [
    "def Max (year):\n",
    "    xtra_1 = week[0:week.index(last(year))+1]\n",
    "    xtra_2 = week[week.index(last(year-1))+1:] if year - 1 > 0 else []\n",
    "    tom = [x for x in xtra_1 if x in xtra_2]\n",
    "    [xtra_1.append(x) for x in xtra_2]\n",
    "    return tom if tom else xtra_1"
   ]
  },
  {
   "cell_type": "code",
   "execution_count": null,
   "metadata": {},
   "outputs": [],
   "source": []
  }
 ],
 "metadata": {
  "kernelspec": {
   "display_name": "Python 3",
   "language": "python",
   "name": "python3"
  },
  "language_info": {
   "codemirror_mode": {
    "name": "ipython",
    "version": 3
   },
   "file_extension": ".py",
   "mimetype": "text/x-python",
   "name": "python",
   "nbconvert_exporter": "python",
   "pygments_lexer": "ipython3",
   "version": "3.7.3"
  }
 },
 "nbformat": 4,
 "nbformat_minor": 2
}
