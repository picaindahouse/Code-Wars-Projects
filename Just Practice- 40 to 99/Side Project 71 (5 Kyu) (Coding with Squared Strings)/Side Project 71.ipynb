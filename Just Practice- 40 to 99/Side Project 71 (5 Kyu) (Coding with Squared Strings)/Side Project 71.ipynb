{
 "cells": [
  {
   "cell_type": "code",
   "execution_count": 185,
   "metadata": {},
   "outputs": [],
   "source": [
    "s =  (\"What do you remember? When I looked at his streaky glasses, I wanted \"\n",
    "         \"to leave him. And before that? He stole those cherries for me at midnight. We were walking \"\n",
    "         \"in the rain and I loved him. And before that? I saw him coming \"\n",
    "         \"toward me that time at the picnic, edgy, foreign.\")"
   ]
  },
  {
   "cell_type": "code",
   "execution_count": 154,
   "metadata": {},
   "outputs": [],
   "source": [
    "def diag_1_sym(s):\n",
    "    t = []\n",
    "    for x in s.split('\\n'):\n",
    "        for i,y in enumerate(x):\n",
    "            if len(t) < i + 1:\n",
    "                t.append(y)\n",
    "            else:\n",
    "                t[i] = t[i] + y\n",
    "    return '\\n'.join(t)"
   ]
  },
  {
   "cell_type": "code",
   "execution_count": 155,
   "metadata": {},
   "outputs": [],
   "source": [
    "def rot_90_clock(strng):\n",
    "    return '\\n'.join([''.join([y for y in x][::-1]) for x in diag_1_sym(strng).split('\\n')])"
   ]
  },
  {
   "cell_type": "code",
   "execution_count": 156,
   "metadata": {},
   "outputs": [],
   "source": [
    "def rot_90_counter(s):\n",
    "    return '\\n'.join([x for x in diag_1_sym(s).split('\\n')] [::-1])"
   ]
  },
  {
   "cell_type": "code",
   "execution_count": 157,
   "metadata": {},
   "outputs": [],
   "source": [
    "def code(s):\n",
    "    n = [x for x in range(20) if x*x>len(s)][0]\n",
    "    r = [x for x in s]\n",
    "    [r.append(chr(11)) for x in range(n*n-len(s))]\n",
    "    [r.insert(n*(x+1)+x,'\\n')  for x in range(n-1)]\n",
    "    return rot_90_clock(''.join(r)) if s else ''"
   ]
  },
  {
   "cell_type": "code",
   "execution_count": 158,
   "metadata": {},
   "outputs": [],
   "source": [
    "def decode(s):\n",
    "    s = rot_90_counter(s)\n",
    "    return ''.join([''.join(''.join(x.split('\\n')).split(chr(11))) for x in s.split('\\n')])"
   ]
  },
  {
   "cell_type": "code",
   "execution_count": null,
   "metadata": {},
   "outputs": [],
   "source": []
  }
 ],
 "metadata": {
  "kernelspec": {
   "display_name": "Python 3",
   "language": "python",
   "name": "python3"
  },
  "language_info": {
   "codemirror_mode": {
    "name": "ipython",
    "version": 3
   },
   "file_extension": ".py",
   "mimetype": "text/x-python",
   "name": "python",
   "nbconvert_exporter": "python",
   "pygments_lexer": "ipython3",
   "version": "3.7.3"
  }
 },
 "nbformat": 4,
 "nbformat_minor": 2
}
