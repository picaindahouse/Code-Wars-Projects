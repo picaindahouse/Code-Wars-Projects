{
 "cells": [
  {
   "cell_type": "code",
   "execution_count": null,
   "metadata": {},
   "outputs": [],
   "source": [
    "# Given a list- count the number of items inside:\n",
    "# Eg: [1,2,3]- 3, [1,2,3,[4]]- 5, [1,2,3,[4,[4]],[6]]- 9"
   ]
  },
  {
   "cell_type": "code",
   "execution_count": 3,
   "metadata": {},
   "outputs": [],
   "source": [
    "def deepCount (tom):\n",
    "    he = len(tom)\n",
    "    tam = [x for x in tom if type(x) == list]\n",
    "    if not tam:\n",
    "        return len(tom)\n",
    "    else:\n",
    "        while tam:     # Means as long as list is not empty\n",
    "            he = he + sum([len(x) for x in tam if type(x) == list])\n",
    "            for x in tam: \n",
    "                tum = [y for y in x if type(y) == list]   # Double use of for\n",
    "            tam = tum\n",
    "    return he"
   ]
  },
  {
   "cell_type": "code",
   "execution_count": 20,
   "metadata": {},
   "outputs": [],
   "source": [
    "# Learnt two things- while ____ can be used to find blank lists & for x in tom: for y in x:\n",
    "# Below is the correct method:"
   ]
  },
  {
   "cell_type": "code",
   "execution_count": 1,
   "metadata": {},
   "outputs": [],
   "source": [
    "def deep_count(a):\n",
    "    result = 0\n",
    "    for i in range(len(a)):\n",
    "        if type(a[i]) is list:\n",
    "            result += deep_count(a[i])\n",
    "        result += 1\n",
    "    return result"
   ]
  },
  {
   "cell_type": "code",
   "execution_count": 11,
   "metadata": {},
   "outputs": [
    {
     "data": {
      "text/plain": [
       "10"
      ]
     },
     "execution_count": 11,
     "metadata": {},
     "output_type": "execute_result"
    }
   ],
   "source": [
    "deep_count([1, 2, [3, 4, [5]],[8,9]])"
   ]
  },
  {
   "cell_type": "code",
   "execution_count": 9,
   "metadata": {},
   "outputs": [],
   "source": [
    "# So the whole range thing is very unnecessary- so just look at the below version to understand how \n",
    "# this works- Legit quite cool"
   ]
  },
  {
   "cell_type": "code",
   "execution_count": 7,
   "metadata": {},
   "outputs": [],
   "source": [
    "def deep_count(a):\n",
    "    result = 0                      \n",
    "    for i in a:\n",
    "        if type(i) == list:\n",
    "            result += deep_count(i)\n",
    "        result += 1\n",
    "    return result"
   ]
  },
  {
   "cell_type": "code",
   "execution_count": 8,
   "metadata": {},
   "outputs": [
    {
     "data": {
      "text/plain": [
       "10"
      ]
     },
     "execution_count": 8,
     "metadata": {},
     "output_type": "execute_result"
    }
   ],
   "source": [
    "deep_count([1, 2, [3, 4, [5]],[8,9]])"
   ]
  },
  {
   "cell_type": "code",
   "execution_count": 11,
   "metadata": {},
   "outputs": [],
   "source": [
    "# Let's break it down to understand:\n",
    "def Version1 (a):\n",
    "    result = 0\n",
    "    for i in a:\n",
    "        result += 1        # This basically counts the number of items in the first list- like len()\n",
    "    return result"
   ]
  },
  {
   "cell_type": "code",
   "execution_count": 12,
   "metadata": {},
   "outputs": [
    {
     "data": {
      "text/plain": [
       "4"
      ]
     },
     "execution_count": 12,
     "metadata": {},
     "output_type": "execute_result"
    }
   ],
   "source": [
    "Version1([1,2,3,[3]])"
   ]
  },
  {
   "cell_type": "code",
   "execution_count": 16,
   "metadata": {},
   "outputs": [],
   "source": [
    "def Version2 (a):\n",
    "    result = 0\n",
    "    for i in a:\n",
    "        if type(i) == list:               # Basically says that if item in the list is another list\n",
    "            result += Version2(i)        # Then make it go through deepcount again!!!\n",
    "        result += 1\n",
    "    return result"
   ]
  },
  {
   "cell_type": "code",
   "execution_count": 17,
   "metadata": {},
   "outputs": [],
   "source": [
    "# Basically this creates a loop that can go on forever as long as there are loops inside loops\n",
    "# Eg: x = [1,2,3,[2,3,[3]],[2]]\n",
    "# First- count in the first list: 5\n",
    "# Second index = 3 & index = 4 identified as lists\n",
    "# Thus [2,3,[3]] and [2] undergo deepcount again\n",
    "# 5 + 3 + 1 = 9, then they realise [2,3,[3]][2] is also a list\n",
    "# Thus [3] undergoes another deepcount- 9 + 1 = 10\n",
    "# Therefore, Version2(x) should give 10"
   ]
  },
  {
   "cell_type": "code",
   "execution_count": 18,
   "metadata": {},
   "outputs": [
    {
     "data": {
      "text/plain": [
       "10"
      ]
     },
     "execution_count": 18,
     "metadata": {},
     "output_type": "execute_result"
    }
   ],
   "source": [
    "x = [1,2,3,[2,3,[3]],[2]]\n",
    "Version2(x)"
   ]
  },
  {
   "cell_type": "code",
   "execution_count": null,
   "metadata": {},
   "outputs": [],
   "source": []
  }
 ],
 "metadata": {
  "kernelspec": {
   "display_name": "Python 3",
   "language": "python",
   "name": "python3"
  },
  "language_info": {
   "codemirror_mode": {
    "name": "ipython",
    "version": 3
   },
   "file_extension": ".py",
   "mimetype": "text/x-python",
   "name": "python",
   "nbconvert_exporter": "python",
   "pygments_lexer": "ipython3",
   "version": "3.7.3"
  }
 },
 "nbformat": 4,
 "nbformat_minor": 2
}
