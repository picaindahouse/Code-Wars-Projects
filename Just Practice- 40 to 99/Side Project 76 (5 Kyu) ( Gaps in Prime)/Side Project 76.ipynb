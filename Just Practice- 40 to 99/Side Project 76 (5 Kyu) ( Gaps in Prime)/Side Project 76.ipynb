{
 "cells": [
  {
   "cell_type": "code",
   "execution_count": null,
   "metadata": {},
   "outputs": [],
   "source": [
    "# Ranked in terms of efficiency\n",
    "# What did I learn\n",
    "# 1) Range can take a third argument\n",
    "# 2) timeit in jupyter\n",
    "# 3) Faster if you do not use list comprehension"
   ]
  },
  {
   "cell_type": "code",
   "execution_count": 239,
   "metadata": {},
   "outputs": [],
   "source": [
    "def gap(g, m, n):\n",
    "    tim,tom = [1.1],0\n",
    "    for x in range(m,n+1):\n",
    "        if x in [1,2,3,5,7,9,11,13,15,17,19] : \n",
    "            tim.append(x)\n",
    "            if tim[-1] - tim[-2] == g:\n",
    "                return[tim[-2],tim[-1]]\n",
    "        elif x % 2 == 0:\n",
    "            shag = 2\n",
    "        elif x % 3 == 0:\n",
    "            shag = 3\n",
    "        elif x % 5 == 0:\n",
    "            shag = 5\n",
    "        elif len([y for y in [2,3,5,7,9,11,13,15,17,19] if x%y == 0]) > 0:\n",
    "            shag = 2\n",
    "        else:\n",
    "            for y in range(21,int(x/20),2):\n",
    "                if x%y == 0:\n",
    "                    tom = 1\n",
    "                    break\n",
    "                else:\n",
    "                    tom = 0\n",
    "            if tom == 0:\n",
    "                tim.append(x)\n",
    "                if tim[-1] - tim[-2] == g:\n",
    "                    return[tim[-2],tim[-1]]\n",
    "    return None"
   ]
  },
  {
   "cell_type": "code",
   "execution_count": 240,
   "metadata": {},
   "outputs": [
    {
     "name": "stdout",
     "output_type": "stream",
     "text": [
      "61 ms ± 2.95 ms per loop (mean ± std. dev. of 7 runs, 10 loops each)\n"
     ]
    }
   ],
   "source": [
    "%timeit [gap(x,100,10000) for x in range(1,10)]"
   ]
  },
  {
   "cell_type": "code",
   "execution_count": 248,
   "metadata": {},
   "outputs": [],
   "source": [
    "def gap(g, m, n):\n",
    "    tim = []\n",
    "    for x in range(m,n+1):\n",
    "        if x in [1,2,3,5,7,9,11,13,15,17,19] : \n",
    "            tim.append(x)\n",
    "            if len(tim) >= 2 and tim[-1] - tim[-2] == g:\n",
    "                return[tim[-2],tim[-1]]\n",
    "        elif len([y for y in [2,3,5,7,9,11,13,15,17,19] if x%y == 0]) > 0:\n",
    "            shag = 2\n",
    "        else:\n",
    "            if len([y for y in range(2,int(x/19)) if x%y == 0]) == 0:\n",
    "                tim.append(x)\n",
    "                if len(tim) >= 2 and tim[-1] - tim[-2] == g:\n",
    "                    return[tim[-2],tim[-1]]\n",
    "    return None"
   ]
  },
  {
   "cell_type": "code",
   "execution_count": 249,
   "metadata": {},
   "outputs": [
    {
     "name": "stdout",
     "output_type": "stream",
     "text": [
      "153 ms ± 2.96 ms per loop (mean ± std. dev. of 7 runs, 10 loops each)\n"
     ]
    }
   ],
   "source": [
    "%timeit [gap(x,100,10000) for x in range(1,10)]"
   ]
  },
  {
   "cell_type": "code",
   "execution_count": 241,
   "metadata": {},
   "outputs": [],
   "source": [
    "def prime (p):\n",
    "    if p in [2,3,5,7,9,11,13,15,17,19] : return True\n",
    "    if len([x for x in [2,3,5,7,9,11,13,15,17,19] if p%x == 0]) > 0:\n",
    "        return False\n",
    "    return True if len([x for x in range(2,p) if p%x == 0]) == 0 else False"
   ]
  },
  {
   "cell_type": "code",
   "execution_count": 242,
   "metadata": {},
   "outputs": [],
   "source": [
    "def gap(g, m, n):\n",
    "    tim = []\n",
    "    for x in range(m,n+1):\n",
    "        if prime(x) == True:\n",
    "            tim.append(x)\n",
    "            if len(tim) >= 2 and tim[-1] - tim[-2] == g:\n",
    "                return[tim[-2],tim[-1]]\n",
    "    return None"
   ]
  },
  {
   "cell_type": "code",
   "execution_count": 243,
   "metadata": {},
   "outputs": [
    {
     "name": "stdout",
     "output_type": "stream",
     "text": [
      "2.43 s ± 55.3 ms per loop (mean ± std. dev. of 7 runs, 1 loop each)\n"
     ]
    }
   ],
   "source": [
    "%timeit [gap(x,100,10000) for x in range(1,10)]"
   ]
  },
  {
   "cell_type": "code",
   "execution_count": 244,
   "metadata": {},
   "outputs": [],
   "source": [
    "def gap(g, m, n):\n",
    "    tim = []\n",
    "    for x in [x for x in range(m, n+1) if prime(x) == True]:\n",
    "        if not tim:\n",
    "            tim.append(x)\n",
    "        else:\n",
    "            tim.append(x)\n",
    "            if tim[-1] - tim[-2] == g:\n",
    "                return[tim[-2],tim[-1]]\n",
    "    return None"
   ]
  },
  {
   "cell_type": "code",
   "execution_count": 245,
   "metadata": {},
   "outputs": [
    {
     "name": "stdout",
     "output_type": "stream",
     "text": [
      "4.47 s ± 154 ms per loop (mean ± std. dev. of 7 runs, 1 loop each)\n"
     ]
    }
   ],
   "source": [
    "%timeit [gap(x,100,10000) for x in range(1,10)]"
   ]
  },
  {
   "cell_type": "code",
   "execution_count": 246,
   "metadata": {},
   "outputs": [],
   "source": [
    "def gap(g, m, n):\n",
    "    tom = [x for x in range(m,n+1) if prime(x) == True]\n",
    "    return next((x for i,x in [(y - x,[x,y]) for i,x in enumerate(tom) for r,y in enumerate(tom) if r == i + 1] if i ==g), None)"
   ]
  },
  {
   "cell_type": "code",
   "execution_count": 247,
   "metadata": {},
   "outputs": [
    {
     "name": "stdout",
     "output_type": "stream",
     "text": [
      "5.16 s ± 75.5 ms per loop (mean ± std. dev. of 7 runs, 1 loop each)\n"
     ]
    }
   ],
   "source": [
    "%timeit [gap(x,100,10000) for x in range(1,10)]"
   ]
  },
  {
   "cell_type": "code",
   "execution_count": null,
   "metadata": {},
   "outputs": [],
   "source": []
  }
 ],
 "metadata": {
  "kernelspec": {
   "display_name": "Python 3",
   "language": "python",
   "name": "python3"
  },
  "language_info": {
   "codemirror_mode": {
    "name": "ipython",
    "version": 3
   },
   "file_extension": ".py",
   "mimetype": "text/x-python",
   "name": "python",
   "nbconvert_exporter": "python",
   "pygments_lexer": "ipython3",
   "version": "3.7.3"
  }
 },
 "nbformat": 4,
 "nbformat_minor": 2
}
