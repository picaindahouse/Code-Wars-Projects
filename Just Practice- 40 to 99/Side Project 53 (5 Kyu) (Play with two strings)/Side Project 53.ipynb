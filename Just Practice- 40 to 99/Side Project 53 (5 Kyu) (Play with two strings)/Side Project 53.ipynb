{
 "cells": [
  {
   "cell_type": "code",
   "execution_count": null,
   "metadata": {},
   "outputs": [],
   "source": [
    "# List comprehension to the next level:"
   ]
  },
  {
   "cell_type": "code",
   "execution_count": 80,
   "metadata": {},
   "outputs": [],
   "source": [
    "def one_side(a,b):\n",
    "    return ''.join([x if (b.lower()).count(x.lower()) % 2 == 0  else x.swapcase() for x in a])\n",
    "def work_on_strings(a,b):\n",
    "    return one_side(a,b) + one_side(b,a)"
   ]
  },
  {
   "cell_type": "code",
   "execution_count": null,
   "metadata": {},
   "outputs": [],
   "source": [
    "# Haha not bad- but could have been far cleaner!"
   ]
  },
  {
   "cell_type": "code",
   "execution_count": 59,
   "metadata": {},
   "outputs": [],
   "source": [
    "def swap (x, n):\n",
    "    tries = 0\n",
    "    while tries != n:\n",
    "        x = x.swapcase()\n",
    "        tries += 1\n",
    "    return x"
   ]
  },
  {
   "cell_type": "code",
   "execution_count": 62,
   "metadata": {},
   "outputs": [],
   "source": [
    "def one_side (a,b):\n",
    "    tom = [i for i,x in enumerate(a) for y in b if x.lower() == y.lower()]\n",
    "    tum = [(x, tom.count(x)) for x in tom]\n",
    "    tam = []\n",
    "    [tam.append(x) for x in tum if tam.count(x) == 0]\n",
    "    why = []\n",
    "    for i,x in enumerate(a):\n",
    "        if x.lower() not in b.lower():\n",
    "            why.append(x)\n",
    "        else:\n",
    "            for r,y in tam:\n",
    "                if r == i:\n",
    "                    why.append(swap(x,y))\n",
    "    return ''.join(why)"
   ]
  },
  {
   "cell_type": "code",
   "execution_count": 63,
   "metadata": {},
   "outputs": [],
   "source": [
    "def work_on_strings(a,b):\n",
    "    return one_side(a,b) + one_side(b,a)"
   ]
  },
  {
   "cell_type": "code",
   "execution_count": 74,
   "metadata": {},
   "outputs": [],
   "source": [
    "a,b = \"abcdeFgtrzw\", \"defgGgfhjkwqe\""
   ]
  },
  {
   "cell_type": "code",
   "execution_count": 77,
   "metadata": {},
   "outputs": [
    {
     "data": {
      "text/plain": [
       "0"
      ]
     },
     "execution_count": 77,
     "metadata": {},
     "output_type": "execute_result"
    }
   ],
   "source": [
    "4%2"
   ]
  },
  {
   "cell_type": "code",
   "execution_count": 68,
   "metadata": {},
   "outputs": [
    {
     "data": {
      "text/plain": [
       "[(0, 1), (1, 1), (2, 1), (3, 1), (4, 1), (5, 1), (6, 1), (10, 1), (12, 1)]"
      ]
     },
     "execution_count": 68,
     "metadata": {},
     "output_type": "execute_result"
    }
   ],
   "source": [
    "tom = [i for i,x in enumerate(a) for y in b if x.lower() == y.lower()]\n",
    "tum = [(x, tom.count(x)) for x in tom]\n",
    "tam = []\n",
    "[tam.append(x) for x in tum if tam.count(x) == 0]\n",
    "tam"
   ]
  },
  {
   "cell_type": "code",
   "execution_count": 58,
   "metadata": {},
   "outputs": [
    {
     "data": {
      "text/plain": [
       "['C', 'a', 'b', 'C', 'C']"
      ]
     },
     "execution_count": 58,
     "metadata": {},
     "output_type": "execute_result"
    }
   ],
   "source": [
    "[x.swapcase() if i in tom else x for i,x in enumerate(a)]"
   ]
  },
  {
   "cell_type": "code",
   "execution_count": 72,
   "metadata": {},
   "outputs": [
    {
     "data": {
      "text/plain": [
       "'DEFGgGFhjkWqE'"
      ]
     },
     "execution_count": 72,
     "metadata": {},
     "output_type": "execute_result"
    }
   ],
   "source": [
    "why = []\n",
    "for i,x in enumerate(a):\n",
    "    if x.lower() not in b.lower():\n",
    "        why.append(x)\n",
    "    else:\n",
    "        for r,y in tam:\n",
    "            if r == i:\n",
    "                why.append(swap(x,y))\n",
    "''.join(why)"
   ]
  },
  {
   "cell_type": "code",
   "execution_count": 73,
   "metadata": {},
   "outputs": [
    {
     "data": {
      "text/plain": [
       "'DEfGGGfhjkWqE'"
      ]
     },
     "execution_count": 73,
     "metadata": {},
     "output_type": "execute_result"
    }
   ],
   "source": [
    "one_side(a,b)"
   ]
  },
  {
   "cell_type": "code",
   "execution_count": 60,
   "metadata": {},
   "outputs": [
    {
     "data": {
      "text/plain": [
       "'T'"
      ]
     },
     "execution_count": 60,
     "metadata": {},
     "output_type": "execute_result"
    }
   ],
   "source": [
    "swap('t',1)"
   ]
  },
  {
   "cell_type": "code",
   "execution_count": 53,
   "metadata": {},
   "outputs": [
    {
     "data": {
      "text/plain": [
       "['C', 'a', 'b', 'C', 'C']"
      ]
     },
     "execution_count": 53,
     "metadata": {},
     "output_type": "execute_result"
    }
   ],
   "source": [
    "why"
   ]
  },
  {
   "cell_type": "code",
   "execution_count": 64,
   "metadata": {},
   "outputs": [
    {
     "data": {
      "text/plain": [
       "'cabccCdeC'"
      ]
     },
     "execution_count": 64,
     "metadata": {},
     "output_type": "execute_result"
    }
   ],
   "source": [
    "work_on_strings(a,b)"
   ]
  },
  {
   "cell_type": "code",
   "execution_count": null,
   "metadata": {},
   "outputs": [],
   "source": []
  }
 ],
 "metadata": {
  "kernelspec": {
   "display_name": "Python 3",
   "language": "python",
   "name": "python3"
  },
  "language_info": {
   "codemirror_mode": {
    "name": "ipython",
    "version": 3
   },
   "file_extension": ".py",
   "mimetype": "text/x-python",
   "name": "python",
   "nbconvert_exporter": "python",
   "pygments_lexer": "ipython3",
   "version": "3.7.3"
  }
 },
 "nbformat": 4,
 "nbformat_minor": 2
}
