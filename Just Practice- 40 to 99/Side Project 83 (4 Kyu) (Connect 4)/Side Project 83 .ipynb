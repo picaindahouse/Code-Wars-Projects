{
 "cells": [
  {
   "cell_type": "code",
   "execution_count": 222,
   "metadata": {},
   "outputs": [],
   "source": [
    "from numpy import diagonal\n",
    "def who_is_winner(tom):\n",
    "    print(tom)\n",
    "    tim = [[x for x in str(0)*7] for x in range(6)]\n",
    "    for x in tom:\n",
    "        count, tum, master = 5, [], []\n",
    "        loc = {'A':0,'B':1,'C':2,'D':3,'E':4,'F':5,'G':6}[x[0]]\n",
    "        while tim[count][loc] != '0':\n",
    "            count -= 1\n",
    "        tim[count][loc] = x[2:]\n",
    "        if tim[count].count(x[2:]) >= 4:\n",
    "            master.append(tim[count])    \n",
    "        if [tim[x][loc] for x in range(6)].count(x[2:]) >= 4:\n",
    "            master.append([tim[x][loc] for x in range(6)])\n",
    "        if list(diagonal(tim, (loc + 1) - (6-(5-count)))).count(x[2:]) >= 4:\n",
    "            master.append(list(diagonal(tim, (loc + 1) - (6-(5-count)))))\n",
    "        [x.reverse() for x in tim]\n",
    "        counte = 6 - loc\n",
    "        if list(diagonal(tim, (counte + 1) - (6-(5-count)))).count(x[2:]) >= 4:\n",
    "            master = list(diagonal(tim, (counte + 1) - (6-(5-count))))\n",
    "        [x.reverse() for x in tim]   \n",
    "        if master:\n",
    "            for y in master:   \n",
    "                for x in y:\n",
    "                    if not tum or x != tum[-1][0]:\n",
    "                        tum.append([x,1])\n",
    "                    else:\n",
    "                        tum[-1][1] += 1\n",
    "                if [x[1] for x in tum if x[0] == 'Yellow' and x[1] >= 4]:\n",
    "                    return 'Yellow'\n",
    "                elif [x[1] for x in tum if x[0] == 'Red' and x[1] >= 4]:\n",
    "                    return 'Red' \n",
    "                else: tum = []\n",
    "    return 'Draw'"
   ]
  },
  {
   "cell_type": "code",
   "execution_count": 213,
   "metadata": {},
   "outputs": [],
   "source": [
    "tom = ['D_Red', 'F_Yellow', 'D_Red', 'C_Yellow', 'B_Red', 'C_Yellow', 'C_Red', 'D_Yellow', 'G_Red', 'B_Yellow', 'E_Red', 'C_Yellow', 'B_Red', 'G_Yellow', 'A_Red', 'C_Yellow', 'G_Red', 'E_Yellow', 'E_Red', 'F_Yellow', 'B_Red', 'B_Yellow', 'D_Red', 'A_Yellow', 'B_Red']"
   ]
  },
  {
   "cell_type": "code",
   "execution_count": 216,
   "metadata": {},
   "outputs": [],
   "source": [
    "for x in tom:\n",
    "    count, tum,master = 5, [],[]\n",
    "    loc = {'A':0,'B':1,'C':2,'D':3,'E':4,'F':5,'G':6}[x[0]]\n",
    "    while tim[count][loc] != '0':\n",
    "        count -= 1\n",
    "    tim[count][loc] = x[2:]\n",
    "    if tim[count].count(x[2:]) >= 4:\n",
    "        master.append(tim[count]) \n",
    "    if [tim[x][loc] for x in range(6)].count('Yellow') >= 4 or [tim[x][loc] for x in range(6)].count('Red') >= 4:\n",
    "        master.append([tim[x][loc] for x in range(6)]) \n",
    "    if list(diagonal(tim, (loc + 1) - (6-(5-count)))).count(x[2:]) >= 4:\n",
    "        master.append(list(diagonal(tim, (loc + 1) - (6-(5-count)))))\n",
    "    [x.reverse() for x in tim]\n",
    "    counte = 6 - loc\n",
    "    if list(diagonal(tim, (counte + 1) - (6-(5-count)))).count(x[2:]) >= 4:\n",
    "        master.append(list(diagonal(tim, (counte + 1) - (6-(5-count)))))\n",
    "    [x.reverse() for x in tim]   \n",
    "    print(master)\n",
    "    if master:\n",
    "        for y in master:   \n",
    "            print(y)\n",
    "            for x in y:\n",
    "                if not tum or x != tum[-1][0]:\n",
    "                    tum.append([x,1])\n",
    "                else:\n",
    "                    tum[-1][1] += 1\n",
    "            if [x[1] for x in tum if x[0] == 'Yellow' and x[1] >= 4]:\n",
    "                return'Yellow'\n",
    "            elif [x[1] for x in tum if x[0] == 'Red' and x[1] >= 4]:\n",
    "                return'Red'\n",
    "            else: tum = []"
   ]
  },
  {
   "cell_type": "code",
   "execution_count": 217,
   "metadata": {},
   "outputs": [
    {
     "data": {
      "text/plain": [
       "[['0', '0', '0', '0', '0', '0', '0'],\n",
       " ['0', '0', '0', '0', '0', '0', '0'],\n",
       " ['0', '0', '0', '0', '0', '0', '0'],\n",
       " ['0', '0', '0', '0', '0', '0', '0'],\n",
       " ['0', '0', '0', '0', '0', '0', '0'],\n",
       " ['0', '0', '0', '0', '0', '0', '0']]"
      ]
     },
     "execution_count": 217,
     "metadata": {},
     "output_type": "execute_result"
    }
   ],
   "source": [
    "tim = [[x for x in str(0)*7] for x in range(6)]\n",
    "tim"
   ]
  },
  {
   "cell_type": "code",
   "execution_count": 200,
   "metadata": {},
   "outputs": [
    {
     "data": {
      "text/plain": [
       "{'A': 0, 'B': 1, 'C': 2, 'D': 3, 'E': 4, 'F': 5, 'G': 6}"
      ]
     },
     "execution_count": 200,
     "metadata": {},
     "output_type": "execute_result"
    }
   ],
   "source": [
    "{'A':0,'B':1,'C':2,'D':3,'E':4,'F':5,'G':6}"
   ]
  },
  {
   "cell_type": "code",
   "execution_count": 201,
   "metadata": {},
   "outputs": [
    {
     "data": {
      "text/plain": [
       "[['0', '0', '0', '0', '0', 'Yellow', '0'],\n",
       " ['0', '0', '0', 'Red', '0', 'Red', '0'],\n",
       " ['0', '0', '0', 'Red', '0', 'Red', '0'],\n",
       " ['Red', 'Yellow', 'Yellow', 'Yellow', '0', 'Yellow', '0'],\n",
       " ['Red', 'Red', 'Red', 'Yellow', 'Yellow', 'Red', 'Yellow'],\n",
       " ['Yellow', 'Red', 'Red', 'Yellow', 'Yellow', 'Red', 'Yellow']]"
      ]
     },
     "execution_count": 201,
     "metadata": {},
     "output_type": "execute_result"
    }
   ],
   "source": [
    "tim"
   ]
  },
  {
   "cell_type": "code",
   "execution_count": 174,
   "metadata": {},
   "outputs": [],
   "source": [
    "x = 'D_Yellow'\n",
    "count, tum = 5, []\n",
    "loc = {'A':0,'B':1,'C':2,'D':3,'E':4,'F':5,'G':6}[x[0]]"
   ]
  },
  {
   "cell_type": "code",
   "execution_count": 175,
   "metadata": {},
   "outputs": [],
   "source": [
    "while tim[count][loc] != '0':\n",
    "    count -= 1"
   ]
  },
  {
   "cell_type": "code",
   "execution_count": 176,
   "metadata": {},
   "outputs": [
    {
     "data": {
      "text/plain": [
       "2"
      ]
     },
     "execution_count": 176,
     "metadata": {},
     "output_type": "execute_result"
    }
   ],
   "source": [
    "count"
   ]
  },
  {
   "cell_type": "code",
   "execution_count": 177,
   "metadata": {},
   "outputs": [],
   "source": [
    "tim[count][{'A':0,'B':1,'C':2,'D':3,'E':4,'F':5,'G':6}[x[0]]] = x[2:]"
   ]
  },
  {
   "cell_type": "code",
   "execution_count": 178,
   "metadata": {},
   "outputs": [
    {
     "data": {
      "text/plain": [
       "[['0', '0', '0', '0', '0', '0', '0'],\n",
       " ['0', '0', 'Yellow', '0', '0', '0', 'Red'],\n",
       " ['0', '0', 'Yellow', 'Yellow', 'Red', 'Yellow', 'Yellow'],\n",
       " ['Red', '0', 'Red', 'Yellow', 'Red', 'Yellow', 'Red'],\n",
       " ['Red', '0', 'Red', 'Yellow', 'Red', 'Red', 'Yellow'],\n",
       " ['Yellow', 'Red', 'Red', 'Yellow', 'Yellow', 'Red', 'Yellow']]"
      ]
     },
     "execution_count": 178,
     "metadata": {},
     "output_type": "execute_result"
    }
   ],
   "source": [
    "tim"
   ]
  },
  {
   "cell_type": "code",
   "execution_count": 179,
   "metadata": {},
   "outputs": [
    {
     "name": "stdout",
     "output_type": "stream",
     "text": [
      "Yo\n"
     ]
    }
   ],
   "source": [
    "if tim[count].count(x[2:]) >= 4:\n",
    "    print('Yo')   "
   ]
  },
  {
   "cell_type": "code",
   "execution_count": 159,
   "metadata": {},
   "outputs": [
    {
     "data": {
      "text/plain": [
       "['0', '0', '1', '1', '1', '1']"
      ]
     },
     "execution_count": 159,
     "metadata": {},
     "output_type": "execute_result"
    }
   ],
   "source": [
    "[tim[x][loc] for x in range(6)]"
   ]
  },
  {
   "cell_type": "code",
   "execution_count": null,
   "metadata": {},
   "outputs": [],
   "source": [
    "x = \"C_Yellow\"\n",
    "count = 5\n",
    "tim[count][{'A':0,'B':1,'C':2,'D':3,'E':4,'F':5,'G':6}[x[0]]]"
   ]
  },
  {
   "cell_type": "code",
   "execution_count": null,
   "metadata": {},
   "outputs": [],
   "source": [
    "tum = []\n",
    "haiz = ['Red', 'Red',  'Red', 'Red', 'Yellow', 'Yellow', 'Yellow',]\n",
    "if haiz.count('Red') >= 4:\n",
    "    for x in haiz:\n",
    "        if not tum or x != tum[-1][0]:\n",
    "            tum.append([x,1])\n",
    "        else:\n",
    "            tum[-1][1] += 1\n",
    "    if [x[1] for x in tum if x[0] == 'Red' and x[1] >= 4 ]:\n",
    "        print('Red')"
   ]
  },
  {
   "cell_type": "code",
   "execution_count": null,
   "metadata": {},
   "outputs": [],
   "source": [
    "count"
   ]
  },
  {
   "cell_type": "code",
   "execution_count": null,
   "metadata": {},
   "outputs": [],
   "source": [
    "tim"
   ]
  },
  {
   "cell_type": "code",
   "execution_count": null,
   "metadata": {},
   "outputs": [],
   "source": [
    "[tim[2-x][1-x] for x in range(6)]"
   ]
  },
  {
   "cell_type": "code",
   "execution_count": null,
   "metadata": {},
   "outputs": [],
   "source": [
    "[3,0][2,1][1,2][0,3]"
   ]
  },
  {
   "cell_type": "code",
   "execution_count": null,
   "metadata": {},
   "outputs": [],
   "source": [
    "diagonal = []\n"
   ]
  },
  {
   "cell_type": "code",
   "execution_count": null,
   "metadata": {},
   "outputs": [],
   "source": [
    "diagonal"
   ]
  },
  {
   "cell_type": "code",
   "execution_count": 6,
   "metadata": {},
   "outputs": [
    {
     "data": {
      "text/plain": [
       "[['0', '0', '0', 'Yellow', '0', '0', '0'],\n",
       " ['0', '0', '0', 'Red', '0', '0', '0'],\n",
       " ['Red', 'Yellow', 'Red', 'Yellow', '0', '0', 'Yellow'],\n",
       " ['Yellow', 'Yellow', 'Red', 'Red', 'Red', 'Yellow', 'Red'],\n",
       " ['Yellow', 'Red', 'Yellow', 'Yellow', 'Yellow', 'Red', 'Red'],\n",
       " ['Red', 'Red', 'Yellow', 'Yellow', 'Red', 'Red', 'Yellow']]"
      ]
     },
     "execution_count": 6,
     "metadata": {},
     "output_type": "execute_result"
    }
   ],
   "source": [
    "tim"
   ]
  },
  {
   "cell_type": "code",
   "execution_count": null,
   "metadata": {},
   "outputs": [],
   "source": [
    "def smth (tim,cool):\n",
    "    return [tim[x[0]][x[1]] for x in cool]"
   ]
  },
  {
   "cell_type": "code",
   "execution_count": null,
   "metadata": {},
   "outputs": [],
   "source": [
    "smth(tim, [[5,0]])"
   ]
  },
  {
   "cell_type": "code",
   "execution_count": 13,
   "metadata": {},
   "outputs": [],
   "source": [
    "from numpy import diagonal"
   ]
  },
  {
   "cell_type": "code",
   "execution_count": 25,
   "metadata": {},
   "outputs": [
    {
     "data": {
      "text/plain": [
       "array(['0', '0', 'Yellow', 'Red', 'Red', 'Yellow'], dtype='<U6')"
      ]
     },
     "execution_count": 25,
     "metadata": {},
     "output_type": "execute_result"
    }
   ],
   "source": [
    "diagonal(tim,1)"
   ]
  },
  {
   "cell_type": "code",
   "execution_count": 26,
   "metadata": {},
   "outputs": [
    {
     "data": {
      "text/plain": [
       "'Yellow'"
      ]
     },
     "execution_count": 26,
     "metadata": {},
     "output_type": "execute_result"
    }
   ],
   "source": [
    "tim[4][3]"
   ]
  },
  {
   "cell_type": "code",
   "execution_count": 28,
   "metadata": {},
   "outputs": [
    {
     "data": {
      "text/plain": [
       "array(['0', 'Yellow', 'Red', 'Yellow', 'Red'], dtype='<U6')"
      ]
     },
     "execution_count": 28,
     "metadata": {},
     "output_type": "execute_result"
    }
   ],
   "source": [
    "diagonal(tim, 4 - (6-(5-4)))"
   ]
  },
  {
   "cell_type": "code",
   "execution_count": 50,
   "metadata": {},
   "outputs": [],
   "source": [
    "count = 3\n",
    "loc = 0"
   ]
  },
  {
   "cell_type": "code",
   "execution_count": 51,
   "metadata": {},
   "outputs": [
    {
     "data": {
      "text/plain": [
       "['Yellow', 'Red', 'Yellow']"
      ]
     },
     "execution_count": 51,
     "metadata": {},
     "output_type": "execute_result"
    }
   ],
   "source": [
    "list(diagonal(tim, (loc + 1) - (6-(5-count))))"
   ]
  },
  {
   "cell_type": "code",
   "execution_count": 46,
   "metadata": {},
   "outputs": [
    {
     "data": {
      "text/plain": [
       "[None, None, None, None, None, None]"
      ]
     },
     "execution_count": 46,
     "metadata": {},
     "output_type": "execute_result"
    }
   ],
   "source": [
    "[x.reverse() for x in tim]"
   ]
  },
  {
   "cell_type": "code",
   "execution_count": 49,
   "metadata": {},
   "outputs": [
    {
     "data": {
      "text/plain": [
       "[['0', '0', '0', 'Yellow', '0', '0', '0'],\n",
       " ['0', '0', '0', 'Red', '0', '0', '0'],\n",
       " ['Red', 'Yellow', 'Red', 'Yellow', '0', '0', 'Yellow'],\n",
       " ['Yellow', 'Yellow', 'Red', 'Red', 'Red', 'Yellow', 'Red'],\n",
       " ['Yellow', 'Red', 'Yellow', 'Yellow', 'Yellow', 'Red', 'Red'],\n",
       " ['Red', 'Red', 'Yellow', 'Yellow', 'Red', 'Red', 'Yellow']]"
      ]
     },
     "execution_count": 49,
     "metadata": {},
     "output_type": "execute_result"
    }
   ],
   "source": [
    "tim"
   ]
  },
  {
   "cell_type": "code",
   "execution_count": 78,
   "metadata": {},
   "outputs": [
    {
     "data": {
      "text/plain": [
       "'Yellow'"
      ]
     },
     "execution_count": 78,
     "metadata": {},
     "output_type": "execute_result"
    }
   ],
   "source": [
    "tim[2][6]"
   ]
  },
  {
   "cell_type": "code",
   "execution_count": 91,
   "metadata": {},
   "outputs": [],
   "source": [
    "count, loc = 2, 6\n",
    "[x.reverse() for x in tim]\n",
    "counte = 6 - loc"
   ]
  },
  {
   "cell_type": "code",
   "execution_count": 92,
   "metadata": {},
   "outputs": [
    {
     "data": {
      "text/plain": [
       "[['0', '0', '0', 'Yellow', '0', '0', '0'],\n",
       " ['0', '0', '0', 'Red', '0', '0', '0'],\n",
       " ['Yellow', '0', '0', 'Yellow', 'Red', 'Yellow', 'Red'],\n",
       " ['Red', 'Yellow', 'Red', 'Red', 'Red', 'Yellow', 'Yellow'],\n",
       " ['Red', 'Red', 'Yellow', 'Yellow', 'Yellow', 'Red', 'Yellow'],\n",
       " ['Yellow', 'Red', 'Red', 'Yellow', 'Yellow', 'Red', 'Red']]"
      ]
     },
     "execution_count": 92,
     "metadata": {},
     "output_type": "execute_result"
    }
   ],
   "source": [
    "tim"
   ]
  },
  {
   "cell_type": "code",
   "execution_count": 93,
   "metadata": {},
   "outputs": [
    {
     "data": {
      "text/plain": [
       "['Yellow', 'Yellow', 'Yellow', 'Yellow']"
      ]
     },
     "execution_count": 93,
     "metadata": {},
     "output_type": "execute_result"
    }
   ],
   "source": [
    "list(diagonal(tim, (counte + 1)-(6-(5-count))))"
   ]
  },
  {
   "cell_type": "code",
   "execution_count": null,
   "metadata": {},
   "outputs": [],
   "source": [
    "[x.reverse() for x in tim]\n",
    "    counte = 7 - count\n",
    "    if list(diagonal(tim, (loc + 1) - (6-(5-counte)))).count(x[2:]) >= 4:\n",
    "        master = list(diagonal(tim, (loc + 1) - (6-(5-counte))))\n",
    "        print (master)\n",
    "    else: master = []\n",
    "    [x.reverse() for x in tim]  "
   ]
  },
  {
   "cell_type": "code",
   "execution_count": 108,
   "metadata": {},
   "outputs": [
    {
     "name": "stdout",
     "output_type": "stream",
     "text": [
      "yea\n"
     ]
    }
   ],
   "source": [
    "tum = [['Yellow', 4]]\n",
    "if [x[1] for x in tum if x[0] == 'Yellow' and x[1] >= 4]:\n",
    "    print ('yea')"
   ]
  },
  {
   "cell_type": "code",
   "execution_count": null,
   "metadata": {},
   "outputs": [],
   "source": []
  }
 ],
 "metadata": {
  "kernelspec": {
   "display_name": "Python 3",
   "language": "python",
   "name": "python3"
  },
  "language_info": {
   "codemirror_mode": {
    "name": "ipython",
    "version": 3
   },
   "file_extension": ".py",
   "mimetype": "text/x-python",
   "name": "python",
   "nbconvert_exporter": "python",
   "pygments_lexer": "ipython3",
   "version": "3.7.3"
  }
 },
 "nbformat": 4,
 "nbformat_minor": 2
}
