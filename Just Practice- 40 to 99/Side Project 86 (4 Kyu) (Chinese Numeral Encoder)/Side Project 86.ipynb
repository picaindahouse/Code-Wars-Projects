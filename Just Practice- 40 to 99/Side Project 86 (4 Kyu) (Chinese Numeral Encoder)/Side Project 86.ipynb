{
 "cells": [
  {
   "cell_type": "code",
   "execution_count": 237,
   "metadata": {},
   "outputs": [],
   "source": [
    "def to_chinese_numeral(n):\n",
    "    numerals = {\"-\":\"负\", \".\":\"点\", 0:\"零\", 1:\"一\", 2:\"二\", 3:\"三\", 4:\"四\", 5:\"五\", 6:\"六\", 7:\"七\", 8:\"八\", 9:\"九\", 10:\"十\", 100:\"百\", 1000:\"千\", 10000:\"万\"}\n",
    "    him, blue = 1, 1\n",
    "    if n < 0: n, him = abs(n), 4\n",
    "    if n % 1 != 0: t,n, blue = n,int(n), 4\n",
    "    tim,tam, tom, tym = [], [x for x in str(n)], [], []\n",
    "    tam.reverse()\n",
    "    [tim.append((x)) if not tim and x != '0' or True in [y in tim  for y in ['1','2','3','4','5','6','7','8','9']] or x in '.123456789' else tim.append((1,x))   for x in tam]\n",
    "    tim.reverse()\n",
    "    for i,x in enumerate(tim):\n",
    "        yo = int('1' + '0' * (len(str(n)) - i))\n",
    "        if not tom: \n",
    "            if x == (1,'0'):\n",
    "                tom.append(numerals[0])\n",
    "            else: tom.append(numerals[int(x)])\n",
    "        elif n > 9 and n < 20:\n",
    "            tom = []\n",
    "            tom.append(numerals[yo])\n",
    "            if x != (1,'0'):\n",
    "                tom.append(numerals[int(x)])\n",
    "        elif x == (1,'0'): \n",
    "            if tom[-1] not in [numerals[100],numerals[1000],numerals[10000]]:\n",
    "                tom.append(numerals[yo])\n",
    "        else: \n",
    "            if tom[-1] != numerals[0]:\n",
    "                tom.append(numerals[yo])\n",
    "                tom.append(numerals[int(x)])\n",
    "            elif tom[-1] == numerals[0] and x == '0': 1\n",
    "            else:   tom.append(numerals[int(x)])\n",
    "    if him == 4: tom.insert(0, numerals['-'])\n",
    "    if blue == 4:\n",
    "        [tym.append(x) for x in str(t) if x == '.' or '.' in tym]\n",
    "        print(tym)\n",
    "        for y in tym:\n",
    "            if y in '.0123456789':\n",
    "                tom.append(numerals[y]) if y == '.' else tom.append(numerals[int(y)])\n",
    "    return ''.join(tom) "
   ]
  },
  {
   "cell_type": "code",
   "execution_count": 3,
   "metadata": {},
   "outputs": [],
   "source": [
    " numerals = {\n",
    "        \"-\":\"负\",\n",
    "        \".\":\"点\",\n",
    "        0:\"零\",\n",
    "        1:\"一\",\n",
    "        2:\"二\",\n",
    "        3:\"三\",\n",
    "        4:\"四\",\n",
    "        5:\"五\",\n",
    "        6:\"六\",\n",
    "        7:\"七\",\n",
    "        8:\"八\",\n",
    "        9:\"九\",\n",
    "        10:\"十\",\n",
    "        100:\"百\",\n",
    "        1000:\"千\",\n",
    "        10000:\"万\"\n",
    "    }"
   ]
  },
  {
   "cell_type": "code",
   "execution_count": 236,
   "metadata": {},
   "outputs": [
    {
     "data": {
      "text/plain": [
       "'十一点一一'"
      ]
     },
     "execution_count": 236,
     "metadata": {},
     "output_type": "execute_result"
    }
   ],
   "source": [
    "n = 11.11\n",
    "him, blue = 1, 1\n",
    "if n < 0: n, him = abs(n), 4\n",
    "if n % 1 != 0: t,n, blue = n,int(n), 4\n",
    "tim,tam, tom, tym = [], [x for x in str(n)], [], []\n",
    "tam.reverse()\n",
    "[tim.append((x)) if not tim and x != '0' or True in [y in tim  for y in ['1','2','3','4','5','6','7','8','9']] or x in '.123456789' else tim.append((1,x))   for x in tam]\n",
    "tim.reverse()\n",
    "for i,x in enumerate(tim):\n",
    "    yo = int('1' + '0' * (len(str(n)) - i))\n",
    "    if not tom: \n",
    "        if x == (1,'0'):\n",
    "            tom.append(numerals[0])\n",
    "        else: tom.append(numerals[int(x)])\n",
    "    elif n > 9 and n < 20:\n",
    "        tom = []\n",
    "        tom.append(numerals[yo])\n",
    "        if x != (1,'0'):\n",
    "            tom.append(numerals[int(x)])\n",
    "    elif x == (1,'0'): \n",
    "        if tom[-1] not in [numerals[100],numerals[1000],numerals[10000]]:\n",
    "            tom.append(numerals[yo])\n",
    "    else: \n",
    "        if tom[-1] != numerals[0]:\n",
    "            tom.append(numerals[yo])\n",
    "            tom.append(numerals[int(x)])\n",
    "        elif tom[-1] == numerals[0] and x == '0': 1\n",
    "        else:   tom.append(numerals[int(x)])\n",
    "if him == 4: tom.insert(0, numerals['-'])\n",
    "if blue == 4:\n",
    "    [tym.append(x) for x in str(t) if x == '.' or '.' in tym]\n",
    "    for y in tym:\n",
    "        if y in '.0123456789':\n",
    "            tom.append(numerals[y]) if y == '.' else tom.append(numerals[int(y)])\n",
    "''.join(tom) "
   ]
  },
  {
   "cell_type": "code",
   "execution_count": 192,
   "metadata": {},
   "outputs": [
    {
     "data": {
      "text/plain": [
       "'一千零四'"
      ]
     },
     "execution_count": 192,
     "metadata": {},
     "output_type": "execute_result"
    }
   ],
   "source": [
    "'一百二十三点四五'"
   ]
  },
  {
   "cell_type": "code",
   "execution_count": 21,
   "metadata": {},
   "outputs": [],
   "source": [
    "tom = []\n",
    "tom.insert(-1,2)"
   ]
  },
  {
   "cell_type": "code",
   "execution_count": 23,
   "metadata": {},
   "outputs": [],
   "source": [
    "tom.insert(-1,3)"
   ]
  },
  {
   "cell_type": "code",
   "execution_count": 64,
   "metadata": {},
   "outputs": [
    {
     "ename": "KeyError",
     "evalue": "100000",
     "output_type": "error",
     "traceback": [
      "\u001b[1;31m---------------------------------------------------------------------------\u001b[0m",
      "\u001b[1;31mKeyError\u001b[0m                                  Traceback (most recent call last)",
      "\u001b[1;32m<ipython-input-64-940ed250f002>\u001b[0m in \u001b[0;36m<module>\u001b[1;34m\u001b[0m\n\u001b[1;32m----> 1\u001b[1;33m \u001b[0mnumerals\u001b[0m\u001b[1;33m[\u001b[0m\u001b[1;36m100000\u001b[0m\u001b[1;33m]\u001b[0m\u001b[1;33m\u001b[0m\u001b[1;33m\u001b[0m\u001b[0m\n\u001b[0m",
      "\u001b[1;31mKeyError\u001b[0m: 100000"
     ]
    }
   ],
   "source": [
    "numerals[100000]"
   ]
  },
  {
   "cell_type": "code",
   "execution_count": 196,
   "metadata": {},
   "outputs": [
    {
     "data": {
      "text/plain": [
       "False"
      ]
     },
     "execution_count": 196,
     "metadata": {},
     "output_type": "execute_result"
    }
   ],
   "source": [
    "2.3%1 == 0"
   ]
  },
  {
   "cell_type": "code",
   "execution_count": 182,
   "metadata": {},
   "outputs": [],
   "source": [
    "r = 10.3"
   ]
  },
  {
   "cell_type": "code",
   "execution_count": 183,
   "metadata": {},
   "outputs": [],
   "source": [
    "tim,tam = [], [x for x in str(r)]\n",
    "tam.reverse()\n",
    "[tim.append((x)) if not tim and x != '0' or True in [y in tim  for y in ['1','2','3','4','5','6','7','8','9']] or x in '.123456789' else tim.append((1,x))   for x in tam]\n",
    "tim.reverse()"
   ]
  },
  {
   "cell_type": "code",
   "execution_count": 184,
   "metadata": {},
   "outputs": [
    {
     "data": {
      "text/plain": [
       "['1', '0', '.', '3']"
      ]
     },
     "execution_count": 184,
     "metadata": {},
     "output_type": "execute_result"
    }
   ],
   "source": [
    "tim"
   ]
  },
  {
   "cell_type": "code",
   "execution_count": 96,
   "metadata": {},
   "outputs": [
    {
     "data": {
      "text/plain": [
       "[False, False, True, False, False, False, False, False, False]"
      ]
     },
     "execution_count": 96,
     "metadata": {},
     "output_type": "execute_result"
    }
   ],
   "source": [
    "[y in tim  for y in ['1','2','3','4','5','6','7','8','9']]"
   ]
  },
  {
   "cell_type": "code",
   "execution_count": 105,
   "metadata": {},
   "outputs": [
    {
     "data": {
      "text/plain": [
       "False"
      ]
     },
     "execution_count": 105,
     "metadata": {},
     "output_type": "execute_result"
    }
   ],
   "source": [
    "(2,0)== 0"
   ]
  },
  {
   "cell_type": "code",
   "execution_count": 219,
   "metadata": {},
   "outputs": [
    {
     "data": {
      "text/plain": [
       "[None, None]"
      ]
     },
     "execution_count": 219,
     "metadata": {},
     "output_type": "execute_result"
    }
   ],
   "source": [
    "tom = []\n",
    "[tom.append(x) for x in str(2.3) if x == '.' or '.' in tom]"
   ]
  },
  {
   "cell_type": "code",
   "execution_count": 220,
   "metadata": {},
   "outputs": [
    {
     "data": {
      "text/plain": [
       "['.', '3']"
      ]
     },
     "execution_count": 220,
     "metadata": {},
     "output_type": "execute_result"
    }
   ],
   "source": [
    "tom"
   ]
  },
  {
   "cell_type": "code",
   "execution_count": 240,
   "metadata": {},
   "outputs": [
    {
     "name": "stdout",
     "output_type": "stream",
     "text": [
      "['.', '4', '3', '5', '4', '3', '2', '6', '1', '4', '3']\n"
     ]
    },
    {
     "data": {
      "text/plain": [
       "'负八万九千零七十六点四三五四三二六一四三'"
      ]
     },
     "execution_count": 240,
     "metadata": {},
     "output_type": "execute_result"
    }
   ],
   "source": [
    "to_chinese_numeral(-89076.4354326143)"
   ]
  },
  {
   "cell_type": "code",
   "execution_count": null,
   "metadata": {},
   "outputs": [],
   "source": []
  }
 ],
 "metadata": {
  "kernelspec": {
   "display_name": "Python 3",
   "language": "python",
   "name": "python3"
  },
  "language_info": {
   "codemirror_mode": {
    "name": "ipython",
    "version": 3
   },
   "file_extension": ".py",
   "mimetype": "text/x-python",
   "name": "python",
   "nbconvert_exporter": "python",
   "pygments_lexer": "ipython3",
   "version": "3.7.3"
  }
 },
 "nbformat": 4,
 "nbformat_minor": 2
}
