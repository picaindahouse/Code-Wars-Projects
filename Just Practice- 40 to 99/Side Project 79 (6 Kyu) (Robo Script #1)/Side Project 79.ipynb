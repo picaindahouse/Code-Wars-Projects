{
 "cells": [
  {
   "cell_type": "code",
   "execution_count": 101,
   "metadata": {},
   "outputs": [],
   "source": [
    "def highlight(code):\n",
    "    tom = []\n",
    "    for x in code:\n",
    "        if tom and len(tom[-1]) > 3 and x == tom[-1][3]: tom[-1][1] = tom[-1][1] + x\n",
    "        elif tom and len(tom[-1]) > 3 and x in '0123456789' and tom[-1][3] in '0123456789': tom[-1][1] = tom[-1][1] + x\n",
    "        elif x == 'F': tom.append(['<span style=\"color: pink\">',x,'</span>',x])\n",
    "        elif x == 'L': tom.append(['<span style=\"color: red\">',x,'</span>',x])\n",
    "        elif x == 'R': tom.append(['<span style=\"color: green\">',x,'</span>',x])\n",
    "        elif x in '0123456789' : tom.append(['<span style=\"color: orange\">',x,'</span>',x])\n",
    "        else: tom.append(x)\n",
    "    return ''.join([''.join(x[0:3]) for x in tom])"
   ]
  },
  {
   "cell_type": "code",
   "execution_count": 92,
   "metadata": {},
   "outputs": [],
   "source": [
    "code = \"6366)RF332039R71781518)095R7309R(R95715L21053L671)08549R390871(8L629)8LF1084L58\""
   ]
  }
 ],
 "metadata": {
  "kernelspec": {
   "display_name": "Python 3",
   "language": "python",
   "name": "python3"
  },
  "language_info": {
   "codemirror_mode": {
    "name": "ipython",
    "version": 3
   },
   "file_extension": ".py",
   "mimetype": "text/x-python",
   "name": "python",
   "nbconvert_exporter": "python",
   "pygments_lexer": "ipython3",
   "version": "3.7.3"
  }
 },
 "nbformat": 4,
 "nbformat_minor": 2
}
