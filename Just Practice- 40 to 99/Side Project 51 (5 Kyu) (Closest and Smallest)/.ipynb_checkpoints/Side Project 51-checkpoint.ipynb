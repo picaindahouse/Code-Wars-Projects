{
 "cells": [
  {
   "cell_type": "code",
   "execution_count": 57,
   "metadata": {},
   "outputs": [],
   "source": [
    "def weight (n):\n",
    "    return sum([int(x) for x in str(n)])"
   ]
  },
  {
   "cell_type": "code",
   "execution_count": 52,
   "metadata": {},
   "outputs": [],
   "source": [
    "def closest(strng):\n",
    "    if len(strng) == 0:\n",
    "        return []\n",
    "    tom = [[weight(int(x)),i,int(x)] for i,x in enumerate(strng.split())]\n",
    "    tum = [x[0] - y[0] for x in tom for y in tom if x[1] != y[1] and (x[0] - y[0]) >= 0]\n",
    "    return min([[x,y] for x in tom for y in tom if y[0] - x[0] == min(tum) and x[1] != y[1]])"
   ]
  },
  {
   "cell_type": "code",
   "execution_count": 56,
   "metadata": {},
   "outputs": [],
   "source": [
    "strng = \"239382 162 254765 182 485944 134 468751 62 49780 108 54\""
   ]
  },
  {
   "cell_type": "code",
   "execution_count": 58,
   "metadata": {},
   "outputs": [
    {
     "data": {
      "text/plain": [
       "[[27, 0, 239382],\n",
       " [9, 1, 162],\n",
       " [29, 2, 254765],\n",
       " [11, 3, 182],\n",
       " [34, 4, 485944],\n",
       " [8, 5, 134],\n",
       " [31, 6, 468751],\n",
       " [8, 7, 62],\n",
       " [28, 8, 49780],\n",
       " [9, 9, 108],\n",
       " [9, 10, 54]]"
      ]
     },
     "execution_count": 58,
     "metadata": {},
     "output_type": "execute_result"
    }
   ],
   "source": [
    "tom = [[weight(int(x)),i,int(x)] for i,x in enumerate(strng.split())]\n",
    "tom"
   ]
  },
  {
   "cell_type": "code",
   "execution_count": 61,
   "metadata": {},
   "outputs": [
    {
     "data": {
      "text/plain": [
       "[18,\n",
       " 16,\n",
       " 19,\n",
       " 19,\n",
       " 18,\n",
       " 18,\n",
       " 1,\n",
       " 1,\n",
       " 0,\n",
       " 0,\n",
       " 2,\n",
       " 20,\n",
       " 18,\n",
       " 21,\n",
       " 21,\n",
       " 1,\n",
       " 20,\n",
       " 20,\n",
       " 2,\n",
       " 3,\n",
       " 3,\n",
       " 2,\n",
       " 2,\n",
       " 7,\n",
       " 25,\n",
       " 5,\n",
       " 23,\n",
       " 26,\n",
       " 3,\n",
       " 26,\n",
       " 6,\n",
       " 25,\n",
       " 25,\n",
       " 0,\n",
       " 4,\n",
       " 22,\n",
       " 2,\n",
       " 20,\n",
       " 23,\n",
       " 23,\n",
       " 3,\n",
       " 22,\n",
       " 22,\n",
       " 0,\n",
       " 1,\n",
       " 19,\n",
       " 17,\n",
       " 20,\n",
       " 20,\n",
       " 19,\n",
       " 19,\n",
       " 0,\n",
       " 1,\n",
       " 1,\n",
       " 0,\n",
       " 0,\n",
       " 1,\n",
       " 1,\n",
       " 0]"
      ]
     },
     "execution_count": 61,
     "metadata": {},
     "output_type": "execute_result"
    }
   ],
   "source": [
    "tum = [x[0] - y[0] for x in tom for y in tom if x[1] != y[1] and (x[0] - y[0]) >= 0]\n",
    "tum"
   ]
  },
  {
   "cell_type": "code",
   "execution_count": 63,
   "metadata": {},
   "outputs": [
    {
     "data": {
      "text/plain": [
       "[[8, 5, 134], [8, 7, 62]]"
      ]
     },
     "execution_count": 63,
     "metadata": {},
     "output_type": "execute_result"
    }
   ],
   "source": [
    "min([[x,y] for x in tom for y in tom if y[0] - x[0] == min(tum) and x[1] != y[1]])"
   ]
  },
  {
   "cell_type": "code",
   "execution_count": 43,
   "metadata": {},
   "outputs": [
    {
     "data": {
      "text/plain": [
       "[[4, 0, 103]]"
      ]
     },
     "execution_count": 43,
     "metadata": {},
     "output_type": "execute_result"
    }
   ],
   "source": [
    "[x for x in tom if x[0] == 4]"
   ]
  },
  {
   "cell_type": "code",
   "execution_count": 53,
   "metadata": {},
   "outputs": [
    {
     "data": {
      "text/plain": [
       "[[2, 4, 2000], [4, 0, 103]]"
      ]
     },
     "execution_count": 53,
     "metadata": {},
     "output_type": "execute_result"
    }
   ],
   "source": [
    "closest(strng)"
   ]
  },
  {
   "cell_type": "code",
   "execution_count": null,
   "metadata": {},
   "outputs": [],
   "source": []
  }
 ],
 "metadata": {
  "kernelspec": {
   "display_name": "Python 3",
   "language": "python",
   "name": "python3"
  },
  "language_info": {
   "codemirror_mode": {
    "name": "ipython",
    "version": 3
   },
   "file_extension": ".py",
   "mimetype": "text/x-python",
   "name": "python",
   "nbconvert_exporter": "python",
   "pygments_lexer": "ipython3",
   "version": "3.7.3"
  }
 },
 "nbformat": 4,
 "nbformat_minor": 2
}
