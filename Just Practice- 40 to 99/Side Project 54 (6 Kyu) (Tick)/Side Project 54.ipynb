{
 "cells": [
  {
   "cell_type": "code",
   "execution_count": 52,
   "metadata": {},
   "outputs": [],
   "source": [
    "def interpreter(tom):\n",
    "    level, floor, p, word = 0, [], 0, []\n",
    "    for x in tom:\n",
    "        if x == '>':\n",
    "            print(level,floor)\n",
    "            if level == len(floor):\n",
    "                floor.append((level,p))\n",
    "                p = 0\n",
    "                level += 1\n",
    "            elif level + 1 == len(floor):\n",
    "                floor.append((level,p))\n",
    "                p = 0\n",
    "                level += 1\n",
    "            else:\n",
    "                floor[level] = (level,p)\n",
    "                level += 1\n",
    "                p = floor[level][1]\n",
    "        elif x == '<':\n",
    "            if level <= 0:\n",
    "                floor.append((level,p))\n",
    "                level -= 1\n",
    "                p = 0\n",
    "            elif level == len(floor):\n",
    "                floor.append((level,p))\n",
    "                level -= 1\n",
    "                p = floor[level][1]\n",
    "            else:\n",
    "                floor[level] = (level,p)\n",
    "                level -= 1\n",
    "                p = floor[level][1]\n",
    "        elif x == '+':\n",
    "            p += 1\n",
    "        else:\n",
    "            word.append(chr(p))\n",
    "            print (word)\n",
    "    return(''.join(word))"
   ]
  },
  {
   "cell_type": "code",
   "execution_count": 47,
   "metadata": {},
   "outputs": [],
   "source": [
    "floor = [(0,10),(1,13),(2,45)]"
   ]
  },
  {
   "cell_type": "code",
   "execution_count": 20,
   "metadata": {},
   "outputs": [],
   "source": [
    "floor[2] = (2,5)"
   ]
  },
  {
   "cell_type": "code",
   "execution_count": 21,
   "metadata": {},
   "outputs": [
    {
     "data": {
      "text/plain": [
       "[(0, 10), (1, 13), (2, 5)]"
      ]
     },
     "execution_count": 21,
     "metadata": {},
     "output_type": "execute_result"
    }
   ],
   "source": [
    "floor"
   ]
  },
  {
   "cell_type": "code",
   "execution_count": null,
   "metadata": {},
   "outputs": [],
   "source": []
  }
 ],
 "metadata": {
  "kernelspec": {
   "display_name": "Python 3",
   "language": "python",
   "name": "python3"
  },
  "language_info": {
   "codemirror_mode": {
    "name": "ipython",
    "version": 3
   },
   "file_extension": ".py",
   "mimetype": "text/x-python",
   "name": "python",
   "nbconvert_exporter": "python",
   "pygments_lexer": "ipython3",
   "version": "3.7.3"
  }
 },
 "nbformat": 4,
 "nbformat_minor": 2
}
