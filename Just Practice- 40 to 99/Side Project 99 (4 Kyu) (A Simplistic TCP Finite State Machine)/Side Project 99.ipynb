{
 "cells": [
  {
   "cell_type": "code",
   "execution_count": null,
   "metadata": {},
   "outputs": [],
   "source": [
    "def traverse_TCP_states(events):\n",
    "    state = \"CLOSED\"  \n",
    "    tom = 'CLOSED:APP_PASSIVE_OPEN:LISTEN,CLOSED:APP_ACTIVE_OPEN:SYN_SENT,LISTEN:RCV_SYN:SYN_RCVD,LISTEN:APP_SEND:SYN_SENT,LISTEN:APP_CLOSE:CLOSED,SYN_RCVD:APP_CLOSE:FIN_WAIT_1,SYN_RCVD:RCV_ACK:ESTABLISHED,SYN_SENT:RCV_SYN:SYN_RCVD,SYN_SENT:RCV_SYN_ACK:ESTABLISHED,SYN_SENT:APP_CLOSE:CLOSED,ESTABLISHED:APP_CLOSE:FIN_WAIT_1,ESTABLISHED:RCV_FIN:CLOSE_WAIT,FIN_WAIT_1:RCV_FIN:CLOSING,FIN_WAIT_1:RCV_FIN_ACK:TIME_WAIT,FIN_WAIT_1:RCV_ACK:FIN_WAIT_2,CLOSING:RCV_ACK:TIME_WAIT,FIN_WAIT_2:RCV_FIN:TIME_WAIT,TIME_WAIT:APP_TIMEOUT:CLOSED,CLOSE_WAIT:APP_CLOSE:LAST_ACK,LAST_ACK:RCV_ACK:CLOSED'\n",
    "    kyu = [x.split(':') for x in tom.split(',')]\n",
    "    for x in events:\n",
    "        try: state = [y[2] for y in kyu if y[0] == state and y[1] == x][0]\n",
    "        except IndexError: return 'ERROR'\n",
    "    return state"
   ]
  },
  {
   "cell_type": "code",
   "execution_count": 5,
   "metadata": {},
   "outputs": [],
   "source": [
    "tom = 'CLOSED:APP_PASSIVE_OPEN:LISTEN,CLOSED:APP_ACTIVE_OPEN:SYN_SENT,LISTEN:RCV_SYN:SYN_RCVD,LISTEN:APP_SEND:SYN_SENT,LISTEN:APP_CLOSE:CLOSED,SYN_RCVD:APP_CLOSE:FIN_WAIT_1,SYN_RCVD:RCV_ACK:ESTABLISHED,SYN_SENT:RCV_SYN:SYN_RCVD,SYN_SENT:RCV_SYN_ACK:ESTABLISHED,SYN_SENT:APP_CLOSE:CLOSED,ESTABLISHED:APP_CLOSE:FIN_WAIT_1,ESTABLISHED:RCV_FIN:CLOSE_WAIT,FIN_WAIT_1:RCV_FIN:CLOSING,FIN_WAIT_1:RCV_FIN_ACK:TIME_WAIT,FIN_WAIT_1:RCV_ACK:FIN_WAIT_2,CLOSING:RCV_ACK:TIME_WAIT,FIN_WAIT_2:RCV_FIN:TIME_WAIT,TIME_WAIT:APP_TIMEOUT:CLOSED,CLOSE_WAIT:APP_CLOSE:LAST_ACK,LAST_ACK:RCV_ACK:CLOSED'"
   ]
  },
  {
   "cell_type": "code",
   "execution_count": 9,
   "metadata": {},
   "outputs": [
    {
     "data": {
      "text/plain": [
       "[['CLOSED', 'APP_PASSIVE_OPEN', 'LISTEN'],\n",
       " ['CLOSED', 'APP_ACTIVE_OPEN', 'SYN_SENT'],\n",
       " ['LISTEN', 'RCV_SYN', 'SYN_RCVD'],\n",
       " ['LISTEN', 'APP_SEND', 'SYN_SENT'],\n",
       " ['LISTEN', 'APP_CLOSE', 'CLOSED'],\n",
       " ['SYN_RCVD', 'APP_CLOSE', 'FIN_WAIT_1'],\n",
       " ['SYN_RCVD', 'RCV_ACK', 'ESTABLISHED'],\n",
       " ['SYN_SENT', 'RCV_SYN', 'SYN_RCVD'],\n",
       " ['SYN_SENT', 'RCV_SYN_ACK', 'ESTABLISHED'],\n",
       " ['SYN_SENT', 'APP_CLOSE', 'CLOSED'],\n",
       " ['ESTABLISHED', 'APP_CLOSE', 'FIN_WAIT_1'],\n",
       " ['ESTABLISHED', 'RCV_FIN', 'CLOSE_WAIT'],\n",
       " ['FIN_WAIT_1', 'RCV_FIN', 'CLOSING'],\n",
       " ['FIN_WAIT_1', 'RCV_FIN_ACK', 'TIME_WAIT'],\n",
       " ['FIN_WAIT_1', 'RCV_ACK', 'FIN_WAIT_2'],\n",
       " ['CLOSING', 'RCV_ACK', 'TIME_WAIT'],\n",
       " ['FIN_WAIT_2', 'RCV_FIN', 'TIME_WAIT'],\n",
       " ['TIME_WAIT', 'APP_TIMEOUT', 'CLOSED'],\n",
       " ['CLOSE_WAIT', 'APP_CLOSE', 'LAST_ACK'],\n",
       " ['LAST_ACK', 'RCV_ACK', 'CLOSED']]"
      ]
     },
     "execution_count": 9,
     "metadata": {},
     "output_type": "execute_result"
    }
   ],
   "source": [
    "[x.split(':') for x in tom.split(',')]"
   ]
  },
  {
   "cell_type": "code",
   "execution_count": 13,
   "metadata": {},
   "outputs": [
    {
     "name": "stdout",
     "output_type": "stream",
     "text": [
      "SYN_SENT\n",
      "ESTABLISHED\n",
      "CLOSE_WAIT\n"
     ]
    }
   ],
   "source": [
    "events = [\"APP_ACTIVE_OPEN\",\"RCV_SYN_ACK\",\"RCV_FIN\"]\n",
    "state = \"CLOSED\"\n",
    "for x in events:\n",
    "    state = [y[2] for y in kyu if y[0] == state and y[1] == x][0]\n",
    "    print(state)"
   ]
  }
 ],
 "metadata": {
  "kernelspec": {
   "display_name": "Python 3",
   "language": "python",
   "name": "python3"
  },
  "language_info": {
   "codemirror_mode": {
    "name": "ipython",
    "version": 3
   },
   "file_extension": ".py",
   "mimetype": "text/x-python",
   "name": "python",
   "nbconvert_exporter": "python",
   "pygments_lexer": "ipython3",
   "version": "3.7.3"
  }
 },
 "nbformat": 4,
 "nbformat_minor": 2
}
