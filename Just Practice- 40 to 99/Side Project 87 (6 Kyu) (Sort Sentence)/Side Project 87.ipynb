{
 "cells": [
  {
   "cell_type": "code",
   "execution_count": 1,
   "metadata": {},
   "outputs": [],
   "source": [
    "def pseudo_sort(st): \n",
    "    tom, tim,tam = [], [], []\n",
    "    [tom.append(x) if x[0] == x[0].upper() else tim.append(x) for x in ''.join([x for x in st if x not in '.:;?!,']).split()]\n",
    "    [tam.append(x) for x in sorted(tim)], [tam.append(x) for x in sorted(tom, reverse =True)]\n",
    "    return ' '.join(tam)"
   ]
  },
  {
   "cell_type": "code",
   "execution_count": 15,
   "metadata": {},
   "outputs": [],
   "source": [
    "st = \"Land of the Old Thirteen! Massachusetts land! land of Vermont and Connecticut!\""
   ]
  },
  {
   "cell_type": "code",
   "execution_count": 27,
   "metadata": {},
   "outputs": [
    {
     "data": {
      "text/plain": [
       "'and land land of of the Vermont Thirteen Old Massachusetts Land Connecticut'"
      ]
     },
     "execution_count": 27,
     "metadata": {},
     "output_type": "execute_result"
    }
   ],
   "source": [
    "tom, tim,tam = [], [], []\n",
    "[tom.append(x) if x[0] == x[0].upper() else tim.append(x) for x in ''.join([x for x in st if x not in '.!,']).split()]\n",
    "[tam.append(x) for x in sorted(tim)], [tam.append(x) for x in sorted(tom, reverse =True)]\n",
    "' '.join(tam)"
   ]
  },
  {
   "cell_type": "code",
   "execution_count": 23,
   "metadata": {},
   "outputs": [
    {
     "data": {
      "text/plain": [
       "['Vermont', 'Thirteen', 'Old', 'Massachusetts', 'Land', 'Connecticut']"
      ]
     },
     "execution_count": 23,
     "metadata": {},
     "output_type": "execute_result"
    }
   ],
   "source": [
    "sorted(tom, reverse =True)"
   ]
  },
  {
   "cell_type": "code",
   "execution_count": 25,
   "metadata": {},
   "outputs": [
    {
     "data": {
      "text/plain": [
       "['and',\n",
       " 'land',\n",
       " 'land',\n",
       " 'of',\n",
       " 'of',\n",
       " 'the',\n",
       " 'Vermont',\n",
       " 'Thirteen',\n",
       " 'Old',\n",
       " 'Massachusetts',\n",
       " 'Land',\n",
       " 'Connecticut']"
      ]
     },
     "execution_count": 25,
     "metadata": {},
     "output_type": "execute_result"
    }
   ],
   "source": [
    "tam"
   ]
  },
  {
   "cell_type": "code",
   "execution_count": 17,
   "metadata": {},
   "outputs": [
    {
     "data": {
      "text/plain": [
       "['Land',\n",
       " 'of',\n",
       " 'the',\n",
       " 'Old',\n",
       " 'Thirteen',\n",
       " 'Massachusetts',\n",
       " 'land',\n",
       " 'land',\n",
       " 'of',\n",
       " 'Vermont',\n",
       " 'and',\n",
       " 'Connecticut']"
      ]
     },
     "execution_count": 17,
     "metadata": {},
     "output_type": "execute_result"
    }
   ],
   "source": [
    "''.join([x for x in st if x not in '.!,']).split()"
   ]
  },
  {
   "cell_type": "code",
   "execution_count": 14,
   "metadata": {},
   "outputs": [
    {
     "ename": "AttributeError",
     "evalue": "'list' object has no attribute 'split'",
     "output_type": "error",
     "traceback": [
      "\u001b[1;31m---------------------------------------------------------------------------\u001b[0m",
      "\u001b[1;31mAttributeError\u001b[0m                            Traceback (most recent call last)",
      "\u001b[1;32m<ipython-input-14-f50220363ff1>\u001b[0m in \u001b[0;36m<module>\u001b[1;34m\u001b[0m\n\u001b[1;32m----> 1\u001b[1;33m \u001b[0mst\u001b[0m\u001b[1;33m.\u001b[0m\u001b[0msplit\u001b[0m\u001b[1;33m(\u001b[0m\u001b[1;33m)\u001b[0m\u001b[1;33m\u001b[0m\u001b[1;33m\u001b[0m\u001b[0m\n\u001b[0m",
      "\u001b[1;31mAttributeError\u001b[0m: 'list' object has no attribute 'split'"
     ]
    }
   ],
   "source": [
    "st.split()"
   ]
  },
  {
   "cell_type": "code",
   "execution_count": null,
   "metadata": {},
   "outputs": [],
   "source": []
  }
 ],
 "metadata": {
  "kernelspec": {
   "display_name": "Python 3",
   "language": "python",
   "name": "python3"
  },
  "language_info": {
   "codemirror_mode": {
    "name": "ipython",
    "version": 3
   },
   "file_extension": ".py",
   "mimetype": "text/x-python",
   "name": "python",
   "nbconvert_exporter": "python",
   "pygments_lexer": "ipython3",
   "version": "3.7.3"
  }
 },
 "nbformat": 4,
 "nbformat_minor": 2
}
