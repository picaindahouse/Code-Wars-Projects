{
 "cells": [
  {
   "cell_type": "code",
   "execution_count": 59,
   "metadata": {},
   "outputs": [],
   "source": [
    "def maze_runner(maze, directions):\n",
    "    position = [[[r,i] for i,y in enumerate(x) if y == 2] for r,x in enumerate(maze) if [(r,i) for i,y in enumerate(x) if y == 2]][0][0]\n",
    "    for x in directions:\n",
    "        try:\n",
    "            if x == 'N': position[0] = position[0] - 1\n",
    "            elif x == 'S': position[0] = position[0] + 1\n",
    "            elif x == 'E': position[1] = position[1] + 1\n",
    "            else: position[1] = position[1] - 1\n",
    "            if maze[position[0]][position[1]] == 3: return 'Finish'\n",
    "            elif maze[position[0]][position[1]] == 1 or position[0] < 0 or position[1] < 0:return 'Dead'\n",
    "        except IndexError: return 'Dead'\n",
    "    if maze[position[0]][position[1]] == 0 or maze[position[0]][position[1]] == 2: return 'Lost'"
   ]
  },
  {
   "cell_type": "code",
   "execution_count": 60,
   "metadata": {},
   "outputs": [],
   "source": [
    "maze = [[1,1,1,1,1,1,1],\n",
    "        [1,0,0,0,0,0,3],\n",
    "        [1,0,1,0,1,0,1],\n",
    "        [0,0,1,0,0,0,1],\n",
    "        [1,0,1,0,1,0,1],\n",
    "        [1,0,0,0,0,0,1],\n",
    "        [1,2,1,0,1,0,1]]"
   ]
  },
  {
   "cell_type": "code",
   "execution_count": 61,
   "metadata": {},
   "outputs": [],
   "source": [
    "directions = [\"N\",\"N\",\"N\",\"N\",\"N\",\"E\",\"E\",\"E\",\"E\",\"E\"]"
   ]
  },
  {
   "cell_type": "code",
   "execution_count": 62,
   "metadata": {},
   "outputs": [
    {
     "data": {
      "text/plain": [
       "'Finish'"
      ]
     },
     "execution_count": 62,
     "metadata": {},
     "output_type": "execute_result"
    }
   ],
   "source": [
    "maze_runner(maze,[\"N\",\"N\",\"N\",\"N\",\"N\",\"E\",\"E\",\"E\",\"E\",\"E\",\"W\",\"W\"])"
   ]
  },
  {
   "cell_type": "code",
   "execution_count": null,
   "metadata": {},
   "outputs": [],
   "source": []
  },
  {
   "cell_type": "code",
   "execution_count": null,
   "metadata": {},
   "outputs": [],
   "source": []
  },
  {
   "cell_type": "code",
   "execution_count": null,
   "metadata": {},
   "outputs": [],
   "source": []
  },
  {
   "cell_type": "code",
   "execution_count": 53,
   "metadata": {},
   "outputs": [],
   "source": [
    "position = [[[r,i] for i,y in enumerate(x) if y == 2] for r,x in enumerate(maze) if [(r,i) for i,y in enumerate(x) if y == 2]][0][0]"
   ]
  },
  {
   "cell_type": "code",
   "execution_count": 29,
   "metadata": {},
   "outputs": [
    {
     "data": {
      "text/plain": [
       "3"
      ]
     },
     "execution_count": 29,
     "metadata": {},
     "output_type": "execute_result"
    }
   ],
   "source": [
    "maze[position[0]][position[1]]"
   ]
  },
  {
   "cell_type": "code",
   "execution_count": 28,
   "metadata": {},
   "outputs": [],
   "source": [
    "    position = [[[r,i] for i,y in enumerate(x) if y == 2] for r,x in enumerate(maze) if [(r,i) for i,y in enumerate(x) if y == 2]][0][0]\n",
    "    for x in directions:\n",
    "        if x == 'N': position[0] = position[0] - 1\n",
    "        elif x == 'S': position[0] = position[0] + 1\n",
    "        elif x == 'E': position[1] = position[1] + 1\n",
    "        else: position[1] = position[1] - 1\n",
    "        if maze[position[0]][position[1]] == 3:\n",
    "            return 'Finish'\n",
    "    "
   ]
  },
  {
   "cell_type": "code",
   "execution_count": 22,
   "metadata": {},
   "outputs": [],
   "source": [
    "position[0] = position[1]"
   ]
  },
  {
   "cell_type": "code",
   "execution_count": 23,
   "metadata": {},
   "outputs": [
    {
     "data": {
      "text/plain": [
       "[1, 1]"
      ]
     },
     "execution_count": 23,
     "metadata": {},
     "output_type": "execute_result"
    }
   ],
   "source": [
    "position"
   ]
  },
  {
   "cell_type": "code",
   "execution_count": 52,
   "metadata": {},
   "outputs": [],
   "source": [
    "maze = [[0, 0, 1, 0, 0, 0], \n",
    "        [1, 2, 0, 0, 1, 0], \n",
    "        [0, 0, 0, 0, 0, 1], \n",
    "        [0, 0, 1, 0, 0, 0], \n",
    "        [3, 0, 0, 1, 0, 0], \n",
    "        [0, 0, 0, 0, 0, 0]]\n",
    "directions = ['S', 'N', 'N', 'N', 'W', 'S']"
   ]
  },
  {
   "cell_type": "code",
   "execution_count": 54,
   "metadata": {},
   "outputs": [
    {
     "data": {
      "text/plain": [
       "[1, 1]"
      ]
     },
     "execution_count": 54,
     "metadata": {},
     "output_type": "execute_result"
    }
   ],
   "source": [
    "position"
   ]
  },
  {
   "cell_type": "code",
   "execution_count": 58,
   "metadata": {},
   "outputs": [
    {
     "data": {
      "text/plain": [
       "[-1, 1]"
      ]
     },
     "execution_count": 58,
     "metadata": {},
     "output_type": "execute_result"
    }
   ],
   "source": [
    "position[0] = position[0] - 1\n",
    "position"
   ]
  },
  {
   "cell_type": "code",
   "execution_count": null,
   "metadata": {},
   "outputs": [],
   "source": []
  },
  {
   "cell_type": "code",
   "execution_count": null,
   "metadata": {},
   "outputs": [],
   "source": []
  }
 ],
 "metadata": {
  "kernelspec": {
   "display_name": "Python 3",
   "language": "python",
   "name": "python3"
  },
  "language_info": {
   "codemirror_mode": {
    "name": "ipython",
    "version": 3
   },
   "file_extension": ".py",
   "mimetype": "text/x-python",
   "name": "python",
   "nbconvert_exporter": "python",
   "pygments_lexer": "ipython3",
   "version": "3.7.3"
  }
 },
 "nbformat": 4,
 "nbformat_minor": 2
}
