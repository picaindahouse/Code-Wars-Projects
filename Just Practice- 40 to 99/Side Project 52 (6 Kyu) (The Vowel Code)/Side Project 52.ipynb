{
 "cells": [
  {
   "cell_type": "code",
   "execution_count": 44,
   "metadata": {},
   "outputs": [],
   "source": [
    "# It has been a while since I learnt a new function in python\n",
    "# TRANSLATE"
   ]
  },
  {
   "cell_type": "code",
   "execution_count": 45,
   "metadata": {},
   "outputs": [],
   "source": [
    "# Using maketrans- give each string a value and then can use translate to switch the string and value around"
   ]
  },
  {
   "cell_type": "code",
   "execution_count": 42,
   "metadata": {},
   "outputs": [],
   "source": [
    "tom = str.maketrans('abcde','12345')\n",
    "tim = str.maketrans('12345','abcde')"
   ]
  },
  {
   "cell_type": "code",
   "execution_count": 43,
   "metadata": {},
   "outputs": [
    {
     "data": {
      "text/plain": [
       "'hom5'"
      ]
     },
     "execution_count": 43,
     "metadata": {},
     "output_type": "execute_result"
    }
   ],
   "source": [
    "'home'.translate(tom)"
   ]
  },
  {
   "cell_type": "code",
   "execution_count": 46,
   "metadata": {},
   "outputs": [
    {
     "data": {
      "text/plain": [
       "'edb86c'"
      ]
     },
     "execution_count": 46,
     "metadata": {},
     "output_type": "execute_result"
    }
   ],
   "source": [
    "'542863'.translate(tim)"
   ]
  },
  {
   "cell_type": "code",
   "execution_count": 47,
   "metadata": {},
   "outputs": [],
   "source": [
    "# This was decent:"
   ]
  },
  {
   "cell_type": "code",
   "execution_count": 40,
   "metadata": {},
   "outputs": [],
   "source": [
    "def encode(st):\n",
    "    tim = []\n",
    "    for x in st:\n",
    "        if x not in vowels:\n",
    "            tim.append(x)\n",
    "        else:\n",
    "            for i,y in enumerate(vowels,1):\n",
    "                if x == y:\n",
    "                    tim.append(str(i))\n",
    "    return ''.join(tim)\n",
    "    \n",
    "    \n",
    "def decode(tom):\n",
    "    cool = []\n",
    "    for x in tom:\n",
    "        if x.isdigit():\n",
    "            for i,y in enumerate(vowels,1):\n",
    "                if i == int(x):\n",
    "                    cool.append(y)\n",
    "        else:\n",
    "            cool.append(x)\n",
    "    return ''.join(cool)"
   ]
  },
  {
   "cell_type": "code",
   "execution_count": 48,
   "metadata": {},
   "outputs": [],
   "source": [
    "# But just use translate:"
   ]
  },
  {
   "cell_type": "code",
   "execution_count": 50,
   "metadata": {},
   "outputs": [],
   "source": [
    "tom = str.maketrans('aeiou','12345')\n",
    "tim = str.maketrans('12345','aeiou')\n",
    "def encode(st):\n",
    "    return st.translate(tom)\n",
    "def decode(st):\n",
    "    return st.translate(tim)"
   ]
  },
  {
   "cell_type": "code",
   "execution_count": null,
   "metadata": {},
   "outputs": [],
   "source": []
  }
 ],
 "metadata": {
  "kernelspec": {
   "display_name": "Python 3",
   "language": "python",
   "name": "python3"
  },
  "language_info": {
   "codemirror_mode": {
    "name": "ipython",
    "version": 3
   },
   "file_extension": ".py",
   "mimetype": "text/x-python",
   "name": "python",
   "nbconvert_exporter": "python",
   "pygments_lexer": "ipython3",
   "version": "3.7.3"
  }
 },
 "nbformat": 4,
 "nbformat_minor": 2
}
