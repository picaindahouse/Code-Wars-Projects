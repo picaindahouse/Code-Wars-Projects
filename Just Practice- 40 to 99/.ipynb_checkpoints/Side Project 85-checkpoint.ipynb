{
 "cells": [
  {
   "cell_type": "code",
   "execution_count": 53,
   "metadata": {},
   "outputs": [],
   "source": [
    "def mixbonacci(pattern, length):\n",
    "    if not pattern: return []\n",
    "    pattern, tum,tim = pattern * length, [], []\n",
    "    for x in pattern:\n",
    "        if len(tum) != length:\n",
    "            tum.append(x + '(' + str(tim.count(x)) + ')')\n",
    "            tim.append(x)\n",
    "    return [eval(x) for x  in tum]"
   ]
  },
  {
   "cell_type": "code",
   "execution_count": 3,
   "metadata": {},
   "outputs": [],
   "source": [
    "def fib (n):\n",
    "    if n == 0 or n == 1: return n\n",
    "    else: return (fib(n - 1) + fib (n - 2))"
   ]
  },
  {
   "cell_type": "code",
   "execution_count": 5,
   "metadata": {},
   "outputs": [
    {
     "data": {
      "text/plain": [
       "1"
      ]
     },
     "execution_count": 5,
     "metadata": {},
     "output_type": "execute_result"
    }
   ],
   "source": [
    "fib (2)"
   ]
  },
  {
   "cell_type": "code",
   "execution_count": 6,
   "metadata": {},
   "outputs": [],
   "source": [
    "def pad(n):\n",
    "    if n == 0: return 1\n",
    "    elif n == 1 or n == 2: return 0\n",
    "    else: return pad(n-2) + pad(n-3)"
   ]
  },
  {
   "cell_type": "code",
   "execution_count": 7,
   "metadata": {},
   "outputs": [
    {
     "data": {
      "text/plain": [
       "1"
      ]
     },
     "execution_count": 7,
     "metadata": {},
     "output_type": "execute_result"
    }
   ],
   "source": [
    "pad(5)"
   ]
  },
  {
   "cell_type": "code",
   "execution_count": 8,
   "metadata": {},
   "outputs": [],
   "source": [
    "def jac (n):\n",
    "    if n == 0 or n == 1: return n\n",
    "    else: return jac(n-1) + 2 * (jac(n-2))"
   ]
  },
  {
   "cell_type": "code",
   "execution_count": 9,
   "metadata": {},
   "outputs": [
    {
     "data": {
      "text/plain": [
       "5"
      ]
     },
     "execution_count": 9,
     "metadata": {},
     "output_type": "execute_result"
    }
   ],
   "source": [
    "jac(4)"
   ]
  },
  {
   "cell_type": "code",
   "execution_count": 24,
   "metadata": {},
   "outputs": [],
   "source": [
    "def pel (n):\n",
    "    if n == 0 or n == 1: return n\n",
    "    elif n > 1:  return 2 * (pel(n-1)) + pel(n-2)"
   ]
  },
  {
   "cell_type": "code",
   "execution_count": 25,
   "metadata": {},
   "outputs": [
    {
     "data": {
      "text/plain": [
       "29"
      ]
     },
     "execution_count": 25,
     "metadata": {},
     "output_type": "execute_result"
    }
   ],
   "source": [
    "pel(5)"
   ]
  },
  {
   "cell_type": "code",
   "execution_count": 28,
   "metadata": {},
   "outputs": [],
   "source": [
    "def tri (n):\n",
    "    if n == 0 or n == 1: return 0\n",
    "    elif n == 2: return 1\n",
    "    else: return tri(n-1) + tri(n-2) + tri(n-3)"
   ]
  },
  {
   "cell_type": "code",
   "execution_count": 29,
   "metadata": {},
   "outputs": [
    {
     "data": {
      "text/plain": [
       "13"
      ]
     },
     "execution_count": 29,
     "metadata": {},
     "output_type": "execute_result"
    }
   ],
   "source": [
    "tri(7)"
   ]
  },
  {
   "cell_type": "code",
   "execution_count": 38,
   "metadata": {},
   "outputs": [],
   "source": [
    "def tet (n):\n",
    "    if n == 0 or n == 1 or n == 2: return 0\n",
    "    elif n == 3: return 1\n",
    "    else:  return tet(n-1) + tet(n-2) + tet(n-3) + tet(n-4)"
   ]
  },
  {
   "cell_type": "code",
   "execution_count": 31,
   "metadata": {},
   "outputs": [
    {
     "data": {
      "text/plain": [
       "4"
      ]
     },
     "execution_count": 31,
     "metadata": {},
     "output_type": "execute_result"
    }
   ],
   "source": [
    "tet(6)"
   ]
  },
  {
   "cell_type": "code",
   "execution_count": 54,
   "metadata": {},
   "outputs": [
    {
     "data": {
      "text/plain": [
       "[['fib', 0],\n",
       " ['fib', 0],\n",
       " ['fib', 0],\n",
       " ['fib', 0],\n",
       " ['fib', 0],\n",
       " ['fib', 0],\n",
       " ['fib', 0],\n",
       " ['fib', 0],\n",
       " ['fib', 0],\n",
       " ['fib', 0]]"
      ]
     },
     "execution_count": 54,
     "metadata": {},
     "output_type": "execute_result"
    }
   ],
   "source": [
    "mixbonacci(['fib'], 10)"
   ]
  },
  {
   "cell_type": "code",
   "execution_count": 59,
   "metadata": {},
   "outputs": [
    {
     "data": {
      "text/plain": [
       "[0, 1, 1, 2, 3, 5, 8, 13, 21, 34]"
      ]
     },
     "execution_count": 59,
     "metadata": {},
     "output_type": "execute_result"
    }
   ],
   "source": [
    "pattern = ['fib']\n",
    "length = 10\n",
    "pattern, tum,tim = pattern * length, [], []\n",
    "for x in pattern:\n",
    "    if len(tum) != length:\n",
    "        tum.append(x + '(' + str(tim.count(x)) + ')')\n",
    "        tim.append(x)\n",
    "[eval(x) for x  in tum]"
   ]
  },
  {
   "cell_type": "code",
   "execution_count": 44,
   "metadata": {},
   "outputs": [
    {
     "data": {
      "text/plain": [
       "13"
      ]
     },
     "execution_count": 44,
     "metadata": {},
     "output_type": "execute_result"
    }
   ],
   "source": [
    "eval('tri(7)')"
   ]
  },
  {
   "cell_type": "code",
   "execution_count": null,
   "metadata": {},
   "outputs": [],
   "source": []
  }
 ],
 "metadata": {
  "kernelspec": {
   "display_name": "Python 3",
   "language": "python",
   "name": "python3"
  },
  "language_info": {
   "codemirror_mode": {
    "name": "ipython",
    "version": 3
   },
   "file_extension": ".py",
   "mimetype": "text/x-python",
   "name": "python",
   "nbconvert_exporter": "python",
   "pygments_lexer": "ipython3",
   "version": "3.7.3"
  }
 },
 "nbformat": 4,
 "nbformat_minor": 2
}
