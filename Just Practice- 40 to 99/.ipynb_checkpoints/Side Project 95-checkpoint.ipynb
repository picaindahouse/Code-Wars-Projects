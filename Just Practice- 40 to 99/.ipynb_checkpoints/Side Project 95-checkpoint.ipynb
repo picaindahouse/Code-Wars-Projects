{
 "cells": [
  {
   "cell_type": "code",
   "execution_count": 21,
   "metadata": {},
   "outputs": [],
   "source": [
    "tom = [45,54]\n",
    "def sum_dif_rev(n):\n",
    "    global tom\n",
    "    try: return tom[n-1]\n",
    "    except IndexError:\n",
    "        while len(tom) < n:\n",
    "            for x in range(tom[-1] + 1, 100000000):\n",
    "                if x%10 == 0: pass\n",
    "                elif x - int(''.join([y for y in str(x)][::-1])) ==0: pass\n",
    "                elif (x + int(''.join([y for y in str(x)][::-1]))) % abs(x - int(''.join([y for y in str(x)][::-1]))) == 0:\n",
    "                    tom.append(x)\n",
    "                    if len(tom) >= n:\n",
    "                        break\n",
    "        return tom[n-1]"
   ]
  },
  {
   "cell_type": "code",
   "execution_count": null,
   "metadata": {},
   "outputs": [],
   "source": [
    "n = 495"
   ]
  },
  {
   "cell_type": "code",
   "execution_count": null,
   "metadata": {},
   "outputs": [],
   "source": [
    "abs(n - int(''.join([x for x in str(n)][::-1])))"
   ]
  },
  {
   "cell_type": "code",
   "execution_count": null,
   "metadata": {},
   "outputs": [],
   "source": [
    "495/99"
   ]
  },
  {
   "cell_type": "code",
   "execution_count": 24,
   "metadata": {},
   "outputs": [
    {
     "name": "stdout",
     "output_type": "stream",
     "text": [
      "5454\n",
      "[45, 54, 495, 594, 4356, 4545, 4995, 5454]\n",
      "[45, 54, 495, 594, 4356, 4545, 4995, 5454, 5895]\n"
     ]
    },
    {
     "data": {
      "text/plain": [
       "5895"
      ]
     },
     "execution_count": 24,
     "metadata": {},
     "output_type": "execute_result"
    }
   ],
   "source": [
    "sum_dif_rev(9)"
   ]
  },
  {
   "cell_type": "code",
   "execution_count": 15,
   "metadata": {},
   "outputs": [
    {
     "data": {
      "text/plain": [
       "[45, 54, 495, 594, 4356, 4545, 4995, 5454, 5994]"
      ]
     },
     "execution_count": 15,
     "metadata": {},
     "output_type": "execute_result"
    }
   ],
   "source": [
    "tom"
   ]
  },
  {
   "cell_type": "code",
   "execution_count": 20,
   "metadata": {},
   "outputs": [
    {
     "data": {
      "text/plain": [
       "True"
      ]
     },
     "execution_count": 20,
     "metadata": {},
     "output_type": "execute_result"
    }
   ],
   "source": [
    "x = 5895\n",
    "(x + int(''.join([y for y in str(x)][::-1]))) % abs(x - int(''.join([y for y in str(x)][::-1]))) == 0"
   ]
  },
  {
   "cell_type": "code",
   "execution_count": null,
   "metadata": {},
   "outputs": [],
   "source": [
    "int(''.join([y for y in str(x)][::-1]))"
   ]
  },
  {
   "cell_type": "code",
   "execution_count": 18,
   "metadata": {},
   "outputs": [
    {
     "data": {
      "text/plain": [
       "90"
      ]
     },
     "execution_count": 18,
     "metadata": {},
     "output_type": "execute_result"
    }
   ],
   "source": [
    "abs(5895-5985)"
   ]
  },
  {
   "cell_type": "code",
   "execution_count": 19,
   "metadata": {},
   "outputs": [
    {
     "data": {
      "text/plain": [
       "65.5"
      ]
     },
     "execution_count": 19,
     "metadata": {},
     "output_type": "execute_result"
    }
   ],
   "source": [
    "5895/90"
   ]
  },
  {
   "cell_type": "code",
   "execution_count": null,
   "metadata": {},
   "outputs": [],
   "source": []
  }
 ],
 "metadata": {
  "kernelspec": {
   "display_name": "Python 3",
   "language": "python",
   "name": "python3"
  },
  "language_info": {
   "codemirror_mode": {
    "name": "ipython",
    "version": 3
   },
   "file_extension": ".py",
   "mimetype": "text/x-python",
   "name": "python",
   "nbconvert_exporter": "python",
   "pygments_lexer": "ipython3",
   "version": "3.7.3"
  }
 },
 "nbformat": 4,
 "nbformat_minor": 2
}
