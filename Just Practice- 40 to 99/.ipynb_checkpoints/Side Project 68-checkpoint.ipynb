{
 "cells": [
  {
   "cell_type": "code",
   "execution_count": null,
   "metadata": {},
   "outputs": [],
   "source": [
    "def snakes (player):\n",
    "    x = [16,46,49,62,64,74,89,92,95,99]\n",
    "    y = [6, 25,11,19,60,53,68,88,75,80]\n",
    "    return [h for i,r in enumerate(x) for w,h in enumerate(y) if r == player and i == w][0] if [h for i,r in enumerate(x) for w,h in enumerate(y) if r == player and i == w] else player\n",
    "def ladders (player):\n",
    "    x = [2,7,8,15,21,28,36,51,71,78,87]\n",
    "    y = [38,14,31,26,42,84,44,67,91,98,94]\n",
    "    return [h for i,r in enumerate(x) for w,h in enumerate(y) if r == player and i == w][0] if [h for i,r in enumerate(x) for w,h in enumerate(y) if r == player and i == w] else player\n",
    "\n",
    "class SnakesLadders(): \n",
    "    def __init__(self, tom=0):\n",
    "        self.tom = tom\n",
    "    def play(self, die1, die2):\n",
    "        global player_1, player_2, Round\n",
    "        if self.tom == 0:\n",
    "            player_1 = 0\n",
    "            player_2 = 0\n",
    "            Round = 1\n",
    "            self.tom += 1\n",
    "        if player_1 == 100 or player_2 == 100:\n",
    "            return 'Game over!'\n",
    "        if Round % 2 == 0:\n",
    "            player_2 += die1 + die2 \n",
    "            if player_2 > 100:\n",
    "                player_2 = 100 - player_2%100\n",
    "            player_2 = snakes(player_2)  \n",
    "            player_2 = ladders(player_2)\n",
    "            p, player = 'Player 2' , player_2 \n",
    "        else:\n",
    "            player_1 += die1 + die2 \n",
    "            if player_1 > 100:\n",
    "                player_1 = 100 - player_1%100\n",
    "            player_1 = snakes(player_1)\n",
    "            player_1 = ladders(player_1)\n",
    "            p, player = 'Player 1' , player_1     \n",
    "        \n",
    "        if player == 100:\n",
    "            return str(p) + ' Wins!'\n",
    "        if die1 == die2:\n",
    "            Round == Round\n",
    "        else:\n",
    "            Round += 1     \n",
    "        return str(p) +' is on square ' +str(player)"
   ]
  },
  {
   "cell_type": "code",
   "execution_count": 663,
   "metadata": {},
   "outputs": [],
   "source": [
    "snake = SnakesLadders()"
   ]
  },
  {
   "cell_type": "code",
   "execution_count": 664,
   "metadata": {},
   "outputs": [
    {
     "data": {
      "text/plain": [
       "'Player 1 is on square 38'"
      ]
     },
     "execution_count": 664,
     "metadata": {},
     "output_type": "execute_result"
    }
   ],
   "source": [
    "snake.play(1,1)"
   ]
  },
  {
   "cell_type": "code",
   "execution_count": 665,
   "metadata": {},
   "outputs": [
    {
     "data": {
      "text/plain": [
       "38"
      ]
     },
     "execution_count": 665,
     "metadata": {},
     "output_type": "execute_result"
    }
   ],
   "source": [
    "player_1 "
   ]
  },
  {
   "cell_type": "code",
   "execution_count": 666,
   "metadata": {},
   "outputs": [
    {
     "data": {
      "text/plain": [
       "0"
      ]
     },
     "execution_count": 666,
     "metadata": {},
     "output_type": "execute_result"
    }
   ],
   "source": [
    "player_2"
   ]
  },
  {
   "cell_type": "code",
   "execution_count": 667,
   "metadata": {},
   "outputs": [
    {
     "data": {
      "text/plain": [
       "1"
      ]
     },
     "execution_count": 667,
     "metadata": {},
     "output_type": "execute_result"
    }
   ],
   "source": [
    "Round"
   ]
  },
  {
   "cell_type": "code",
   "execution_count": 644,
   "metadata": {},
   "outputs": [
    {
     "ename": "TypeError",
     "evalue": "play() missing 1 required positional argument: 'die2'",
     "output_type": "error",
     "traceback": [
      "\u001b[1;31m---------------------------------------------------------------------------\u001b[0m",
      "\u001b[1;31mTypeError\u001b[0m                                 Traceback (most recent call last)",
      "\u001b[1;32m<ipython-input-644-a4bf76bce32b>\u001b[0m in \u001b[0;36m<module>\u001b[1;34m\u001b[0m\n\u001b[1;32m----> 1\u001b[1;33m \u001b[0mSnakesLadders\u001b[0m\u001b[1;33m.\u001b[0m\u001b[0mplay\u001b[0m\u001b[1;33m(\u001b[0m\u001b[1;36m2\u001b[0m\u001b[1;33m,\u001b[0m\u001b[1;36m3\u001b[0m\u001b[1;33m)\u001b[0m\u001b[1;33m\u001b[0m\u001b[1;33m\u001b[0m\u001b[0m\n\u001b[0m",
      "\u001b[1;31mTypeError\u001b[0m: play() missing 1 required positional argument: 'die2'"
     ]
    }
   ],
   "source": [
    "SnakesLadders.play(2,3)"
   ]
  },
  {
   "cell_type": "code",
   "execution_count": 171,
   "metadata": {},
   "outputs": [],
   "source": [
    "tom = power"
   ]
  },
  {
   "cell_type": "code",
   "execution_count": 172,
   "metadata": {},
   "outputs": [
    {
     "data": {
      "text/plain": [
       "5"
      ]
     },
     "execution_count": 172,
     "metadata": {},
     "output_type": "execute_result"
    }
   ],
   "source": [
    "tom"
   ]
  },
  {
   "cell_type": "code",
   "execution_count": 173,
   "metadata": {},
   "outputs": [],
   "source": [
    "tom = 3"
   ]
  },
  {
   "cell_type": "code",
   "execution_count": 174,
   "metadata": {},
   "outputs": [
    {
     "data": {
      "text/plain": [
       "5"
      ]
     },
     "execution_count": 174,
     "metadata": {},
     "output_type": "execute_result"
    }
   ],
   "source": [
    "power"
   ]
  },
  {
   "cell_type": "code",
   "execution_count": 175,
   "metadata": {},
   "outputs": [
    {
     "data": {
      "text/plain": [
       "False"
      ]
     },
     "execution_count": 175,
     "metadata": {},
     "output_type": "execute_result"
    }
   ],
   "source": [
    "tom == power"
   ]
  },
  {
   "cell_type": "code",
   "execution_count": 195,
   "metadata": {},
   "outputs": [],
   "source": [
    "x = [16,46,49,62,64,74,89,92,95,99]"
   ]
  },
  {
   "cell_type": "code",
   "execution_count": 196,
   "metadata": {},
   "outputs": [],
   "source": [
    "y = [6, 25,11,19,60,53,68,88,75,80]"
   ]
  },
  {
   "cell_type": "code",
   "execution_count": 197,
   "metadata": {},
   "outputs": [],
   "source": [
    "tom = 62"
   ]
  },
  {
   "cell_type": "code",
   "execution_count": 198,
   "metadata": {},
   "outputs": [
    {
     "data": {
      "text/plain": [
       "[19]"
      ]
     },
     "execution_count": 198,
     "metadata": {},
     "output_type": "execute_result"
    }
   ],
   "source": [
    "[h for i,r in enumerate(x) for w,h in enumerate(y) if r == tom and i == w]"
   ]
  },
  {
   "cell_type": "code",
   "execution_count": 193,
   "metadata": {},
   "outputs": [
    {
     "data": {
      "text/plain": [
       "[(0, 6),\n",
       " (1, 25),\n",
       " (2, 11),\n",
       " (3, 19),\n",
       " (4, 60),\n",
       " (5, 53),\n",
       " (6, 68),\n",
       " (7, 88),\n",
       " (8, 75),\n",
       " (9, 80)]"
      ]
     },
     "execution_count": 193,
     "metadata": {},
     "output_type": "execute_result"
    }
   ],
   "source": [
    "list(enumerate(y))"
   ]
  },
  {
   "cell_type": "code",
   "execution_count": 267,
   "metadata": {},
   "outputs": [],
   "source": [
    "def ladders (player):\n",
    "    x = [2,7,8,15,21,28,36,51,71,78,87]\n",
    "    y = [38,14,31,26,42,84,44,67,91,98,94]\n",
    "    return [h for i,r in enumerate(x) for w,h in enumerate(y) if r == player and i == w][0] if [h for i,r in enumerate(x) for w,h in enumerate(y) if r == player and i == w] else player"
   ]
  },
  {
   "cell_type": "code",
   "execution_count": 270,
   "metadata": {},
   "outputs": [
    {
     "data": {
      "text/plain": [
       "38"
      ]
     },
     "execution_count": 270,
     "metadata": {},
     "output_type": "execute_result"
    }
   ],
   "source": [
    "ladders(2)"
   ]
  },
  {
   "cell_type": "code",
   "execution_count": 336,
   "metadata": {},
   "outputs": [
    {
     "data": {
      "text/plain": [
       "98"
      ]
     },
     "execution_count": 336,
     "metadata": {},
     "output_type": "execute_result"
    }
   ],
   "source": [
    "100 - 102%100"
   ]
  }
 ],
 "metadata": {
  "kernelspec": {
   "display_name": "Python 3",
   "language": "python",
   "name": "python3"
  },
  "language_info": {
   "codemirror_mode": {
    "name": "ipython",
    "version": 3
   },
   "file_extension": ".py",
   "mimetype": "text/x-python",
   "name": "python",
   "nbconvert_exporter": "python",
   "pygments_lexer": "ipython3",
   "version": "3.7.3"
  }
 },
 "nbformat": 4,
 "nbformat_minor": 2
}
