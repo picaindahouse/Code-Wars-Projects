{
 "cells": [
  {
   "cell_type": "code",
   "execution_count": 5,
   "metadata": {},
   "outputs": [],
   "source": [
    "# Do not need to use dunder methods everywhere\n",
    "class robot:\n",
    "    def __init__(self, name,health, speed, tactics):\n",
    "        self.name = name\n",
    "        self.health = health\n",
    "        self.speed = speed\n",
    "        self.tactics = tactics\n",
    "        self.n = 0 if self.tactics else -1\n",
    "    def attack (self, other, damage):\n",
    "        if self.n >= 0:\n",
    "            other.health -= damage[self.tactics[self.n]]\n",
    "            self.n += 1\n",
    "        if self.n == len(self.tactics): self.n = -1\n",
    "            \n",
    "def fight (r1, r2, tactics):\n",
    "    ro1 = robot(r1['name'],r1['health'],r1['speed'],r1['tactics'])\n",
    "    ro2 = robot(r2['name'],r2['health'],r2['speed'],r2['tactics'])\n",
    "    if ro1.speed > ro2.speed or ro1.speed == ro2.speed: tom, tim = ro1, ro2\n",
    "    else: tom, tim = ro2, ro1\n",
    "    while ro1.health > 0 and ro2.health > 0:\n",
    "        if tom.n < 0 and tim.n < 0:\n",
    "            if ro1.health - ro2.health == 0: return \"The fight was a draw.\"\n",
    "            else: return \"{} has won the fight.\".format(ro1.name if ro1.health > ro2.health else ro2.name)\n",
    "        tom.attack(tim, tactics)\n",
    "        tom,tim = tim,tom\n",
    "    return \"{} has won the fight.\".format(ro1.name if ro1.health > 0 else ro2.name)"
   ]
  },
  {
   "cell_type": "code",
   "execution_count": 2,
   "metadata": {},
   "outputs": [],
   "source": [
    "robot_1 = {\"name\": \"Rocky\", \"health\": 200, \"speed\": 20, \"tactics\": [\"punch\", \"punch\", \"laser\", \"missile\"] }\n",
    "robot_2 = {\"name\": \"Missile Bob\", \"health\": 100, \"speed\": 21, \"tactics\": [\"missile\", \"missile\", \"missile\", \"missile\"]}\n",
    "tactics = {\"punch\": 20, \"laser\": 30, \"missile\": 35}"
   ]
  },
  {
   "cell_type": "code",
   "execution_count": 4,
   "metadata": {},
   "outputs": [
    {
     "name": "stdout",
     "output_type": "stream",
     "text": [
      "0 Missile Bob\n",
      "0 Rocky\n",
      "1 Missile Bob\n",
      "1 Rocky\n",
      "2 Missile Bob\n",
      "2 Rocky\n",
      "3 Missile Bob\n",
      "3 Rocky\n"
     ]
    },
    {
     "data": {
      "text/plain": [
       "'Rocky has won the fight.'"
      ]
     },
     "execution_count": 4,
     "metadata": {},
     "output_type": "execute_result"
    }
   ],
   "source": [
    "fight(robot_1,robot_2, tactics)"
   ]
  },
  {
   "cell_type": "code",
   "execution_count": null,
   "metadata": {},
   "outputs": [],
   "source": [
    "a = iter(r)"
   ]
  },
  {
   "cell_type": "code",
   "execution_count": null,
   "metadata": {},
   "outputs": [],
   "source": [
    "next(a)"
   ]
  },
  {
   "cell_type": "code",
   "execution_count": null,
   "metadata": {},
   "outputs": [],
   "source": [
    "y = r"
   ]
  },
  {
   "cell_type": "code",
   "execution_count": null,
   "metadata": {},
   "outputs": [],
   "source": [
    "y.health -= 4"
   ]
  },
  {
   "cell_type": "code",
   "execution_count": null,
   "metadata": {},
   "outputs": [],
   "source": [
    "r.health"
   ]
  },
  {
   "cell_type": "code",
   "execution_count": null,
   "metadata": {},
   "outputs": [],
   "source": []
  }
 ],
 "metadata": {
  "kernelspec": {
   "display_name": "Python 3",
   "language": "python",
   "name": "python3"
  },
  "language_info": {
   "codemirror_mode": {
    "name": "ipython",
    "version": 3
   },
   "file_extension": ".py",
   "mimetype": "text/x-python",
   "name": "python",
   "nbconvert_exporter": "python",
   "pygments_lexer": "ipython3",
   "version": "3.7.3"
  }
 },
 "nbformat": 4,
 "nbformat_minor": 2
}
