{
 "cells": [
  {
   "cell_type": "code",
   "execution_count": 48,
   "metadata": {},
   "outputs": [],
   "source": [
    "def escape(carpark):\n",
    "    tom, escape = [], 0\n",
    "    position = [[[r,i] for i,y in enumerate(x) if y == 2] for r,x in enumerate(carpark) if [[r,i] for i,y in enumerate(x) if y == 2]][0][0]\n",
    "    while escape != 1:\n",
    "        if 1 in carpark[position[0]]:\n",
    "            stair = [i for i,x in enumerate(carpark[position[0]]) if x == 1][0]\n",
    "            if position[1] - stair > 0:\n",
    "                tom.append('L' + str(position[1] - stair)), tom.append('D1')\n",
    "                floor = 1\n",
    "            elif position[1] - stair < 0:\n",
    "                tom.append('R' + str(abs(position[1] - stair))), tom.append('D1')\n",
    "                floor = 1\n",
    "            else: \n",
    "                floor += 1\n",
    "                tom[-1] = 'D' + str(floor)\n",
    "            position[0],position[1] = position[0] + 1, stair\n",
    "        else:\n",
    "            if position[1] - (len(carpark[0]) - 1) > 0:\n",
    "                tom.append('L' + str(position[1] - (len(carpark[0]) - 1)))\n",
    "            elif position[1] - (len(carpark[0]) - 1) < 0:\n",
    "                tom.append('R' + str(abs(position[1] - (len(carpark[0]) - 1))))\n",
    "            escape = 1\n",
    "    return tom"
   ]
  },
  {
   "cell_type": "code",
   "execution_count": 49,
   "metadata": {},
   "outputs": [],
   "source": [
    "carpark = [[1, 0, 0, 0, 2],\n",
    "           [1, 0, 0, 0, 0],\n",
    "           [0, 0, 0, 0, 0]]"
   ]
  },
  {
   "cell_type": "code",
   "execution_count": 42,
   "metadata": {},
   "outputs": [
    {
     "data": {
      "text/plain": [
       "[[1, 0, 0, 0, 2], [1, 0, 0, 0, 0], [0, 0, 0, 0, 0]]"
      ]
     },
     "execution_count": 42,
     "metadata": {},
     "output_type": "execute_result"
    }
   ],
   "source": [
    "carpark"
   ]
  },
  {
   "cell_type": "code",
   "execution_count": 43,
   "metadata": {},
   "outputs": [
    {
     "data": {
      "text/plain": [
       "[0, 4]"
      ]
     },
     "execution_count": 43,
     "metadata": {},
     "output_type": "execute_result"
    }
   ],
   "source": [
    "position = [[[r,i] for i,y in enumerate(x) if y == 2] for r,x in enumerate(carpark) if [[r,i] for i,y in enumerate(x) if y == 2]][0][0]\n",
    "position"
   ]
  },
  {
   "cell_type": "code",
   "execution_count": 44,
   "metadata": {},
   "outputs": [
    {
     "data": {
      "text/plain": [
       "0"
      ]
     },
     "execution_count": 44,
     "metadata": {},
     "output_type": "execute_result"
    }
   ],
   "source": [
    "stair = [i for i,x in enumerate(carpark[position[0]]) if x == 1][0]\n",
    "stair"
   ]
  },
  {
   "cell_type": "code",
   "execution_count": 45,
   "metadata": {},
   "outputs": [
    {
     "data": {
      "text/plain": [
       "[1, 0, 0, 0, 2]"
      ]
     },
     "execution_count": 45,
     "metadata": {},
     "output_type": "execute_result"
    }
   ],
   "source": [
    "carpark[position[0]]"
   ]
  },
  {
   "cell_type": "code",
   "execution_count": 46,
   "metadata": {},
   "outputs": [],
   "source": [
    "tom, escape = [], 0\n",
    "while escape != 1:\n",
    "    if 1 in carpark[position[0]]:\n",
    "        stair = [i for i,x in enumerate(carpark[position[0]]) if x == 1][0]\n",
    "        if position[1] - stair > 0:\n",
    "            tom.append('L' + str(position[1] - stair)), tom.append('D1')\n",
    "            floor = 1\n",
    "        elif position[1] - stair < 0:\n",
    "            tom.append('R' + str(abs(position[1] - stair))), tom.append('D1')\n",
    "            floor = 1\n",
    "        else: \n",
    "            floor += 1\n",
    "            tom[-1] = 'D' + str(floor)\n",
    "        position[0],position[1] = position[0] + 1, stair\n",
    "        \n",
    "    else:\n",
    "        if position[1] - (len(carpark[0]) - 1) > 0:\n",
    "            tom.append('L' + str(position[1] - (len(carpark[0]) - 1)))\n",
    "        elif position[1] - (len(carpark[0]) - 1) < 0:\n",
    "            tom.append('R' + str(abs(position[1] - (len(carpark[0]) - 1))))\n",
    "        escape = 1"
   ]
  },
  {
   "cell_type": "code",
   "execution_count": 37,
   "metadata": {},
   "outputs": [
    {
     "data": {
      "text/plain": [
       "[2, 0]"
      ]
     },
     "execution_count": 37,
     "metadata": {},
     "output_type": "execute_result"
    }
   ],
   "source": [
    "position"
   ]
  },
  {
   "cell_type": "code",
   "execution_count": 9,
   "metadata": {},
   "outputs": [
    {
     "data": {
      "text/plain": [
       "4"
      ]
     },
     "execution_count": 9,
     "metadata": {},
     "output_type": "execute_result"
    }
   ],
   "source": [
    "abs(position[1] - (len(carpark[0]) - 1))"
   ]
  },
  {
   "cell_type": "code",
   "execution_count": null,
   "metadata": {},
   "outputs": [],
   "source": [
    "tom = []"
   ]
  },
  {
   "cell_type": "code",
   "execution_count": null,
   "metadata": {},
   "outputs": [],
   "source": [
    "tom.append(1),tom.append(2)"
   ]
  },
  {
   "cell_type": "code",
   "execution_count": 47,
   "metadata": {},
   "outputs": [
    {
     "data": {
      "text/plain": [
       "['L4', 'D2', 'R4']"
      ]
     },
     "execution_count": 47,
     "metadata": {},
     "output_type": "execute_result"
    }
   ],
   "source": [
    "tom"
   ]
  },
  {
   "cell_type": "code",
   "execution_count": null,
   "metadata": {},
   "outputs": [],
   "source": []
  }
 ],
 "metadata": {
  "kernelspec": {
   "display_name": "Python 3",
   "language": "python",
   "name": "python3"
  },
  "language_info": {
   "codemirror_mode": {
    "name": "ipython",
    "version": 3
   },
   "file_extension": ".py",
   "mimetype": "text/x-python",
   "name": "python",
   "nbconvert_exporter": "python",
   "pygments_lexer": "ipython3",
   "version": "3.7.3"
  }
 },
 "nbformat": 4,
 "nbformat_minor": 2
}
