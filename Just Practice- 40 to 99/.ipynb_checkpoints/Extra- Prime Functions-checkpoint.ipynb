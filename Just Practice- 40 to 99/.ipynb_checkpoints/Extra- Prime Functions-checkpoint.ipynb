{
 "cells": [
  {
   "cell_type": "code",
   "execution_count": 68,
   "metadata": {},
   "outputs": [],
   "source": [
    "# OVERALL BEST:\n",
    "def prime(n):\n",
    "    for i in range(2, int(n**.5 + 1)):\n",
    "        if n % i == 0:\n",
    "            return False\n",
    "    return True"
   ]
  },
  {
   "cell_type": "code",
   "execution_count": 66,
   "metadata": {},
   "outputs": [],
   "source": [
    "# FASTEST:\n",
    "def prime(x):\n",
    "    tim,tom = [1.1],0\n",
    "    if x in [1,2,3,5,7,9,11,13,15,17,19] : \n",
    "        return True\n",
    "    elif x % 2 == 0:\n",
    "        return False\n",
    "    elif x % 3 == 0:\n",
    "        return False\n",
    "    elif x % 5 == 0:\n",
    "        return False\n",
    "    elif len([y for y in [7,9,11,13,15,17,19] if x%y == 0]) > 0:\n",
    "        return False\n",
    "    else:\n",
    "        for y in range(21,int(x/20),2):\n",
    "            if x%y == 0:\n",
    "                return False\n",
    "            else:\n",
    "                tom = 0\n",
    "        if tom == 0:\n",
    "            return True\n"
   ]
  },
  {
   "cell_type": "code",
   "execution_count": 59,
   "metadata": {},
   "outputs": [],
   "source": [
    "def prime (p):\n",
    "    if p in [1,2,3,5,7,9] : return True\n",
    "    if p % 2 == 0 or p % 3 == 0 or p % 5 == 0:\n",
    "        return False\n",
    "    return True if len([x for x in range(2,p) if p%x == 0]) == 0 else False"
   ]
  },
  {
   "cell_type": "code",
   "execution_count": 60,
   "metadata": {},
   "outputs": [
    {
     "name": "stdout",
     "output_type": "stream",
     "text": [
      "6.43 ms ± 122 µs per loop (mean ± std. dev. of 7 runs, 100 loops each)\n"
     ]
    }
   ],
   "source": [
    "%timeit [prime(x) for x in range(1, 1000)]"
   ]
  },
  {
   "cell_type": "code",
   "execution_count": 61,
   "metadata": {},
   "outputs": [],
   "source": [
    "def prime (p):\n",
    "    if p == 1 : return True\n",
    "    return True if len([x for x in range(2,p) if p%x == 0]) == 0 else False"
   ]
  },
  {
   "cell_type": "code",
   "execution_count": 62,
   "metadata": {},
   "outputs": [
    {
     "name": "stdout",
     "output_type": "stream",
     "text": [
      "23.4 ms ± 871 µs per loop (mean ± std. dev. of 7 runs, 10 loops each)\n"
     ]
    }
   ],
   "source": [
    "%timeit [prime(x) for x in range(1, 1000)]"
   ]
  },
  {
   "cell_type": "code",
   "execution_count": 64,
   "metadata": {},
   "outputs": [],
   "source": [
    "def prime (p):\n",
    "    if p in [2,3,5,7,9,11,13,15,17,19] : return True\n",
    "    if len([x for x in [2,3,5,7,9,11,13,15,17,19] if p%x == 0]) > 0:\n",
    "        return False\n",
    "    return True if len([x for x in range(2,int(p/19)) if p%x == 0]) == 0 else False"
   ]
  },
  {
   "cell_type": "code",
   "execution_count": 65,
   "metadata": {},
   "outputs": [
    {
     "name": "stdout",
     "output_type": "stream",
     "text": [
      "1.24 ms ± 62.8 µs per loop (mean ± std. dev. of 7 runs, 1000 loops each)\n"
     ]
    }
   ],
   "source": [
    "%timeit [prime(x) for x in range(1, 1000)]"
   ]
  },
  {
   "cell_type": "code",
   "execution_count": 39,
   "metadata": {},
   "outputs": [
    {
     "data": {
      "text/plain": [
       "[529, 667, 713, 841, 851, 899, 943, 961, 989]"
      ]
     },
     "execution_count": 39,
     "metadata": {},
     "output_type": "execute_result"
    }
   ],
   "source": [
    "[x for x in range(1, 1000) if prime(x) == False and len([y for y in [2,3,5,7,9,11,13,15,17,19] if x%y == 0]) == 0]"
   ]
  },
  {
   "cell_type": "code",
   "execution_count": 37,
   "metadata": {},
   "outputs": [
    {
     "data": {
      "text/plain": [
       "[23, 31]"
      ]
     },
     "execution_count": 37,
     "metadata": {},
     "output_type": "execute_result"
    }
   ],
   "source": [
    "p = 713\n",
    "[x for x in range(2,int(p/19)) if p%x == 0]"
   ]
  },
  {
   "cell_type": "code",
   "execution_count": 24,
   "metadata": {},
   "outputs": [
    {
     "data": {
      "text/plain": [
       "841"
      ]
     },
     "execution_count": 24,
     "metadata": {},
     "output_type": "execute_result"
    }
   ],
   "source": [
    "29 * 29"
   ]
  },
  {
   "cell_type": "code",
   "execution_count": 36,
   "metadata": {},
   "outputs": [
    {
     "data": {
      "text/plain": [
       "37.526315789473685"
      ]
     },
     "execution_count": 36,
     "metadata": {},
     "output_type": "execute_result"
    }
   ],
   "source": [
    "713/19"
   ]
  },
  {
   "cell_type": "code",
   "execution_count": 47,
   "metadata": {},
   "outputs": [
    {
     "data": {
      "text/plain": [
       "1"
      ]
     },
     "execution_count": 47,
     "metadata": {},
     "output_type": "execute_result"
    }
   ],
   "source": [
    "x = 899\n",
    "for y in range(21,int(x/20)):\n",
    "    if x%y == 0:\n",
    "        tom = 1\n",
    "        break\n",
    "    else:\n",
    "        tom = 0\n",
    "tom"
   ]
  },
  {
   "cell_type": "code",
   "execution_count": 67,
   "metadata": {},
   "outputs": [
    {
     "name": "stdout",
     "output_type": "stream",
     "text": [
      "610 µs ± 13.6 µs per loop (mean ± std. dev. of 7 runs, 1000 loops each)\n"
     ]
    }
   ],
   "source": [
    "%timeit [prime(x) for x in range(1, 1000)]"
   ]
  },
  {
   "cell_type": "code",
   "execution_count": 69,
   "metadata": {},
   "outputs": [
    {
     "name": "stdout",
     "output_type": "stream",
     "text": [
      "839 µs ± 10.3 µs per loop (mean ± std. dev. of 7 runs, 1000 loops each)\n"
     ]
    }
   ],
   "source": [
    "%timeit [prime(x) for x in range(1, 1000)]"
   ]
  },
  {
   "cell_type": "code",
   "execution_count": null,
   "metadata": {},
   "outputs": [],
   "source": []
  }
 ],
 "metadata": {
  "kernelspec": {
   "display_name": "Python 3",
   "language": "python",
   "name": "python3"
  },
  "language_info": {
   "codemirror_mode": {
    "name": "ipython",
    "version": 3
   },
   "file_extension": ".py",
   "mimetype": "text/x-python",
   "name": "python",
   "nbconvert_exporter": "python",
   "pygments_lexer": "ipython3",
   "version": "3.7.3"
  }
 },
 "nbformat": 4,
 "nbformat_minor": 2
}
