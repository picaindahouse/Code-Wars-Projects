{
 "cells": [
  {
   "cell_type": "code",
   "execution_count": 302,
   "metadata": {},
   "outputs": [],
   "source": [
    "# Both methods use the same idea- just that one is written after fully understanding and the other is only after half understanding\n",
    "# The idea is that even with 12 digits the max sum of all digits- can only be 109\n",
    "# Thus greatly reduces the numbers we have to use to solve!"
   ]
  },
  {
   "cell_type": "code",
   "execution_count": null,
   "metadata": {},
   "outputs": [],
   "source": [
    "# Method 1 (After actually getting it)\n",
    "def power_sumDigTerm(n):\n",
    "    return sorted([x**y for x in range(109) for y in range(14) if sum([int(r) for r in str(x**y)]) == x and x**y > 80])"
   ]
  },
  {
   "cell_type": "code",
   "execution_count": 288,
   "metadata": {},
   "outputs": [],
   "source": [
    "# Method 2 (What I had used to solve after partially understanding)\n",
    "from itertools import combinations_with_replacement\n",
    "\n",
    "def power (n):\n",
    "    if n in [sum([int(x) for x in str(n)]) ** y for y in [3,4,5,6,7,8,9,10,13]]:\n",
    "        return n\n",
    "    else: return None\n",
    "\n",
    "def power_sumDigTerm(n):\n",
    "    print(n)\n",
    "    if n == 1: return 81\n",
    "    elif n > 35: t = 11\n",
    "    elif n > 15: t = 10\n",
    "    else: t = 5\n",
    "    numbers= [0,1,2,3,4,5,6,7,8,9]\n",
    "    tom = [sum(x) ** y for x in combinations_with_replacement(numbers,t) for y in [3,4,5,6,7,8,9,10,13]]\n",
    "    return sorted([x for x in {x for x in tom} if x> 511 and power(x) == x])[n-2]"
   ]
  },
  {
   "cell_type": "code",
   "execution_count": 134,
   "metadata": {},
   "outputs": [],
   "source": [
    "from itertools import combinations_with_replacement"
   ]
  },
  {
   "cell_type": "code",
   "execution_count": 67,
   "metadata": {},
   "outputs": [],
   "source": [
    "numbers= [0,1,2,3,4,5,6,7,8,9]"
   ]
  },
  {
   "cell_type": "code",
   "execution_count": 303,
   "metadata": {},
   "outputs": [
    {
     "data": {
      "text/plain": [
       "108"
      ]
     },
     "execution_count": 303,
     "metadata": {},
     "output_type": "execute_result"
    }
   ],
   "source": [
    "max([sum(x) for x in combinations_with_replacement(numbers,12)])"
   ]
  },
  {
   "cell_type": "code",
   "execution_count": 290,
   "metadata": {},
   "outputs": [
    {
     "data": {
      "text/plain": [
       "[512,\n",
       " 2401,\n",
       " 4913,\n",
       " 5832,\n",
       " 17576,\n",
       " 19683,\n",
       " 234256,\n",
       " 390625,\n",
       " 614656,\n",
       " 1679616,\n",
       " 17210368,\n",
       " 34012224,\n",
       " 52521875,\n",
       " 60466176,\n",
       " 205962976,\n",
       " 612220032,\n",
       " 8303765625,\n",
       " 10460353203,\n",
       " 24794911296,\n",
       " 27512614111,\n",
       " 52523350144,\n",
       " 68719476736,\n",
       " 271818611107,\n",
       " 1174711139837,\n",
       " 2207984167552,\n",
       " 6722988818432,\n",
       " 20047612231936,\n",
       " 72301961339136,\n",
       " 248155780267521,\n",
       " 3904305912313344,\n",
       " 45848500718449031,\n",
       " 81920000000000000,\n",
       " 150094635296999121,\n",
       " 13744803133596058624,\n",
       " 19687440434072265625,\n",
       " 53861511409489970176,\n",
       " 73742412689492826049,\n",
       " 179084769654285362176,\n",
       " 671088640000000000000,\n",
       " 14076019706120526112710656,\n",
       " 146853371345156431381127623,\n",
       " 166507350731038802170609664,\n",
       " 213292826014568334917410816,\n",
       " 240984500018808097135911707]"
      ]
     },
     "execution_count": 290,
     "metadata": {},
     "output_type": "execute_result"
    }
   ],
   "source": [
    "sorted([x for x in {x for x in tom} if x> 511 and power(x) == x])"
   ]
  },
  {
   "cell_type": "code",
   "execution_count": 149,
   "metadata": {},
   "outputs": [
    {
     "data": {
      "text/plain": [
       "(5, 1, 2)"
      ]
     },
     "execution_count": 149,
     "metadata": {},
     "output_type": "execute_result"
    }
   ],
   "source": [
    "tuple(int(x) for x in str(cool[0]))"
   ]
  },
  {
   "cell_type": "code",
   "execution_count": 213,
   "metadata": {},
   "outputs": [],
   "source": [
    "power(13744803133596058624)"
   ]
  },
  {
   "cell_type": "code",
   "execution_count": 187,
   "metadata": {},
   "outputs": [
    {
     "data": {
      "text/plain": [
       "[512, 4096, 32768]"
      ]
     },
     "execution_count": 187,
     "metadata": {},
     "output_type": "execute_result"
    }
   ],
   "source": [
    "[sum([int(x) for x in str(n)]) ** y for y in [3,4,5]]"
   ]
  },
  {
   "cell_type": "code",
   "execution_count": 279,
   "metadata": {},
   "outputs": [],
   "source": [
    "n =81920000000000000"
   ]
  },
  {
   "cell_type": "code",
   "execution_count": 285,
   "metadata": {},
   "outputs": [
    {
     "data": {
      "text/plain": [
       "[8000,\n",
       " 160000,\n",
       " 3200000,\n",
       " 64000000,\n",
       " 1280000000,\n",
       " 25600000000,\n",
       " 512000000000,\n",
       " 10240000000000,\n",
       " 81920000000000000]"
      ]
     },
     "execution_count": 285,
     "metadata": {},
     "output_type": "execute_result"
    }
   ],
   "source": [
    "[sum([int(x) for x in str(n)]) ** y for y in [3,4,5,6,7,8,9,10,13]]"
   ]
  },
  {
   "cell_type": "code",
   "execution_count": 274,
   "metadata": {},
   "outputs": [
    {
     "name": "stdout",
     "output_type": "stream",
     "text": [
      "34\n"
     ]
    },
    {
     "data": {
      "text/plain": [
       "150094635296999121"
      ]
     },
     "execution_count": 274,
     "metadata": {},
     "output_type": "execute_result"
    }
   ],
   "source": [
    "power_sumDigTerm(34)"
   ]
  },
  {
   "cell_type": "code",
   "execution_count": 301,
   "metadata": {},
   "outputs": [
    {
     "data": {
      "text/plain": [
       "13744803133596058624"
      ]
     },
     "execution_count": 301,
     "metadata": {},
     "output_type": "execute_result"
    }
   ],
   "source": [
    "sorted([x**y for x in range(109) for y in range(14) if sum([int(r) for r in str(x**y)]) == x and x**y > 80])"
   ]
  },
  {
   "cell_type": "code",
   "execution_count": 297,
   "metadata": {},
   "outputs": [
    {
     "data": {
      "text/plain": [
       "True"
      ]
     },
     "execution_count": 297,
     "metadata": {},
     "output_type": "execute_result"
    }
   ],
   "source": [
    "x = 8\n",
    "y = 3\n",
    "sum([int(r) for r in str(x**y)]) == x"
   ]
  },
  {
   "cell_type": "code",
   "execution_count": null,
   "metadata": {},
   "outputs": [],
   "source": []
  }
 ],
 "metadata": {
  "kernelspec": {
   "display_name": "Python 3",
   "language": "python",
   "name": "python3"
  },
  "language_info": {
   "codemirror_mode": {
    "name": "ipython",
    "version": 3
   },
   "file_extension": ".py",
   "mimetype": "text/x-python",
   "name": "python",
   "nbconvert_exporter": "python",
   "pygments_lexer": "ipython3",
   "version": "3.7.3"
  }
 },
 "nbformat": 4,
 "nbformat_minor": 2
}
