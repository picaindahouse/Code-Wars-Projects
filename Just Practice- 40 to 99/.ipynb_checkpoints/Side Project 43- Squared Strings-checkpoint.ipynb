{
 "cells": [
  {
   "cell_type": "code",
   "execution_count": 34,
   "metadata": {},
   "outputs": [],
   "source": [
    "# Given a string: s = \"abcd\\nefgh\\nijkl\\nmnop\"\n",
    "# Idk how to explain: just read the kata itself\n",
    "# Just read this piece that I put so much effort into\n",
    "# Only to realise- each code just needs one line"
   ]
  },
  {
   "cell_type": "code",
   "execution_count": 26,
   "metadata": {},
   "outputs": [],
   "source": [
    "s = \"abcd\\nefgh\\nijkl\\nmnop\""
   ]
  },
  {
   "cell_type": "code",
   "execution_count": 27,
   "metadata": {},
   "outputs": [
    {
     "data": {
      "text/plain": [
       "'abcd efgh ijkl mnop'"
      ]
     },
     "execution_count": 27,
     "metadata": {},
     "output_type": "execute_result"
    }
   ],
   "source": [
    "s.replace('\\n',' ')"
   ]
  },
  {
   "cell_type": "code",
   "execution_count": 28,
   "metadata": {},
   "outputs": [],
   "source": [
    "tom = (s.replace('\\n',' ')).split()"
   ]
  },
  {
   "cell_type": "code",
   "execution_count": 29,
   "metadata": {},
   "outputs": [
    {
     "data": {
      "text/plain": [
       "['a', 'e', 'i', 'm']"
      ]
     },
     "execution_count": 29,
     "metadata": {},
     "output_type": "execute_result"
    }
   ],
   "source": [
    "[x[0] for x in tom]"
   ]
  },
  {
   "cell_type": "code",
   "execution_count": 30,
   "metadata": {},
   "outputs": [
    {
     "data": {
      "text/plain": [
       "'aeim'"
      ]
     },
     "execution_count": 30,
     "metadata": {},
     "output_type": "execute_result"
    }
   ],
   "source": [
    "''.join(x[0] for x in tom)"
   ]
  },
  {
   "cell_type": "code",
   "execution_count": 31,
   "metadata": {},
   "outputs": [],
   "source": [
    "def diag_1_sym (smth):\n",
    "    tom = (smth.replace('\\n',' ')).split()\n",
    "    tim = []\n",
    "    cool = 0\n",
    "    while cool<4:\n",
    "        tim.append(''.join(x[cool] for x in tom))\n",
    "        cool += 1\n",
    "    return tim"
   ]
  },
  {
   "cell_type": "code",
   "execution_count": 32,
   "metadata": {},
   "outputs": [
    {
     "data": {
      "text/plain": [
       "['aeim', 'bfjn', 'cgko', 'dhlp']"
      ]
     },
     "execution_count": 32,
     "metadata": {},
     "output_type": "execute_result"
    }
   ],
   "source": [
    "diag_1_sym(s)"
   ]
  },
  {
   "cell_type": "code",
   "execution_count": 33,
   "metadata": {},
   "outputs": [],
   "source": [
    "def diag_1_sym (smth):\n",
    "    tom = (smth.replace('\\n',' ')).split()\n",
    "    tim = []\n",
    "    cool = 0\n",
    "    while cool<4:\n",
    "        tim.append(''.join(x[cool] for x in tom))\n",
    "        cool += 1\n",
    "    return '\\n'.join(tim)"
   ]
  },
  {
   "cell_type": "code",
   "execution_count": 9,
   "metadata": {},
   "outputs": [
    {
     "data": {
      "text/plain": [
       "'aeim\\nbfjn\\ncgko\\ndhlp'"
      ]
     },
     "execution_count": 9,
     "metadata": {},
     "output_type": "execute_result"
    }
   ],
   "source": [
    "diag_1_sym(s)"
   ]
  },
  {
   "cell_type": "code",
   "execution_count": 10,
   "metadata": {},
   "outputs": [
    {
     "data": {
      "text/plain": [
       "['abcd', 'efgh', 'ijkl', 'mnop']"
      ]
     },
     "execution_count": 10,
     "metadata": {},
     "output_type": "execute_result"
    }
   ],
   "source": [
    "tom = (s.replace('\\n',' ')).split()\n",
    "tom"
   ]
  },
  {
   "cell_type": "code",
   "execution_count": 11,
   "metadata": {},
   "outputs": [
    {
     "data": {
      "text/plain": [
       "['mnop', 'ijkl', 'efgh', 'abcd']"
      ]
     },
     "execution_count": 11,
     "metadata": {},
     "output_type": "execute_result"
    }
   ],
   "source": [
    "tom.reverse()\n",
    "tom"
   ]
  },
  {
   "cell_type": "code",
   "execution_count": 12,
   "metadata": {},
   "outputs": [],
   "source": [
    "def rot_90_clock (smth):\n",
    "    tom = (smth.replace('\\n',' ')).split()\n",
    "    tom.reverse()\n",
    "    tim = []\n",
    "    cool = 0\n",
    "    while cool<4:\n",
    "        tim.append(''.join(x[cool] for x in tom))\n",
    "        cool += 1\n",
    "    return '\\n'.join(tim)"
   ]
  },
  {
   "cell_type": "code",
   "execution_count": 13,
   "metadata": {},
   "outputs": [
    {
     "data": {
      "text/plain": [
       "'miea\\nnjfb\\nokgc\\nplhd'"
      ]
     },
     "execution_count": 13,
     "metadata": {},
     "output_type": "execute_result"
    }
   ],
   "source": [
    "rot_90_clock(s)"
   ]
  },
  {
   "cell_type": "code",
   "execution_count": 14,
   "metadata": {},
   "outputs": [],
   "source": [
    "tom='aeim\\nbfjn\\ncgko\\ndhlp'"
   ]
  },
  {
   "cell_type": "code",
   "execution_count": 15,
   "metadata": {},
   "outputs": [
    {
     "data": {
      "text/plain": [
       "'aeim'"
      ]
     },
     "execution_count": 15,
     "metadata": {},
     "output_type": "execute_result"
    }
   ],
   "source": [
    "((tom.replace('\\n',' ')).split())[0]"
   ]
  },
  {
   "cell_type": "code",
   "execution_count": 16,
   "metadata": {},
   "outputs": [
    {
     "data": {
      "text/plain": [
       "'abcd'"
      ]
     },
     "execution_count": 16,
     "metadata": {},
     "output_type": "execute_result"
    }
   ],
   "source": [
    "((s.replace('\\n',' ')).split())[0]"
   ]
  },
  {
   "cell_type": "code",
   "execution_count": 19,
   "metadata": {},
   "outputs": [],
   "source": [
    "def selfie_and_diag1 (smth):\n",
    "    tom = diag_1_sym(smth)\n",
    "    tim = []\n",
    "    cool = 0\n",
    "    while cool <4:\n",
    "        tim.append(((smth.replace('\\n',' ')).split())[cool] + '|' +((tom.replace('\\n',' ')).split())[cool])\n",
    "        cool+=1\n",
    "    return tim"
   ]
  },
  {
   "cell_type": "code",
   "execution_count": 20,
   "metadata": {},
   "outputs": [
    {
     "data": {
      "text/plain": [
       "['abcd|aeim', 'efgh|bfjn', 'ijkl|cgko', 'mnop|dhlp']"
      ]
     },
     "execution_count": 20,
     "metadata": {},
     "output_type": "execute_result"
    }
   ],
   "source": [
    "selfie_and_diag1(s)"
   ]
  },
  {
   "cell_type": "code",
   "execution_count": 21,
   "metadata": {},
   "outputs": [],
   "source": [
    "def selfie_and_diag1 (smth):\n",
    "    tom = diag_1_sym(smth)\n",
    "    tim = []\n",
    "    cool = 0\n",
    "    while cool <4:\n",
    "        tim.append(((smth.replace('\\n',' ')).split())[cool] + '|' +((tom.replace('\\n',' ')).split())[cool])\n",
    "        cool+=1\n",
    "    return '\\n'.join(tim)"
   ]
  },
  {
   "cell_type": "code",
   "execution_count": 22,
   "metadata": {},
   "outputs": [
    {
     "data": {
      "text/plain": [
       "'abcd|aeim\\nefgh|bfjn\\nijkl|cgko\\nmnop|dhlp'"
      ]
     },
     "execution_count": 22,
     "metadata": {},
     "output_type": "execute_result"
    }
   ],
   "source": [
    "selfie_and_diag1(s)"
   ]
  },
  {
   "cell_type": "code",
   "execution_count": 23,
   "metadata": {},
   "outputs": [],
   "source": [
    "def oper (fct,s):\n",
    "    return fct(s)"
   ]
  },
  {
   "cell_type": "code",
   "execution_count": 24,
   "metadata": {},
   "outputs": [],
   "source": [
    "# All are only able to deal with 4 lines\n",
    "# Need to change that:"
   ]
  },
  {
   "cell_type": "code",
   "execution_count": null,
   "metadata": {},
   "outputs": [],
   "source": [
    "def diag_1_sym (smth):\n",
    "    then = smth.count('\\n')\n",
    "    tom = (smth.replace('\\n',' ')).split()\n",
    "    tim = []\n",
    "    cool = 0\n",
    "    while cool<then+1:\n",
    "        tim.append(''.join(x[cool] for x in tom))\n",
    "        cool += 1\n",
    "    return '\\n'.join(tim)\n",
    "def rot_90_clock (smth):\n",
    "    then = smth.count('\\n')\n",
    "    tom = (smth.replace('\\n',' ')).split()\n",
    "    tom.reverse()\n",
    "    tim = []\n",
    "    cool = 0\n",
    "    while cool<then+1:\n",
    "        tim.append(''.join(x[cool] for x in tom))\n",
    "        cool += 1\n",
    "    return '\\n'.join(tim)\n",
    "def selfie_and_diag1 (smth):\n",
    "    then = smth.count('\\n')\n",
    "    tom = diag_1_sym(smth)\n",
    "    tim = []\n",
    "    cool = 0\n",
    "    while cool <then+1:\n",
    "        tim.append(((smth.replace('\\n',' ')).split())[cool] + '|' +((tom.replace('\\n',' ')).split())[cool])\n",
    "        cool+=1\n",
    "    return '\\n'.join(tim)\n",
    "def oper (fct,s):\n",
    "    return fct(s)"
   ]
  },
  {
   "cell_type": "code",
   "execution_count": 43,
   "metadata": {},
   "outputs": [],
   "source": [
    "# Good work overall\n",
    "# But below there is a much faster method overall"
   ]
  },
  {
   "cell_type": "code",
   "execution_count": null,
   "metadata": {},
   "outputs": [],
   "source": [
    "def rot_90_clock(strng):\n",
    "    return '\\n'.join(''.join(x) for x in zip(*strng.split('\\n')[::-1]))      \n",
    "def diag_1_sym(strng):\n",
    "    return '\\n'.join(''.join(x) for x in zip(*strng.split('\\n'))) \n",
    "def selfie_and_diag1(strng):\n",
    "    return '\\n'.join('|'.join(x) for x in zip(strng.split('\\n'), diag_1_sym(strng).split('\\n')))\n",
    "def oper(fct, s):\n",
    "    return fct(s)"
   ]
  },
  {
   "cell_type": "code",
   "execution_count": 35,
   "metadata": {},
   "outputs": [
    {
     "data": {
      "text/plain": [
       "'abcd\\nefgh\\nijkl\\nmnop'"
      ]
     },
     "execution_count": 35,
     "metadata": {},
     "output_type": "execute_result"
    }
   ],
   "source": [
    "s"
   ]
  },
  {
   "cell_type": "code",
   "execution_count": 36,
   "metadata": {},
   "outputs": [
    {
     "data": {
      "text/plain": [
       "['abcd', 'efgh', 'ijkl', 'mnop']"
      ]
     },
     "execution_count": 36,
     "metadata": {},
     "output_type": "execute_result"
    }
   ],
   "source": [
    "s.split('\\n')"
   ]
  },
  {
   "cell_type": "code",
   "execution_count": 37,
   "metadata": {},
   "outputs": [
    {
     "data": {
      "text/plain": [
       "['mnop', 'ijkl', 'efgh', 'abcd']"
      ]
     },
     "execution_count": 37,
     "metadata": {},
     "output_type": "execute_result"
    }
   ],
   "source": [
    "s.split('\\n')[::-1]"
   ]
  },
  {
   "cell_type": "code",
   "execution_count": 47,
   "metadata": {},
   "outputs": [
    {
     "ename": "TypeError",
     "evalue": "list expected at most 1 arguments, got 4",
     "output_type": "error",
     "traceback": [
      "\u001b[1;31m---------------------------------------------------------------------------\u001b[0m",
      "\u001b[1;31mTypeError\u001b[0m                                 Traceback (most recent call last)",
      "\u001b[1;32m<ipython-input-47-947a84107812>\u001b[0m in \u001b[0;36m<module>\u001b[1;34m\u001b[0m\n\u001b[1;32m----> 1\u001b[1;33m \u001b[0mlist\u001b[0m\u001b[1;33m(\u001b[0m\u001b[1;33m*\u001b[0m\u001b[0ms\u001b[0m\u001b[1;33m.\u001b[0m\u001b[0msplit\u001b[0m\u001b[1;33m(\u001b[0m\u001b[1;34m'\\n'\u001b[0m\u001b[1;33m)\u001b[0m\u001b[1;33m[\u001b[0m\u001b[1;33m:\u001b[0m\u001b[1;33m:\u001b[0m\u001b[1;33m-\u001b[0m\u001b[1;36m1\u001b[0m\u001b[1;33m]\u001b[0m\u001b[1;33m)\u001b[0m\u001b[1;33m\u001b[0m\u001b[1;33m\u001b[0m\u001b[0m\n\u001b[0m",
      "\u001b[1;31mTypeError\u001b[0m: list expected at most 1 arguments, got 4"
     ]
    }
   ],
   "source": [
    "zip"
   ]
  },
  {
   "cell_type": "code",
   "execution_count": null,
   "metadata": {},
   "outputs": [],
   "source": []
  }
 ],
 "metadata": {
  "kernelspec": {
   "display_name": "Python 3",
   "language": "python",
   "name": "python3"
  },
  "language_info": {
   "codemirror_mode": {
    "name": "ipython",
    "version": 3
   },
   "file_extension": ".py",
   "mimetype": "text/x-python",
   "name": "python",
   "nbconvert_exporter": "python",
   "pygments_lexer": "ipython3",
   "version": "3.7.3"
  }
 },
 "nbformat": 4,
 "nbformat_minor": 2
}
