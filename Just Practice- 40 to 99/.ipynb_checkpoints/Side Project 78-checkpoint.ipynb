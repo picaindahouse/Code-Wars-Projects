{
 "cells": [
  {
   "cell_type": "code",
   "execution_count": 1,
   "metadata": {},
   "outputs": [],
   "source": [
    "def string_letter_count(s):\n",
    "    tum = []\n",
    "    [tum.append([str(s.lower().count(x)),x]) if [str(s.lower().count(x)),x] not in tum else 2 for x in s.lower() if x in 'abcdefghijklmnopqrstuvwxyz']\n",
    "    return ''.join(''.join(x) for x in sorted(tum, key = lambda t: t[1]))"
   ]
  },
  {
   "cell_type": "code",
   "execution_count": 2,
   "metadata": {},
   "outputs": [],
   "source": [
    "s = \"The quick brown fox jumps over the lazy dog.\""
   ]
  },
  {
   "cell_type": "code",
   "execution_count": 14,
   "metadata": {},
   "outputs": [
    {
     "data": {
      "text/plain": [
       "[None,\n",
       " None,\n",
       " None,\n",
       " None,\n",
       " None,\n",
       " None,\n",
       " None,\n",
       " None,\n",
       " None,\n",
       " None,\n",
       " None,\n",
       " None,\n",
       " None,\n",
       " None,\n",
       " 2,\n",
       " None,\n",
       " None,\n",
       " 2,\n",
       " None,\n",
       " None,\n",
       " None,\n",
       " 2,\n",
       " None,\n",
       " 2,\n",
       " 2,\n",
       " 2,\n",
       " 2,\n",
       " 2,\n",
       " None,\n",
       " None,\n",
       " None,\n",
       " None,\n",
       " None,\n",
       " 2,\n",
       " None]"
      ]
     },
     "execution_count": 14,
     "metadata": {},
     "output_type": "execute_result"
    }
   ],
   "source": [
    "tum = []\n",
    "[tum.append([str(s.lower().count(x)),x]) if [str(s.lower().count(x)),x] not in tum else 2 for x in s.lower() if x in 'abcdefghijklmnopqrstuvwxyz']"
   ]
  },
  {
   "cell_type": "code",
   "execution_count": 29,
   "metadata": {},
   "outputs": [
    {
     "data": {
      "text/plain": [
       "'1a1b1c1d3e1f1g2h1i1j1k1l1m1n4o1p1q2r1s2t2u1v1w1x1y1z'"
      ]
     },
     "execution_count": 29,
     "metadata": {},
     "output_type": "execute_result"
    }
   ],
   "source": [
    "''.join(''.join(x) for x in sorted(tum, key = lambda t: t[1]))"
   ]
  },
  {
   "cell_type": "code",
   "execution_count": 27,
   "metadata": {},
   "outputs": [
    {
     "data": {
      "text/plain": [
       "[['1', 'a'],\n",
       " ['1', 'b'],\n",
       " ['1', 'c'],\n",
       " ['1', 'd'],\n",
       " ['3', 'e'],\n",
       " ['1', 'f'],\n",
       " ['1', 'g'],\n",
       " ['2', 'h'],\n",
       " ['1', 'i'],\n",
       " ['1', 'j'],\n",
       " ['1', 'k'],\n",
       " ['1', 'l'],\n",
       " ['1', 'm'],\n",
       " ['1', 'n'],\n",
       " ['4', 'o'],\n",
       " ['1', 'p'],\n",
       " ['1', 'q'],\n",
       " ['2', 'r'],\n",
       " ['1', 's'],\n",
       " ['2', 't'],\n",
       " ['2', 'u'],\n",
       " ['1', 'v'],\n",
       " ['1', 'w'],\n",
       " ['1', 'x'],\n",
       " ['1', 'y'],\n",
       " ['1', 'z']]"
      ]
     },
     "execution_count": 27,
     "metadata": {},
     "output_type": "execute_result"
    }
   ],
   "source": [
    "sorted(tum, key = lambda t: t[1])"
   ]
  },
  {
   "cell_type": "code",
   "execution_count": null,
   "metadata": {},
   "outputs": [],
   "source": []
  }
 ],
 "metadata": {
  "kernelspec": {
   "display_name": "Python 3",
   "language": "python",
   "name": "python3"
  },
  "language_info": {
   "codemirror_mode": {
    "name": "ipython",
    "version": 3
   },
   "file_extension": ".py",
   "mimetype": "text/x-python",
   "name": "python",
   "nbconvert_exporter": "python",
   "pygments_lexer": "ipython3",
   "version": "3.7.3"
  }
 },
 "nbformat": 4,
 "nbformat_minor": 2
}
