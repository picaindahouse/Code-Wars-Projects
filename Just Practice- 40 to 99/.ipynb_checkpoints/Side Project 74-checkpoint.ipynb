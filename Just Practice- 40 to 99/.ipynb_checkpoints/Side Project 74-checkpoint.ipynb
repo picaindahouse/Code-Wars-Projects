{
 "cells": [
  {
   "cell_type": "code",
   "execution_count": 82,
   "metadata": {},
   "outputs": [],
   "source": [
    "def nico(key, message):\n",
    "    n_key = [str(i) for y in key for i,x in enumerate(sorted(key),1) if x == y]\n",
    "    tom = [(i%len(key),x) if i%len(key) > 0 else (len(key),x) for i,x in enumerate(message,1)]\n",
    "    tim, why = [[x] for x in n_key], []\n",
    "    for x in tom:\n",
    "        tim[x[0]-1].append(x[1])         \n",
    "    top = max([len(x) for x in tim])\n",
    "    [x.append(' ') for x in tim if len(x) < top]\n",
    "    for x in [[y for y in enumerate(x) if y[0]!=0] for x in sorted(tim, key = lambda t: int(t[0]))]:\n",
    "        for i,y in x:\n",
    "            if len(why) < i:\n",
    "                why.append(y)\n",
    "            else:\n",
    "                why[i-1] = why[i-1] + y\n",
    "    return ''.join(why)"
   ]
  },
  {
   "cell_type": "code",
   "execution_count": 132,
   "metadata": {},
   "outputs": [],
   "source": [
    "ans = 'vbjwjqephdjmsnoogeuaj   b           yvm '\n",
    "     ['vdjmsnoogeubajwjqeph', 'j       yvm    b    ']"
   ]
  },
  {
   "cell_type": "code",
   "execution_count": 133,
   "metadata": {},
   "outputs": [],
   "source": [
    "key = 'wagxyjqmflrkvzdhtieu'"
   ]
  },
  {
   "cell_type": "code",
   "execution_count": 134,
   "metadata": {},
   "outputs": [],
   "source": [
    "message = 'gvjeupmjwdshoabqnejoyjbvm'"
   ]
  },
  {
   "cell_type": "code",
   "execution_count": 135,
   "metadata": {},
   "outputs": [
    {
     "data": {
      "text/plain": [
       "['17',\n",
       " '1',\n",
       " '5',\n",
       " '18',\n",
       " '19',\n",
       " '8',\n",
       " '12',\n",
       " '11',\n",
       " '4',\n",
       " '10',\n",
       " '13',\n",
       " '9',\n",
       " '16',\n",
       " '20',\n",
       " '2',\n",
       " '6',\n",
       " '14',\n",
       " '7',\n",
       " '3',\n",
       " '15']"
      ]
     },
     "execution_count": 135,
     "metadata": {},
     "output_type": "execute_result"
    }
   ],
   "source": [
    "n_key = [str(i) for y in key for i,x in enumerate(sorted(key),1) if x == y]\n",
    "n_key"
   ]
  },
  {
   "cell_type": "code",
   "execution_count": 136,
   "metadata": {},
   "outputs": [
    {
     "data": {
      "text/plain": [
       "[(1, 'g'),\n",
       " (2, 'v'),\n",
       " (3, 'j'),\n",
       " (4, 'e'),\n",
       " (5, 'u'),\n",
       " (6, 'p'),\n",
       " (7, 'm'),\n",
       " (8, 'j'),\n",
       " (9, 'w'),\n",
       " (10, 'd'),\n",
       " (11, 's'),\n",
       " (12, 'h'),\n",
       " (13, 'o'),\n",
       " (14, 'a'),\n",
       " (15, 'b'),\n",
       " (16, 'q'),\n",
       " (17, 'n'),\n",
       " (18, 'e'),\n",
       " (19, 'j'),\n",
       " (20, 'o'),\n",
       " (1, 'y'),\n",
       " (2, 'j'),\n",
       " (3, 'b'),\n",
       " (4, 'v'),\n",
       " (5, 'm')]"
      ]
     },
     "execution_count": 136,
     "metadata": {},
     "output_type": "execute_result"
    }
   ],
   "source": [
    "tom = [(i%len(key),x) if i%len(key) > 0 else (len(key),x) for i,x in enumerate(message,1)]\n",
    "tom"
   ]
  },
  {
   "cell_type": "code",
   "execution_count": 149,
   "metadata": {},
   "outputs": [
    {
     "data": {
      "text/plain": [
       "[None,\n",
       " None,\n",
       " None,\n",
       " None,\n",
       " None,\n",
       " None,\n",
       " None,\n",
       " None,\n",
       " None,\n",
       " None,\n",
       " None,\n",
       " None,\n",
       " None,\n",
       " None,\n",
       " None]"
      ]
     },
     "execution_count": 149,
     "metadata": {},
     "output_type": "execute_result"
    }
   ],
   "source": [
    "tim, why = [[x] for x in n_key], []\n",
    "for x in tom:\n",
    "    tim[x[0]-1].append(x[1])\n",
    "top = max([len(x) for x in tim])\n",
    "[x.append(' ') for x in tim if len(x) < top]"
   ]
  },
  {
   "cell_type": "code",
   "execution_count": 150,
   "metadata": {},
   "outputs": [
    {
     "data": {
      "text/plain": [
       "[['1', 'v', 'j'],\n",
       " ['2', 'b', ' '],\n",
       " ['3', 'j', ' '],\n",
       " ['4', 'w', ' '],\n",
       " ['5', 'j', 'b'],\n",
       " ['6', 'q', ' '],\n",
       " ['7', 'e', ' '],\n",
       " ['8', 'p', ' '],\n",
       " ['9', 'h', ' '],\n",
       " ['10', 'd', ' '],\n",
       " ['11', 'j', ' '],\n",
       " ['12', 'm', ' '],\n",
       " ['13', 's', ' '],\n",
       " ['14', 'n', ' '],\n",
       " ['15', 'o', ' '],\n",
       " ['16', 'o', ' '],\n",
       " ['17', 'g', 'y'],\n",
       " ['18', 'e', 'v'],\n",
       " ['19', 'u', 'm'],\n",
       " ['20', 'a', ' ']]"
      ]
     },
     "execution_count": 150,
     "metadata": {},
     "output_type": "execute_result"
    }
   ],
   "source": [
    "sorted(tim, key = lambda t: int(t[0]))"
   ]
  },
  {
   "cell_type": "code",
   "execution_count": 151,
   "metadata": {},
   "outputs": [
    {
     "data": {
      "text/plain": [
       "3"
      ]
     },
     "execution_count": 151,
     "metadata": {},
     "output_type": "execute_result"
    }
   ],
   "source": [
    "top"
   ]
  },
  {
   "cell_type": "code",
   "execution_count": 152,
   "metadata": {},
   "outputs": [
    {
     "data": {
      "text/plain": [
       "[[(1, 'v'), (2, 'j')],\n",
       " [(1, 'b'), (2, ' ')],\n",
       " [(1, 'j'), (2, ' ')],\n",
       " [(1, 'w'), (2, ' ')],\n",
       " [(1, 'j'), (2, 'b')],\n",
       " [(1, 'q'), (2, ' ')],\n",
       " [(1, 'e'), (2, ' ')],\n",
       " [(1, 'p'), (2, ' ')],\n",
       " [(1, 'h'), (2, ' ')],\n",
       " [(1, 'd'), (2, ' ')],\n",
       " [(1, 'j'), (2, ' ')],\n",
       " [(1, 'm'), (2, ' ')],\n",
       " [(1, 's'), (2, ' ')],\n",
       " [(1, 'n'), (2, ' ')],\n",
       " [(1, 'o'), (2, ' ')],\n",
       " [(1, 'o'), (2, ' ')],\n",
       " [(1, 'g'), (2, 'y')],\n",
       " [(1, 'e'), (2, 'v')],\n",
       " [(1, 'u'), (2, 'm')],\n",
       " [(1, 'a'), (2, ' ')]]"
      ]
     },
     "execution_count": 152,
     "metadata": {},
     "output_type": "execute_result"
    }
   ],
   "source": [
    "[[y for y in enumerate(x) if y[0]!=0] for x in sorted(tim, key = lambda t: int(t[0]))]"
   ]
  },
  {
   "cell_type": "code",
   "execution_count": 153,
   "metadata": {},
   "outputs": [],
   "source": [
    "for x in [[y for y in enumerate(x) if y[0]!=0] for x in sorted(tim, key = lambda t: int(t[0]))]:\n",
    "    for i,y in x:\n",
    "        if len(why) < i:\n",
    "            why.append(y)\n",
    "        else:\n",
    "            why[i-1] = why[i-1] + y"
   ]
  },
  {
   "cell_type": "code",
   "execution_count": 154,
   "metadata": {},
   "outputs": [
    {
     "data": {
      "text/plain": [
       "['vbjwjqephdjmsnoogeua', 'j   b           yvm ']"
      ]
     },
     "execution_count": 154,
     "metadata": {},
     "output_type": "execute_result"
    }
   ],
   "source": [
    "why"
   ]
  },
  {
   "cell_type": "code",
   "execution_count": 125,
   "metadata": {},
   "outputs": [
    {
     "data": {
      "text/plain": [
       "False"
      ]
     },
     "execution_count": 125,
     "metadata": {},
     "output_type": "execute_result"
    }
   ],
   "source": [
    "not '1'.isdigit()"
   ]
  },
  {
   "cell_type": "code",
   "execution_count": null,
   "metadata": {},
   "outputs": [],
   "source": []
  },
  {
   "cell_type": "code",
   "execution_count": 49,
   "metadata": {},
   "outputs": [],
   "source": [
    "tim = [[int(x)] for x in str(n_key)]"
   ]
  },
  {
   "cell_type": "code",
   "execution_count": 50,
   "metadata": {},
   "outputs": [
    {
     "data": {
      "text/plain": [
       "[[2], [3], [1], [5], [4]]"
      ]
     },
     "execution_count": 50,
     "metadata": {},
     "output_type": "execute_result"
    }
   ],
   "source": [
    "tim"
   ]
  },
  {
   "cell_type": "code",
   "execution_count": 51,
   "metadata": {},
   "outputs": [
    {
     "data": {
      "text/plain": [
       "[3]"
      ]
     },
     "execution_count": 51,
     "metadata": {},
     "output_type": "execute_result"
    }
   ],
   "source": [
    "tim[tom[0][0]]"
   ]
  },
  {
   "cell_type": "code",
   "execution_count": 59,
   "metadata": {},
   "outputs": [
    {
     "data": {
      "text/plain": [
       "5"
      ]
     },
     "execution_count": 59,
     "metadata": {},
     "output_type": "execute_result"
    }
   ],
   "source": [
    "max([len(x) for x in tim])"
   ]
  },
  {
   "cell_type": "code",
   "execution_count": 64,
   "metadata": {},
   "outputs": [
    {
     "data": {
      "text/plain": [
       "[]"
      ]
     },
     "execution_count": 64,
     "metadata": {},
     "output_type": "execute_result"
    }
   ],
   "source": [
    "[x.append(' ') for x in tim if len(x) < top]"
   ]
  },
  {
   "cell_type": "code",
   "execution_count": 72,
   "metadata": {},
   "outputs": [
    {
     "data": {
      "text/plain": [
       "[[(1, 'c'), (2, 'n'), (3, 'a'), (4, ' ')],\n",
       " [(1, 's'), (2, 't'), (3, 'r'), (4, 'o')],\n",
       " [(1, 'e'), (2, 'i'), (3, 'm'), (4, 'n')],\n",
       " [(1, 'e'), (2, 'o'), (3, 'i'), (4, ' ')],\n",
       " [(1, 'r'), (2, 'f'), (3, 't'), (4, ' ')]]"
      ]
     },
     "execution_count": 72,
     "metadata": {},
     "output_type": "execute_result"
    }
   ],
   "source": [
    "[[y for y in enumerate(x) if type(y[1]) != int] for x in sorted(tim)]"
   ]
  },
  {
   "cell_type": "code",
   "execution_count": 80,
   "metadata": {},
   "outputs": [],
   "source": [
    "why = []\n",
    "for x in [[y for y in enumerate(x) if type(y[1]) != int] for x in sorted(tim)]:\n",
    "    for i,y in x:\n",
    "        if len(why) < i:\n",
    "            why.append(y)\n",
    "        else:\n",
    "            why[i-1] = why[i-1] + y"
   ]
  },
  {
   "cell_type": "code",
   "execution_count": 81,
   "metadata": {},
   "outputs": [
    {
     "data": {
      "text/plain": [
       "['cseer', 'ntiof', 'armit', ' on  ']"
      ]
     },
     "execution_count": 81,
     "metadata": {},
     "output_type": "execute_result"
    }
   ],
   "source": [
    "why"
   ]
  },
  {
   "cell_type": "code",
   "execution_count": null,
   "metadata": {},
   "outputs": [],
   "source": []
  }
 ],
 "metadata": {
  "kernelspec": {
   "display_name": "Python 3",
   "language": "python",
   "name": "python3"
  },
  "language_info": {
   "codemirror_mode": {
    "name": "ipython",
    "version": 3
   },
   "file_extension": ".py",
   "mimetype": "text/x-python",
   "name": "python",
   "nbconvert_exporter": "python",
   "pygments_lexer": "ipython3",
   "version": "3.7.3"
  }
 },
 "nbformat": 4,
 "nbformat_minor": 2
}
