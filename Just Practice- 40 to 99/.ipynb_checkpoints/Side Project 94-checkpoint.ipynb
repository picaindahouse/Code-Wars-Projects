{
 "cells": [
  {
   "cell_type": "code",
   "execution_count": 18,
   "metadata": {},
   "outputs": [],
   "source": [
    "# Get to see both __add__ and __str__ at work\n",
    "# Note- if you want print to work on object of class- have to define str or repr"
   ]
  },
  {
   "cell_type": "code",
   "execution_count": 14,
   "metadata": {},
   "outputs": [],
   "source": [
    "class Fraction(object):\n",
    "    def __init__(self, numerator, denominator):\n",
    "        self.top = numerator\n",
    "        self.bottom = denominator\n",
    "    def __eq__(self, other):\n",
    "        first_num = self.top * other.bottom\n",
    "        second_num = other.top * self.bottom\n",
    "        return first_num == second_num\n",
    "    \n",
    "    def __add__ (self, other):\n",
    "        tim, tom = self.bottom * other.bottom, self.bottom * other.top + other.bottom * self.top\n",
    "        tam = [x for x in range(1,tim) if tom%x == 0  and tim%x == 0]\n",
    "        tom, tim = int(tom/max(tam)), int(tim/max(tam))   \n",
    "        return Fraction(tom,tim)\n",
    "    \n",
    "    def __str__ (self):\n",
    "        return str(self.top) + '/' + str(self.bottom)"
   ]
  },
  {
   "cell_type": "code",
   "execution_count": 15,
   "metadata": {},
   "outputs": [],
   "source": [
    "fraction1 = Fraction(4,8)"
   ]
  },
  {
   "cell_type": "code",
   "execution_count": 17,
   "metadata": {},
   "outputs": [
    {
     "data": {
      "text/plain": [
       "<__main__.Fraction at 0x21e0ebac1d0>"
      ]
     },
     "execution_count": 17,
     "metadata": {},
     "output_type": "execute_result"
    }
   ],
   "source": [
    "fraction1"
   ]
  },
  {
   "cell_type": "code",
   "execution_count": null,
   "metadata": {},
   "outputs": [],
   "source": [
    "8 * 8"
   ]
  },
  {
   "cell_type": "code",
   "execution_count": 1,
   "metadata": {},
   "outputs": [
    {
     "name": "stdout",
     "output_type": "stream",
     "text": [
      "[]\n"
     ]
    }
   ],
   "source": [
    "tom = 80\n",
    "tim = 64\n",
    "tam = [x for x in range(2,tim) if tom%x == 0  and tim%x == 0]\n",
    "while tam:\n",
    "    tom, tim = int(tom/max(tam)), int(tim/max(tam))      \n",
    "    tam = [x for x in range(2,tim) if tom%x == 0  and tim%x == 0]\n",
    "    print(tam)"
   ]
  },
  {
   "cell_type": "code",
   "execution_count": 2,
   "metadata": {},
   "outputs": [
    {
     "data": {
      "text/plain": [
       "5"
      ]
     },
     "execution_count": 2,
     "metadata": {},
     "output_type": "execute_result"
    }
   ],
   "source": [
    "tom"
   ]
  },
  {
   "cell_type": "code",
   "execution_count": null,
   "metadata": {},
   "outputs": [],
   "source": [
    "tim"
   ]
  },
  {
   "cell_type": "code",
   "execution_count": null,
   "metadata": {},
   "outputs": [],
   "source": []
  }
 ],
 "metadata": {
  "kernelspec": {
   "display_name": "Python 3",
   "language": "python",
   "name": "python3"
  },
  "language_info": {
   "codemirror_mode": {
    "name": "ipython",
    "version": 3
   },
   "file_extension": ".py",
   "mimetype": "text/x-python",
   "name": "python",
   "nbconvert_exporter": "python",
   "pygments_lexer": "ipython3",
   "version": "3.7.3"
  }
 },
 "nbformat": 4,
 "nbformat_minor": 2
}
