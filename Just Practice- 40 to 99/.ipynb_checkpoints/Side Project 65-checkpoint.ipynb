{
 "cells": [
  {
   "cell_type": "code",
   "execution_count": 267,
   "metadata": {},
   "outputs": [],
   "source": [
    "# Quite a confusing one- basically: https://en.wikipedia.org/wiki/Church_encoding#Church_Booleans\n",
    "# Start from the left and then move towards the right\n",
    "# true(a)(n)(d)('true')('false')\n",
    "# Means that true chooses between a and d and then discards the other\n",
    "# Then based on your codes below- the story progresses\n",
    "# In this case a would choose between n and d and choose d while discarding n\n",
    "# d will the choose between 'true' and 'false' and choose 'false' while discarding 'true'\n",
    "# Thus will get 'false'"
   ]
  },
  {
   "cell_type": "code",
   "execution_count": 43,
   "metadata": {},
   "outputs": [],
   "source": [
    "false = lambda t: lambda f: f\n",
    "true  = lambda t: lambda f: t"
   ]
  },
  {
   "cell_type": "code",
   "execution_count": null,
   "metadata": {},
   "outputs": [],
   "source": [
    "a= lambda t: lambda f: f\n",
    "d= lambda t: lambda f: f\n",
    "n = lambda t: lambda f: t if t == d else lambda g: g\n",
    "o = lambda t: t if t != false else lambda f: lambda g: f\n",
    "t = lambda t: lambda f: t \n",
    "r = lambda t: t "
   ]
  },
  {
   "cell_type": "code",
   "execution_count": 248,
   "metadata": {},
   "outputs": [],
   "source": [
    "a= lambda t: lambda f: f\n",
    "n = lambda t: lambda f: t if t == d else lambda g: g\n",
    "d= lambda t: lambda f: f"
   ]
  },
  {
   "cell_type": "code",
   "execution_count": 250,
   "metadata": {},
   "outputs": [
    {
     "data": {
      "text/plain": [
       "'false'"
      ]
     },
     "execution_count": 250,
     "metadata": {},
     "output_type": "execute_result"
    }
   ],
   "source": [
    "false(a)(n)(d)(true)('true')('false')"
   ]
  },
  {
   "cell_type": "code",
   "execution_count": 236,
   "metadata": {},
   "outputs": [],
   "source": [
    "x = 0\n",
    "n = lambda t: lambda f: t if t == d else lambda g: g\n",
    "o = lambda t: t\n",
    "t = lambda t: lambda f: t "
   ]
  },
  {
   "cell_type": "code",
   "execution_count": 237,
   "metadata": {},
   "outputs": [
    {
     "data": {
      "text/plain": [
       "'false'"
      ]
     },
     "execution_count": 237,
     "metadata": {},
     "output_type": "execute_result"
    }
   ],
   "source": [
    "true (n)(o)(t) ('true')('false')"
   ]
  },
  {
   "cell_type": "code",
   "execution_count": 264,
   "metadata": {},
   "outputs": [],
   "source": [
    "o = lambda t: t if t != false else lambda f: lambda g: f"
   ]
  },
  {
   "cell_type": "code",
   "execution_count": 265,
   "metadata": {},
   "outputs": [],
   "source": [
    "r = lambda t: t "
   ]
  },
  {
   "cell_type": "code",
   "execution_count": 266,
   "metadata": {},
   "outputs": [
    {
     "data": {
      "text/plain": [
       "'true'"
      ]
     },
     "execution_count": 266,
     "metadata": {},
     "output_type": "execute_result"
    }
   ],
   "source": [
    "true (o)(r) (false)('true')('false')"
   ]
  }
 ],
 "metadata": {
  "kernelspec": {
   "display_name": "Python 3",
   "language": "python",
   "name": "python3"
  },
  "language_info": {
   "codemirror_mode": {
    "name": "ipython",
    "version": 3
   },
   "file_extension": ".py",
   "mimetype": "text/x-python",
   "name": "python",
   "nbconvert_exporter": "python",
   "pygments_lexer": "ipython3",
   "version": "3.7.3"
  }
 },
 "nbformat": 4,
 "nbformat_minor": 2
}
