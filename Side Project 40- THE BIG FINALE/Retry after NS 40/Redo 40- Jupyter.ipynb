{
 "cells": [
  {
   "cell_type": "code",
   "execution_count": 126,
   "metadata": {},
   "outputs": [],
   "source": [
    "from fractions import Fraction\n",
    "def mixed_fraction(s):\n",
    "    tom = s.replace('/',' ') if s.count('-') < 2 else (s.replace('/',' ')).replace('-','')\n",
    "    tim = [x for x in tom.split()]\n",
    "    if tom.count('-') > 0:\n",
    "        if tim[1].count('-') > 0: tim[1] = tim[1].replace('-','')\n",
    "        elif tim[0].count('-') > 0: tim[0] = tim[0].replace('-','')\n",
    "        minus = 'yes'\n",
    "    else: minus = 'no'\n",
    "    main = int(int(tim[0])/int(tim[1]))\n",
    "    if int(tim[0])/int(tim[1]) % 1 == 0:\n",
    "        if str(main) == '0': return '0'\n",
    "        return '-' + str(main) if minus == 'yes' else str(main)\n",
    "    bottom = int(tim[1])\n",
    "    top = int(tim[0]) - main*bottom\n",
    "    Fraction(top, bottom)\n",
    "    if main == 0: return '{}{}{}'.format('-' if minus == 'yes' else '', Fraction(top,bottom).numerator, '/' + str(Fraction(top,bottom).denominator))\n",
    "    return '{}{} {}{}'.format('-' if minus == 'yes' else '',main if main != 0 else '',Fraction(top,bottom).numerator if Fraction(top,bottom).numerator != 0 else '0','/' + str(Fraction(top,bottom).denominator) if Fraction(top,bottom).numerator != 0 else '')"
   ]
  },
  {
   "cell_type": "code",
   "execution_count": null,
   "metadata": {},
   "outputs": [],
   "source": [
    "# Alot shorter if you use fractions properly- can directly use fractions on s after removing the '-' signs\n",
    "# But good job"
   ]
  },
  {
   "cell_type": "code",
   "execution_count": 41,
   "metadata": {},
   "outputs": [],
   "source": [
    "s = '42/-9' # '-42/9'  '42/-9'    '-42/-9'"
   ]
  },
  {
   "cell_type": "code",
   "execution_count": 42,
   "metadata": {},
   "outputs": [
    {
     "data": {
      "text/plain": [
       "'42 -9'"
      ]
     },
     "execution_count": 42,
     "metadata": {},
     "output_type": "execute_result"
    }
   ],
   "source": [
    "tom = s.replace('/',' ') if s.count('-') < 2 else (s.replace('/',' ')).replace('-','')\n",
    "tom"
   ]
  },
  {
   "cell_type": "code",
   "execution_count": 43,
   "metadata": {},
   "outputs": [
    {
     "data": {
      "text/plain": [
       "['42', '-9']"
      ]
     },
     "execution_count": 43,
     "metadata": {},
     "output_type": "execute_result"
    }
   ],
   "source": [
    "tom.split()"
   ]
  },
  {
   "cell_type": "code",
   "execution_count": 44,
   "metadata": {},
   "outputs": [
    {
     "data": {
      "text/plain": [
       "[42, -9]"
      ]
     },
     "execution_count": 44,
     "metadata": {},
     "output_type": "execute_result"
    }
   ],
   "source": [
    "[int(x) for x in tom.split()]"
   ]
  },
  {
   "cell_type": "code",
   "execution_count": 47,
   "metadata": {},
   "outputs": [],
   "source": [
    "tom = s.replace('/',' ') if s.count('-') < 2 else (s.replace('/',' ')).replace('-','')\n",
    "tim = [x for x in tom.split()]"
   ]
  },
  {
   "cell_type": "code",
   "execution_count": 48,
   "metadata": {},
   "outputs": [
    {
     "data": {
      "text/plain": [
       "['42', '9']"
      ]
     },
     "execution_count": 48,
     "metadata": {},
     "output_type": "execute_result"
    }
   ],
   "source": [
    "if tim[1].count('-') > 0:\n",
    "    tim[1] = tim[1].replace('-','')\n",
    "    minus = 'yes'\n",
    "tim"
   ]
  },
  {
   "cell_type": "code",
   "execution_count": 66,
   "metadata": {},
   "outputs": [],
   "source": [
    "# Cleaning up the minus signs:\n",
    "tom = s.replace('/',' ') if s.count('-') < 2 else (s.replace('/',' ')).replace('-','')\n",
    "tim = [x for x in tom.split()]\n",
    "if tim[1].count('-') > 0:\n",
    "    tim[1] = tim[1].replace('-','')\n",
    "    minus = 'yes'"
   ]
  },
  {
   "cell_type": "code",
   "execution_count": 67,
   "metadata": {},
   "outputs": [
    {
     "data": {
      "text/plain": [
       "4"
      ]
     },
     "execution_count": 67,
     "metadata": {},
     "output_type": "execute_result"
    }
   ],
   "source": [
    "main = int(int(tim[0])/int(tim[1]))\n",
    "main"
   ]
  },
  {
   "cell_type": "code",
   "execution_count": 68,
   "metadata": {},
   "outputs": [
    {
     "data": {
      "text/plain": [
       "9"
      ]
     },
     "execution_count": 68,
     "metadata": {},
     "output_type": "execute_result"
    }
   ],
   "source": [
    "bottom = int(tim[1])\n",
    "bottom"
   ]
  },
  {
   "cell_type": "code",
   "execution_count": 69,
   "metadata": {},
   "outputs": [
    {
     "data": {
      "text/plain": [
       "6"
      ]
     },
     "execution_count": 69,
     "metadata": {},
     "output_type": "execute_result"
    }
   ],
   "source": [
    "top = int(tim[0]) - main*bottom\n",
    "top"
   ]
  },
  {
   "cell_type": "code",
   "execution_count": 70,
   "metadata": {},
   "outputs": [
    {
     "data": {
      "text/plain": [
       "Fraction(2, 3)"
      ]
     },
     "execution_count": 70,
     "metadata": {},
     "output_type": "execute_result"
    }
   ],
   "source": [
    "from fractions import Fraction\n",
    "Fraction(top, bottom)"
   ]
  },
  {
   "cell_type": "code",
   "execution_count": 72,
   "metadata": {},
   "outputs": [
    {
     "data": {
      "text/plain": [
       "'-'"
      ]
     },
     "execution_count": 72,
     "metadata": {},
     "output_type": "execute_result"
    }
   ],
   "source": [
    "'{}'.format('-' if minus == 'yes' else '')"
   ]
  },
  {
   "cell_type": "code",
   "execution_count": 74,
   "metadata": {},
   "outputs": [
    {
     "data": {
      "text/plain": [
       "'-4'"
      ]
     },
     "execution_count": 74,
     "metadata": {},
     "output_type": "execute_result"
    }
   ],
   "source": [
    "'{}{}'.format('-' if minus == 'yes' else '',main if main != 0 else '')"
   ]
  },
  {
   "cell_type": "code",
   "execution_count": 79,
   "metadata": {},
   "outputs": [
    {
     "data": {
      "text/plain": [
       "'-4 2'"
      ]
     },
     "execution_count": 79,
     "metadata": {},
     "output_type": "execute_result"
    }
   ],
   "source": [
    "'{}{} {}'.format('-' if minus == 'yes' else '',main if main != 0 else '', Fraction(top,bottom).numerator if Fraction(top,bottom).numerator != 0 else '')"
   ]
  },
  {
   "cell_type": "code",
   "execution_count": 83,
   "metadata": {},
   "outputs": [
    {
     "data": {
      "text/plain": [
       "'-4 2/3'"
      ]
     },
     "execution_count": 83,
     "metadata": {},
     "output_type": "execute_result"
    }
   ],
   "source": [
    "'{}{} {}{}'.format('-' if minus == 'yes' else '',main if main != 0 else '', Fraction(top,bottom).numerator if Fraction(top,bottom).numerator != 0 else '0','/' + str(Fraction(top,bottom).denominator) if Fraction(top,bottom).numerator != 0 else '')"
   ]
  },
  {
   "cell_type": "code",
   "execution_count": 124,
   "metadata": {},
   "outputs": [],
   "source": [
    "s = '6/9'"
   ]
  },
  {
   "cell_type": "code",
   "execution_count": 125,
   "metadata": {},
   "outputs": [
    {
     "data": {
      "text/plain": [
       "' 2/3'"
      ]
     },
     "execution_count": 125,
     "metadata": {},
     "output_type": "execute_result"
    }
   ],
   "source": [
    "tom = s.replace('/',' ') if s.count('-') < 2 else (s.replace('/',' ')).replace('-','')\n",
    "tim = [x for x in tom.split()]\n",
    "tom = s.replace('/',' ') if s.count('-') < 2 else (s.replace('/',' ')).replace('-','')\n",
    "tim = [x for x in tom.split()]\n",
    "if tom.count('-') > 0:\n",
    "    if tim[1].count('-') > 0:\n",
    "        tim[1] = tim[1].replace('-','')\n",
    "    elif tim[0].count('-') > 0:\n",
    "        tim[0] = tim[0].replace('-','')\n",
    "    minus = 'yes'\n",
    "else:\n",
    "    minus = 'no'\n",
    "main = int(int(tim[0])/int(tim[1]))\n",
    "# if int(tim[0])/int(tim[1]) % 1 == 0:\n",
    "    # return str(main)\n",
    "bottom = int(tim[1])\n",
    "top = int(tim[0]) - main*bottom\n",
    "from fractions import Fraction\n",
    "Fraction(top, bottom)\n",
    "'{}{} {}{}'.format('-' if minus == 'yes' else '',main if main != 0 else '',Fraction(top,bottom).numerator if Fraction(top,bottom).numerator != 0 else '0','/' + str(Fraction(top,bottom).denominator) if Fraction(top,bottom).numerator != 0 else '')"
   ]
  },
  {
   "cell_type": "code",
   "execution_count": 121,
   "metadata": {},
   "outputs": [],
   "source": [
    "tom = s.replace('/',' ') if s.count('-') < 2 else (s.replace('/',' ')).replace('-','')\n",
    "tim = [x for x in tom.split()]\n",
    "if tom.count('-') > 0:\n",
    "    if tim[1].count('-') > 0:\n",
    "        tim[1] = tim[1].replace('-','')\n",
    "    elif tim[0].count('-') > 0:\n",
    "        tim[0] = tim[0].replace('-','')\n",
    "    minus = 'yes'\n",
    "else:\n",
    "    minus = 'no'"
   ]
  },
  {
   "cell_type": "code",
   "execution_count": 122,
   "metadata": {},
   "outputs": [
    {
     "data": {
      "text/plain": [
       "['10', '7']"
      ]
     },
     "execution_count": 122,
     "metadata": {},
     "output_type": "execute_result"
    }
   ],
   "source": [
    "tim"
   ]
  },
  {
   "cell_type": "code",
   "execution_count": null,
   "metadata": {},
   "outputs": [],
   "source": [
    "return '{}{}'.format('-' if minus minus == 'yes' and else str(main)"
   ]
  },
  {
   "cell_type": "code",
   "execution_count": 128,
   "metadata": {},
   "outputs": [
    {
     "data": {
      "text/plain": [
       "Fraction(2, 3)"
      ]
     },
     "execution_count": 128,
     "metadata": {},
     "output_type": "execute_result"
    }
   ],
   "source": [
    "Fraction(s)"
   ]
  },
  {
   "cell_type": "code",
   "execution_count": null,
   "metadata": {},
   "outputs": [],
   "source": []
  }
 ],
 "metadata": {
  "kernelspec": {
   "display_name": "Python 3",
   "language": "python",
   "name": "python3"
  },
  "language_info": {
   "codemirror_mode": {
    "name": "ipython",
    "version": 3
   },
   "file_extension": ".py",
   "mimetype": "text/x-python",
   "name": "python",
   "nbconvert_exporter": "python",
   "pygments_lexer": "ipython3",
   "version": "3.7.3"
  }
 },
 "nbformat": 4,
 "nbformat_minor": 2
}
